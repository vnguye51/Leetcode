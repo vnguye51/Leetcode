{
 "cells": [
  {
   "cell_type": "markdown",
   "metadata": {},
   "source": [
    "## String Without AAA or BBB\n",
    "\n",
    "Given two integers A and B, return any string S such that:\n",
    "\n",
    "    S has length A + B and contains exactly A 'a' letters, and exactly B 'b' letters;\n",
    "    The substring 'aaa' does not occur in S;\n",
    "    The substring 'bbb' does not occur in S.\n",
    "\n",
    "* We can create every possible one from using the pattern aab(+2A,+1B) or bba (+2B,+1A) while A > B and then while A == B use ab or ba\n",
    "* While A >= B + 1:\n",
    "    A -= 2\n",
    "    B -= 1\n",
    "    append to string aab\n",
    "* While B != 0:\n",
    "    A -= 1\n",
    "    B -= 1\n",
    "    append to string ab\n",
    "* append to string a*A\n",
    "A=6,B=2: aab\n",
    "A=4,B=1: aab aab\n",
    "A=2,B=0: aa\n",
    "\n"
   ]
  },
  {
   "cell_type": "code",
   "execution_count": 13,
   "metadata": {},
   "outputs": [],
   "source": [
    "class Solution:\n",
    "    def strWithout3a3b(self, A, B):\n",
    "        res = \"\"\n",
    "        if A > B:\n",
    "            while A >= B + 1 and B != 0:\n",
    "                A-=2\n",
    "                B-=1\n",
    "                res += \"aab\"\n",
    "            while B > 0:\n",
    "                A -= 1\n",
    "                B -= 1\n",
    "                res += \"ab\"\n",
    "            res += \"a\"*A\n",
    "        elif A < B:\n",
    "            while B >= A + 1 and A != 0:\n",
    "                B-=2\n",
    "                A-=1\n",
    "                res += \"bba\"\n",
    "            while A > 0:\n",
    "                A -= 1\n",
    "                B -= 1\n",
    "                res += \"ba\"\n",
    "            res += \"b\"*B\n",
    "        else:\n",
    "            res = \"ab\"*A\n",
    "        return res"
   ]
  },
  {
   "cell_type": "code",
   "execution_count": 14,
   "metadata": {},
   "outputs": [
    {
     "data": {
      "text/plain": [
       "'aabaabaab'"
      ]
     },
     "execution_count": 14,
     "metadata": {},
     "output_type": "execute_result"
    }
   ],
   "source": [
    "sol = Solution()\n",
    "sol.strWithout3a3b(6,3)"
   ]
  },
  {
   "cell_type": "code",
   "execution_count": null,
   "metadata": {},
   "outputs": [],
   "source": []
  }
 ],
 "metadata": {
  "kernelspec": {
   "display_name": "Python 3",
   "language": "python",
   "name": "python3"
  },
  "language_info": {
   "codemirror_mode": {
    "name": "ipython",
    "version": 3
   },
   "file_extension": ".py",
   "mimetype": "text/x-python",
   "name": "python",
   "nbconvert_exporter": "python",
   "pygments_lexer": "ipython3",
   "version": "3.6.4"
  }
 },
 "nbformat": 4,
 "nbformat_minor": 2
}
