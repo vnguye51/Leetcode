{
 "cells": [
  {
   "cell_type": "markdown",
   "metadata": {},
   "source": [
    "## Implement Trie\n",
    "\n",
    "Implement a trie with insert, search, and startsWith methods.\n",
    "\n",
    "    Trie trie = new Trie();\n",
    "\n",
    "    trie.insert(\"apple\");\n",
    "    trie.search(\"apple\");   // returns true\n",
    "    trie.search(\"app\");     // returns false\n",
    "    trie.startsWith(\"app\"); // returns true\n",
    "    trie.insert(\"app\");   \n",
    "    trie.search(\"app\");     // returns true\n",
    "    \n",
    "We can implement a trie using nested dictionaries and pathing through them"
   ]
  },
  {
   "cell_type": "code",
   "execution_count": 13,
   "metadata": {},
   "outputs": [],
   "source": [
    "class Trie:\n",
    "    def __init__(self):\n",
    "        self.root = {}\n",
    "        \"\"\"\n",
    "        Initialize your data structure here.\n",
    "        \"\"\"\n",
    "        \n",
    "\n",
    "    def insert(self, word):\n",
    "        curr_node = self.root\n",
    "        for c in word:\n",
    "            if not c in curr_node:\n",
    "                curr_node[c] = {}\n",
    "            curr_node = curr_node[c]\n",
    "        curr_node[\"end\"] = True\n",
    "            \n",
    "        \n",
    "\n",
    "    def search(self, word):\n",
    "        curr_node = self.root\n",
    "        for c in word:\n",
    "            try:\n",
    "                curr_node = curr_node[c]\n",
    "            except:\n",
    "                return False\n",
    "        if \"end\" in curr_node:\n",
    "            return True\n",
    "        return False\n",
    "        \n",
    "\n",
    "    def startsWith(self, prefix):\n",
    "        curr_node = self.root\n",
    "        for c in prefix:\n",
    "            try:\n",
    "                curr_node = curr_node[c]\n",
    "            except:\n",
    "                return False\n",
    "        return True\n",
    "        \"\"\"\n",
    "        Returns if there is any word in the trie that starts with the given prefix.\n",
    "        :type prefix: str\n",
    "        :rtype: bool\n",
    "        \"\"\"\n",
    "        \n",
    "\n",
    "\n",
    "# Your Trie object will be instantiated and called as such:\n"
   ]
  },
  {
   "cell_type": "code",
   "execution_count": 14,
   "metadata": {},
   "outputs": [
    {
     "name": "stdout",
     "output_type": "stream",
     "text": [
      "False\n"
     ]
    }
   ],
   "source": [
    "obj = Trie()\n",
    "obj.insert(\"hello\")\n",
    "param_2 = obj.search(\"hsllo\")\n",
    "print(obj.search(\"he\"))\n"
   ]
  },
  {
   "cell_type": "code",
   "execution_count": null,
   "metadata": {},
   "outputs": [],
   "source": []
  }
 ],
 "metadata": {
  "kernelspec": {
   "display_name": "Python 3",
   "language": "python",
   "name": "python3"
  },
  "language_info": {
   "codemirror_mode": {
    "name": "ipython",
    "version": 3
   },
   "file_extension": ".py",
   "mimetype": "text/x-python",
   "name": "python",
   "nbconvert_exporter": "python",
   "pygments_lexer": "ipython3",
   "version": "3.6.4"
  }
 },
 "nbformat": 4,
 "nbformat_minor": 2
}
