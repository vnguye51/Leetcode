{
 "cells": [
  {
   "cell_type": "markdown",
   "metadata": {},
   "source": [
    "# Subsets\n",
    "\n",
    "Given a set of distinct integers, nums, return all possible subsets (the power set).\n",
    "\n",
    "Note: The solution set must not contain duplicate subsets.\n",
    "\n",
    "    Example:\n",
    "\n",
    "    Input: nums = [1,2,3]\n",
    "    Output:\n",
    "    [\n",
    "      [3],\n",
    "      [1],\n",
    "      [2],\n",
    "      [1,2,3],\n",
    "      [1,3],\n",
    "      [2,3],\n",
    "      [1,2],\n",
    "      []\n",
    "    ]\n",
    "\n"
   ]
  },
  {
   "cell_type": "markdown",
   "metadata": {},
   "source": [
    "This is very similar to the building of a (nCn) from the previous problem\n",
    "In this case we just print out each step of the previous problem"
   ]
  },
  {
   "cell_type": "code",
   "execution_count": 23,
   "metadata": {},
   "outputs": [],
   "source": [
    "class Solution:\n",
    "    def combine(self, n, k):\n",
    "        answers = [[]]\n",
    "        def subcombine(n,k,arr,pool):\n",
    "            for num in pool:\n",
    "                subpool = [i for i in range(num+1,n+1)]\n",
    "                newarr = arr + [num]\n",
    "                answers.append(newarr)\n",
    "                subcombine(n,k-1,newarr,subpool)\n",
    "        \n",
    "        subcombine(n,k,[],[i for i in range(1,n+1)])\n",
    "        return answers"
   ]
  },
  {
   "cell_type": "code",
   "execution_count": 24,
   "metadata": {},
   "outputs": [
    {
     "name": "stdout",
     "output_type": "stream",
     "text": [
      "[[], [1], [1, 2], [1, 2, 3], [1, 3], [2], [2, 3], [3]]\n"
     ]
    }
   ],
   "source": [
    "sol = Solution()\n",
    "print(sol.combine(3,3))"
   ]
  },
  {
   "cell_type": "markdown",
   "metadata": {},
   "source": [
    "However, we need to adapt our pool to be of nums and not a given range"
   ]
  },
  {
   "cell_type": "code",
   "execution_count": 25,
   "metadata": {},
   "outputs": [],
   "source": [
    "class Solution:\n",
    "    def subsets(self, nums):\n",
    "        answers = [[]]\n",
    "        def subcombine(k,arr,pool):\n",
    "            for i,num in enumerate(pool):\n",
    "                subpool = pool[i+1:]\n",
    "                newarr = arr + [num]\n",
    "                answers.append(newarr)\n",
    "                subcombine(k-1,newarr,subpool)\n",
    "        \n",
    "        subcombine(len(nums),[],nums)\n",
    "        return answers"
   ]
  },
  {
   "cell_type": "code",
   "execution_count": 26,
   "metadata": {},
   "outputs": [
    {
     "name": "stdout",
     "output_type": "stream",
     "text": [
      "[[], [3], [3, 4], [3, 4, 5], [3, 5], [4], [4, 5], [5]]\n"
     ]
    }
   ],
   "source": [
    "sol = Solution()\n",
    "print(sol.subsets([3,4,5]))"
   ]
  }
 ],
 "metadata": {
  "kernelspec": {
   "display_name": "Python 3",
   "language": "python",
   "name": "python3"
  },
  "language_info": {
   "codemirror_mode": {
    "name": "ipython",
    "version": 3
   },
   "file_extension": ".py",
   "mimetype": "text/x-python",
   "name": "python",
   "nbconvert_exporter": "python",
   "pygments_lexer": "ipython3",
   "version": "3.6.4"
  }
 },
 "nbformat": 4,
 "nbformat_minor": 2
}
