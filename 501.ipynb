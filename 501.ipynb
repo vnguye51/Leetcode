{
 "cells": [
  {
   "cell_type": "markdown",
   "metadata": {},
   "source": [
    "## Find Mode in Binary Tree\n",
    "\n",
    "Return all modes in a BST\n",
    "\n"
   ]
  },
  {
   "cell_type": "code",
   "execution_count": 1,
   "metadata": {},
   "outputs": [],
   "source": [
    "class Solution:\n",
    "    def DFScount(self,root,memo=None):\n",
    "        if not root:\n",
    "            return\n",
    "        if memo == None:\n",
    "            memo = {}\n",
    "        self.DFScount(root.left)\n",
    "        if root.val in memo:\n",
    "            memo[root.val] += 1\n",
    "        else:\n",
    "            memo[root.val] = 1\n",
    "        self.DFScount(root.right)\n",
    "        return memo\n",
    "    def findMode(self, root):\n",
    "        memo = self.DFScount(root)\n",
    "        MaxCounts = 0\n",
    "        Modes = []\n",
    "        for key,n in memo.items:\n",
    "            if n > MaxCounts:\n",
    "                Modes = [key]\n",
    "                MaxCounts = n\n",
    "            elif n == MaxCounts:\n",
    "                Modes.append(key)\n",
    "            else:\n",
    "                pass\n",
    "        return Modes\n"
   ]
  },
  {
   "cell_type": "code",
   "execution_count": null,
   "metadata": {},
   "outputs": [],
   "source": []
  }
 ],
 "metadata": {
  "kernelspec": {
   "display_name": "Python 3",
   "language": "python",
   "name": "python3"
  },
  "language_info": {
   "codemirror_mode": {
    "name": "ipython",
    "version": 3
   },
   "file_extension": ".py",
   "mimetype": "text/x-python",
   "name": "python",
   "nbconvert_exporter": "python",
   "pygments_lexer": "ipython3",
   "version": "3.6.4"
  }
 },
 "nbformat": 4,
 "nbformat_minor": 2
}
