{
 "cells": [
  {
   "cell_type": "markdown",
   "metadata": {},
   "source": [
    "## Wiggle Sort\n",
    "\n",
    "Given an unsorted array nums, reorder it in-place such that nums[0] <= nums[1] >= nums[2] <= nums[3]....\n",
    "\n",
    "\n",
    "#### Approach 1\n",
    "* We can accomplish this by first sorting the array as normal and then interweaving the top half of the numbers with the bottom half\n",
    "\n",
    "---\n",
    "#### Approach 2\n",
    "* Knowing that any array can be put in wiggle sort form once we achieve a \"wiggle\" in any subarray then that subarray need no longer be considered(except its last element). This means that we should be able to do this in a single pass\n",
    "* If two elements are out of order simply swap them"
   ]
  },
  {
   "cell_type": "code",
   "execution_count": 56,
   "metadata": {},
   "outputs": [],
   "source": [
    "class Solution(object):\n",
    "    def wiggleSort(self, nums):\n",
    "        toggle = -1\n",
    "        for i in range(0,len(nums)-1):\n",
    "            if toggle == -1:\n",
    "                if nums[i] > nums[i+1]:\n",
    "                    nums[i],nums[i+1] = nums[i+1],nums[i]\n",
    "            else:\n",
    "                if nums[i] < nums[i+1]:\n",
    "                    nums[i],nums[i+1] = nums[i+1],nums[i]\n",
    "            toggle *= -1"
   ]
  },
  {
   "cell_type": "code",
   "execution_count": 57,
   "metadata": {},
   "outputs": [
    {
     "name": "stdout",
     "output_type": "stream",
     "text": [
      "[3, 5, 1, 6, 2, 4]\n",
      "[3, 5, 1, 6, 2, 7, 4]\n",
      "[3, 5, 1]\n",
      "[3]\n",
      "[]\n"
     ]
    }
   ],
   "source": [
    "sol = Solution()\n",
    "sol.wiggleSort([3,5,2,1,6,4])\n",
    "sol.wiggleSort([3,5,2,1,6,4,7])\n",
    "sol.wiggleSort([3,5,1])\n",
    "sol.wiggleSort([3])\n",
    "sol.wiggleSort([])"
   ]
  },
  {
   "cell_type": "code",
   "execution_count": null,
   "metadata": {},
   "outputs": [],
   "source": []
  },
  {
   "cell_type": "code",
   "execution_count": null,
   "metadata": {},
   "outputs": [],
   "source": []
  }
 ],
 "metadata": {
  "kernelspec": {
   "display_name": "Python 3",
   "language": "python",
   "name": "python3"
  },
  "language_info": {
   "codemirror_mode": {
    "name": "ipython",
    "version": 3
   },
   "file_extension": ".py",
   "mimetype": "text/x-python",
   "name": "python",
   "nbconvert_exporter": "python",
   "pygments_lexer": "ipython3",
   "version": "3.6.4"
  }
 },
 "nbformat": 4,
 "nbformat_minor": 2
}
