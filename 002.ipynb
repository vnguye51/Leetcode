{
 "cells": [
  {
   "cell_type": "markdown",
   "metadata": {},
   "source": [
    "## Add Two Numbers\n",
    "\n",
    "You are given two non-empty linked lists representing two non-negative integers. The digits are stored in reverse order and each of their nodes contain a single digit. Add the two numbers and return it as a linked list.\n",
    "\n",
    "You may assume the two numbers do not contain any leading zero, except the number 0 i\n"
   ]
  },
  {
   "cell_type": "code",
   "execution_count": 2,
   "metadata": {
    "collapsed": true
   },
   "outputs": [],
   "source": [
    "# Definition for singly-linked list.\n",
    "# class ListNode:\n",
    "#     def __init__(self, x):\n",
    "#         self.val = x\n",
    "#         self.next = None\n",
    "\n",
    "class Solution:\n",
    "    \n",
    "    def addTwoNumbers(self, l1, l2):\n",
    "        \n",
    "               \n",
    "        Head = ListNode(0)\n",
    "        TempNode = Head\n",
    "        carry = 0\n",
    "        while l1 != None or l2 != None:\n",
    "            \n",
    "            if l1 != None and l2 != None:\n",
    "                val = l1.val+l2.val + carry\n",
    "                l1 = l1.next\n",
    "                l2 = l2.next\n",
    "\n",
    "            elif l1 == None:\n",
    "                val = l2.val + carry\n",
    "                l2 = l2.next\n",
    "            else:\n",
    "                val = l1.val + carry\n",
    "                l1 = l1.next\n",
    "            if val >= 10:\n",
    "                carry = 1\n",
    "            else:\n",
    "                carry = 0\n",
    "            TempNode.next = ListNode(val%10)\n",
    "            TempNode = TempNode.next\n",
    "        if carry == 1:\n",
    "            TempNode.next = ListNode(1)\n",
    "        return Head.next\n",
    "        "
   ]
  }
 ],
 "metadata": {
  "kernelspec": {
   "display_name": "Python 2",
   "language": "python",
   "name": "python2"
  },
  "language_info": {
   "codemirror_mode": {
    "name": "ipython",
    "version": 2
   },
   "file_extension": ".py",
   "mimetype": "text/x-python",
   "name": "python",
   "nbconvert_exporter": "python",
   "pygments_lexer": "ipython2",
   "version": "2.7.14"
  }
 },
 "nbformat": 4,
 "nbformat_minor": 2
}
