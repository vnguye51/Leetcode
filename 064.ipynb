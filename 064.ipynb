{
 "cells": [
  {
   "cell_type": "markdown",
   "metadata": {},
   "source": [
    "# Minimum Path Sum\n",
    "\n",
    "Given a m x n grid filled with non-negative numbers, find a path from top left to bottom right which minimizes the sum of all numbers along its path.\n",
    "\n",
    "Note: You can only move either down or right at any point in time.\n",
    "\n",
    "* start at the list value in the grid and move backwards\n",
    "* Each value in a diagonal will be replaced by the sum of itself and the lower of the two possible paths it can take(left(j+1) and down(i+1))\n",
    "* Add a buffer to the grid along the right and bottom sides\n",
    "*"
   ]
  },
  {
   "cell_type": "code",
   "execution_count": 73,
   "metadata": {},
   "outputs": [],
   "source": [
    "def minPathSum(grid):\n",
    "    \n",
    "    m = len(grid)\n",
    "    n = len(grid[0])\n",
    "    for a in grid:\n",
    "        a.append(int(1e30))\n",
    "    grid.append([int(1e30) for i in range(0,n+1)])\n",
    "    grid[m][n-1] = 0\n",
    "    grid[m-1][n] = 0\n",
    "\n",
    "    for i in range(m-1,-1,-1):\n",
    "        for j in range(n-1,-1,-1):\n",
    "            if grid[i+1][j] >= grid[i][j+1]:\n",
    "                grid[i][j] = grid[i][j] + grid[i][j+1]\n",
    "            else:\n",
    "                grid[i][j] = grid[i][j] + grid[i+1][j]\n",
    "\n",
    "\n",
    "    \n",
    "    return grid[0][0]"
   ]
  },
  {
   "cell_type": "code",
   "execution_count": 74,
   "metadata": {},
   "outputs": [
    {
     "data": {
      "text/plain": [
       "8"
      ]
     },
     "execution_count": 74,
     "metadata": {},
     "output_type": "execute_result"
    }
   ],
   "source": [
    "minPathSum([\n",
    "  [1,3,1],\n",
    "  [1,5,1],\n",
    "  [4,2,1],\n",
    "  [4,2,1]\n",
    "])"
   ]
  }
 ],
 "metadata": {
  "kernelspec": {
   "display_name": "Python 3",
   "language": "python",
   "name": "python3"
  },
  "language_info": {
   "codemirror_mode": {
    "name": "ipython",
    "version": 3
   },
   "file_extension": ".py",
   "mimetype": "text/x-python",
   "name": "python",
   "nbconvert_exporter": "python",
   "pygments_lexer": "ipython3",
   "version": "3.6.4"
  }
 },
 "nbformat": 4,
 "nbformat_minor": 2
}
