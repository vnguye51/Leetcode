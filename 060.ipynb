{
 "cells": [
  {
   "cell_type": "markdown",
   "metadata": {},
   "source": [
    "## Permutation Sequence\n",
    "\n",
    "The set [1,2,3,...,n] contains a total of n! unique permutations.\n",
    "\n",
    "By listing and labeling all of the permutations in order, we get the following sequence for n = 3:\n",
    "\n",
    "    \"123\"\n",
    "    \"132\"\n",
    "    \"213\"\n",
    "    \"231\"\n",
    "    \"312\"\n",
    "    \"321\"\n",
    "\n",
    "Given n and k, return the kth permutation sequence.\n",
    "\n",
    "* Create a recursive permutation\n",
    "* We can determine the permutation exactly:\n",
    "    for n = 3: \n",
    "    * We have the pool 1,2,3\n",
    "    * There are n! total permutations, in this case there are 6\n",
    "    * In other words there are (n-1)! possibilties for each digit and then the next one has (n-2)! and so on\n",
    "    * So let's say we have k = 3. k/(n-1)! = 1r1, so we append the index 1 digit to the number -> set k = 1 -> k/(n-2)! = 1r0 -> the index 1 digit to the number -> then add the last possible digit"
   ]
  },
  {
   "cell_type": "code",
   "execution_count": 27,
   "metadata": {},
   "outputs": [],
   "source": [
    "from math import factorial\n",
    "\n",
    "def getPermutation( n, k):\n",
    "    pool = [n for n in range(1,n+1)]\n",
    "    N = ''\n",
    "    i = 1\n",
    "    while pool:\n",
    "        j = k/(factorial(n-i))        \n",
    "        if j.is_integer():\n",
    "            j = j-1\n",
    "        N = N + str(pool.pop(int(j)))\n",
    "        k = k%(factorial(n-i))\n",
    "        i = i+1\n",
    "    return N"
   ]
  },
  {
   "cell_type": "code",
   "execution_count": 28,
   "metadata": {},
   "outputs": [
    {
     "name": "stdout",
     "output_type": "stream",
     "text": [
      "[1, 2, 3, 4, 5, 6] 0.025\n",
      "0.025\n",
      "[2, 3, 4, 5, 6] 0.125\n",
      "0.125\n",
      "[3, 4, 5, 6] 0.5\n",
      "0.5\n",
      "[4, 5, 6] 1.5\n",
      "1.5\n",
      "[4, 6] 1.0\n",
      "0.0\n",
      "[6] 0.0\n",
      "-1.0\n"
     ]
    },
    {
     "data": {
      "text/plain": [
       "'123546'"
      ]
     },
     "execution_count": 28,
     "metadata": {},
     "output_type": "execute_result"
    }
   ],
   "source": [
    "getPermutation(6,3)"
   ]
  },
  {
   "cell_type": "code",
   "execution_count": 8,
   "metadata": {},
   "outputs": [
    {
     "data": {
      "text/plain": [
       "'abc'"
      ]
     },
     "execution_count": 8,
     "metadata": {},
     "output_type": "execute_result"
    }
   ],
   "source": [
    "''.join(['a','b','c'])"
   ]
  },
  {
   "cell_type": "code",
   "execution_count": 18,
   "metadata": {},
   "outputs": [
    {
     "data": {
      "text/plain": [
       "5"
      ]
     },
     "execution_count": 18,
     "metadata": {},
     "output_type": "execute_result"
    }
   ],
   "source": [
    "int(5.7)"
   ]
  },
  {
   "cell_type": "code",
   "execution_count": null,
   "metadata": {},
   "outputs": [],
   "source": []
  }
 ],
 "metadata": {
  "kernelspec": {
   "display_name": "Python 3",
   "language": "python",
   "name": "python3"
  },
  "language_info": {
   "codemirror_mode": {
    "name": "ipython",
    "version": 3
   },
   "file_extension": ".py",
   "mimetype": "text/x-python",
   "name": "python",
   "nbconvert_exporter": "python",
   "pygments_lexer": "ipython3",
   "version": "3.6.4"
  }
 },
 "nbformat": 4,
 "nbformat_minor": 2
}
