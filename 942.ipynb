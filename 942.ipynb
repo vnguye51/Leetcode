{
 "cells": [
  {
   "cell_type": "markdown",
   "metadata": {},
   "source": [
    "## Delete Columns to Make Sorted\n",
    "\n",
    "We are given an array A of N lowercase letter strings, all of the same length.\n",
    "\n",
    "Now, we may choose any set of deletion indices, and for each string, we delete all the characters in those indices.\n",
    "\n",
    "For example, if we have a string \"abcdef\" and deletion indices {0, 2, 3}, then the final string after deletion is \"bef\".\n",
    "\n",
    "Suppose we chose a set of deletion indices D such that after deletions, each remaining column in A is in non-decreasing sorted order.\n",
    "\n",
    "Formally, the c-th column is [A[0][c], A[1][c], ..., A[A.length-1][c]]\n",
    "\n",
    "Return the minimum possible value of D.length."
   ]
  },
  {
   "cell_type": "markdown",
   "metadata": {},
   "source": [
    "* The question asks us how many deletions are necessary make sure each column in each string is sorted\n",
    "* To do this we just iterate through each string and make sure they are in order. if they are not increase the deletion length by 1\n"
   ]
  },
  {
   "cell_type": "code",
   "execution_count": 22,
   "metadata": {},
   "outputs": [],
   "source": [
    "class Solution:\n",
    "    def minDeletionSize(self, A):\n",
    "        minDeletions = 0\n",
    "        for i in range(0,len(A[0])):\n",
    "            if not self.checkIncreasing(A,i):\n",
    "                minDeletions += 1\n",
    "        return minDeletions\n",
    "    def checkIncreasing(self,A,i):\n",
    "        for j in range(1,len(A)):\n",
    "            if not A[j][i] >= A[j-1][i]:\n",
    "                return False\n",
    "        return True\n",
    "            \n",
    "        "
   ]
  },
  {
   "cell_type": "code",
   "execution_count": 23,
   "metadata": {},
   "outputs": [
    {
     "data": {
      "text/plain": [
       "3"
      ]
     },
     "execution_count": 23,
     "metadata": {},
     "output_type": "execute_result"
    }
   ],
   "source": [
    "sol = Solution()\n",
    "sol.minDeletionSize([\"zyx\",\"wvu\",\"tsr\"])"
   ]
  },
  {
   "cell_type": "code",
   "execution_count": null,
   "metadata": {},
   "outputs": [],
   "source": []
  }
 ],
 "metadata": {
  "kernelspec": {
   "display_name": "Python 3",
   "language": "python",
   "name": "python3"
  },
  "language_info": {
   "codemirror_mode": {
    "name": "ipython",
    "version": 3
   },
   "file_extension": ".py",
   "mimetype": "text/x-python",
   "name": "python",
   "nbconvert_exporter": "python",
   "pygments_lexer": "ipython3",
   "version": "3.6.4"
  }
 },
 "nbformat": 4,
 "nbformat_minor": 2
}
