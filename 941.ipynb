{
 "cells": [
  {
   "cell_type": "markdown",
   "metadata": {},
   "source": [
    "## Valid Mountain Array\n",
    "\n",
    "    Given an array A of integers, return true if and only if it is a valid mountain array.\n",
    "\n",
    "    Recall that A is a mountain array if and only if:\n",
    "\n",
    "        A.length >= 3\n",
    "        There exists some i with 0 < i < A.length - 1 such that:\n",
    "            A[0] < A[1] < ... A[i-1] < A[i]\n",
    "            A[i] > A[i+1] > ... > A[B.length - 1]\n"
   ]
  },
  {
   "cell_type": "markdown",
   "metadata": {},
   "source": [
    "* In other words a mountain array must be always increasing and then at some point always decreasing\n",
    "* First step. check if the length is greater than 3; if not return false\n",
    "* Set a flag increasing = True\n",
    "* Parse through the array and if it the next value is not greater switch the flag to False\n",
    "\n",
    "\n",
    "* If any next value is greater during this phase return False\n",
    "* If we reach the end and the flag is still True; return False\n",
    "* If we reach the end and the flag is False; return True"
   ]
  },
  {
   "cell_type": "code",
   "execution_count": 10,
   "metadata": {},
   "outputs": [],
   "source": [
    "class Solution:\n",
    "    def validMountainArray(self, A):\n",
    "        if len(A) < 3:\n",
    "            return False\n",
    "        increasing = True\n",
    "        if A[1] < A[0]:\n",
    "            return False\n",
    "        for i in range(1,len(A)):\n",
    "            if A[i] == A[i-1]:\n",
    "                return False\n",
    "            if increasing == True:\n",
    "                if A[i] < A[i-1]:\n",
    "                    increasing = False\n",
    "            else:\n",
    "                if A[i] > A[i-1]:\n",
    "                    return False\n",
    "        \n",
    "        if increasing == True:\n",
    "            return False\n",
    "        else:\n",
    "            return True\n",
    "            "
   ]
  },
  {
   "cell_type": "code",
   "execution_count": 11,
   "metadata": {},
   "outputs": [
    {
     "name": "stdout",
     "output_type": "stream",
     "text": [
      "True\n",
      "False\n",
      "False\n"
     ]
    }
   ],
   "source": [
    "sol = Solution()\n",
    "print(sol.validMountainArray([1,2,3,4,3,2,1]))\n",
    "print(sol.validMountainArray([2,2]))\n",
    "print(sol.validMountainArray([9,8,7,6,5,4,3,2,1,0]))"
   ]
  },
  {
   "cell_type": "code",
   "execution_count": null,
   "metadata": {},
   "outputs": [],
   "source": []
  }
 ],
 "metadata": {
  "kernelspec": {
   "display_name": "Python 3",
   "language": "python",
   "name": "python3"
  },
  "language_info": {
   "codemirror_mode": {
    "name": "ipython",
    "version": 3
   },
   "file_extension": ".py",
   "mimetype": "text/x-python",
   "name": "python",
   "nbconvert_exporter": "python",
   "pygments_lexer": "ipython3",
   "version": "3.6.4"
  }
 },
 "nbformat": 4,
 "nbformat_minor": 2
}
