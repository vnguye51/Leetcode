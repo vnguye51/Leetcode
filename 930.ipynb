{
 "cells": [
  {
   "cell_type": "markdown",
   "metadata": {},
   "source": [
    "# Binary Subarrays With Sum\n",
    "\n",
    "In an array A of 0s and 1s, how many non-empty subarrays have sum S?\n",
    "\n",
    " \n",
    "\n",
    "    Example 1:\n",
    "\n",
    "    Input: A = [1,0,1,0,1], S = 2\n",
    "    Output: 4\n",
    "    Explanation: \n",
    "    The 4 subarrays are bolded below:\n",
    "    [1,0,1,0,1]\n",
    "    [1,0,1,0,1]\n",
    "    [1,0,1,0,1]\n",
    "    [1,0,1,0,1]\n",
    "\n",
    "\n",
    "\n",
    "    Note:\n",
    "\n",
    "        A.length <= 30000\n",
    "        0 <= S <= A.length\n",
    "        A[i] is either 0 or 1.\n"
   ]
  },
  {
   "cell_type": "markdown",
   "metadata": {},
   "source": [
    "* Sounds like we need to make a moving window and check all values.\n",
    "* The minimum window size must be S\n",
    "* Might be too slow\n",
    "* It is we need to compress the values down in the first pass\n",
    "* We want a recursive where we check the count of everything in that loop\n",
    "* If the number is too large stop that chain and move to the next"
   ]
  },
  {
   "cell_type": "code",
   "execution_count": 22,
   "metadata": {},
   "outputs": [],
   "source": [
    "class Solution:\n",
    "    def numSubarraysWithSum(self, A, S):\n",
    "        size = 1\n",
    "        count = 0\n",
    "        while size < len(A)+1:\n",
    "            i = 0\n",
    "            while i < len(A) - (size - 1):\n",
    "                print(A[i:i+size])\n",
    "                if sum(A[i:i+size]) == S:\n",
    "                    count += 1\n",
    "                i += 1\n",
    "            size += 1\n",
    "        return count"
   ]
  },
  {
   "cell_type": "code",
   "execution_count": null,
   "metadata": {},
   "outputs": [],
   "source": [
    "class Solution:\n",
    "    def numSubarraysWithSum(self, A, S):\n",
    "        count = 0\n",
    "        def numSubarrays(A,S):\n",
    "            count = 0\n",
    "            Sum = 0\n",
    "            flag = False\n",
    "            i = 0\n",
    "            if len(A) == 0:\n",
    "                return 0\n",
    "            while i < len(A):\n",
    "                Sum += A[i]\n",
    "                if Sum > S:\n",
    "                    break\n",
    "                elif Sum == S:\n",
    "                    count += 1\n",
    "                i += 1\n",
    "            return count + numSubarrays(A[1:],S)\n",
    "        \n",
    "        count = numSubarrays(A,S)\n",
    "        return count\n",
    "    "
   ]
  },
  {
   "cell_type": "code",
   "execution_count": 23,
   "metadata": {},
   "outputs": [
    {
     "name": "stdout",
     "output_type": "stream",
     "text": [
      "[1]\n",
      "[0]\n",
      "[1]\n",
      "[0]\n",
      "[1]\n",
      "[1, 0]\n",
      "[0, 1]\n",
      "[1, 0]\n",
      "[0, 1]\n",
      "[1, 0, 1]\n",
      "[0, 1, 0]\n",
      "[1, 0, 1]\n",
      "[1, 0, 1, 0]\n",
      "[0, 1, 0, 1]\n",
      "[1, 0, 1, 0, 1]\n"
     ]
    },
    {
     "data": {
      "text/plain": [
       "4"
      ]
     },
     "execution_count": 23,
     "metadata": {},
     "output_type": "execute_result"
    }
   ],
   "source": [
    "sol = Solution()\n",
    "sol.numSubarraysWithSum([1,0,1,0,1], 2)"
   ]
  },
  {
   "cell_type": "code",
   "execution_count": 54,
   "metadata": {},
   "outputs": [],
   "source": [
    "def groupArray(A):\n",
    "    arr = []\n",
    "    Sum = 0\n",
    "    zerocounts = 0\n",
    "    if A[0] == 0:\n",
    "        zerocounts += 1\n",
    "    else:\n",
    "        Sum += A[0]\n",
    "        \n",
    "    for n in A[1:]:\n",
    "        if n == 0:\n",
    "            if zerocounts == 0:\n",
    "                arr.append(Sum)\n",
    "                Sum = 0\n",
    "            zerocounts += 1\n",
    "        else:\n",
    "            if Sum == 0:\n",
    "                arr.append(zerocounts)\n",
    "                zerocounts = 0\n",
    "            Sum += n\n",
    "    if Sum != 0:\n",
    "        arr.append(Sum)\n",
    "    else:\n",
    "        arr.append(zerocounts)\n",
    "    return [arr,'zeros']\n",
    "\n",
    "def numSubarrays(A,S):\n",
    "    count = 0\n",
    "    Sum = 0\n",
    "    flag = False\n",
    "    i = 0\n",
    "    if len(A) == 0:\n",
    "        return 0\n",
    "    while i < len(A):\n",
    "        Sum += A[i]\n",
    "        if Sum > S:\n",
    "            break\n",
    "        elif Sum == S:\n",
    "            count += 1\n",
    "        i += 1\n",
    "    return count + numSubarrays(A[1:],S)\n",
    "\n"
   ]
  },
  {
   "cell_type": "code",
   "execution_count": 55,
   "metadata": {},
   "outputs": [
    {
     "data": {
      "text/plain": [
       "[[1, 1, 1, 1, 1], 'zeros']"
      ]
     },
     "execution_count": 55,
     "metadata": {},
     "output_type": "execute_result"
    }
   ],
   "source": [
    "groupArray([1,0,1,0,1])"
   ]
  },
  {
   "cell_type": "code",
   "execution_count": null,
   "metadata": {},
   "outputs": [],
   "source": []
  }
 ],
 "metadata": {
  "kernelspec": {
   "display_name": "Python 3",
   "language": "python",
   "name": "python3"
  },
  "language_info": {
   "codemirror_mode": {
    "name": "ipython",
    "version": 3
   },
   "file_extension": ".py",
   "mimetype": "text/x-python",
   "name": "python",
   "nbconvert_exporter": "python",
   "pygments_lexer": "ipython3",
   "version": "3.6.4"
  }
 },
 "nbformat": 4,
 "nbformat_minor": 2
}
