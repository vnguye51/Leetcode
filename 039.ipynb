{
 "cells": [
  {
   "cell_type": "markdown",
   "metadata": {},
   "source": [
    "## Combination Sum\n"
   ]
  },
  {
   "cell_type": "markdown",
   "metadata": {},
   "source": [
    "\n",
    "Given a set of candidate numbers (candidates) (without duplicates) and a target number (target), find all unique combinations in candidates where the candidate numbers sums to target.\n",
    "\n",
    "The same repeated number may be chosen from candidates unlimited number of times.\n",
    "\n",
    "Note:\n",
    "\n",
    "    All numbers (including target) will be positive integers.\n",
    "    The solution set must not contain duplicate combinations.\n",
    "    \n"
   ]
  },
  {
   "cell_type": "markdown",
   "metadata": {},
   "source": [
    "*If the sub-problem sum is 0: add the array to result\n",
    "\n",
    "*Else if the sub-problem sum is negative: ignore\n",
    "\n",
    "*Else present array + solution to the sub problem"
   ]
  },
  {
   "cell_type": "code",
   "execution_count": 13,
   "metadata": {},
   "outputs": [
    {
     "name": "stdout",
     "output_type": "stream",
     "text": [
      "[[2, 2, 2, 2], [2, 3, 3], [3, 5]]\n"
     ]
    }
   ],
   "source": [
    "candidates = [2,3,5]\n",
    "\n",
    "result = []\n",
    "subresult = []\n",
    " \n",
    "def Ways(target,i,result,subresult):\n",
    "    if target == 0:\n",
    "        result.append(subresult[:])\n",
    "        return\n",
    "    elif target < 0:\n",
    "        return\n",
    "    \n",
    "    else:\n",
    "        while i < len(candidates) and target >= candidates[i]:\n",
    "            subresult.append(candidates[i])\n",
    "            Ways(target - candidates[i],i,result,subresult)\n",
    "            subresult.pop(-1)\n",
    "            i = i+1\n",
    "            \n",
    "    return\n",
    "    \n",
    "Ways(8,0,result,subresult)\n",
    "print(result)"
   ]
  }
 ],
 "metadata": {
  "kernelspec": {
   "display_name": "Python 3",
   "language": "python",
   "name": "python3"
  },
  "language_info": {
   "codemirror_mode": {
    "name": "ipython",
    "version": 3
   },
   "file_extension": ".py",
   "mimetype": "text/x-python",
   "name": "python",
   "nbconvert_exporter": "python",
   "pygments_lexer": "ipython3",
   "version": "3.6.4"
  }
 },
 "nbformat": 4,
 "nbformat_minor": 2
}
