{
 "cells": [
  {
   "cell_type": "markdown",
   "metadata": {},
   "source": [
    "## Reverse Vowels of a String\n",
    "\n",
    "Write a function that takes a string as input and reverse only the vowels of a string.\n",
    "\n",
    "----\n",
    "\n",
    "* Our goal should be to parse through the string looking for vowels and recording both the letter and their placement\n",
    "* Initialize an array with the same letters as the string\n",
    "* Create two pointers starting at the beginning and end of the array\n",
    "* Until the two pointers pass each other:\n",
    "    * if both pointers point to a vowel: swap their values, increment and decrement respectively\n",
    "    * if they do not point to a value increment or decrement them\n",
    "    * if they point to a vowel stay put\n",
    "    "
   ]
  },
  {
   "cell_type": "code",
   "execution_count": 33,
   "metadata": {},
   "outputs": [],
   "source": [
    "class Solution:\n",
    "    vowels = {\"a\":1,\"e\":1,\"i\":1,\"o\":1,\"u\":1,\"A\":1,\"E\":1,\"I\":1,\"O\":1,\"U\":1}\n",
    "    def checkVowel(self,c):\n",
    "        if c in self.vowels:\n",
    "            return True\n",
    "        return False\n",
    "    \n",
    "    def reverseVowels(self, s):\n",
    "        list_s = list(s)\n",
    "        i = 0\n",
    "        j = len(list_s) - 1\n",
    "        while i < j:\n",
    "            if not self.checkVowel(list_s[i]):\n",
    "                i += 1\n",
    "            if not self.checkVowel(list_s[j]):\n",
    "                j -= 1\n",
    "            if self.checkVowel(list_s[i]) and self.checkVowel(list_s[j]):\n",
    "                list_s[i],list_s[j] = list_s[j],list_s[i]\n",
    "                i += 1\n",
    "                j -= 1\n",
    "        return \"\".join(list_s)"
   ]
  },
  {
   "cell_type": "code",
   "execution_count": 34,
   "metadata": {},
   "outputs": [
    {
     "data": {
      "text/plain": [
       "'Aa'"
      ]
     },
     "execution_count": 34,
     "metadata": {},
     "output_type": "execute_result"
    }
   ],
   "source": [
    "sol = Solution()\n",
    "sol.reverseVowels(\"aA\")"
   ]
  },
  {
   "cell_type": "code",
   "execution_count": 10,
   "metadata": {},
   "outputs": [
    {
     "data": {
      "text/plain": [
       "'[1, 2, 3, 4]'"
      ]
     },
     "execution_count": 10,
     "metadata": {},
     "output_type": "execute_result"
    }
   ],
   "source": [
    "str([1,2,3,4])"
   ]
  },
  {
   "cell_type": "code",
   "execution_count": null,
   "metadata": {},
   "outputs": [],
   "source": []
  }
 ],
 "metadata": {
  "kernelspec": {
   "display_name": "Python 3",
   "language": "python",
   "name": "python3"
  },
  "language_info": {
   "codemirror_mode": {
    "name": "ipython",
    "version": 3
   },
   "file_extension": ".py",
   "mimetype": "text/x-python",
   "name": "python",
   "nbconvert_exporter": "python",
   "pygments_lexer": "ipython3",
   "version": "3.6.4"
  }
 },
 "nbformat": 4,
 "nbformat_minor": 2
}
