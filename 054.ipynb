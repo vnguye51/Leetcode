{
 "cells": [
  {
   "cell_type": "markdown",
   "metadata": {},
   "source": [
    "## Spiral Matrix\n",
    "\n",
    "Given a matrix of m x n elements (m rows, n columns), return all elements of the matrix in spiral order.\n",
    "\n",
    "* Do this problem in layers starting at the top left\n",
    "    * 0,0 -> 0,1 -> ... -> 0,n\n",
    "    * 0,n -> ... -> m,n\n",
    "    * m,n -> ... -> m,0\n",
    "    * m,0 -> ... -> 1,0\n",
    "* Repeat this pattern for inner layers"
   ]
  },
  {
   "cell_type": "code",
   "execution_count": 222,
   "metadata": {},
   "outputs": [],
   "source": [
    "def spiralOrder(matrix):\n",
    "    if not matrix or not matrix[0]:\n",
    "        return []\n",
    "    if len(matrix) == 1:\n",
    "        return matrix[0]\n",
    "    if len(matrix[0]) == 1:\n",
    "        return [matrix[i][0] for i in range(0,len(matrix))]\n",
    "    m = len(matrix)\n",
    "    n = len(matrix[0])\n",
    "\n",
    "    Spiral =[]\n",
    "    i = 0\n",
    "    for j in range(0,n):\n",
    "        Spiral.append(matrix[i][j])\n",
    "    for i in range(1,m):\n",
    "        Spiral.append(matrix[i][j])\n",
    "    for j in range(n-2,-1,-1):\n",
    "        Spiral.append(matrix[i][j])\n",
    "    for i in range(m-2,0,-1):\n",
    "        Spiral.append(matrix[i][j])\n",
    "        \n",
    "    submatrix = []\n",
    "\n",
    "    \n",
    "    for i in range(1,m-1):\n",
    "        row = []\n",
    "        for j in range(1,n-1):\n",
    "            row.append(matrix[i][j])\n",
    "        submatrix.append(row)    \n",
    "    \n",
    "    Spiral = Spiral + spiralOrder(submatrix)\n",
    "    \n",
    "    return Spiral\n",
    "    "
   ]
  },
  {
   "cell_type": "code",
   "execution_count": 224,
   "metadata": {},
   "outputs": [
    {
     "name": "stdout",
     "output_type": "stream",
     "text": [
      "[[1, 2, 3, 4], [5, 6, 7, 8], [9, 10, 11, 12], [13, 14, 15, 16], [17, 18, 19, 20]]\n",
      "[[6, 7], [10, 11], [14, 15]]\n",
      "[[]]\n"
     ]
    },
    {
     "data": {
      "text/plain": [
       "[1, 2, 3, 4, 8, 12, 16, 20, 19, 18, 17, 13, 9, 5, 6, 7, 11, 15, 14, 10]"
      ]
     },
     "execution_count": 224,
     "metadata": {},
     "output_type": "execute_result"
    }
   ],
   "source": [
    "spiralOrder(Matrix)"
   ]
  },
  {
   "cell_type": "code",
   "execution_count": 225,
   "metadata": {},
   "outputs": [
    {
     "name": "stdout",
     "output_type": "stream",
     "text": [
      "[[1], [2], [3], [4], [5], [6], [7], [8], [9], [10]]\n"
     ]
    },
    {
     "data": {
      "text/plain": [
       "[1, 2, 3, 4, 5, 6, 7, 8, 9, 10]"
      ]
     },
     "execution_count": 225,
     "metadata": {},
     "output_type": "execute_result"
    }
   ],
   "source": [
    "spiralOrder([[1],[2],[3],[4],[5],[6],[7],[8],[9],[10]])"
   ]
  },
  {
   "cell_type": "code",
   "execution_count": 226,
   "metadata": {},
   "outputs": [
    {
     "name": "stdout",
     "output_type": "stream",
     "text": [
      "[[1, 11], [2, 12], [3, 13], [4, 14], [5, 15], [6, 16], [7, 17], [8, 18], [9, 19], [10, 20]]\n",
      "[[], [], [], [], [], [], [], []]\n"
     ]
    },
    {
     "data": {
      "text/plain": [
       "[1, 11, 12, 13, 14, 15, 16, 17, 18, 19, 20, 10, 9, 8, 7, 6, 5, 4, 3, 2]"
      ]
     },
     "execution_count": 226,
     "metadata": {},
     "output_type": "execute_result"
    }
   ],
   "source": [
    "spiralOrder([[1,11],[2,12],[3,13],[4,14],[5,15],[6,16],[7,17],[8,18],[9,19],[10,20]])"
   ]
  }
 ],
 "metadata": {
  "kernelspec": {
   "display_name": "Python 3",
   "language": "python",
   "name": "python3"
  },
  "language_info": {
   "codemirror_mode": {
    "name": "ipython",
    "version": 3
   },
   "file_extension": ".py",
   "mimetype": "text/x-python",
   "name": "python",
   "nbconvert_exporter": "python",
   "pygments_lexer": "ipython3",
   "version": "3.6.4"
  }
 },
 "nbformat": 4,
 "nbformat_minor": 2
}
