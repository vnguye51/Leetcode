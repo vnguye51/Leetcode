{
 "cells": [
  {
   "cell_type": "markdown",
   "metadata": {},
   "source": [
    "## 805. Split Array with Same Average"
   ]
  },
  {
   "cell_type": "markdown",
   "metadata": {},
   "source": [
    "In a given integer array A, we must move every element of A to either list B or list C. (B and C initially start empty.)\n",
    "\n",
    "Return true if and only if after such a move, it is possible that the average value of B is equal to the average value of C, and B and C are both non-empty.\n",
    "\n",
    "* We first need to sort the array\n",
    "* We alternate giving the first and last element to B and then C\n",
    "* In the case of an odd integer array it should not matter"
   ]
  },
  {
   "cell_type": "code",
   "execution_count": 17,
   "metadata": {},
   "outputs": [],
   "source": [
    "def splitArraySameAverage(A):\n",
    "    A.sort()\n",
    "    B = []\n",
    "    C = []\n",
    "    flipper = False\n",
    "    \n",
    "    if len(A) == 2:\n",
    "        if len(set(A)) == 1:\n",
    "            return True\n",
    "        else: \n",
    "            return False\n",
    "        \n",
    "    \n",
    "    while len(A) > 1:\n",
    "        \n",
    "        if flipper == False:\n",
    "            B.append(A.pop(0))\n",
    "            B.append(A.pop(-1))\n",
    "            flipper = True\n",
    "        else:\n",
    "            C.append(A.pop(0))\n",
    "            C.append(A.pop(-1))\n",
    "            flipper = False\n",
    "        \n",
    "    if len(A) == 1:\n",
    "        C.append(A[0])\n",
    "    \n",
    "    print B,C\n",
    "    if sum(B)/len(B) == sum(C)/len(C):\n",
    "        return True\n",
    "    \n",
    "    return False"
   ]
  },
  {
   "cell_type": "code",
   "execution_count": 21,
   "metadata": {},
   "outputs": [
    {
     "name": "stdout",
     "output_type": "stream",
     "text": [
      "[1, 17, 5, 13] [1, 14, 5, 10, 6]\n"
     ]
    },
    {
     "data": {
      "text/plain": [
       "False"
      ]
     },
     "execution_count": 21,
     "metadata": {},
     "output_type": "execute_result"
    }
   ],
   "source": [
    "A = [17,5,5,1,14,10,13,1,6]\n",
    "\n",
    "splitArraySameAverage(A)"
   ]
  },
  {
   "cell_type": "code",
   "execution_count": 26,
   "metadata": {},
   "outputs": [
    {
     "name": "stdout",
     "output_type": "stream",
     "text": [
      "[1, 1, 5, 5, 6, 10, 13, 14, 17]\n",
      "8\n"
     ]
    }
   ],
   "source": [
    "A = [17,5,5,1,14,10,13,1,6]\n",
    "A.sort()\n",
    "print A\n",
    "print sum(A)/len(A)"
   ]
  },
  {
   "cell_type": "code",
   "execution_count": null,
   "metadata": {
    "collapsed": true
   },
   "outputs": [],
   "source": []
  },
  {
   "cell_type": "code",
   "execution_count": null,
   "metadata": {
    "collapsed": true
   },
   "outputs": [],
   "source": []
  }
 ],
 "metadata": {
  "kernelspec": {
   "display_name": "Python 2",
   "language": "python",
   "name": "python2"
  },
  "language_info": {
   "codemirror_mode": {
    "name": "ipython",
    "version": 2
   },
   "file_extension": ".py",
   "mimetype": "text/x-python",
   "name": "python",
   "nbconvert_exporter": "python",
   "pygments_lexer": "ipython2",
   "version": "2.7.14"
  }
 },
 "nbformat": 4,
 "nbformat_minor": 2
}
