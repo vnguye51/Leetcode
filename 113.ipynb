{
 "cells": [
  {
   "cell_type": "markdown",
   "metadata": {},
   "source": [
    "## Path Sum II\n",
    "\n",
    "Given a binary tree and a sum, find all root-to-leaf paths where each path's sum equals the given sum\n",
    "\n",
    "* Similar to the previous problem\n",
    "* Traverse the tree but this time with a runningsum, but this time also pass along a path list\n",
    "\n",
    "* increment runningsum by root.val\n",
    "* Append root.val to path\n",
    "* If the node has neither a left or right branch, compare runningsum to sum\n",
    "    * Append path to answers\n",
    "* Otherwise call pathSum() on the left and right branches\n",
    "* Perform cleanup\n",
    "    * decrement runningsum by root.val\n",
    "    * pop() the last value of path"
   ]
  },
  {
   "cell_type": "code",
   "execution_count": null,
   "metadata": {},
   "outputs": [],
   "source": [
    "# Definition for a binary tree node.\n",
    "# class TreeNode:\n",
    "#     def __init__(self, x):\n",
    "#         self.val = x\n",
    "#         self.left = None\n",
    "#         self.right = None\n",
    "\n",
    "class Solution:\n",
    "    def pathSum(self, root, sum, runningsum = 0, path=[]):\n",
    "        answers = []\n",
    "        if root:\n",
    "            runningsum += root.val\n",
    "            path.append(root.val)\n",
    "            if not (root.left or root.right):\n",
    "                if runningsum == sum:\n",
    "                    answers.append(path[:])\n",
    "            else:\n",
    "                answers += self.pathSum(root.left, sum, runningsum, path)\n",
    "                answers += self.pathSum(root.right, sum, runningsum, path)\n",
    "            runningsum -= root.val\n",
    "            path.pop()\n",
    "        return answers"
   ]
  }
 ],
 "metadata": {
  "kernelspec": {
   "display_name": "Python 3",
   "language": "python",
   "name": "python3"
  },
  "language_info": {
   "codemirror_mode": {
    "name": "ipython",
    "version": 3
   },
   "file_extension": ".py",
   "mimetype": "text/x-python",
   "name": "python",
   "nbconvert_exporter": "python",
   "pygments_lexer": "ipython3",
   "version": "3.6.4"
  }
 },
 "nbformat": 4,
 "nbformat_minor": 2
}
