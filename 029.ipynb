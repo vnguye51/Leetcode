{
 "cells": [
  {
   "cell_type": "markdown",
   "metadata": {},
   "source": [
    "### Divide two Integers\n",
    "Divide two integers without using multiplication, division and mod operator.\n",
    "\n",
    "If it is overflow, return MAX_INT. \n",
    "\n",
    "* divide as if we were doing division by hand\n",
    "* Let's take the example 931/30\n",
    "* we look at the first digit: 9\n",
    "    * 9 < 30 so we write 0 to our answer string and expand our search\n",
    "    * 93 > 30 so we increment our current digit answer by 1 and subtract the 93 by 30\n",
    "    * 63 > 30 ...\n",
    "    ...\n",
    "    * 3 < 30, our q is 3 and we append our leftover to the rest of the dividend 3 + 1\n",
    "    \n",
    "    * We restart the process with our new dividend adding to q\n",
    "    \n",
    "    * This continues until the dividend is less than the divisor or empty"
   ]
  },
  {
   "cell_type": "code",
   "execution_count": 94,
   "metadata": {},
   "outputs": [],
   "source": [
    "def divide(dividend,divisor):\n",
    "    dividend = str(dividend)\n",
    "    i = 0\n",
    "    r = 0\n",
    "    neg = False\n",
    "    quotient = ''\n",
    "    \n",
    "    if int(dividend) < 0:\n",
    "        neg = True\n",
    "        dividend = str(dividend)[1:]\n",
    "        \n",
    "    if divisor < 0:\n",
    "        if neg == True:\n",
    "            neg = False\n",
    "        else:\n",
    "            neg = True\n",
    "        divisor = int(str(divisor)[1:])\n",
    "        \n",
    "   \n",
    "    \n",
    "    \n",
    "    while i < len(dividend):\n",
    "        q = 0\n",
    "        r = str(r) + dividend[i]\n",
    "        r = int(r)\n",
    "        while r >= divisor:\n",
    "            r = r-divisor\n",
    "            q = q+1\n",
    "        i = i+1\n",
    "        quotient = quotient + str(q) \n",
    "        \n",
    "    if int(quotient) > 2147483647:\n",
    "        if neg == True and int(quotient) >= 2147483648:\n",
    "            return -2147483648\n",
    "        elif neg == True:\n",
    "            return -2147483647\n",
    "        else:\n",
    "            return 2147483647\n",
    "        \n",
    "    if neg == True:\n",
    "        return -int(quotient)\n",
    "    \n",
    "    return int(quotient)"
   ]
  },
  {
   "cell_type": "code",
   "execution_count": 95,
   "metadata": {},
   "outputs": [
    {
     "data": {
      "text/plain": [
       "-7"
      ]
     },
     "execution_count": 95,
     "metadata": {},
     "output_type": "execute_result"
    }
   ],
   "source": [
    "divide(-23,3)"
   ]
  }
 ],
 "metadata": {
  "kernelspec": {
   "display_name": "Python 2",
   "language": "python",
   "name": "python2"
  },
  "language_info": {
   "codemirror_mode": {
    "name": "ipython",
    "version": 2
   },
   "file_extension": ".py",
   "mimetype": "text/x-python",
   "name": "python",
   "nbconvert_exporter": "python",
   "pygments_lexer": "ipython2",
   "version": "2.7.14"
  }
 },
 "nbformat": 4,
 "nbformat_minor": 2
}
