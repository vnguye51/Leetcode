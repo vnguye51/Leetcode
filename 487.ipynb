{
 "cells": [
  {
   "cell_type": "code",
   "execution_count": 1,
   "metadata": {},
   "outputs": [],
   "source": [
    "#as you read in the string\n",
    "#count the number ones in a variable, called before0\n",
    "#once you hit a zero count the number of ones into the variable after0\n",
    "#if you hit another zero compare before0+after0+1 to the max value found so far and replace it if larger\n",
    "#then let before0=after0 and continue counting"
   ]
  },
  {
   "cell_type": "code",
   "execution_count": 16,
   "metadata": {},
   "outputs": [
    {
     "name": "stdout",
     "output_type": "stream",
     "text": [
      "4\n",
      "5\n",
      "5\n",
      "4\n",
      "5\n",
      "1\n",
      "3\n",
      "2\n",
      "2\n"
     ]
    }
   ],
   "source": [
    "class Solution:\n",
    "    def findMaxConsecutiveOnes(self, nums):\n",
    "        before0 = -1\n",
    "        after0 = 0\n",
    "        Max = 0\n",
    "        #find the first zero\n",
    "        for i in range(0,len(nums)):\n",
    "            if nums[i] == 0:\n",
    "                before0 = i\n",
    "                break\n",
    "        if before0 == -1:\n",
    "            return len(nums)\n",
    "        \n",
    "        for n in nums[i+1:]:\n",
    "            if n == 0:\n",
    "                Max = max(before0+after0+1,Max)\n",
    "                before0=after0\n",
    "                after0 = 0\n",
    "            else:\n",
    "                after0 += 1\n",
    "        Max = max(before0+after0+1,Max)\n",
    "        return Max\n",
    "    \n",
    "sol = Solution()\n",
    "print(sol.findMaxConsecutiveOnes([1,0,1,1,0]))\n",
    "print(sol.findMaxConsecutiveOnes([1,1,1,1,0]))\n",
    "print(sol.findMaxConsecutiveOnes([1,1,1,1,1]))\n",
    "print(sol.findMaxConsecutiveOnes([1,1,1,0,0,0,0,1,1]))\n",
    "print(sol.findMaxConsecutiveOnes([0,0,0,0,1,1,1,1,0,0,0]))\n",
    "print(sol.findMaxConsecutiveOnes([0,0,0,0,0]))\n",
    "print(sol.findMaxConsecutiveOnes([1,0,1,0,1,0]))\n",
    "print(sol.findMaxConsecutiveOnes([0,1]))\n",
    "print(sol.findMaxConsecutiveOnes([0,1,0]))"
   ]
  },
  {
   "cell_type": "code",
   "execution_count": null,
   "metadata": {},
   "outputs": [],
   "source": []
  }
 ],
 "metadata": {
  "kernelspec": {
   "display_name": "Python 3",
   "language": "python",
   "name": "python3"
  },
  "language_info": {
   "codemirror_mode": {
    "name": "ipython",
    "version": 3
   },
   "file_extension": ".py",
   "mimetype": "text/x-python",
   "name": "python",
   "nbconvert_exporter": "python",
   "pygments_lexer": "ipython3",
   "version": "3.6.4"
  }
 },
 "nbformat": 4,
 "nbformat_minor": 2
}
