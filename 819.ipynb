{
 "cells": [
  {
   "cell_type": "markdown",
   "metadata": {},
   "source": [
    "## Most Common Word\n",
    "\n",
    "Given a paragraph and a list of banned words, return the most frequent word that is not in the list of banned words.  It is guaranteed there is at least one word that isn't banned, and that the answer is unique.\n",
    "\n",
    "Words in the list of banned words are given in lowercase, and free of punctuation.  Words in the paragraph are not case sensitive.  The answer is in lowercase.\n",
    "\n",
    "* Case doesn't matter so first we turn the entire paragraph into lowercase\n",
    "* Remove any letters that are not punctuation\n",
    "* Use a dictionary to keep count of words"
   ]
  },
  {
   "cell_type": "code",
   "execution_count": 8,
   "metadata": {},
   "outputs": [],
   "source": [
    "\n",
    "def mostCommonWord( paragraph, banned):\n",
    "    from string import punctuation\n",
    "    S =  ''.join(c for c in paragraph if c not in punctuation)\n",
    "    S = S.lower()\n",
    "    S = S.split()\n",
    "    Words = {}\n",
    "\n",
    "    for w in S:\n",
    "        if w not in Words:\n",
    "            Words[w] = 1\n",
    "        else:\n",
    "            Words[w] = Words[w] + 1\n",
    "\n",
    "    for w in banned: \n",
    "        if w in Words:\n",
    "            Words.pop(w)\n",
    "\n",
    "    return max(Words, key = Words.get)"
   ]
  }
 ],
 "metadata": {
  "kernelspec": {
   "display_name": "Python 2",
   "language": "python",
   "name": "python2"
  },
  "language_info": {
   "codemirror_mode": {
    "name": "ipython",
    "version": 2
   },
   "file_extension": ".py",
   "mimetype": "text/x-python",
   "name": "python",
   "nbconvert_exporter": "python",
   "pygments_lexer": "ipython2",
   "version": "2.7.14"
  }
 },
 "nbformat": 4,
 "nbformat_minor": 2
}
