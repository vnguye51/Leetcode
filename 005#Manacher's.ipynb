{
 "cells": [
  {
   "cell_type": "markdown",
   "metadata": {},
   "source": [
    "## Longest Palindromic Substring"
   ]
  },
  {
   "cell_type": "markdown",
   "metadata": {},
   "source": [
    "We can find the longest palindrome in a string by choosing a index, check if its a palindrome. We generate the longest palindromic substrings based on Manacher's algorithm\n",
    "\n",
    "|b|a|b|a|d|\n",
    "\n",
    "012345678910\n",
    "\n",
    "01030301010\n",
    "\n",
    "To check for LPS we look at the position, if its a palindrome we expand it. If it isn't we move on to the next position.\n"
   ]
  },
  {
   "cell_type": "code",
   "execution_count": 26,
   "metadata": {},
   "outputs": [],
   "source": [
    "def longestPalindrome(s):\n",
    "\n",
    "    if s == \"\":\n",
    "        return \"\"\n",
    "    length = len(s)\n",
    "    for l in range(length,0,-1):\n",
    "        for i in range(0,length-l+1):\n",
    "            substring = s[i:i+l]\n",
    "            if substring == substring[::-1]:\n",
    "                return substring"
   ]
  },
  {
   "cell_type": "code",
   "execution_count": 28,
   "metadata": {},
   "outputs": [
    {
     "name": "stdout",
     "output_type": "stream",
     "text": [
      "babad\n",
      "baba\n",
      "abad\n",
      "bab\n"
     ]
    },
    {
     "data": {
      "text/plain": [
       "'bab'"
      ]
     },
     "execution_count": 28,
     "metadata": {},
     "output_type": "execute_result"
    }
   ],
   "source": [
    "longestPalindrome('babad')"
   ]
  },
  {
   "cell_type": "code",
   "execution_count": 131,
   "metadata": {
    "scrolled": true
   },
   "outputs": [],
   "source": [
    "def longestPalindrome(s):\n",
    "    \n",
    "    if s == \"\":\n",
    "        return \"\"\n",
    "    \n",
    "    s = '#'.join(s)\n",
    "    s = '!' + s + '?'\n",
    "    \n",
    "    longest = ''\n",
    "    length = len(s)\n",
    "    LPS = []\n",
    "    \n",
    "    for i in range(0,length):\n",
    "        substring = s[i]\n",
    "        j = 0\n",
    "        while substring == substring[::-1]:\n",
    "            j = j+1\n",
    "            substring = s[i-j:i+j+1]\n",
    "            \n",
    "        substring = substring[1:-1]\n",
    "        substring = ''.join([n for n in substring if n != '#'])\n",
    "        if len(substring) > len(longest):\n",
    "            longest = substring\n",
    "        \n",
    "    return longest\n",
    "        \n"
   ]
  }
 ],
 "metadata": {
  "kernelspec": {
   "display_name": "Python 2",
   "language": "python",
   "name": "python2"
  },
  "language_info": {
   "codemirror_mode": {
    "name": "ipython",
    "version": 2
   },
   "file_extension": ".py",
   "mimetype": "text/x-python",
   "name": "python",
   "nbconvert_exporter": "python",
   "pygments_lexer": "ipython2",
   "version": "2.7.14"
  }
 },
 "nbformat": 4,
 "nbformat_minor": 2
}
