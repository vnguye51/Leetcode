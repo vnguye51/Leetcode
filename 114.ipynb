{
 "cells": [
  {
   "cell_type": "markdown",
   "metadata": {},
   "source": [
    "## Flatten Binary Tree To Linked List"
   ]
  },
  {
   "cell_type": "code",
   "execution_count": 2,
   "metadata": {},
   "outputs": [],
   "source": [
    "\n",
    "\n",
    "## Take the leftmost branch and swap it with the right\n",
    "## then attach the \"left\" branch on to the bottom \"right\" branch\n",
    "\n",
    "class Solution:\n",
    "    def flatten(self, root):\n",
    "        if not root.left:\n",
    "            return\n",
    "        flatten(root.left)\n",
    "        root.right,root.left = root.left,root.right\n",
    "        pointer = root.right\n",
    "        while pointer.right:\n",
    "            pointer = pointer.right\n",
    "        pointer.right = root.left\n",
    "        root.left = None\n",
    "        return root\n"
   ]
  }
 ],
 "metadata": {
  "kernelspec": {
   "display_name": "Python 3",
   "language": "python",
   "name": "python3"
  },
  "language_info": {
   "codemirror_mode": {
    "name": "ipython",
    "version": 3
   },
   "file_extension": ".py",
   "mimetype": "text/x-python",
   "name": "python",
   "nbconvert_exporter": "python",
   "pygments_lexer": "ipython3",
   "version": "3.6.4"
  }
 },
 "nbformat": 4,
 "nbformat_minor": 2
}
