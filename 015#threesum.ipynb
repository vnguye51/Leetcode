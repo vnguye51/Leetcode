{
 "cells": [
  {
   "cell_type": "markdown",
   "metadata": {},
   "source": [
    "## 3Sum\n",
    "\n",
    "Given an array S of n integers, are there elements a, b, c in S such that a + b + c = 0? Find all unique triplets in the array which gives the sum of zero."
   ]
  },
  {
   "cell_type": "code",
   "execution_count": 197,
   "metadata": {},
   "outputs": [],
   "source": [
    "def twoSum(nums,target):\n",
    "    sums = []\n",
    "    N = sorted(nums) \n",
    "    i = 0\n",
    "    j = len(nums)-1\n",
    "    while i < j:\n",
    "        Sum = N[i] + N[j]\n",
    "        if Sum == target:\n",
    "            sums.append([N[i],N[j]])\n",
    "            i = i+1\n",
    "            j = j-1\n",
    "        if Sum > target:\n",
    "            j = j-1\n",
    "        if Sum < target:\n",
    "            i = i+1\n",
    "    sums = [list(n) for n in list(set(sums))]\n",
    "    return sums\n",
    "                \n",
    "def threeSum(nums):\n",
    "    N = sorted(nums)\n",
    "    sums = []\n",
    "    for i,n in enumerate(nums):\n",
    "        j = i+1\n",
    "        k = len(nums)-1\n",
    "        while j < k:\n",
    "            Sum = N[i] + N[j] + N[k]\n",
    "            if Sum == 0:\n",
    "                sums.append((N[i],N[j],N[k]))\n",
    "                j = j+1\n",
    "                k = k-1\n",
    "            elif Sum > 0:\n",
    "                k = k-1\n",
    "            else:\n",
    "                j = j+1\n",
    "            \n",
    "    \n",
    "    sums = [list(n) for n in list(set(sums))]\n",
    "    return sums\n",
    "\n",
    "                "
   ]
  }
 ],
 "metadata": {
  "kernelspec": {
   "display_name": "Python 2",
   "language": "python",
   "name": "python2"
  },
  "language_info": {
   "codemirror_mode": {
    "name": "ipython",
    "version": 2
   },
   "file_extension": ".py",
   "mimetype": "text/x-python",
   "name": "python",
   "nbconvert_exporter": "python",
   "pygments_lexer": "ipython2",
   "version": "2.7.14"
  }
 },
 "nbformat": 4,
 "nbformat_minor": 2
}
