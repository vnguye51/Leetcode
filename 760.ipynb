{
 "cells": [
  {
   "cell_type": "markdown",
   "metadata": {},
   "source": [
    "## Find Anagram Mappings\n",
    "\n",
    "Given two lists Aand B, and B is an anagram of A. B is an anagram of A means B is made by randomizing the order of the elements in A.\n",
    "\n",
    "We want to find an index mapping P, from A to B. A mapping P[i] = j means the ith element in A appears in B at index j.\n",
    "\n",
    "These lists A and B may contain duplicates. If there are multiple answers, output any of them.\n",
    "\n",
    "    \n",
    "    For example, given\n",
    "\n",
    "    A = [12, 28, 46, 32, 50]\n",
    "    B = [50, 12, 32, 46, 28]\n",
    "\n",
    "    We should return\n",
    "\n",
    "    [1, 4, 3, 2, 0]\n",
    "\n",
    "    as P[0] = 1 because the 0th element of A appears at B[1], and P[1] = 4 because the 1st element of A appears at B[4], and so on. "
   ]
  },
  {
   "cell_type": "markdown",
   "metadata": {},
   "source": [
    "* P[i] = j, and A[i] = B[j]\n",
    "* loop through all of B(j) storing each value and its index in a dictionary\n",
    "* Then loop through A(i) and use the dictionary to find the corresponding value for each index and store:\n",
    "    \n",
    "        P[i] = memo[A[i]] "
   ]
  },
  {
   "cell_type": "code",
   "execution_count": 11,
   "metadata": {},
   "outputs": [],
   "source": [
    "class Solution:\n",
    "    def anagramMappings(self, A, B):\n",
    "        memo = {}\n",
    "        P = [0 for n in range(0,len(A))]\n",
    "        for j,n in enumerate(B):\n",
    "            memo[n] = j\n",
    "        for i,m in enumerate(A):\n",
    "            P[i] = memo[A[i]] \n",
    "        return P"
   ]
  },
  {
   "cell_type": "code",
   "execution_count": 12,
   "metadata": {},
   "outputs": [
    {
     "name": "stdout",
     "output_type": "stream",
     "text": [
      "{21: 5, 5: 4, 74: 3}\n",
      "[5, 4, 3, 4, 3, 5]\n"
     ]
    },
    {
     "data": {
      "text/plain": [
       "[5, 4, 3, 4, 3, 5]"
      ]
     },
     "execution_count": 12,
     "metadata": {},
     "output_type": "execute_result"
    }
   ],
   "source": [
    "sol = Solution()\n",
    "sol.anagramMappings([21,5,74,5,74,21],[21,5,74,74,5,21])"
   ]
  }
 ],
 "metadata": {
  "kernelspec": {
   "display_name": "Python 3",
   "language": "python",
   "name": "python3"
  },
  "language_info": {
   "codemirror_mode": {
    "name": "ipython",
    "version": 3
   },
   "file_extension": ".py",
   "mimetype": "text/x-python",
   "name": "python",
   "nbconvert_exporter": "python",
   "pygments_lexer": "ipython3",
   "version": "3.6.4"
  }
 },
 "nbformat": 4,
 "nbformat_minor": 2
}
