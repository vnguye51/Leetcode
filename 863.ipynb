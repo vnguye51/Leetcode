{
 "cells": [
  {
   "cell_type": "markdown",
   "metadata": {},
   "source": [
    "## All Nodes Distance K in Binary Tree\n",
    "\n",
    "We are given a binary tree (with root node root), a target node, and an integer value K.\n",
    "\n",
    "Return a list of the values of all nodes that have a distance K from the target node.  The answer can be returned in any order.\n",
    "\n",
    "    Example 1:\n",
    "\n",
    "    Input: root = [3,5,1,6,2,0,8,null,null,7,4], target = 5, K = 2\n",
    "\n",
    "    Output: [7,4,1]"
   ]
  },
  {
   "cell_type": "markdown",
   "metadata": {},
   "source": [
    "* Breadth first search and assign binary strings to a dictionary to allow us to go to their parents\n",
    "* Starting from that string add all possibles 0s and 1s and check the dictionary for those values"
   ]
  },
  {
   "cell_type": "code",
   "execution_count": 2,
   "metadata": {},
   "outputs": [],
   "source": [
    "# Definition for a binary tree node.\n",
    "# class TreeNode:\n",
    "#     def __init__(self, x):\n",
    "#         self.val = x\n",
    "#         self.left = None\n",
    "#         self.right = None\n",
    "\n",
    "class Solution:\n",
    "    def distanceK(self, root, target, K):\n",
    "        memo = {}\n",
    "        targetloc = []\n",
    "        answer = []\n",
    "        binanswer = []\n",
    "        def search(root,curr):\n",
    "            if root.val == target.val:\n",
    "                targetloc.append(curr)\n",
    "            memo[curr] = root.val\n",
    "            if root.left:\n",
    "                search(root.left,curr+'0')\n",
    "            if root.right:\n",
    "                search(root.right,curr+'1')\n",
    "        def buildpath(start, stepsleft, origin):\n",
    "            if stepsleft == 0:\n",
    "                binanswer.append(start)\n",
    "            else:\n",
    "                if origin != '0':\n",
    "                    buildpath(start+'0',stepsleft-1, 'parent')\n",
    "                if origin != '1':\n",
    "                    buildpath(start+'1',stepsleft-1, 'parent')\n",
    "                if origin != 'parent' and len(start):\n",
    "                    buildpath(start[:-1],stepsleft-1, start[-1])\n",
    "        search(root,'')\n",
    "        buildpath(targetloc[0],K, None)\n",
    "        print(binanswer)\n",
    "        for n in binanswer:\n",
    "            if n in memo:\n",
    "                answer.append(memo[n])\n",
    "        return answer\n",
    "        \n"
   ]
  },
  {
   "cell_type": "code",
   "execution_count": null,
   "metadata": {},
   "outputs": [],
   "source": []
  }
 ],
 "metadata": {
  "kernelspec": {
   "display_name": "Python 3",
   "language": "python",
   "name": "python3"
  },
  "language_info": {
   "codemirror_mode": {
    "name": "ipython",
    "version": 3
   },
   "file_extension": ".py",
   "mimetype": "text/x-python",
   "name": "python",
   "nbconvert_exporter": "python",
   "pygments_lexer": "ipython3",
   "version": "3.6.4"
  }
 },
 "nbformat": 4,
 "nbformat_minor": 2
}
