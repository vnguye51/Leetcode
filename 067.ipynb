{
 "cells": [
  {
   "cell_type": "markdown",
   "metadata": {},
   "source": [
    "# Add Binary\n",
    "\n",
    "Given two binary strings, return their sum (also a binary string).\n",
    "\n",
    "The input strings are both non-empty and contains only characters 1 or 0.\n",
    "\n",
    "* Take the length of the larger one\n",
    "* Loop through that length in reverse:\n",
    "    * Add the two values and carry at that index\n",
    "    * If the value is >= 2: subtract it by 2 and set carry to 1\n",
    "* If carry is true insert 1 into the string at position 0"
   ]
  },
  {
   "cell_type": "code",
   "execution_count": 7,
   "metadata": {},
   "outputs": [],
   "source": [
    "def addBinary(a, b):\n",
    "    S = ''\n",
    "    if len(a) > len(b):\n",
    "        l = len(a)\n",
    "        b = '0'*(l-len(b)) + b\n",
    "    else:\n",
    "        l = len(b)\n",
    "        a = '0'*(l-len(a)) + a\n",
    "        \n",
    "    carry = 0\n",
    "    \n",
    "    for i in range(l-1,-1,-1):\n",
    "        n = int(a[i]) + int(b[i]) + carry\n",
    "        if n >=2:\n",
    "            n = n-2\n",
    "            carry = 1\n",
    "        else:\n",
    "            carry = 0\n",
    "        S = str(n) + S\n",
    "        \n",
    "    if carry == 1:\n",
    "        S = '1' + S\n",
    "    \n",
    "    return S\n",
    "        "
   ]
  },
  {
   "cell_type": "code",
   "execution_count": 8,
   "metadata": {},
   "outputs": [
    {
     "data": {
      "text/plain": [
       "'1001'"
      ]
     },
     "execution_count": 8,
     "metadata": {},
     "output_type": "execute_result"
    }
   ],
   "source": [
    "addBinary('111','010')"
   ]
  },
  {
   "cell_type": "code",
   "execution_count": 9,
   "metadata": {},
   "outputs": [
    {
     "data": {
      "text/plain": [
       "'10101'"
      ]
     },
     "execution_count": 9,
     "metadata": {},
     "output_type": "execute_result"
    }
   ],
   "source": [
    "addBinary(\"1010\",\n",
    "          \"1011\")"
   ]
  },
  {
   "cell_type": "code",
   "execution_count": null,
   "metadata": {},
   "outputs": [],
   "source": []
  }
 ],
 "metadata": {
  "kernelspec": {
   "display_name": "Python 3",
   "language": "python",
   "name": "python3"
  },
  "language_info": {
   "codemirror_mode": {
    "name": "ipython",
    "version": 3
   },
   "file_extension": ".py",
   "mimetype": "text/x-python",
   "name": "python",
   "nbconvert_exporter": "python",
   "pygments_lexer": "ipython3",
   "version": "3.6.4"
  }
 },
 "nbformat": 4,
 "nbformat_minor": 2
}
