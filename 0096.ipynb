{
 "cells": [
  {
   "cell_type": "markdown",
   "metadata": {},
   "source": [
    "## Unique Binary Search Trees\n",
    "\n",
    "Given n, how many structurally unique BST's (binary search trees) that store values 1 ... n?\n",
    "\n",
    "* the number of values is based on how many choices are to the left and to the right of a tree so we can use memoization based on tuples to solve the answer\n",
    "\n",
    "* (0,1) = 1\n",
    "* (1,0) = 1\n",
    "* (1,1) = 1\n",
    "* (2,0) = (1,0) + (0,1)\n",
    "* (3,0) = (2,0) + (0,2) + (1,1)\n",
    "* (3,1) = (3,0) * 1\n",
    "* (3,2) = (3,0) * (2,0)"
   ]
  },
  {
   "cell_type": "code",
   "execution_count": 41,
   "metadata": {},
   "outputs": [],
   "source": [
    "import copy\n",
    "\n",
    "# Definition for a binary tree node.\n",
    "class Solution:\n",
    "    memo = {}\n",
    "    def numTrees(self, n):\n",
    "        print(self.memo)\n",
    "        if n == 0 or n == 1:\n",
    "            return 1\n",
    "        Sum = 0\n",
    "        for i in range(1,n+1):\n",
    "            if i in self.memo:\n",
    "                Sum += self.memo[i]\n",
    "            else:\n",
    "                print(i-1,n-i-1)\n",
    "                N = self.numTrees(i-1)*self.numTrees(n-i-1)\n",
    "                Sum += N\n",
    "                self.memo[i] = N\n",
    "        return Sum\n"
   ]
  },
  {
   "cell_type": "code",
   "execution_count": 42,
   "metadata": {},
   "outputs": [
    {
     "name": "stdout",
     "output_type": "stream",
     "text": [
      "{}\n",
      "0 0\n",
      "{}\n",
      "{}\n",
      "1 -1\n",
      "{1: 1}\n",
      "{1: 1}\n"
     ]
    },
    {
     "data": {
      "text/plain": [
       "1"
      ]
     },
     "execution_count": 42,
     "metadata": {},
     "output_type": "execute_result"
    }
   ],
   "source": [
    "sol = Solution()\n",
    "sol.numTrees(2)"
   ]
  },
  {
   "cell_type": "code",
   "execution_count": null,
   "metadata": {},
   "outputs": [],
   "source": []
  }
 ],
 "metadata": {
  "kernelspec": {
   "display_name": "Python 3",
   "language": "python",
   "name": "python3"
  },
  "language_info": {
   "codemirror_mode": {
    "name": "ipython",
    "version": 3
   },
   "file_extension": ".py",
   "mimetype": "text/x-python",
   "name": "python",
   "nbconvert_exporter": "python",
   "pygments_lexer": "ipython3",
   "version": "3.6.4"
  }
 },
 "nbformat": 4,
 "nbformat_minor": 2
}
