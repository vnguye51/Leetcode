{
 "cells": [
  {
   "cell_type": "markdown",
   "metadata": {},
   "source": [
    "## Symmetric Tree\n",
    "\n",
    "Given a binary tree, check whether it is a mirror of itself (ie, symmetric around its center).\n",
    "\n",
    "For example, this binary tree [1,2,2,3,4,4,3] is symmetric: "
   ]
  },
  {
   "cell_type": "markdown",
   "metadata": {},
   "source": [
    "* Store each row of the tree in an array\n",
    "* Check if the reverse of the array is equal to itself\n",
    "* If it is continue to the next row\n"
   ]
  },
  {
   "cell_type": "code",
   "execution_count": 5,
   "metadata": {},
   "outputs": [],
   "source": [
    "class Solution:\n",
    "    def isSymmetric(self, root):\n",
    "        return self.checkRow([root])\n",
    "        \n",
    "    def checkRow(self,roots):\n",
    "        new_roots = []\n",
    "        row_values = []\n",
    "        finish_flag = True\n",
    "        for root in roots:\n",
    "            if root:\n",
    "                finish_flag = False\n",
    "                row_values += [root.val]\n",
    "                new_roots += [root.left,root.right]\n",
    "            else:\n",
    "                row_values += [None]\n",
    "        if row_values == row_values[::-1]:\n",
    "            if finish_flag:\n",
    "                return True\n",
    "            else:\n",
    "                return self.checkRow(new_roots)\n",
    "        else:\n",
    "            return False"
   ]
  }
 ],
 "metadata": {
  "kernelspec": {
   "display_name": "Python 3",
   "language": "python",
   "name": "python3"
  },
  "language_info": {
   "codemirror_mode": {
    "name": "ipython",
    "version": 3
   },
   "file_extension": ".py",
   "mimetype": "text/x-python",
   "name": "python",
   "nbconvert_exporter": "python",
   "pygments_lexer": "ipython3",
   "version": "3.6.4"
  }
 },
 "nbformat": 4,
 "nbformat_minor": 2
}
