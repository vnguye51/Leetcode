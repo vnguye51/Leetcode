{
 "cells": [
  {
   "cell_type": "markdown",
   "metadata": {},
   "source": [
    "## Island Perimeter\n",
    "\n",
    "You are given a map in form of a two-dimensional integer grid where 1 represents land and 0 represents water.\n",
    "\n",
    "Grid cells are connected horizontally/vertically (not diagonally). The grid is completely surrounded by water, and there is exactly one island (i.e., one or more connected land cells).\n",
    "\n",
    "The island doesn't have \"lakes\" (water inside that isn't connected to the water around the island). One cell is a square with side length 1. The grid is rectangular, width and height don't exceed 100. Determine the perimeter of the island.\n",
    "\n",
    "* Solution 1:\n",
    "    * Loop through the entire array\n",
    "    * For each cell check if it is a land tile:\n",
    "        * Then check if there is a water or edge tile in each direction;\n",
    "        * If there is increment the perimeter\n",
    "        "
   ]
  },
  {
   "cell_type": "code",
   "execution_count": 40,
   "metadata": {},
   "outputs": [],
   "source": [
    "import time as time\n",
    "\n",
    "class Solution:\n",
    "    def islandPerimeter(self, grid):\n",
    "        start = time.clock()\n",
    "        P = 0\n",
    "        for i in range(0,len(grid)):\n",
    "            for j in range(0, len(grid[0])):\n",
    "                if grid[i][j] == 1:\n",
    "                    ## Check left\n",
    "                    if i == 0 or grid[i-1][j] == 0:\n",
    "                        P += 1\n",
    "                    ## Check right\n",
    "                    if i == len(grid)-1 or grid[i+1][j] == 0:\n",
    "                        P += 1\n",
    "                    ## Check up\n",
    "                    if j == 0 or grid[i][j-1] == 0:\n",
    "                        P += 1\n",
    "                    if j == len(grid[0])-1 or grid[i][j+1] == 0:\n",
    "                        P += 1\n",
    "        print(time.clock() - start)\n",
    "        return P\n",
    "        "
   ]
  },
  {
   "cell_type": "code",
   "execution_count": 44,
   "metadata": {},
   "outputs": [
    {
     "name": "stdout",
     "output_type": "stream",
     "text": [
      "2.163381577702239e-05\n"
     ]
    },
    {
     "data": {
      "text/plain": [
       "16"
      ]
     },
     "execution_count": 44,
     "metadata": {},
     "output_type": "execute_result"
    }
   ],
   "source": [
    "sol = Solution()\n",
    "sol.islandPerimeter([[0,1,0,0],\n",
    " [1,1,1,0],\n",
    " [0,1,0,0],\n",
    " [1,1,0,0]])"
   ]
  },
  {
   "cell_type": "code",
   "execution_count": 42,
   "metadata": {},
   "outputs": [],
   "source": [
    "class Solution:\n",
    "    def islandPerimeter(self, grid):\n",
    "        start = time.clock()\n",
    "        P = 0\n",
    "        queue = []\n",
    "        for i in range(0,len(grid)):\n",
    "            for j in range(0, len(grid[0])):\n",
    "                if grid[i][j] == 1:\n",
    "                    queue.append([i,j])\n",
    "        memo = {}\n",
    "        while queue:\n",
    "            pos = queue.pop(0)\n",
    "            if (not (pos[0],pos[1]) in memo):\n",
    "                if pos[0] == 0 or grid[pos[0]-1][pos[1]] == 0:\n",
    "                    P += 1\n",
    "                else:\n",
    "                    queue.append([pos[0]-1,pos[1]])\n",
    "\n",
    "                if pos[0] == len(grid)-1 or grid[pos[0]+1][pos[1]] == 0:\n",
    "                    P += 1\n",
    "                else:\n",
    "                    queue.append([pos[0]+1,pos[1]])\n",
    "\n",
    "                if pos[1] == 0 or grid[pos[0]][pos[1]-1] == 0:\n",
    "                    P += 1\n",
    "                else:\n",
    "                    queue.append([pos[0],pos[1]-1])\n",
    "\n",
    "                if pos[1] == len(grid[0])-1 or grid[pos[0]][pos[1]+1] == 0:\n",
    "                    P += 1\n",
    "                else:\n",
    "                    queue.append([pos[0],pos[1]+1])\n",
    "                memo[(pos[0],pos[1])] = 1\n",
    "\n",
    "        return P\n",
    "        "
   ]
  },
  {
   "cell_type": "code",
   "execution_count": 45,
   "metadata": {},
   "outputs": [
    {
     "name": "stdout",
     "output_type": "stream",
     "text": [
      "4.927702491386299e-05\n"
     ]
    },
    {
     "data": {
      "text/plain": [
       "16"
      ]
     },
     "execution_count": 45,
     "metadata": {},
     "output_type": "execute_result"
    }
   ],
   "source": [
    "sol = Solution()\n",
    "sol.islandPerimeter([[0,1,0,0],\n",
    " [1,1,1,0],\n",
    " [0,1,0,0],\n",
    " [1,1,0,0]])"
   ]
  }
 ],
 "metadata": {
  "kernelspec": {
   "display_name": "Python 3",
   "language": "python",
   "name": "python3"
  },
  "language_info": {
   "codemirror_mode": {
    "name": "ipython",
    "version": 3
   },
   "file_extension": ".py",
   "mimetype": "text/x-python",
   "name": "python",
   "nbconvert_exporter": "python",
   "pygments_lexer": "ipython3",
   "version": "3.6.4"
  }
 },
 "nbformat": 4,
 "nbformat_minor": 2
}
