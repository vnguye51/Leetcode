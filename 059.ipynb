{
 "cells": [
  {
   "cell_type": "markdown",
   "metadata": {},
   "source": [
    "## Spiral Matrix II\n",
    "\n",
    "Given a positive integer n, generate a square matrix filled with elements from 1 to n2 in spiral order.\n",
    "\n",
    "* Do this problem in layers starting at the top left\n",
    "    * 0,0 -> 0,1 -> ... -> 0,n\n",
    "    * 0,n -> ... -> n,n\n",
    "    * n,n -> ... -> n,0\n",
    "    * n,0 -> ... -> 1,0\n",
    "* Repeat starting at 1,1 moving to n-1,n-1 and then 2,2 and so on until (n-1)/2"
   ]
  },
  {
   "cell_type": "code",
   "execution_count": 29,
   "metadata": {},
   "outputs": [],
   "source": [
    "def generateMatrix(n):\n",
    "    M = []\n",
    "    for i in range(0,n):\n",
    "        row = []\n",
    "        for j in range(0,n):\n",
    "            row.append([])\n",
    "        M.append(row)  \n",
    "    shift = 0\n",
    "    i = 0\n",
    "    x = 1\n",
    "    while shift <= (n-1)/2:\n",
    "        for j in range(shift,n-shift):\n",
    "            M[i][j] = x\n",
    "            x = x+1\n",
    "        for i in range(shift+1,n-shift):\n",
    "            M[i][j] = x\n",
    "            x = x+1\n",
    "        for j in range(n-2-shift,shift-1,-1):\n",
    "            M[i][j] = x\n",
    "            x = x+1\n",
    "        for i in range(n-2-shift,shift,-1):\n",
    "            M[i][j] = x\n",
    "            x = x+1\n",
    "        shift = shift + 1\n",
    "\n",
    "    return M\n",
    "        \n"
   ]
  },
  {
   "cell_type": "code",
   "execution_count": 30,
   "metadata": {},
   "outputs": [
    {
     "data": {
      "text/plain": [
       "[[1, 2, 3, 4, 5],\n",
       " [16, 17, 18, 19, 6],\n",
       " [15, 24, 25, 20, 7],\n",
       " [14, 23, 22, 21, 8],\n",
       " [13, 12, 11, 10, 9]]"
      ]
     },
     "execution_count": 30,
     "metadata": {},
     "output_type": "execute_result"
    }
   ],
   "source": [
    "generateMatrix(5)"
   ]
  }
 ],
 "metadata": {
  "kernelspec": {
   "display_name": "Python 3",
   "language": "python",
   "name": "python3"
  },
  "language_info": {
   "codemirror_mode": {
    "name": "ipython",
    "version": 3
   },
   "file_extension": ".py",
   "mimetype": "text/x-python",
   "name": "python",
   "nbconvert_exporter": "python",
   "pygments_lexer": "ipython3",
   "version": "3.6.4"
  }
 },
 "nbformat": 4,
 "nbformat_minor": 2
}
