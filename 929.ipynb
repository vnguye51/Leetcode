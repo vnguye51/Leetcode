{
 "cells": [
  {
   "cell_type": "markdown",
   "metadata": {},
   "source": [
    "# Unique Email Addresses\n",
    "\n",
    "Every email consists of a local name and a domain name, separated by the @ sign.\n",
    "\n",
    "For example, in alice@leetcode.com, alice is the local name, and leetcode.com is the domain name.\n",
    "\n",
    "Besides lowercase letters, these emails may contain '.'s or '+'s.\n",
    "\n",
    "If you add periods ('.') between some characters in the local name part of an email address, mail sent there will be forwarded to the same address without dots in the local name.  For example, \"alice.z@leetcode.com\" and \"alicez@leetcode.com\" forward to the same email address.  (Note that this rule does not apply for domain names.)\n",
    "\n",
    "If you add a plus ('+') in the local name, everything after the first plus sign will be ignored. This allows certain emails to be filtered, for example m.y+name@email.com will be forwarded to my@email.com.  (Again, this rule does not apply for domain names.)\n",
    "\n",
    "It is possible to use both of these rules at the same time.\n",
    "\n",
    "Given a list of emails, we send one email to each address in the list.  How many different addresses actually receive mails? \n",
    "\n",
    " \n",
    "\n",
    "    Example 1:\n",
    "\n",
    "    Input: [\"test.email+alex@leetcode.com\",\"test.e.mail+bob.cathy@leetcode.com\",\"testemail+david@lee.tcode.com\"]\n",
    "    Output: 2\n",
    "    Explanation: \"testemail@leetcode.com\" and \"testemail@lee.tcode.com\" actually receive mails\n",
    "\n",
    "\n",
    "\n",
    "    Note:\n",
    "\n",
    "        1 <= emails[i].length <= 100\n",
    "        1 <= emails.length <= 100\n",
    "        Each emails[i] contains exactly one '@' character.\n",
    "\n"
   ]
  },
  {
   "cell_type": "markdown",
   "metadata": {},
   "source": [
    "* dots are ignored except after the @ sign\n",
    "* everything after the plus sign is ignored up until the @\n",
    "* Make everything lowercase"
   ]
  },
  {
   "cell_type": "code",
   "execution_count": 13,
   "metadata": {},
   "outputs": [],
   "source": [
    "class Solution:\n",
    "    def numUniqueEmails(self, emails):\n",
    "        allformatted = []\n",
    "        for mail in emails:\n",
    "            mail = mail.lower()\n",
    "            formatted = ''\n",
    "            plusflag = False\n",
    "            atflag = False\n",
    "            i = 0\n",
    "            while i < len(mail):\n",
    "                c = mail[i]\n",
    "                if atflag == False and plusflag == False:\n",
    "                    if c == '@':\n",
    "                        atflag = True\n",
    "                        formatted += '@'\n",
    "                    elif c == '+':\n",
    "                        plusflag = True\n",
    "                    elif c == '.':\n",
    "                        pass\n",
    "                    else:\n",
    "                        formatted += c\n",
    "                        \n",
    "                elif atflag == False and plusflag == True:\n",
    "                    if c == '@':\n",
    "                        atflag = True\n",
    "                        formatted += '@'\n",
    "                elif atflag == True:\n",
    "                    formatted += c\n",
    "                i += 1\n",
    "            allformatted.append(formatted)\n",
    "        return len(set(allformatted))\n",
    "                \n",
    "                    "
   ]
  },
  {
   "cell_type": "code",
   "execution_count": 14,
   "metadata": {},
   "outputs": [
    {
     "data": {
      "text/plain": [
       "2"
      ]
     },
     "execution_count": 14,
     "metadata": {},
     "output_type": "execute_result"
    }
   ],
   "source": [
    "sol = Solution()\n",
    "sol.numUniqueEmails([\"test.email+alex@leetcode.com\",\"test.e.mail+bob.cathy@leetcode.com\",\"testemail+david@lee.tcode.com\"])"
   ]
  }
 ],
 "metadata": {
  "kernelspec": {
   "display_name": "Python 3",
   "language": "python",
   "name": "python3"
  },
  "language_info": {
   "codemirror_mode": {
    "name": "ipython",
    "version": 3
   },
   "file_extension": ".py",
   "mimetype": "text/x-python",
   "name": "python",
   "nbconvert_exporter": "python",
   "pygments_lexer": "ipython3",
   "version": "3.6.4"
  }
 },
 "nbformat": 4,
 "nbformat_minor": 2
}
