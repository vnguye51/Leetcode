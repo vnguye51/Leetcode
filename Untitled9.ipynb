{
 "cells": [
  {
   "cell_type": "markdown",
   "metadata": {},
   "source": [
    "## All Nodes Distance K"
   ]
  },
  {
   "cell_type": "code",
   "execution_count": null,
   "metadata": {},
   "outputs": [],
   "source": [
    "#recurse through the tree\n",
    "#connect children to parents\n",
    "\n",
    "class Solution:\n",
    "    def createParentRefs(self,root):\n",
    "        if not root:\n",
    "            return\n",
    "        if root.left:\n",
    "            root.left.parent = root\n",
    "        if root.right:\n",
    "            root.right.parent = root\n",
    "        self.createParentRefs(root.left)\n",
    "        self.createParentRefs(root.right)\n",
    "        \n",
    "    def distanceK(self, root, target, K):\n",
    "        self.createParentRefs(root)\n",
    "        nodes = []\n",
    "        queue = [root]\n",
    "        traveled = {}\n",
    "        \n",
    "        while K:\n",
    "            tempqueue = []\n",
    "            for node in queue:\n",
    "                if not root.left in traveled:\n",
    "                    tempqueue.append(root.left)\n",
    "                if not root.right in traveled:\n",
    "                    tempqueue.append(root.right)\n",
    "                if not root.parent in traveled:\n",
    "                    tempqueue.append(root.parent)\n",
    "            queue = tempqueue\n",
    "            K -= 1\n",
    "        return queue"
   ]
  }
 ],
 "metadata": {
  "kernelspec": {
   "display_name": "Python 3",
   "language": "python",
   "name": "python3"
  },
  "language_info": {
   "codemirror_mode": {
    "name": "ipython",
    "version": 3
   },
   "file_extension": ".py",
   "mimetype": "text/x-python",
   "name": "python",
   "nbconvert_exporter": "python",
   "pygments_lexer": "ipython3",
   "version": "3.6.4"
  }
 },
 "nbformat": 4,
 "nbformat_minor": 2
}
