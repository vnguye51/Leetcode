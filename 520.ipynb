{
 "cells": [
  {
   "cell_type": "markdown",
   "metadata": {},
   "source": [
    "## Detect Caoutak\n",
    "\n",
    " \n",
    " Given a word, you need to judge whether the usage of capitals in it is right or not.\n",
    "\n",
    "We define the usage of capitals in a word to be right when one of the following cases holds:\n",
    "\n",
    "    All letters in this word are capitals, like \"USA\".\n",
    "    All letters in this word are not capitals, like \"leetcode\".\n",
    "    Only the first letter in this word is capital if it has more than one letter, like \"Google\".\n",
    "\n",
    "Otherwise, we define that this word doesn't use capitals in a right way. \n",
    "\n",
    "* We loop through the word. If the first letter is capitalized we set a First variable to true\n",
    "* If first is set to true all other letters must be either lowercase or capital.\n",
    "* If none of the letters are capitals we return True"
   ]
  },
  {
   "cell_type": "code",
   "execution_count": 39,
   "metadata": {},
   "outputs": [],
   "source": [
    "def detectCapitalUse(word):\n",
    "    All = True\n",
    "    NONE = True ## excluding the first letter\n",
    "    First = False\n",
    "    \n",
    "    for s in word[1:]:\n",
    "        if not s.isupper(): \n",
    "            All = False\n",
    "        else:\n",
    "            NONE = False\n",
    "            \n",
    "            \n",
    "    if word[0].isupper() == True:\n",
    "        First = True\n",
    "                        \n",
    "    if First == False and NONE == True:\n",
    "        return True\n",
    "        \n",
    "    if First == True and NONE == True:\n",
    "        return True\n",
    "    \n",
    "    if First == True and All == True:\n",
    "        return True\n",
    "    \n",
    "    return False"
   ]
  },
  {
   "cell_type": "code",
   "execution_count": 47,
   "metadata": {},
   "outputs": [
    {
     "data": {
      "text/plain": [
       "False"
      ]
     },
     "execution_count": 47,
     "metadata": {},
     "output_type": "execute_result"
    }
   ],
   "source": [
    "detectCapitalUse(\"AsA\")"
   ]
  }
 ],
 "metadata": {
  "kernelspec": {
   "display_name": "Python 2",
   "language": "python",
   "name": "python2"
  },
  "language_info": {
   "codemirror_mode": {
    "name": "ipython",
    "version": 2
   },
   "file_extension": ".py",
   "mimetype": "text/x-python",
   "name": "python",
   "nbconvert_exporter": "python",
   "pygments_lexer": "ipython2",
   "version": "2.7.14"
  }
 },
 "nbformat": 4,
 "nbformat_minor": 2
}
