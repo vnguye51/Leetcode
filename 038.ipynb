{
 "cells": [
  {
   "cell_type": "markdown",
   "metadata": {},
   "source": [
    "## Count and Say\n",
    "\n",
    "The count-and-say sequence is the sequence of integers with the first five terms as following:\n",
    "\n",
    "1.     1\n",
    "2.     11\n",
    "3.     21\n",
    "4.     1211\n",
    "5.     111221\n",
    "\n",
    "1 is read off as \"one 1\" or 11.\n",
    "11 is read off as \"two 1s\" or 21.\n",
    "21 is read off as \"one 2, then one 1\" or 1211.\n",
    "\n",
    "Given an integer n, generate the nth term of the count-and-say sequence.\n",
    "\n",
    "Note: Each term of the sequence of integers will be represented as a string. \n",
    "\n",
    "* Recursive solution based on previous result\n",
    "* Iterate through the string if a number changes append to the answer string the 'say'"
   ]
  },
  {
   "cell_type": "code",
   "execution_count": 19,
   "metadata": {},
   "outputs": [],
   "source": [
    "def countAndSay( n):\n",
    "    if n == 1:\n",
    "        return 1\n",
    "    else:\n",
    "        S = ''\n",
    "        N = str(countAndSay(n-1))\n",
    "        count = 0\n",
    "        prev = N[0]\n",
    "        for s in N:\n",
    "            if prev == s:\n",
    "                count = count+1\n",
    "            else:\n",
    "                S = S + str(count) + str(prev)\n",
    "                prev = s\n",
    "                count = 1\n",
    "                \n",
    "        S = S + str(count) + str(prev)\n",
    "        \n",
    "        return S"
   ]
  },
  {
   "cell_type": "code",
   "execution_count": 21,
   "metadata": {},
   "outputs": [
    {
     "name": "stdout",
     "output_type": "stream",
     "text": [
      "1\n",
      "11\n",
      "21\n",
      "1211\n",
      "111221\n",
      "312211\n",
      "13112221\n",
      "1113213211\n",
      "31131211131221\n"
     ]
    }
   ],
   "source": [
    "for n in range(1,10):\n",
    "    print(countAndSay(n))"
   ]
  },
  {
   "cell_type": "code",
   "execution_count": 18,
   "metadata": {},
   "outputs": [
    {
     "data": {
      "text/plain": [
       "'11121111'"
      ]
     },
     "execution_count": 18,
     "metadata": {},
     "output_type": "execute_result"
    }
   ],
   "source": [
    "countAndSay(5)"
   ]
  },
  {
   "cell_type": "code",
   "execution_count": null,
   "metadata": {
    "collapsed": true
   },
   "outputs": [],
   "source": []
  }
 ],
 "metadata": {
  "kernelspec": {
   "display_name": "Python 3",
   "language": "python",
   "name": "python3"
  },
  "language_info": {
   "codemirror_mode": {
    "name": "ipython",
    "version": 3
   },
   "file_extension": ".py",
   "mimetype": "text/x-python",
   "name": "python",
   "nbconvert_exporter": "python",
   "pygments_lexer": "ipython3",
   "version": "3.6.4"
  }
 },
 "nbformat": 4,
 "nbformat_minor": 2
}
