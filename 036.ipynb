{
 "cells": [
  {
   "cell_type": "markdown",
   "metadata": {},
   "source": [
    "## Valid Sudoku\n",
    "\n",
    "Determine if a 9x9 Sudoku board is valid. Only the filled cells need to be validated according to the following rules:\n",
    "\n",
    "    Each row must contain the digits 1-9 without repetition.\n",
    "    Each column must contain the digits 1-9 without repetition.\n",
    "    Each of the 9 3x3 sub-boxes of the grid must contain the digits 1-9 without repetition.\n",
    "    \n",
    "* Iterate through each row\n",
    "* Have a list of [1-9] set those values to 0 if a number is found\n",
    "    If a number is already 0 the board is invalid\n",
    "* Have a separate lists for the column, this must be done with nine lists\n",
    "    Which list to access is based on the index i.e. the list2 is acessed with i = 2\n"
   ]
  },
  {
   "cell_type": "code",
   "execution_count": 25,
   "metadata": {},
   "outputs": [],
   "source": [
    "\n",
    "def isValidSudoku( board):\n",
    "    j0 = [n for n in range(0,10)]\n",
    "    i0 = [[n for n in range(0,10)] for m in range(0,9)]\n",
    "    k0 = [[n for n in range(0,10)] for m in range(0,9)]\n",
    "    for i in range(0,9):\n",
    "        for j in range(0,9):\n",
    "            if board[i][j] != \".\":\n",
    "                if j0[int(board[i][j])] != 0:\n",
    "                    j0[int(board[i][j])] = 0\n",
    "                else:\n",
    "                    return False\n",
    "\n",
    "                if i0[j][int(board[i][j])] != 0:\n",
    "                    i0[j][int(board[i][j])] = 0\n",
    "                else:\n",
    "                    return False\n",
    "                \n",
    "                if i < 3:\n",
    "                    if j < 3:\n",
    "                        if k0[0][int(board[i][j])] != 0:\n",
    "                            k0[0][int(board[i][j])] = 0\n",
    "                        else:\n",
    "                            return False\n",
    "                    elif j < 6:\n",
    "                        if k0[1][int(board[i][j])] != 0:\n",
    "                            k0[1][int(board[i][j])] = 0\n",
    "                        else:\n",
    "                            return False\n",
    "                    elif j < 9:\n",
    "                        if k0[2][int(board[i][j])] != 0:\n",
    "                            k0[2][int(board[i][j])] = 0\n",
    "                        else:\n",
    "                            return False\n",
    "                \n",
    "                elif i < 6:\n",
    "\n",
    "                    if j < 3:\n",
    "                        if k0[3][int(board[i][j])] != 0:\n",
    "                            k0[3][int(board[i][j])] = 0\n",
    "                        else:\n",
    "                            return False\n",
    "                    elif j < 6:\n",
    "                        if k0[4][int(board[i][j])] != 0:\n",
    "                            k0[4][int(board[i][j])] = 0\n",
    "                        else:\n",
    "                            return False\n",
    "                    elif j < 9:\n",
    "                        if k0[5][int(board[i][j])] != 0:\n",
    "                            k0[5][int(board[i][j])] = 0\n",
    "                        else:\n",
    "                            return False\n",
    "\n",
    "                elif i < 9:\n",
    "\n",
    "                    if j < 3:\n",
    "                        if k0[6][int(board[i][j])] != 0:\n",
    "                            k0[6][int(board[i][j])] = 0\n",
    "                        else:\n",
    "                            return False\n",
    "                    elif j < 6:\n",
    "                        if k0[7][int(board[i][j])] != 0:\n",
    "                            k0[7][int(board[i][j])] = 0\n",
    "                        else:\n",
    "                            return False\n",
    "                    elif j < 9:\n",
    "                        if k0[8][int(board[i][j])] != 0:\n",
    "                            k0[8][int(board[i][j])] = 0\n",
    "                        else:\n",
    "                            return False\n",
    "        j0 = [n for n in range(0,10)]\n",
    "\n",
    "    return True"
   ]
  },
  {
   "cell_type": "code",
   "execution_count": 26,
   "metadata": {},
   "outputs": [
    {
     "data": {
      "text/plain": [
       "True"
      ]
     },
     "execution_count": 26,
     "metadata": {},
     "output_type": "execute_result"
    }
   ],
   "source": [
    "isValidSudoku([\n",
    "  [\"5\",\"3\",\".\",\".\",\"7\",\".\",\".\",\".\",\".\"],\n",
    "  [\"6\",\".\",\".\",\"1\",\"9\",\"5\",\".\",\".\",\".\"],\n",
    "  [\".\",\"9\",\"8\",\".\",\".\",\".\",\".\",\"6\",\".\"],\n",
    "  [\"8\",\".\",\".\",\".\",\"6\",\".\",\".\",\".\",\"3\"],\n",
    "  [\"4\",\".\",\".\",\"8\",\".\",\"3\",\".\",\".\",\"1\"],\n",
    "  [\"7\",\".\",\".\",\".\",\"2\",\".\",\".\",\".\",\"6\"],\n",
    "  [\".\",\"6\",\".\",\".\",\".\",\".\",\"2\",\"8\",\".\"],\n",
    "  [\".\",\".\",\".\",\"4\",\"1\",\"9\",\".\",\".\",\"5\"],\n",
    "  [\".\",\".\",\".\",\".\",\"8\",\".\",\".\",\"7\",\"9\"]\n",
    "])"
   ]
  },
  {
   "cell_type": "code",
   "execution_count": 27,
   "metadata": {},
   "outputs": [
    {
     "data": {
      "text/plain": [
       "False"
      ]
     },
     "execution_count": 27,
     "metadata": {},
     "output_type": "execute_result"
    }
   ],
   "source": [
    "isValidSudoku([\n",
    "  [\"8\",\"3\",\".\",\".\",\"7\",\".\",\".\",\".\",\".\"],\n",
    "  [\"6\",\".\",\".\",\"1\",\"9\",\"5\",\".\",\".\",\".\"],\n",
    "  [\".\",\"9\",\"8\",\".\",\".\",\".\",\".\",\"6\",\".\"],\n",
    "  [\"8\",\".\",\".\",\".\",\"6\",\".\",\".\",\".\",\"3\"],\n",
    "  [\"4\",\".\",\".\",\"8\",\".\",\"3\",\".\",\".\",\"1\"],\n",
    "  [\"7\",\".\",\".\",\".\",\"2\",\".\",\".\",\".\",\"6\"],\n",
    "  [\".\",\"6\",\".\",\".\",\".\",\".\",\"2\",\"8\",\".\"],\n",
    "  [\".\",\".\",\".\",\"4\",\"1\",\"9\",\".\",\".\",\"5\"],\n",
    "  [\".\",\".\",\".\",\".\",\"8\",\".\",\".\",\"7\",\"9\"]\n",
    "])"
   ]
  },
  {
   "cell_type": "code",
   "execution_count": 28,
   "metadata": {},
   "outputs": [
    {
     "data": {
      "text/plain": [
       "False"
      ]
     },
     "execution_count": 28,
     "metadata": {},
     "output_type": "execute_result"
    }
   ],
   "source": [
    "isValidSudoku([[\".\",\".\",\".\",\".\",\"5\",\".\",\".\",\"1\",\".\"],\n",
    "               [\".\",\"4\",\".\",\"3\",\".\",\".\",\".\",\".\",\".\"],\n",
    "               [\".\",\".\",\".\",\".\",\".\",\"3\",\".\",\".\",\"1\"],\n",
    "               [\"8\",\".\",\".\",\".\",\".\",\".\",\".\",\"2\",\".\"],\n",
    "               [\".\",\".\",\"2\",\".\",\"7\",\".\",\".\",\".\",\".\"],\n",
    "               [\".\",\"1\",\"5\",\".\",\".\",\".\",\".\",\".\",\".\"],\n",
    "               [\".\",\".\",\".\",\".\",\".\",\"2\",\".\",\".\",\".\"],\n",
    "               [\".\",\"2\",\".\",\"9\",\".\",\".\",\".\",\".\",\".\"],\n",
    "               [\".\",\".\",\"4\",\".\",\".\",\".\",\".\",\".\",\".\"]])"
   ]
  },
  {
   "cell_type": "code",
   "execution_count": 29,
   "metadata": {},
   "outputs": [
    {
     "data": {
      "text/plain": [
       "False"
      ]
     },
     "execution_count": 29,
     "metadata": {},
     "output_type": "execute_result"
    }
   ],
   "source": [
    "isValidSudoku([[\".\",\".\",\".\",\".\",\".\",\".\",\"5\",\".\",\".\"],\n",
    "               [\".\",\".\",\".\",\".\",\".\",\".\",\".\",\".\",\".\"],\n",
    "               [\".\",\".\",\".\",\".\",\".\",\".\",\".\",\".\",\".\"],\n",
    "               [\"9\",\"3\",\".\",\".\",\"2\",\".\",\"4\",\".\",\".\"],\n",
    "               [\".\",\".\",\"7\",\".\",\".\",\".\",\"3\",\".\",\".\"],\n",
    "               [\".\",\".\",\".\",\".\",\".\",\".\",\".\",\".\",\".\"],\n",
    "               [\".\",\".\",\".\",\"3\",\"4\",\".\",\".\",\".\",\".\"],\n",
    "               [\".\",\".\",\".\",\".\",\".\",\"3\",\".\",\".\",\".\"],\n",
    "               [\".\",\".\",\".\",\".\",\".\",\"5\",\"2\",\".\",\".\"]])"
   ]
  },
  {
   "cell_type": "code",
   "execution_count": null,
   "metadata": {
    "collapsed": true
   },
   "outputs": [],
   "source": []
  }
 ],
 "metadata": {
  "kernelspec": {
   "display_name": "Python 2",
   "language": "python",
   "name": "python2"
  },
  "language_info": {
   "codemirror_mode": {
    "name": "ipython",
    "version": 2
   },
   "file_extension": ".py",
   "mimetype": "text/x-python",
   "name": "python",
   "nbconvert_exporter": "python",
   "pygments_lexer": "ipython2",
   "version": "2.7.14"
  }
 },
 "nbformat": 4,
 "nbformat_minor": 2
}
