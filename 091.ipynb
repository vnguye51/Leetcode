{
 "cells": [
  {
   "cell_type": "markdown",
   "metadata": {},
   "source": [
    "# Decode Ways\n",
    "\n",
    "A message containing letters from A-Z is being encoded to numbers using the following mapping:\n",
    "\n",
    "    'A' -> 1\n",
    "    'B' -> 2\n",
    "    ...\n",
    "    'Z' -> 26\n",
    "\n",
    "Given a non-empty string containing only digits, determine the total number of ways to decode it.\n",
    "\n",
    "    Example 1:\n",
    "\n",
    "    Input: \"12\"\n",
    "    Output: 2\n",
    "    Explanation: It could be decoded as \"AB\" (1 2) or \"L\" (12).\n",
    "\n",
    "    Example 2:\n",
    "\n",
    "    Input: \"226\"\n",
    "    Output: 3\n",
    "    Explanation: It could be decoded as \"BZ\" (2 26), \"VF\" (22 6), or \"BBF\" (2 2 6).\n",
    "\n"
   ]
  },
  {
   "cell_type": "markdown",
   "metadata": {},
   "source": [
    "* Let's start by trying to build a string and see how many ways there are to decode it\n",
    "* This is a partition problem\n",
    "* In this case we must partition the characters to be at most two spaces away from each other\n",
    "* So let's get a few examples, we'll represent our partitions as 1 for existing and 0 for not\n",
    "\n"
   ]
  },
  {
   "cell_type": "markdown",
   "metadata": {},
   "source": [
    "    If we have \"\" we have no choice, in other words we have 1 possibility\n",
    "    If we have \"2\" we have no choice, in other words we have 1 possibility\n",
    "    If we have \"22\" we have two choices, \"0\" or \"1\" representing \"22,2|2\"\n",
    "    If we have \"222\" we have three choices, \" 11   10   01\" representing \"2|2|2, 2|22, 22|2\"\n",
    "    If we have \"2222\" we have five choices, \"111, 110, 101 011 010\"\n",
    "    \n",
    "* This is the fibonacci sequence. This arises due to the fact that when we add a new number we create a new possible slot for a partition.\n",
    "\n",
    "* The number of possiblities that adding a new slot increases based on the previous two\n",
    "* If the first slot has a partition then the number of ways to arrange the rest of the partitions is the previous entry\n",
    "* If the first slot does not have a partition then the number of ways is the 2nd to last entry"
   ]
  },
  {
   "cell_type": "markdown",
   "metadata": {},
   "source": [
    "    Say we lock the first partition to exist then we have\n",
    "    1----\n",
    "    The four -'s represent the number of ways to put partitions with four slots\n",
    "    Say we lock the first partition to not exist\n",
    "    0----\n",
    "    This means that the 2nd slot MUST have a 1\n",
    "    01---\n",
    "    The three -'s represent the number of ways to put partitions with three slots\n",
    "    \n",
    "* Adding a zero to the front guarantees zero ways to arrange the partitions\n",
    "* If adding a number causes the last two values to be over 26 then there are an equal number "
   ]
  },
  {
   "cell_type": "code",
   "execution_count": 69,
   "metadata": {},
   "outputs": [],
   "source": [
    "class Solution:\n",
    "    def numDecodings(self, s):\n",
    "        arr = [1]\n",
    "        s = s[::-1]\n",
    "        if(int(s[0]) == 0):\n",
    "            arr.append(0)\n",
    "        else:\n",
    "            arr.append(1)\n",
    "        for i in range(1,len(s)):\n",
    "            if(int(s[i]) == 0):\n",
    "                arr.append(0)\n",
    "            elif(int(s[i]+s[i-1]) > 26 ):\n",
    "                arr.append(arr[i])\n",
    "            else:\n",
    "                arr.append(arr[i-1]+arr[i])\n",
    "        return arr[-1]"
   ]
  },
  {
   "cell_type": "code",
   "execution_count": 70,
   "metadata": {},
   "outputs": [
    {
     "name": "stdout",
     "output_type": "stream",
     "text": [
      "8\n",
      "0\n",
      "0\n",
      "1\n"
     ]
    }
   ],
   "source": [
    "sol = Solution()\n",
    "print(sol.numDecodings('22222'))\n",
    "print(sol.numDecodings('01'))\n",
    "print(sol.numDecodings(\"6065812287883668764831544958683283296479682877898293612168136334983851946827579555449329483852397155\"\n",
    "))\n",
    "print(sol.numDecodings('27'))\n"
   ]
  }
 ],
 "metadata": {
  "kernelspec": {
   "display_name": "Python 3",
   "language": "python",
   "name": "python3"
  },
  "language_info": {
   "codemirror_mode": {
    "name": "ipython",
    "version": 3
   },
   "file_extension": ".py",
   "mimetype": "text/x-python",
   "name": "python",
   "nbconvert_exporter": "python",
   "pygments_lexer": "ipython3",
   "version": "3.6.4"
  }
 },
 "nbformat": 4,
 "nbformat_minor": 2
}
