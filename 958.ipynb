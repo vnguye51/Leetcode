{
 "cells": [
  {
   "cell_type": "markdown",
   "metadata": {},
   "source": [
    "## Check Completeness of a Binary Tree\n",
    "\n",
    "Given a binary tree, determine if it is a complete binary tree.\n",
    "\n",
    "Definition of a complete binary tree from Wikipedia:\n",
    "In a complete binary tree every level, except possibly the last, is completely filled, and all nodes in the last level are as far left as possible. It can have between 1 and 2h nodes inclusive at the last level h.\n",
    "\n",
    "* A complete binary tree is filled from left to right, so a BFS seems to be applicable\n",
    "* BST\n",
    "    * Initialize a queue with the root node\n",
    "    * While the queue exists:\n",
    "        * add the left node to the queue, and then the right node\n",
    "            * If there is ever a \"None\" node then raise a flag\n",
    "            * If there are any further nodes\n",
    "                * Return False\n",
    "    * Return True"
   ]
  },
  {
   "cell_type": "code",
   "execution_count": null,
   "metadata": {},
   "outputs": [],
   "source": [
    "# Definition for a binary tree node.\n",
    "# class TreeNode:\n",
    "#     def __init__(self, x):\n",
    "#         self.val = x\n",
    "#         self.left = None\n",
    "#         self.right = None\n",
    "\n",
    "class Solution:\n",
    "    def isCompleteTree(self, root):\n",
    "        queue = [root]\n",
    "        flag = False\n",
    "        while queue:\n",
    "            curr = queue.pop(0)\n",
    "            if curr.left:\n",
    "                if flag == True:\n",
    "                    return False\n",
    "                queue.append(curr.left)\n",
    "            else:\n",
    "                flag = True\n",
    "            if curr.right:\n",
    "                if flag == True:\n",
    "                    return False\n",
    "                queue.append(curr.right)\n",
    "            else:\n",
    "                flag = True\n",
    "            \n",
    "        return \n",
    "            "
   ]
  }
 ],
 "metadata": {
  "kernelspec": {
   "display_name": "Python 3",
   "language": "python",
   "name": "python3"
  },
  "language_info": {
   "codemirror_mode": {
    "name": "ipython",
    "version": 3
   },
   "file_extension": ".py",
   "mimetype": "text/x-python",
   "name": "python",
   "nbconvert_exporter": "python",
   "pygments_lexer": "ipython3",
   "version": "3.6.4"
  }
 },
 "nbformat": 4,
 "nbformat_minor": 2
}
