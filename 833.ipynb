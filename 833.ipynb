{
 "cells": [
  {
   "cell_type": "markdown",
   "metadata": {},
   "source": [
    "## Find And Replace in String\n",
    "\n",
    "To some string S, we will perform some replacement operations that replace groups of letters with new ones (not necessarily the same size).\n",
    "\n",
    "Each replacement operation has 3 parameters: a starting index i, a source word x and a target word y.  The rule is that if x starts at position i in the original string S, then we will replace that occurrence of x with y.  If not, we do nothing.\n",
    "\n",
    "For example, if we have S = \"abcd\" and we have some replacement operation i = 2, x = \"cd\", y = \"ffff\", then because \"cd\" starts at position 2 in the original string S, we will replace it with \"ffff\".\n",
    "\n",
    "Using another example on S = \"abcd\", if we have both the replacement operation i = 0, x = \"ab\", y = \"eee\", as well as another replacement operation i = 2, x = \"ec\", y = \"ffff\", this second operation does nothing because in the original string S[2] = 'c', which doesn't match x[0] = 'e'.\n",
    "\n",
    "All these operations occur simultaneously.  It's guaranteed that there won't be any overlap in replacement: for example, S = \"abc\", indexes = [0, 1], sources = [\"ab\",\"bc\"] is not a valid test case.\n",
    "\n",
    "* Index the string to find the phrase\n",
    "* If the index matches the string then replace cut out the length of the corresponding source"
   ]
  },
  {
   "cell_type": "code",
   "execution_count": 94,
   "metadata": {},
   "outputs": [],
   "source": [
    "def findReplaceString(S, indexes, sources, targets):\n",
    "    ist = list(zip(indexes,sources,targets))\n",
    "    ist.sort()\n",
    "    indexes = [i for i,s,t in ist]\n",
    "    sources = [s for i,s,t in ist]\n",
    "    targets = [t for i,s,t in ist]\n",
    "       \n",
    "    NewS = S\n",
    "    shift = 0\n",
    "    for i in range(0,len(indexes)):\n",
    "        try:\n",
    "            pos = S[indexes[i]:indexes[i]+len(sources[i])].index(sources[i])      \n",
    "            print(indexes[i]+shift,indexes[i]+shift+len(sources[i]))\n",
    "            NewS = NewS[0:indexes[i]+shift] + targets[i] + NewS[indexes[i]+shift+len(sources[i]):]\n",
    "            shift = shift + len(targets[i]) - len(sources[i]) \n",
    "            print(S, NewS,sources[i])\n",
    "        except:\n",
    "            pass\n",
    "        \n",
    "    return NewS\n",
    "    "
   ]
  },
  {
   "cell_type": "code",
   "execution_count": 71,
   "metadata": {},
   "outputs": [
    {
     "name": "stdout",
     "output_type": "stream",
     "text": [
      "abcd eeebcd\n",
      "abcd eeebffff\n"
     ]
    },
    {
     "data": {
      "text/plain": [
       "'eeebffff'"
      ]
     },
     "execution_count": 71,
     "metadata": {},
     "output_type": "execute_result"
    }
   ],
   "source": [
    "findReplaceString('abcd',[0,2],['a','cd'],['eee','ffff'])"
   ]
  },
  {
   "cell_type": "code",
   "execution_count": 72,
   "metadata": {},
   "outputs": [
    {
     "name": "stdout",
     "output_type": "stream",
     "text": [
      "abcd eeecd\n",
      "error\n"
     ]
    },
    {
     "data": {
      "text/plain": [
       "'eeecd'"
      ]
     },
     "execution_count": 72,
     "metadata": {},
     "output_type": "execute_result"
    }
   ],
   "source": [
    "findReplaceString('abcd',[0,2],['ab','ec'],targets = ['eee','ffff'])"
   ]
  },
  {
   "cell_type": "code",
   "execution_count": 95,
   "metadata": {},
   "outputs": [
    {
     "name": "stdout",
     "output_type": "stream",
     "text": [
      "1 3\n",
      "vmokgggqzp vbfrkgggqzp mo\n",
      "4 6\n",
      "vmokgggqzp vbfrsggqzp kg\n",
      "5 8\n",
      "vmokgggqzp vbfrssozp ggq\n"
     ]
    },
    {
     "data": {
      "text/plain": [
       "'vbfrssozp'"
      ]
     },
     "execution_count": 95,
     "metadata": {},
     "output_type": "execute_result"
    }
   ],
   "source": [
    "findReplaceString(\"vmokgggqzp\",\n",
    "[3,5,1],\n",
    "[\"kg\",\"ggq\",\"mo\"],\n",
    "[\"s\",\"so\",\"bfr\"])"
   ]
  },
  {
   "cell_type": "code",
   "execution_count": 51,
   "metadata": {},
   "outputs": [
    {
     "ename": "AttributeError",
     "evalue": "'str' object has no attribute 'pop'",
     "output_type": "error",
     "traceback": [
      "\u001b[1;31m---------------------------------------------------------------------------\u001b[0m",
      "\u001b[1;31mAttributeError\u001b[0m                            Traceback (most recent call last)",
      "\u001b[1;32m<ipython-input-51-56634d1154a9>\u001b[0m in \u001b[0;36m<module>\u001b[1;34m()\u001b[0m\n\u001b[1;32m----> 1\u001b[1;33m \u001b[1;34m\"vbfrssozp\"\u001b[0m\u001b[1;33m.\u001b[0m\u001b[0mpop\u001b[0m\u001b[1;33m(\u001b[0m\u001b[1;36m0\u001b[0m\u001b[1;33m)\u001b[0m\u001b[1;33m\u001b[0m\u001b[0m\n\u001b[0m",
      "\u001b[1;31mAttributeError\u001b[0m: 'str' object has no attribute 'pop'"
     ]
    }
   ],
   "source": [
    "\"vbfrssozp\""
   ]
  },
  {
   "cell_type": "code",
   "execution_count": null,
   "metadata": {},
   "outputs": [],
   "source": [
    "\"vbfrssozp\""
   ]
  }
 ],
 "metadata": {
  "kernelspec": {
   "display_name": "Python 3",
   "language": "python",
   "name": "python3"
  },
  "language_info": {
   "codemirror_mode": {
    "name": "ipython",
    "version": 3
   },
   "file_extension": ".py",
   "mimetype": "text/x-python",
   "name": "python",
   "nbconvert_exporter": "python",
   "pygments_lexer": "ipython3",
   "version": "3.6.4"
  }
 },
 "nbformat": 4,
 "nbformat_minor": 2
}
