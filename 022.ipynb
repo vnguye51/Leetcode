{
 "cells": [
  {
   "cell_type": "markdown",
   "metadata": {},
   "source": [
    "## Generate Parentheses\n",
    "\n",
    "Given n pairs of parentheses, write a function to generate all combinations of well-formed parentheses.\n",
    "\n",
    "For example, given n = 3, a solution set is: \n",
    "\n",
    "* We start by creating all possible combinations using the cartesian product(nested for loops)\n",
    "* We then check for which ones are valid"
   ]
  },
  {
   "cell_type": "code",
   "execution_count": 44,
   "metadata": {
    "collapsed": true
   },
   "outputs": [],
   "source": [
    "from itertools import product\n",
    "\n",
    "def generateParenthesis(n):\n",
    "    Valids = []\n",
    "    iterable = list(product('()',repeat = 2*n))\n",
    "    iterable = [''.join(n) for n in iterable]\n",
    "    for s in iterable:\n",
    "        if isValid(s):\n",
    "            Valids.append(s)\n",
    "    return Valids\n",
    "    \n",
    "\n",
    "def isValid(s):\n",
    "    Counterparts = {')':'('}\n",
    "    Queue = []\n",
    "    for n in s:\n",
    "        if n == '(':\n",
    "            Queue.append(n)\n",
    "        elif n == ')':\n",
    "            if not Queue:\n",
    "                return False\n",
    "            if Queue[-1] == Counterparts.get(n):\n",
    "                Queue.pop(-1)\n",
    "            else:\n",
    "                return False\n",
    "    if Queue:\n",
    "        return False\n",
    "\n",
    "    return True\n"
   ]
  },
  {
   "cell_type": "code",
   "execution_count": 45,
   "metadata": {},
   "outputs": [
    {
     "data": {
      "text/plain": [
       "['(())', '()()']"
      ]
     },
     "execution_count": 45,
     "metadata": {},
     "output_type": "execute_result"
    }
   ],
   "source": [
    "generateParenthesis(2)"
   ]
  }
 ],
 "metadata": {
  "kernelspec": {
   "display_name": "Python 2",
   "language": "python",
   "name": "python2"
  },
  "language_info": {
   "codemirror_mode": {
    "name": "ipython",
    "version": 2
   },
   "file_extension": ".py",
   "mimetype": "text/x-python",
   "name": "python",
   "nbconvert_exporter": "python",
   "pygments_lexer": "ipython2",
   "version": "2.7.14"
  }
 },
 "nbformat": 4,
 "nbformat_minor": 2
}
