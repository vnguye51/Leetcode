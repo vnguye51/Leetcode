{
 "cells": [
  {
   "cell_type": "markdown",
   "metadata": {},
   "source": [
    "## Find Peak Element\n",
    "\n",
    "\n",
    "A peak element is an element that is greater than its neighbors.\n",
    "\n",
    "Given an input array nums, where nums[i] ≠ nums[i+1], find a peak element and return its index.\n",
    "\n",
    "The array may contain multiple peaks, in that case return the index to any one of the peaks is fine.\n",
    "\n",
    "You may imagine that nums[-1] = nums[n] = -∞.\n",
    "\n",
    "\n",
    "    Example 1:\n",
    "\n",
    "    Input: nums = [1,2,3,1]\n",
    "    Output: 2\n",
    "    Explanation: 3 is a peak element and your function should return the index number 2.\n",
    "\n",
    "    Example 2:\n",
    "\n",
    "    Input: nums = [1,2,1,3,5,6,4]\n",
    "    Output: 1 or 5 \n",
    "    Explanation: Your function can return either index number 1 where the peak element is 2, \n",
    "                 or index number 5 where the peak element is 6.\n",
    "                 \n",
    "------\n",
    "#### Approach 1\n",
    "* Loop through the array. the first time the array flips from increasing to decreasing is the peak\n",
    "\n",
    "#### Approach 2 \n",
    "* Binary Search.\n",
    "    * Given that the endpoints of nums are guaranteed low-points we can do this in a binary fashion\n",
    "        * If we look at the midpoint of nums and it is increasing in value we know that there is a guaranteed peak to the right of it\n",
    "        * If it is decreasing in value we know that there is a guaranteed peak to the left\n",
    "        * Knowing this we can cut the array in half each time"
   ]
  },
  {
   "cell_type": "code",
   "execution_count": 1,
   "metadata": {},
   "outputs": [],
   "source": [
    "class Solution:\n",
    "    def findPeakElement(self, nums):\n",
    "        state = \"increasing\"\n",
    "        for i in range(1,len(nums)):\n",
    "            if nums[i] > nums[i-1]:\n",
    "                state = \"increasing\"\n",
    "            elif nums[i] < nums[i-1]:\n",
    "                if state == \"increasing\":\n",
    "                    return i-1\n",
    "                state = \"decreasing\"\n",
    "            else:\n",
    "                state = \"even\"\n",
    "        if state == \"increasing\":\n",
    "            return len(nums)-1"
   ]
  },
  {
   "cell_type": "code",
   "execution_count": 7,
   "metadata": {},
   "outputs": [
    {
     "name": "stdout",
     "output_type": "stream",
     "text": [
      "2\n",
      "1\n",
      "None\n",
      "0\n",
      "5\n"
     ]
    }
   ],
   "source": [
    "sol = Solution()\n",
    "print(sol.findPeakElement([1,2,3,1]))\n",
    "print(sol.findPeakElement([1,2,1,3,5,6,4]))\n",
    "print(sol.findPeakElement([1,1,1,1,1,1]))\n",
    "print(sol.findPeakElement([1,0,1,1,1,1]))\n",
    "print(sol.findPeakElement([1,1,1,1,1,2]))"
   ]
  },
  {
   "cell_type": "code",
   "execution_count": 25,
   "metadata": {},
   "outputs": [],
   "source": [
    "class Solution:\n",
    "    def findPeakElement(self, nums):\n",
    "        i = len(nums)//2-1\n",
    "        j = 0\n",
    "        k = len(nums)-1\n",
    "        while k>j:\n",
    "            print(nums[j:k+1])\n",
    "            if nums[i+1] > nums[i]:\n",
    "                j = i+1\n",
    "            else:\n",
    "                k = i\n",
    "            i = (k+j)//2\n",
    "        return i"
   ]
  },
  {
   "cell_type": "code",
   "execution_count": 27,
   "metadata": {},
   "outputs": [
    {
     "name": "stdout",
     "output_type": "stream",
     "text": [
      "[1, 2, 3, 1]\n",
      "[3, 1]\n",
      "2\n",
      "[1, 2, 1, 3, 5, 6, 4]\n",
      "[3, 5, 6, 4]\n",
      "[6, 4]\n",
      "5\n",
      "[2, 1]\n",
      "0\n",
      "-1\n"
     ]
    }
   ],
   "source": [
    "sol = Solution()\n",
    "print(sol.findPeakElement([1,2,3,1]))\n",
    "print(sol.findPeakElement([1,2,1,3,5,6,4]))\n",
    "print(sol.findPeakElement([2,1]))\n",
    "print(sol.findPeakElement([1]))\n"
   ]
  },
  {
   "cell_type": "code",
   "execution_count": null,
   "metadata": {},
   "outputs": [],
   "source": []
  }
 ],
 "metadata": {
  "kernelspec": {
   "display_name": "Python 3",
   "language": "python",
   "name": "python3"
  },
  "language_info": {
   "codemirror_mode": {
    "name": "ipython",
    "version": 3
   },
   "file_extension": ".py",
   "mimetype": "text/x-python",
   "name": "python",
   "nbconvert_exporter": "python",
   "pygments_lexer": "ipython3",
   "version": "3.6.4"
  }
 },
 "nbformat": 4,
 "nbformat_minor": 2
}
