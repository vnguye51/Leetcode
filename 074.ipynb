{
 "cells": [
  {
   "cell_type": "markdown",
   "metadata": {},
   "source": [
    "## Search a 2D Matrix\n",
    "\n",
    "Write an efficient algorithm that searches for a value in an m x n matrix. This matrix has the following properties:\n",
    "\n",
    "    Integers in each row are sorted from left to right.\n",
    "    The first integer of each row is greater than the last integer of the previous row.\n",
    "\n",
    "    Example 1:\n",
    "\n",
    "    Input:\n",
    "    matrix = [\n",
    "      [1,   3,  5,  7],\n",
    "      [10, 11, 16, 20],\n",
    "      [23, 30, 34, 50]\n",
    "    ]\n",
    "    target = 3\n",
    "    Output: true\n",
    "\n",
    "    Example 2:\n",
    "\n",
    "    Input:\n",
    "    matrix = [\n",
    "      [1,   3,  5,  7],\n",
    "      [10, 11, 16, 20],\n",
    "      [23, 30, 34, 50]\n",
    "    ]\n",
    "    target = 13\n",
    "    Output: false\n",
    "\n"
   ]
  },
  {
   "cell_type": "markdown",
   "metadata": {},
   "source": [
    "* Search a 2D matrix let's try a binary search to find the row the value is in\n",
    "* Let's split in the middle\n",
    "* If the largest value in the above row is too large we repeat the search in that half\n",
    "* If the smallest value in the below row is too small we repeat the search in that half\n",
    "* Once we have the correct row do a simple binary search through that array"
   ]
  },
  {
   "cell_type": "code",
   "execution_count": 56,
   "metadata": {},
   "outputs": [],
   "source": [
    "class Solution:\n",
    "    def searchMatrix(self, matrix, target):\n",
    "        def findRow(matrix,target):\n",
    "            if len(matrix) == 1:\n",
    "                return matrix[0]\n",
    "            N = len(matrix)//2\n",
    "            if(matrix[N-1][-1] == target):\n",
    "                return True\n",
    "            elif(matrix[N-1][-1] >= target):\n",
    "                return findRow(matrix[:N],target)\n",
    "            else:\n",
    "                return findRow(matrix[N:],target)\n",
    "            \n",
    "        def binSearch(arr,target):\n",
    "            if len(arr) == 1:\n",
    "                if(arr[0] == target):\n",
    "                    return True\n",
    "                return False\n",
    "            N = len(arr)//2\n",
    "            if(arr[N-1] == target):\n",
    "                return True\n",
    "            elif(arr[N-1] > target):\n",
    "                return binSearch(arr[:N],target)\n",
    "            else:\n",
    "                return binSearch(arr[N:],target)\n",
    "            \n",
    "        if len(matrix) == 0 or len(matrix[0]) == 0:\n",
    "            return False\n",
    "        Row = findRow(matrix,target)\n",
    "        print(Row)\n",
    "        if Row == True:\n",
    "            return True\n",
    "        else:\n",
    "            return binSearch(Row,target)"
   ]
  },
  {
   "cell_type": "code",
   "execution_count": 58,
   "metadata": {},
   "outputs": [
    {
     "name": "stdout",
     "output_type": "stream",
     "text": [
      "[10, 11, 13, 20]\n",
      "True\n",
      "[10, 13, 16, 20]\n",
      "True\n",
      "[1]\n",
      "True\n"
     ]
    }
   ],
   "source": [
    "sol = Solution()\n",
    "print(sol.searchMatrix([\n",
    "  [1,   3,  5,  7],\n",
    "  [10, 11, 13, 20],\n",
    "  [23, 30, 34, 50]\n",
    "], 13))\n",
    "print(sol.searchMatrix([\n",
    "      [1,   3,  5,  7],\n",
    "      [10, 13, 16, 20],\n",
    "      [23, 30, 34, 50]\n",
    "    ], 13))\n",
    "\n",
    "print(sol.searchMatrix([[1]]\n",
    ", 1))"
   ]
  }
 ],
 "metadata": {
  "kernelspec": {
   "display_name": "Python 3",
   "language": "python",
   "name": "python3"
  },
  "language_info": {
   "codemirror_mode": {
    "name": "ipython",
    "version": 3
   },
   "file_extension": ".py",
   "mimetype": "text/x-python",
   "name": "python",
   "nbconvert_exporter": "python",
   "pygments_lexer": "ipython3",
   "version": "3.6.4"
  }
 },
 "nbformat": 4,
 "nbformat_minor": 2
}
