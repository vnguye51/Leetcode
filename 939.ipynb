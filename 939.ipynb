{
 "cells": [
  {
   "cell_type": "markdown",
   "metadata": {},
   "source": [
    "## Minimum Area Rectangle\n",
    "\n",
    "Given a set of points in the xy-plane, determine the minimum area of a rectangle formed from these points, with sides parallel to the x and y axes.\n",
    "\n",
    "If there isn't any rectangle, return 0.\n",
    "\n",
    "    Example 1:\n",
    "\n",
    "    Input: [[1,1],[1,3],[3,1],[3,3],[2,2]]\n",
    "    Output: 4\n",
    "\n",
    "    Example 2:\n",
    "\n",
    "    Input: [[1,1],[1,3],[3,1],[3,3],[4,1],[4,3]]\n",
    "    Output: 2\n"
   ]
  },
  {
   "cell_type": "markdown",
   "metadata": {},
   "source": [
    "* Let's first determine if it is a rectangle\n",
    "    * A rectangle is defined as four points (x0,y0),(x0,y1),(x1,y0),(x1,y1)\n",
    "    * Given a set of points the smallest rectangle will occur where (x1-x0) * (y1-y0) is minimized\n",
    "    * Take the intersection of those points if they have two in common we have a possible rectangle\n",
    "    * Find the minY difference in that set and then calculate the area of those values"
   ]
  },
  {
   "cell_type": "code",
   "execution_count": 44,
   "metadata": {},
   "outputs": [],
   "source": [
    "class Solution:\n",
    "    def findMinDiff(self, arr): \n",
    "        n = len(arr)\n",
    "        arr.sort()\n",
    "        diff = 10e6\n",
    "\n",
    "        for i in range(n-1): \n",
    "            if arr[i+1] - arr[i] < diff: \n",
    "                diff = arr[i+1] - arr[i] \n",
    "\n",
    "        return diff \n",
    "\n",
    "    def minAreaRect(self, points):\n",
    "        table = {}\n",
    "        points.sort()\n",
    "        for n in points:\n",
    "            if n[0] in table:\n",
    "                table[n[0]].append(n[1])\n",
    "            else:\n",
    "                table[n[0]] = [n[1]]\n",
    "        Min = 10e20\n",
    "        for key1 in table:\n",
    "            for key2 in table:\n",
    "                if key1 < key2:\n",
    "                    I = set(table[key1]).intersection(set(table[key2]))\n",
    "                    if len(I) >= 2:\n",
    "                        minY = self.findMinDiff(list(I))\n",
    "                        Area = minY * (key2-key1)\n",
    "                        if Area < Min:\n",
    "                            Min = Area\n",
    "        if Min == 10e20:\n",
    "            return 0\n",
    "        return Min"
   ]
  },
  {
   "cell_type": "code",
   "execution_count": 45,
   "metadata": {},
   "outputs": [
    {
     "data": {
      "text/plain": [
       "0"
      ]
     },
     "execution_count": 45,
     "metadata": {},
     "output_type": "execute_result"
    }
   ],
   "source": [
    "sol = Solution()\n",
    "sol.minAreaRect([[3,2],[3,1],[4,4],[1,1],[4,3],[0,3],[0,2],[4,0]])"
   ]
  },
  {
   "cell_type": "code",
   "execution_count": null,
   "metadata": {},
   "outputs": [],
   "source": []
  }
 ],
 "metadata": {
  "kernelspec": {
   "display_name": "Python 3",
   "language": "python",
   "name": "python3"
  },
  "language_info": {
   "codemirror_mode": {
    "name": "ipython",
    "version": 3
   },
   "file_extension": ".py",
   "mimetype": "text/x-python",
   "name": "python",
   "nbconvert_exporter": "python",
   "pygments_lexer": "ipython3",
   "version": "3.6.4"
  }
 },
 "nbformat": 4,
 "nbformat_minor": 2
}
