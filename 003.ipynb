{
 "cells": [
  {
   "cell_type": "markdown",
   "metadata": {},
   "source": [
    "## Longest Substring WIthout Repeating Characters\n",
    "\n",
    "Given a string, find the length of the longest substring without repeating characters.\n",
    "\n",
    "Examples:\n",
    "\n",
    "Given \"abcabcbb\", the answer is \"abc\", which the length is 3.\n",
    "\n",
    "Given \"bbbbb\", the answer is \"b\", with the length of 1.\n",
    "\n",
    "Given \"pwwkew\", the answer is \"wke\", with the length of 3. Note that the answer must be a substring, \"pwke\" is a subsequence and not a substring.\n"
   ]
  },
  {
   "cell_type": "markdown",
   "metadata": {},
   "source": [
    "To approach this problem we'll create a moving slice:\n",
    "\n",
    "The slice will slide a 2-length window throughout the array. If we find a unique 2-length substring we'll expand the slice to length 3 by encompassing the next character after the 2-length substring. We continue in this manner increasing the length of the window by 1 as we pass through the string.\n",
    "\n",
    "|aa|bccdabcde\n",
    "\n",
    "a|ab|ccdabcde\n",
    "\n",
    "a|abc|cdabcde\n",
    "\n",
    "aabc|cdab|cde\n",
    "\n",
    "aabc|cdabc|de\n",
    "\n",
    "aabcd|abcde|\n",
    "\n",
    "length = 5"
   ]
  },
  {
   "cell_type": "code",
   "execution_count": 6,
   "metadata": {},
   "outputs": [],
   "source": [
    "\n",
    "def lengthOfLongestSubstring(s):\n",
    "    i = 0\n",
    "    j = 2\n",
    "    while j <= len(s):  \n",
    "        substring = s[i:j]\n",
    "        if len(set(substring)) == len(substring):\n",
    "               j = j+1\n",
    "        else:\n",
    "               i = i+1\n",
    "               j = j+1\n",
    "    return j-i-1"
   ]
  },
  {
   "cell_type": "code",
   "execution_count": 7,
   "metadata": {},
   "outputs": [
    {
     "data": {
      "text/plain": [
       "5"
      ]
     },
     "execution_count": 7,
     "metadata": {},
     "output_type": "execute_result"
    }
   ],
   "source": [
    "lengthOfLongestSubstring(\"aabcdabcde\")"
   ]
  }
 ],
 "metadata": {
  "kernelspec": {
   "display_name": "Python 2",
   "language": "python",
   "name": "python2"
  },
  "language_info": {
   "codemirror_mode": {
    "name": "ipython",
    "version": 2
   },
   "file_extension": ".py",
   "mimetype": "text/x-python",
   "name": "python",
   "nbconvert_exporter": "python",
   "pygments_lexer": "ipython2",
   "version": "2.7.14"
  }
 },
 "nbformat": 4,
 "nbformat_minor": 2
}
