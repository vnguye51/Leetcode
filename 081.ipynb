{
 "cells": [
  {
   "cell_type": "markdown",
   "metadata": {},
   "source": [
    "## Search in Rotated Sorted Array II\n",
    "\n",
    "Suppose an array sorted in ascending order is rotated at some pivot unknown to you beforehand.\n",
    "\n",
    "(i.e., [0,0,1,2,2,5,6] might become [2,5,6,0,0,1,2]).\n",
    "\n",
    "You are given a target value to search. If found in the array return true, otherwise return false.\n",
    "\n",
    "    Example 1:\n",
    "\n",
    "    Input: nums = [2,5,6,0,0,1,2], target = 0\n",
    "    Output: true\n",
    "\n",
    "    Example 2:\n",
    "\n",
    "    Input: nums = [2,5,6,0,0,1,2], target = 3\n",
    "    Output: false\n",
    "\n",
    "    Follow up:\n",
    "\n",
    "        This is a follow up problem to Search in Rotated Sorted Array, where nums may contain duplicates.\n",
    "        Would this affect the run-time complexity? How and why?\n",
    "\n"
   ]
  },
  {
   "cell_type": "markdown",
   "metadata": {},
   "source": [
    "* Start at any value (we'll choose 0)\n",
    "    * Check the value to the right. If its less than our target continue in that direction\n",
    "    * Check the value to the left. If its greater than our target continue in that direction\n",
    "    * If we hit the pivot return False"
   ]
  },
  {
   "cell_type": "code",
   "execution_count": 17,
   "metadata": {},
   "outputs": [],
   "source": [
    "class Solution:\n",
    "    def search(self, nums, target):\n",
    "        checked = 0\n",
    "        i = 0\n",
    "        while checked < len(nums):\n",
    "            if nums[i] == target:\n",
    "                return True\n",
    "            if nums[i] > target:\n",
    "                if nums[i-1] > nums[i]:\n",
    "                    return False\n",
    "                i -= 1\n",
    "            if nums[i] < target:\n",
    "                if i+1 >= len(nums) or nums[i+1] < nums[i]:\n",
    "                    return False\n",
    "                i += 1\n",
    "            checked += 1\n",
    "        return False"
   ]
  },
  {
   "cell_type": "code",
   "execution_count": 18,
   "metadata": {},
   "outputs": [
    {
     "name": "stdout",
     "output_type": "stream",
     "text": [
      "True\n",
      "False\n",
      "False\n",
      "False\n"
     ]
    }
   ],
   "source": [
    "sol = Solution()\n",
    "print(sol.search([2,5,6,0,0,1,2],0))\n",
    "print(sol.search([2,5,6,0,0,1,2],3))\n",
    "print(sol.search([],3))\n",
    "print(sol.search([1],2))"
   ]
  }
 ],
 "metadata": {
  "kernelspec": {
   "display_name": "Python 3",
   "language": "python",
   "name": "python3"
  },
  "language_info": {
   "codemirror_mode": {
    "name": "ipython",
    "version": 3
   },
   "file_extension": ".py",
   "mimetype": "text/x-python",
   "name": "python",
   "nbconvert_exporter": "python",
   "pygments_lexer": "ipython3",
   "version": "3.6.4"
  }
 },
 "nbformat": 4,
 "nbformat_minor": 2
}
