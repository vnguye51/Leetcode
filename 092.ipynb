{
 "cells": [
  {
   "cell_type": "markdown",
   "metadata": {},
   "source": [
    "# Reverse Linked List II\n",
    "\n",
    "Reverse a linked list from position m to n. Do it in one-pass.\n",
    "\n",
    "Note: 1 ≤ m ≤ n ≤ length of list.\n",
    "\n",
    "Example:\n",
    "\n",
    "Input: 1->2->3->4->5->NULL, m = 2, n = 4\n",
    "Output: 1->4->3->2->5->NULL\n",
    "\n"
   ]
  },
  {
   "cell_type": "markdown",
   "metadata": {},
   "source": [
    "* We need to place a ref at index = m\n",
    "* We need a lead and a tail marker \n",
    "    * Once the index is equal to m+1 we start connecting the lead to the tail\n",
    "    * Stop this once the index is equal to n\n",
    "* When we hit the end connect the ref to the last node"
   ]
  },
  {
   "cell_type": "code",
   "execution_count": null,
   "metadata": {},
   "outputs": [],
   "source": [
    "def arrToLinkedList(arr):\n",
    "    head = ListNode(arr[0])\n",
    "    a = ListNode(arr[1])\n",
    "    head.next = a\n",
    "    if(len(arr) > 2):\n",
    "        for n in arr[2:]:\n",
    "            a.next = ListNode(n)\n",
    "            a = a.next\n",
    "    return head\n",
    "\n",
    "def LinkedListToArr(head):\n",
    "    arr = [head.val]\n",
    "    while head.next:\n",
    "        head = head.next\n",
    "        arr.append(head.val)\n",
    "    return arr\n",
    "\n",
    "class Solution:\n",
    "    def reverseBetween(self, head, m, n):\n",
    "        i = 0\n",
    "        reverseref = None\n",
    "        tailref = head\n",
    "        headref = headref.next\n",
    "        while i < m:\n",
    "            tailref = tailref.next\n",
    "            headref = headref.next\n",
    "            i += 1\n",
    "        reverseref = headref\n",
    "        while i < n:\n",
    "            tailref.next = headref.next\n",
    "            headref.next = tailref\n",
    "            headref,tailref = tailref,headref\n"
   ]
  },
  {
   "cell_type": "code",
   "execution_count": null,
   "metadata": {},
   "outputs": [],
   "source": []
  }
 ],
 "metadata": {
  "kernelspec": {
   "display_name": "Python 3",
   "language": "python",
   "name": "python3"
  },
  "language_info": {
   "codemirror_mode": {
    "name": "ipython",
    "version": 3
   },
   "file_extension": ".py",
   "mimetype": "text/x-python",
   "name": "python",
   "nbconvert_exporter": "python",
   "pygments_lexer": "ipython3",
   "version": "3.6.4"
  }
 },
 "nbformat": 4,
 "nbformat_minor": 2
}
