{
 "cells": [
  {
   "cell_type": "markdown",
   "metadata": {},
   "source": [
    "## Permutations II\n",
    "\n",
    "Given a collection of numbers that might contain duplicates, return all possible unique permutations.\n",
    "\n",
    "* Same as previous problem but remove duplicates by performing a second permutation using the indexes of the values\n",
    "    * Too slow\n",
    "* Try a recursion\n",
    "    For every value in the list:\n",
    "        find the permutations of the list excluding that value\n",
    "* To eliminate duplicates create a boolean table to check whether a previous value has been used or not\n",
    "        "
   ]
  },
  {
   "cell_type": "code",
   "execution_count": 64,
   "metadata": {},
   "outputs": [],
   "source": [
    "def permute(nums,result,subresult):\n",
    "    temp = []\n",
    "    Min = min(nums)\n",
    "    checked = [0 for n in range(Min,max(nums)+1)]\n",
    "    \n",
    "    if len(nums) == 1:\n",
    "        result.append(subresult[:]+nums[:])\n",
    "        return\n",
    "    for i,n in enumerate(nums):\n",
    "        if checked[n-Min] == 1:\n",
    "            pass\n",
    "        else:\n",
    "            subresult.append(n)\n",
    "            subarr = nums[0:i]+nums[i+1:]\n",
    "\n",
    "            permute(subarr,result,subresult)\n",
    "            subresult.pop(-1)\n",
    "            checked[n-Min] = 1\n",
    "    return"
   ]
  },
  {
   "cell_type": "code",
   "execution_count": 66,
   "metadata": {},
   "outputs": [
    {
     "name": "stdout",
     "output_type": "stream",
     "text": [
      "[[1, 1, 2], [1, 2, 1], [2, 1, 1]]\n",
      "0.0\n"
     ]
    }
   ],
   "source": [
    "start = time.time()\n",
    "\n",
    "result = []\n",
    "subresult = []\n",
    "\n",
    "permute([1,1,2],result,subresult)\n",
    "#result = list(set(map(tuple,result)))\n",
    "print(result)\n",
    "print(time.time()-start)"
   ]
  }
 ],
 "metadata": {
  "kernelspec": {
   "display_name": "Python 3",
   "language": "python",
   "name": "python3"
  },
  "language_info": {
   "codemirror_mode": {
    "name": "ipython",
    "version": 3
   },
   "file_extension": ".py",
   "mimetype": "text/x-python",
   "name": "python",
   "nbconvert_exporter": "python",
   "pygments_lexer": "ipython3",
   "version": "3.6.4"
  }
 },
 "nbformat": 4,
 "nbformat_minor": 2
}
