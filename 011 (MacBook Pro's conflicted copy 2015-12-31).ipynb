{
 "cells": [
  {
   "cell_type": "markdown",
   "metadata": {},
   "source": [
    "## Container with the most water\n",
    "\n",
    "Given n non-negative integers a1, a2, ..., an, where each represents a point at coordinate (i, ai). n vertical lines are drawn such that the two endpoints of line i is at (i, ai) and (i, 0). Find two lines, which together with x-axis forms a container, such that the container contains the most water.\n",
    "\n",
    "Note: You may not slant the container and n is at least 2. "
   ]
  },
  {
   "cell_type": "markdown",
   "metadata": {},
   "source": [
    "Let's begin by trying to create some kind of flood algorithm.\n",
    "\n",
    "We'll start with this [1,2,4,3]\n",
    "\n",
    "               |\n",
    "           \n",
    "          |    |\n",
    "          \n",
    "          |    |    |\n",
    "     \n",
    "     |    |    |    |\n",
    "     \n",
    "     \n",
    "               |\n",
    "           \n",
    "          |    |\n",
    "          \n",
    "          |    |    |\n",
    "     \n",
    "     | x  | x  |  x |\n",
    "     \n",
    "     \n",
    "               |\n",
    "           \n",
    "          |    |\n",
    "          \n",
    "          | x  |  x |\n",
    "     \n",
    "          | x  |  x |\n",
    "          \n",
    "     \n",
    "               \n",
    "               |\n",
    "           \n",
    "          | x  |\n",
    "          \n",
    "          | x  | \n",
    "     \n",
    "          | x  |  \n",
    "          \n",
    "          \n",
    "                         \n",
    "               |\n",
    "           \n",
    "               |\n",
    "          \n",
    "               | \n",
    "     \n",
    "               |  \n",
    "          \n",
    "           "
   ]
  },
  {
   "cell_type": "code",
   "execution_count": 113,
   "metadata": {},
   "outputs": [],
   "source": [
    "def MaxVolume(N):\n",
    "    Max = 0\n",
    "    V = 1\n",
    "    n = 1\n",
    "    while V != 0 and N:\n",
    "        V = n*(len(N)-1)\n",
    "                    \n",
    "        if V > Max:\n",
    "            Max = V\n",
    "            \n",
    "        if N[0] < n:\n",
    "            N.pop(0)\n",
    "        elif N[-1] < n:\n",
    "            N.pop(-1)\n",
    "\n",
    "        n = n+1\n",
    "    return Max\n",
    "                    "
   ]
  },
  {
   "cell_type": "code",
   "execution_count": 114,
   "metadata": {},
   "outputs": [
    {
     "data": {
      "text/plain": [
       "6"
      ]
     },
     "execution_count": 114,
     "metadata": {},
     "output_type": "execute_result"
    }
   ],
   "source": [
    "V= [1,2,4,3]\n",
    "MaxVolume(V)"
   ]
  },
  {
   "cell_type": "code",
   "execution_count": 16,
   "metadata": {},
   "outputs": [
    {
     "name": "stdout",
     "output_type": "stream",
     "text": [
      "[(3, 1), (5, 6), 0]\n"
     ]
    }
   ],
   "source": [
    "print V[1:]"
   ]
  },
  {
   "cell_type": "code",
   "execution_count": null,
   "metadata": {
    "collapsed": true
   },
   "outputs": [],
   "source": []
  }
 ],
 "metadata": {
  "kernelspec": {
   "display_name": "Python 2",
   "language": "python",
   "name": "python2"
  },
  "language_info": {
   "codemirror_mode": {
    "name": "ipython",
    "version": 2
   },
   "file_extension": ".py",
   "mimetype": "text/x-python",
   "name": "python",
   "nbconvert_exporter": "python",
   "pygments_lexer": "ipython2",
   "version": "2.7.14"
  }
 },
 "nbformat": 4,
 "nbformat_minor": 2
}
