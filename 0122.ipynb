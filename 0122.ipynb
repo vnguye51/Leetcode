{
 "cells": [
  {
   "cell_type": "markdown",
   "metadata": {},
   "source": [
    "## Best Time to Buy and Sell Stock II\n",
    "\n",
    "Say you have an array for which the ith element is the price of a given stock on day i.\n",
    "\n",
    "Design an algorithm to find the maximum profit. You may complete as many transactions as you like (i.e., buy one and sell one share of the stock multiple times).\n",
    "\n",
    "* when values switch from decreasing to increasing buy\n",
    "* when values switch from increasing to decreasing sell\n",
    "* to start: buy if the first two values are increasing, ignore otherwise"
   ]
  },
  {
   "cell_type": "code",
   "execution_count": null,
   "metadata": {},
   "outputs": [],
   "source": [
    "class Solution(object):\n",
    "    def maxProfit(self, prices):\n",
    "        res = 0\n",
    "        held = None\n",
    "        if prices[0] < prices[1]:\n",
    "            held = prices[0]\n",
    "        prices = prices[1:]\n",
    "        for i,n in enumerate(prices[:-1]):\n",
    "            print(held)\n",
    "            if held:\n",
    "                if prices[i] > prices[i+1]:\n",
    "                    res += prices[i] - held\n",
    "                    held = None\n",
    "            else:\n",
    "                if prices[i] < prices[i+1]:\n",
    "                    held = prices[i]\n",
    "        return res"
   ]
  }
 ],
 "metadata": {
  "kernelspec": {
   "display_name": "Python 3",
   "language": "python",
   "name": "python3"
  },
  "language_info": {
   "codemirror_mode": {
    "name": "ipython",
    "version": 3
   },
   "file_extension": ".py",
   "mimetype": "text/x-python",
   "name": "python",
   "nbconvert_exporter": "python",
   "pygments_lexer": "ipython3",
   "version": "3.6.4"
  }
 },
 "nbformat": 4,
 "nbformat_minor": 2
}
