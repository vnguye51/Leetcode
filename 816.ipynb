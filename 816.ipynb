{
 "cells": [
  {
   "cell_type": "markdown",
   "metadata": {},
   "source": [
    "## Ambiguous Coordinates\n",
    "\n",
    "We had some 2-dimensional coordinates, like \"(1, 3)\" or \"(2, 0.5)\".  Then, we removed all commas, decimal points, and spaces, and ended up with the string S.  Return a list of strings representing all possibilities for what our original coordinates could have been.\n",
    "\n",
    "Our original representation never had extraneous zeroes, so we never started with numbers like \"00\", \"0.0\", \"0.00\", \"1.0\", \"001\", \"00.01\", or any other number that can be represented with less digits.  Also, a decimal point within a number never occurs without at least one digit occuring before it, so we never started with numbers like \".1\".\n",
    "\n",
    "The final answer list can be returned in any order.  Also note that all coordinates in the final answer have exactly one space between them (occurring after the comma.)\n",
    "\n",
    "* Let's think about the behavior of each element\n",
    "    * We can put () over the strings at the very end\n",
    "    * , \n",
    "        * There can only be one , and it can never be placed at the 0 index or the final index\n",
    "        * It must be preceded by an integer and is always followed with a space\n",
    "        * The space must always be followed an integer\n",
    "    * .\n",
    "        * Must be followed and preceded by an integer\n",
    "        * Only one is allowed before and after the comma\n",
    "        \n",
    "* Let's start by generating all the possibilities with and without the comma\n",
    "    * We separate the string at any nonzero or nonfinal index\n",
    "* Now for every one of those we place the decimal point in a nonfinal and nonzero index\n",
    "\n",
    "* Remove all invalids based on zeros"
   ]
  },
  {
   "cell_type": "code",
   "execution_count": 81,
   "metadata": {},
   "outputs": [],
   "source": [
    "def ambiguousCoordinates( S):\n",
    "    Possibles = []\n",
    "    S = S[1:-1]\n",
    "    for n in range(1,len(S)):\n",
    "        s = S[:n] + ', ' + S[n:]\n",
    "        Possibles.append(s)\n",
    "    \n",
    "    Temp = []\n",
    "    for n in Possibles:\n",
    "        Temp.append(n.split(', '))\n",
    "    \n",
    "    Possibles = []\n",
    "    for n in Temp:\n",
    "        Temp2 = [n[0]]\n",
    "        Temp3 = [n[1]]\n",
    "        \n",
    "        tempS = n[0]\n",
    "        for c in range(0,len(tempS)+1):\n",
    "            s = tempS[:c] + '.' + tempS[c:]\n",
    "            Temp2.append(s)\n",
    "        \n",
    "        \n",
    "        tempS = n[1]\n",
    "        for c in range(0,len(tempS)+1):\n",
    "            s = tempS[:c] + '.' + tempS[c:]\n",
    "            Temp3.append(s)\n",
    " \n",
    "        Temp2 = [s for s in Temp2 if s[0] != '.' and s[-1] != '.'] \n",
    "        Temp3 = [s for s in Temp3 if s[0] != '.' and s[-1] != '.']\n",
    "\n",
    "        Temp2 = [s for s in Temp2 if s[0] if (s[0] != '0' or (s[0] == '0' and (len(s) > 1 and s[1] == '.')) and float(s) != 0)] \n",
    "        Temp3 = [s for s in Temp3 if s[0] if (s[0] != '0' or (s[0] == '0' and (len(s) > 1 and s[1] == '.')) and float(s) != 0)] \n",
    "        for s2 in Temp2:\n",
    "            for s3 in Temp3:\n",
    "                Possibles.append(s2 + ', ' + s3)\n",
    "\n",
    "    \n",
    "    Possibles = ['(' + s + ')' for s in Possibles]\n",
    "    return Possibles"
   ]
  },
  {
   "cell_type": "code",
   "execution_count": 85,
   "metadata": {},
   "outputs": [
    {
     "data": {
      "text/plain": [
       "[]"
      ]
     },
     "execution_count": 85,
     "metadata": {},
     "output_type": "execute_result"
    }
   ],
   "source": [
    "ambiguousCoordinates(\"(100)\")"
   ]
  },
  {
   "cell_type": "code",
   "execution_count": null,
   "metadata": {
    "collapsed": true
   },
   "outputs": [],
   "source": []
  }
 ],
 "metadata": {
  "kernelspec": {
   "display_name": "Python 2",
   "language": "python",
   "name": "python2"
  },
  "language_info": {
   "codemirror_mode": {
    "name": "ipython",
    "version": 2
   },
   "file_extension": ".py",
   "mimetype": "text/x-python",
   "name": "python",
   "nbconvert_exporter": "python",
   "pygments_lexer": "ipython2",
   "version": "2.7.14"
  }
 },
 "nbformat": 4,
 "nbformat_minor": 2
}
