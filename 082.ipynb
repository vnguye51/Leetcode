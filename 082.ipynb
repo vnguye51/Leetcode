{
 "cells": [
  {
   "cell_type": "markdown",
   "metadata": {},
   "source": [
    "# Remove Duplicates from Sorted Array\n",
    "\n",
    "Given a sorted linked list, delete all nodes that have duplicate numbers, leaving only distinct numbers from the original list.\n",
    "\n",
    "    Example 1:\n",
    "\n",
    "    Input: 1->2->3->3->4->4->5\n",
    "    Output: 1->2->5\n",
    "\n",
    "    Example 2:\n",
    "\n",
    "    Input: 1->1->1->2->3\n",
    "    Output: 2->3\n",
    "\n"
   ]
  },
  {
   "cell_type": "markdown",
   "metadata": {},
   "source": [
    "* Move through the list \n",
    "* Upon finding a new number leave a reference of the previous node\n",
    "* If the new number has no duplicates move the reference to that new number\n",
    "* If it does have a duplicate keep going until you reach one that doesn't and link the two together"
   ]
  },
  {
   "cell_type": "code",
   "execution_count": 135,
   "metadata": {},
   "outputs": [],
   "source": [
    "# Definition for singly-linked list.\n",
    "class ListNode:\n",
    "    def __init__(self, x):\n",
    "        self.val = x\n",
    "        self.next = None\n",
    "\n",
    "class Solution:\n",
    "    def deleteDuplicates(self, head):\n",
    "        if(head == None or head.next == None):\n",
    "            return head\n",
    "        lead = head.next\n",
    "        tail = head\n",
    "        dup_flag = False\n",
    "        start_dup = False\n",
    "        if(lead.val == tail.val):\n",
    "            start_dup = True\n",
    "            dup_flag = True\n",
    "        while lead.next:\n",
    "            if lead.next.val != lead.val:\n",
    "                if dup_flag == False:\n",
    "                    tail.next = lead\n",
    "                    tail = tail.next\n",
    "                dup_flag = False\n",
    "            else:\n",
    "                dup_flag = True\n",
    "            lead = lead.next\n",
    "        if dup_flag == False:\n",
    "            tail.next = lead\n",
    "        else:\n",
    "            tail.next = None\n",
    "        if(start_dup == False):\n",
    "            return head\n",
    "        else:\n",
    "            return head.next"
   ]
  },
  {
   "cell_type": "code",
   "execution_count": 133,
   "metadata": {},
   "outputs": [
    {
     "name": "stdout",
     "output_type": "stream",
     "text": [
      "----------\n",
      "skip first\n",
      "----------\n",
      "skip first\n",
      "[1, 2, 5]\n",
      "[2, 3]\n",
      "[3]\n"
     ]
    }
   ],
   "source": [
    "def arrToLinkedList(arr):\n",
    "    head = ListNode(arr[0])\n",
    "    a = ListNode(arr[1])\n",
    "    head.next = a\n",
    "    if(len(arr) > 2):\n",
    "        for n in arr[2:]:\n",
    "            a.next = ListNode(n)\n",
    "            a = a.next\n",
    "    return head\n",
    "\n",
    "def LinkedListToArr(head):\n",
    "    arr = [head.val]\n",
    "    while head.next:\n",
    "        head = head.next\n",
    "        arr.append(head.val)\n",
    "    return arr\n",
    "\n",
    "\n",
    "\n",
    "\n",
    "test = arrToLinkedList([1,2,3,3,4,4,5])\n",
    "test2 = arrToLinkedList([1,1,1,2,3])\n",
    "test3 = arrToLinkedList([1,1,2,2,2,3])\n",
    "sol = Solution()\n",
    "test = sol.deleteDuplicates(test)\n",
    "print('-'*10)\n",
    "test2 = sol.deleteDuplicates(test2)\n",
    "print('-'*10)\n",
    "test3 = sol.deleteDuplicates(test3)\n",
    "\n",
    "print(LinkedListToArr(test))\n",
    "print(LinkedListToArr(test2))\n",
    "print(LinkedListToArr(test3))"
   ]
  }
 ],
 "metadata": {
  "kernelspec": {
   "display_name": "Python 3",
   "language": "python",
   "name": "python3"
  },
  "language_info": {
   "codemirror_mode": {
    "name": "ipython",
    "version": 3
   },
   "file_extension": ".py",
   "mimetype": "text/x-python",
   "name": "python",
   "nbconvert_exporter": "python",
   "pygments_lexer": "ipython3",
   "version": "3.6.4"
  }
 },
 "nbformat": 4,
 "nbformat_minor": 2
}
