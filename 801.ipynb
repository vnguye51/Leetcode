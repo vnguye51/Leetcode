{
 "cells": [
  {
   "cell_type": "markdown",
   "metadata": {},
   "source": [
    "## Minimum Swaps to Make Sequences Increasing\n",
    "\n",
    "We have two integer sequences A and B of the same non-zero length.\n",
    "\n",
    "We are allowed to swap elements A[i] and B[i].  Note that both elements are in the same index position in their respective sequences.\n",
    "\n",
    "At the end of some number of swaps, A and B are both strictly increasing.  (A sequence is strictly increasing if and only if A[0] < A[1] < A[2] < ... < A[A.length - 1].)\n",
    "\n",
    "Given A and B, return the minimum number of swaps to make both sequences strictly increasing.  It is guaranteed that the given input always makes it possible."
   ]
  },
  {
   "cell_type": "markdown",
   "metadata": {},
   "source": [
    "* Go through one list, check how many elements are out of order\n",
    "* Minimum number of swaps should be the number of elements that are out of order on both of them minus the doublecounts"
   ]
  },
  {
   "cell_type": "code",
   "execution_count": 78,
   "metadata": {},
   "outputs": [],
   "source": [
    "def minSwap(A, B):\n",
    "    A.insert(0,-1)\n",
    "    A.append(1001)\n",
    "    B.insert(0,-1)\n",
    "    B.append(1001)\n",
    "    MisplacedA = []\n",
    "    MisplacedB = []\n",
    "\n",
    "    for i,n in enumerate(A[1:-1]):\n",
    "        if n > A[i] and n < A[i+2]:\n",
    "            pass\n",
    "        if n < A[i] and n < A[i+2]:\n",
    "            MisplacedA.append(i)\n",
    "        if n > A[i] and n > A[i+2]:\n",
    "            MisplacedA.append(i)\n",
    "        if n == A[i]:\n",
    "            MisplacedA.append(i)\n",
    "            MisplacedA.append(i-1)\n",
    "            \n",
    "    for i,n in enumerate(B[1:-1]):\n",
    "        if n > B[i] and n < B[i+2]:\n",
    "            pass\n",
    "        if n < B[i] and n < B[i+2]:\n",
    "            MisplacedB.append(i)\n",
    "        if n > B[i] and n > B[i+2]:\n",
    "            MisplacedB.append(i)\n",
    "        if n == B[i]:\n",
    "            MisplacedB.append(i)\n",
    "            MisplacedB.append(i-1)\n",
    "            \n",
    "    print MisplacedA,MisplacedB\n",
    "    return int(len(set(MisplacedA+MisplacedB))/2)"
   ]
  },
  {
   "cell_type": "code",
   "execution_count": 79,
   "metadata": {},
   "outputs": [
    {
     "name": "stdout",
     "output_type": "stream",
     "text": [
      "[1, 2] [3, 2]\n"
     ]
    },
    {
     "data": {
      "text/plain": [
       "1"
      ]
     },
     "execution_count": 79,
     "metadata": {},
     "output_type": "execute_result"
    }
   ],
   "source": [
    "minSwap([2,3,2,5,6],[0,1,4,4,5])"
   ]
  },
  {
   "cell_type": "code",
   "execution_count": 80,
   "metadata": {},
   "outputs": [
    {
     "name": "stdout",
     "output_type": "stream",
     "text": [
      "[2, 3] []\n"
     ]
    },
    {
     "data": {
      "text/plain": [
       "1"
      ]
     },
     "execution_count": 80,
     "metadata": {},
     "output_type": "execute_result"
    }
   ],
   "source": [
    "minSwap([1,3,5,4],[1,2,3,7])"
   ]
  },
  {
   "cell_type": "code",
   "execution_count": 81,
   "metadata": {},
   "outputs": [
    {
     "name": "stdout",
     "output_type": "stream",
     "text": [
      "[1, 0] [1, 2]\n"
     ]
    },
    {
     "data": {
      "text/plain": [
       "1"
      ]
     },
     "execution_count": 81,
     "metadata": {},
     "output_type": "execute_result"
    }
   ],
   "source": [
    "minSwap([3,3,8,9,10],[1,7,4,6,8])"
   ]
  },
  {
   "cell_type": "code",
   "execution_count": 82,
   "metadata": {},
   "outputs": [
    {
     "name": "stdout",
     "output_type": "stream",
     "text": [
      "[4, 3, 8, 9] [1, 0]\n"
     ]
    },
    {
     "data": {
      "text/plain": [
       "3"
      ]
     },
     "execution_count": 82,
     "metadata": {},
     "output_type": "execute_result"
    }
   ],
   "source": [
    "minSwap([0,7,8,10,10,11,12,13,19,18],[4,4,5,7,11,14,15,16,17,20])"
   ]
  },
  {
   "cell_type": "code",
   "execution_count": null,
   "metadata": {
    "collapsed": true
   },
   "outputs": [],
   "source": []
  }
 ],
 "metadata": {
  "kernelspec": {
   "display_name": "Python 2",
   "language": "python",
   "name": "python2"
  },
  "language_info": {
   "codemirror_mode": {
    "name": "ipython",
    "version": 2
   },
   "file_extension": ".py",
   "mimetype": "text/x-python",
   "name": "python",
   "nbconvert_exporter": "python",
   "pygments_lexer": "ipython2",
   "version": "2.7.14"
  }
 },
 "nbformat": 4,
 "nbformat_minor": 2
}
