{
 "cells": [
  {
   "cell_type": "markdown",
   "metadata": {},
   "source": [
    "## Insert Into a Binary Search Tree\n",
    "\n",
    "Given the root node of a binary search tree (BST) and a value to be inserted into the tree, insert the value into the BST. Return the root node of the BST after the insertion. It is guaranteed that the new value does not exist in the original BST.\n",
    "\n",
    "Note that there may exist multiple valid ways for the insertion, as long as the tree remains a BST after insertion. You can return any of them."
   ]
  },
  {
   "cell_type": "code",
   "execution_count": 57,
   "metadata": {},
   "outputs": [],
   "source": [
    "# Definition for a binary tree node.\n",
    "class TreeNode:\n",
    "    def __init__(self, x):\n",
    "        self.val = x\n",
    "        self.left = None\n",
    "        self.right = None\n",
    "        \n",
    "def create_tree(arr):\n",
    "    root = TreeNode(arr.pop(0))\n",
    "    queue = [root]\n",
    "    while len(arr) > 0:\n",
    "        curr = queue.pop(0)\n",
    "        curr.left = TreeNode(arr.pop(0))\n",
    "        curr.right = TreeNode(arr.pop(0))\n",
    "        queue += [curr.left,curr.right]\n",
    "    return root\n",
    "    \n",
    "def tree_to_array(root):\n",
    "    arr = []\n",
    "    queue = [root]\n",
    "    while len(queue) > 0:\n",
    "        curr = queue.pop(0)\n",
    "        if curr:\n",
    "            arr.append(curr.val)\n",
    "            queue += [curr.left,curr.right]\n",
    "    return arr"
   ]
  },
  {
   "cell_type": "code",
   "execution_count": 58,
   "metadata": {},
   "outputs": [],
   "source": [
    "class Solution:\n",
    "    def insertIntoBST(self, root, val):\n",
    "        if root == None:\n",
    "            root = TreeNode(val)\n",
    "        elif root.val > val:\n",
    "            if root.left:\n",
    "                self.insertIntoBST(root.left,val)\n",
    "            else: \n",
    "                root.left = TreeNode(val)\n",
    "        else:\n",
    "            if root.right:\n",
    "                self.insertIntoBST(root.right,val)\n",
    "            else: \n",
    "                root.right = TreeNode(val)\n",
    "        return root"
   ]
  },
  {
   "cell_type": "code",
   "execution_count": 59,
   "metadata": {},
   "outputs": [
    {
     "data": {
      "text/plain": [
       "[6, 3, 1, 4, 5]"
      ]
     },
     "execution_count": 59,
     "metadata": {},
     "output_type": "execute_result"
    }
   ],
   "source": [
    "a = (create_tree([6,3,1,4,5]))\n",
    "tree_to_array(a)"
   ]
  }
 ],
 "metadata": {
  "kernelspec": {
   "display_name": "Python 3",
   "language": "python",
   "name": "python3"
  },
  "language_info": {
   "codemirror_mode": {
    "name": "ipython",
    "version": 3
   },
   "file_extension": ".py",
   "mimetype": "text/x-python",
   "name": "python",
   "nbconvert_exporter": "python",
   "pygments_lexer": "ipython3",
   "version": "3.6.4"
  }
 },
 "nbformat": 4,
 "nbformat_minor": 2
}
