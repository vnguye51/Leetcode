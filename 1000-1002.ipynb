{
 "cells": [
  {
   "cell_type": "markdown",
   "metadata": {},
   "source": [
    "a: 1 \n",
    "b: 1\n",
    "e: 1\n",
    "l: 2\n",
    "\n",
    "a: 1\n",
    "b: 1\n",
    "e: 1\n",
    "l: 2\n",
    "\n",
    "r: 1 \n",
    "o: 1\n",
    "l: 2\n",
    "e: 1\n",
    "\n",
    "* decompose all of them into counts\n",
    "* For each key in one of them. start decrementing from the others\n",
    "* if each of them in the others are "
   ]
  },
  {
   "cell_type": "code",
   "execution_count": 2,
   "metadata": {},
   "outputs": [],
   "source": [
    "class Solution:\n",
    "    def commonChars(self, A):\n",
    "        counts_list = []\n",
    "        for word in A:\n",
    "            counts = {}\n",
    "            for char in word:\n",
    "                if char in counts:\n",
    "                    counts[char] += 1\n",
    "                else:\n",
    "                    counts[char] = 1\n",
    "            counts_list.append(counts)\n",
    "        \n",
    "        res = []\n",
    "        \n",
    "        for key in list(counts_list[1].keys()):\n",
    "            try:\n",
    "                char_counts = [counts[key] for counts in counts_list]\n",
    "                for n in range(0,min(char_counts)):\n",
    "                    res.append(key)\n",
    "            except:\n",
    "                continue\n",
    "                \n",
    "        return res"
   ]
  },
  {
   "cell_type": "code",
   "execution_count": 3,
   "metadata": {},
   "outputs": [
    {
     "data": {
      "text/plain": [
       "['o', 'c']"
      ]
     },
     "execution_count": 3,
     "metadata": {},
     "output_type": "execute_result"
    }
   ],
   "source": [
    "sol = Solution()\n",
    "sol.commonChars([\"cool\",\"lock\",\"cook\"])"
   ]
  },
  {
   "cell_type": "markdown",
   "metadata": {},
   "source": [
    "* Find the first occurence of \"abc\" \n",
    "* remove it and then repeat the first step\n",
    "* If the string is empty then return true"
   ]
  },
  {
   "cell_type": "code",
   "execution_count": 4,
   "metadata": {},
   "outputs": [],
   "source": [
    "class Solution:\n",
    "    def isValid(self, S):\n",
    "        if not S:\n",
    "            return True\n",
    "        for i in range(0,len(S)-2):\n",
    "            if S[i:i+3] == \"abc\":\n",
    "                return self.isValid(S[0:i]+S[i+3:])\n",
    "        return False    \n",
    "        "
   ]
  },
  {
   "cell_type": "code",
   "execution_count": 9,
   "metadata": {},
   "outputs": [
    {
     "name": "stdout",
     "output_type": "stream",
     "text": [
      "True\n",
      "True\n",
      "True\n",
      "True\n",
      "False\n",
      "False\n",
      "False\n",
      "False\n"
     ]
    }
   ],
   "source": [
    "sol = Solution()\n",
    "print(sol.isValid(\"aabcbc\"))\n",
    "print(sol.isValid(\"abc\"))\n",
    "print(sol.isValid(\"abcabc\"))\n",
    "print(sol.isValid(\"abcabcababcc\"))\n",
    "\n",
    "print(sol.isValid(\"abccba\"))\n",
    "print(sol.isValid(\"ab\"))\n",
    "print(sol.isValid(\"cababc\"))\n",
    "print(sol.isValid(\"bac\"))"
   ]
  },
  {
   "cell_type": "markdown",
   "metadata": {},
   "source": [
    "* start with search space 1\n",
    "\n",
    "* Iterating through the array:\n",
    "    * If its a 1 then:\n",
    "        grow the search space on the right by 1\n",
    "    * If its a 0 and K <= 0\n",
    "        * shrink the search space from the back by 1\n",
    "        * if the dropped number was a 0 increase K by 1\n",
    "    * If its a 0 and K > 0\n",
    "        * grow the search space from the front by 1"
   ]
  },
  {
   "cell_type": "code",
   "execution_count": 109,
   "metadata": {},
   "outputs": [],
   "source": [
    "class Solution:\n",
    "    def longestOnes(self, A, K):\n",
    "        L = 0\n",
    "        j = 0\n",
    "        i = 0\n",
    "        while j < len(A):\n",
    "            j += 1\n",
    "            if A[j-1] == 0:\n",
    "                K -= 1\n",
    "                if K < 0:\n",
    "                    while K < 0:\n",
    "                        if A[i] == 0:\n",
    "                            K += 1\n",
    "                        i += 1\n",
    "                        \n",
    "            if j-i > L:\n",
    "                L = j-i\n",
    "                    \n",
    "        return L\n",
    "        \n",
    "        "
   ]
  },
  {
   "cell_type": "code",
   "execution_count": 110,
   "metadata": {},
   "outputs": [
    {
     "name": "stdout",
     "output_type": "stream",
     "text": [
      "6\n",
      "10\n",
      "7\n"
     ]
    }
   ],
   "source": [
    "sol = Solution()\n",
    "print(sol.longestOnes([1,1,1,0,0,0,1,1,1,1,0],2))\n",
    "print(sol.longestOnes([0,0,1,1,0,0,1,1,1,0,1,1,0,0,0,1,1,1,1], 3))\n",
    "print(sol.longestOnes([1,1,1,1,1,1,1], 3))"
   ]
  },
  {
   "cell_type": "code",
   "execution_count": null,
   "metadata": {},
   "outputs": [],
   "source": []
  },
  {
   "cell_type": "code",
   "execution_count": null,
   "metadata": {},
   "outputs": [],
   "source": []
  }
 ],
 "metadata": {
  "kernelspec": {
   "display_name": "Python 3",
   "language": "python",
   "name": "python3"
  },
  "language_info": {
   "codemirror_mode": {
    "name": "ipython",
    "version": 3
   },
   "file_extension": ".py",
   "mimetype": "text/x-python",
   "name": "python",
   "nbconvert_exporter": "python",
   "pygments_lexer": "ipython3",
   "version": "3.6.4"
  }
 },
 "nbformat": 4,
 "nbformat_minor": 2
}
