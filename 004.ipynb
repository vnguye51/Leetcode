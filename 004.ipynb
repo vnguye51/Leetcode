{
 "cells": [
  {
   "cell_type": "markdown",
   "metadata": {},
   "source": [
    "## Median of Two Sorted Arrays\n",
    "\n",
    "There are two sorted arrays nums1 and nums2 of size m and n respectively.\n",
    "\n",
    "Find the median of the two sorted arrays. The overall run time complexity should be O(log (m+n))."
   ]
  },
  {
   "cell_type": "markdown",
   "metadata": {},
   "source": [
    "We can solve this by either using Pythons built-in sort function or we can perform a simple MergeSort"
   ]
  },
  {
   "cell_type": "code",
   "execution_count": 9,
   "metadata": {
    "collapsed": true
   },
   "outputs": [],
   "source": [
    "import time"
   ]
  },
  {
   "cell_type": "code",
   "execution_count": 29,
   "metadata": {},
   "outputs": [
    {
     "name": "stdout",
     "output_type": "stream",
     "text": [
      "2.0\n",
      "0.000999927520752\n"
     ]
    }
   ],
   "source": [
    "start = time.time()\n",
    "\n",
    "def MedianSorted(nums1,nums2):\n",
    "    c = []\n",
    "    while nums1 and nums2:\n",
    "        if nums1[0] > nums2[0]:\n",
    "            c.append(nums2.pop(0))\n",
    "        else:\n",
    "            c.append(nums1.pop(0))\n",
    "            \n",
    "    if nums1:\n",
    "        c = c+nums1\n",
    "    if nums2:\n",
    "        c = c+nums2\n",
    "        \n",
    "    l = len(c)\n",
    "    if l%2 == 0:\n",
    "        return (c[int(l/2)]+c[int(l/2)-1])/2.\n",
    "    else:\n",
    "        return float(c[int(l/2)])\n",
    "\n",
    "a = [1,3]\n",
    "b = [2]\n",
    "\n",
    "print MedianSorted(a,b)\n",
    "print  ('%.15f')%(time.time()-start)\n",
    "    "
   ]
  }
 ],
 "metadata": {
  "kernelspec": {
   "display_name": "Python 2",
   "language": "python",
   "name": "python2"
  },
  "language_info": {
   "codemirror_mode": {
    "name": "ipython",
    "version": 2
   },
   "file_extension": ".py",
   "mimetype": "text/x-python",
   "name": "python",
   "nbconvert_exporter": "python",
   "pygments_lexer": "ipython2",
   "version": "2.7.14"
  }
 },
 "nbformat": 4,
 "nbformat_minor": 2
}
