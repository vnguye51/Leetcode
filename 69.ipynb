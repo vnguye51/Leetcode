{
 "cells": [
  {
   "cell_type": "markdown",
   "metadata": {},
   "source": [
    "# Sqrt(x)\n",
    "\n",
    "Implement int sqrt(int x).\n",
    "\n",
    "Compute and return the square root of x, where x is guaranteed to be a non-negative integer.\n",
    "\n",
    "Since the return type is an integer, the decimal digits are truncated and only the integer part of the result is returned.\n",
    "\n",
    "* Newton's Method \n",
    "\n",
    "$ x_{n+1} = x_n - \\dfrac{f(x_n)}{f'(x_n)}$, where  $f(x) = x^2 - N$, where we are looking for $\\sqrt{N}$\n",
    "\n",
    "$ {x_{n+1}} = x_n - \\dfrac{({x_{n}}^2 - N)}{2x_n} $"
   ]
  },
  {
   "cell_type": "code",
   "execution_count": 43,
   "metadata": {},
   "outputs": [],
   "source": [
    "def sqrt(x):\n",
    "    x1 = x\n",
    "    x0 = 0\n",
    "    while  int(x0) != int(x1):\n",
    "        x0 = x1\n",
    "        x1 = x0 - (x0**2 - x)/(2*x0)\n",
    "    return int(x1)"
   ]
  },
  {
   "cell_type": "code",
   "execution_count": 48,
   "metadata": {},
   "outputs": [
    {
     "data": {
      "text/plain": [
       "24"
      ]
     },
     "execution_count": 48,
     "metadata": {},
     "output_type": "execute_result"
    }
   ],
   "source": [
    "sqrt(612)"
   ]
  }
 ],
 "metadata": {
  "kernelspec": {
   "display_name": "Python 3",
   "language": "python",
   "name": "python3"
  },
  "language_info": {
   "codemirror_mode": {
    "name": "ipython",
    "version": 3
   },
   "file_extension": ".py",
   "mimetype": "text/x-python",
   "name": "python",
   "nbconvert_exporter": "python",
   "pygments_lexer": "ipython3",
   "version": "3.6.4"
  }
 },
 "nbformat": 4,
 "nbformat_minor": 2
}
