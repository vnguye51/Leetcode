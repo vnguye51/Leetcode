{
 "cells": [
  {
   "cell_type": "markdown",
   "metadata": {},
   "source": [
    "## N-Queens\n",
    "\n",
    "Return all configurations of n-placed queens in an nxn board"
   ]
  },
  {
   "cell_type": "code",
   "execution_count": 1,
   "metadata": {},
   "outputs": [
    {
     "data": {
      "text/plain": [
       "[[['.', 'Q', '.', '.'],\n",
       "  ['.', '.', '.', 'Q'],\n",
       "  ['Q', '.', '.', '.'],\n",
       "  ['.', '.', 'Q', '.']],\n",
       " [['.', '.', 'Q', '.'],\n",
       "  ['Q', '.', '.', '.'],\n",
       "  ['.', '.', '.', 'Q'],\n",
       "  ['.', 'Q', '.', '.']]]"
      ]
     },
     "execution_count": 1,
     "metadata": {},
     "output_type": "execute_result"
    }
   ],
   "source": [
    "def eightQueens(N,i=0,board = None, res = []):\n",
    "    if board == None:\n",
    "        board = [[0 for i in range(0,N)] for j in range(0,N)]\n",
    "    for j in range(0,N):\n",
    "        if board[i][j] == 0:\n",
    "            paintedPoints = placeQueen(i,j,board)\n",
    "            board[i][j] = 2\n",
    "            if i == N-1:\n",
    "                boardcopy = [[\"Q\" if n==2 else \".\" for n in x] for x in board]\n",
    "                res.append(boardcopy)\n",
    "            else:\n",
    "                eightQueens(N,i+1,board,res)\n",
    "            removeQueen(paintedPoints,board)\n",
    "            board[i][j] = 0\n",
    "    return res\n",
    "\n",
    "def placeQueen(i0,j0,board):\n",
    "    i,j=i0+1,j0\n",
    "    paintedPoints = []\n",
    "    while i < len(board):\n",
    "        if board[i][j] == 0:\n",
    "            board[i][j] = 1\n",
    "            paintedPoints.append([i,j])\n",
    "        i+=1\n",
    "    i,j = i0+1,j0+1\n",
    "    while i < len(board) and j < len(board[0]):\n",
    "        if board[i][j] == 0:\n",
    "            board[i][j] = 1\n",
    "            paintedPoints.append([i,j])\n",
    "        i += 1\n",
    "        j += 1\n",
    "    i,j = i0+1,j0-1\n",
    "    while i < len(board) and j >= 0:\n",
    "        if board[i][j] == 0:\n",
    "            board[i][j] = 1\n",
    "            paintedPoints.append([i,j])\n",
    "        i += 1\n",
    "        j -= 1\n",
    "    return paintedPoints\n",
    "\n",
    "def removeQueen(paintedPoints,board):\n",
    "    for n in paintedPoints:\n",
    "        board[n[0]][n[1]] = 0\n",
    "\n",
    "        \n",
    "eightQueens(4)"
   ]
  },
  {
   "cell_type": "code",
   "execution_count": null,
   "metadata": {},
   "outputs": [],
   "source": []
  }
 ],
 "metadata": {
  "kernelspec": {
   "display_name": "Python 3",
   "language": "python",
   "name": "python3"
  },
  "language_info": {
   "codemirror_mode": {
    "name": "ipython",
    "version": 3
   },
   "file_extension": ".py",
   "mimetype": "text/x-python",
   "name": "python",
   "nbconvert_exporter": "python",
   "pygments_lexer": "ipython3",
   "version": "3.6.4"
  }
 },
 "nbformat": 4,
 "nbformat_minor": 2
}
