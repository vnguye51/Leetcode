{
 "cells": [
  {
   "cell_type": "markdown",
   "metadata": {},
   "source": [
    "## Minimum Area Rectangle\n",
    "\n",
    "Given a set of points in the xy-plane, determine the minimum area of any rectangle formed from these points, with sides not necessarily parallel to the x and y axes.\n",
    "\n",
    "If there isn't any rectangle, return 0.\n",
    "\n",
    "* If two sets of points have the same midpoint then they are a possible rectangle\n",
    "* Compute all midpoints and store alongside them the points that created them\n",
    "* find the smallest corresponding area"
   ]
  },
  {
   "cell_type": "code",
   "execution_count": 39,
   "metadata": {},
   "outputs": [],
   "source": [
    "import math\n",
    "class Solution(object):\n",
    "    def distance(self,p1,p2):\n",
    "        return (((p1[0]-p2[0])**2)+(p1[1]-p2[1])**2)**0.5\n",
    "    \n",
    "\n",
    "    def minAreaFreeRect(self, points):\n",
    "        distances = []\n",
    "        MinArea = 10e26\n",
    "        \n",
    "        for i in range(0,len(points)):\n",
    "            for j in range(i+1,len(points)):\n",
    "                distances.append({\n",
    "                    \"distance\":self.distance(points[i],points[j]),\n",
    "                    \"p1\": points[i],\n",
    "                    \"p2\":points[j],\n",
    "                    \"mp\":[(points[i][0]+points[j][0])/2,(points[i][1]+points[j][1])/2]\n",
    "                })\n",
    "                \n",
    "                distances = sorted(distances, key=lambda k: k['distance'])\n",
    "                \n",
    "        for i in range(0,len(distances)):\n",
    "            for j in range(i+1,len(distances)):\n",
    "                p1 = distances[i]\n",
    "                p2 = distances[j]\n",
    "                if math.isclose(p1['distance'],p2['distance']):\n",
    "                    if math.isclose(p1[\"mp\"][0],p2[\"mp\"][0]) and math.isclose(p1[\"mp\"][1],p2[\"mp\"][1]):\n",
    "                        area = self.distance(p1[\"p1\"],p2[\"p1\"])*self.distance(p1[\"p1\"],p2[\"p2\"])\n",
    "                        if area < MinArea:\n",
    "                            MinArea = area\n",
    "        if MinArea == 10e26:\n",
    "            return 0\n",
    "        return(MinArea)"
   ]
  },
  {
   "cell_type": "code",
   "execution_count": 42,
   "metadata": {},
   "outputs": [
    {
     "name": "stdout",
     "output_type": "stream",
     "text": [
      "25221720.0\n"
     ]
    }
   ],
   "source": [
    "sol = Solution()\n",
    "print(sol.minAreaRect([[15986,12951],[20304,3282],[9234,17342],[11114,12927],[12773,3625],[9946,7463],[12055,7615],[11041,8002],[9121,2253],[9195,8449],[17023,6039],[8993,13717],[35793,15473],[13493,11975],[11408,12268],[6637,11705],[10850,17941],[7726,4777],[4976,7672],[22727,537],[23199,15467],[14202,7090],[11658,4532],[16347,5609],[1504,10861],[9254,12816],[21107,10104],[14042,11463],[6679,13191],[13754,10549],[9745,8515],[9566,5328],[5932,6103],[2548,3107],[15210,9106],[1190,14146],[15735,9652],[14253,22467],[5993,17067],[7457,14085],[22248,4770],[9483,1944],[21891,13688],[12100,12847],[9659,15597],[2584,5986],[2238,15284],[18933,11820],[9294,800],[7513,8242]]))\n",
    "# print(sol.minAreaRect([[0,1],[2,1],[1,1],[1,0],[2,0]]))\n",
    "# print(sol.minAreaRect([[3,1],[1,1],[0,1],[2,1],[3,3],[3,2],[0,2],[2,3]]))\n",
    "# print(sol.minAreaRect([[0,3],[1,2],[3,1],[1,3],[2,1]]))\n"
   ]
  },
  {
   "cell_type": "code",
   "execution_count": 34,
   "metadata": {},
   "outputs": [
    {
     "data": {
      "text/plain": [
       "False"
      ]
     },
     "execution_count": 34,
     "metadata": {},
     "output_type": "execute_result"
    }
   ],
   "source": [
    "[1,2] == [2,2]"
   ]
  },
  {
   "cell_type": "code",
   "execution_count": null,
   "metadata": {},
   "outputs": [],
   "source": []
  }
 ],
 "metadata": {
  "kernelspec": {
   "display_name": "Python 3",
   "language": "python",
   "name": "python3"
  },
  "language_info": {
   "codemirror_mode": {
    "name": "ipython",
    "version": 3
   },
   "file_extension": ".py",
   "mimetype": "text/x-python",
   "name": "python",
   "nbconvert_exporter": "python",
   "pygments_lexer": "ipython3",
   "version": "3.6.4"
  }
 },
 "nbformat": 4,
 "nbformat_minor": 2
}
