{
 "cells": [
  {
   "cell_type": "markdown",
   "metadata": {},
   "source": [
    "## Merge Intervals\n",
    "\n",
    "Given a collection of intervals, merge all overlapping intervals.\n",
    "\n",
    "* Sort by their first index\n",
    "* Going from left to right:\n",
    "    * Check if the second index is greater than the first index of the next interval\n",
    "    * If it is, merge the two and repeat the search starting at the new merged index"
   ]
  },
  {
   "cell_type": "code",
   "execution_count": null,
   "metadata": {},
   "outputs": [],
   "source": [
    "# Definition for an interval.\n",
    "# class Interval:\n",
    "#     def __init__(self, s=0, e=0):\n",
    "#         self.start = s\n",
    "#         self.end = e\n",
    "\n",
    "\n",
    "def merge(intervals):\n",
    "    i = 0\n",
    "    intervals = sorted(intervals,key=lambda x: x.start)\n",
    "    while i < len(intervals)-1:\n",
    "        if intervals[i].end >= intervals[i+1].start:\n",
    "            if intervals[i].end > intervals[i+1].end:\n",
    "                pass\n",
    "            else:\n",
    "                intervals[i].end = intervals[i+1].end\n",
    "            intervals.pop(i+1)\n",
    "        else:\n",
    "            i = i+1\n",
    "    return intervals"
   ]
  }
 ],
 "metadata": {
  "kernelspec": {
   "display_name": "Python 3",
   "language": "python",
   "name": "python3"
  },
  "language_info": {
   "codemirror_mode": {
    "name": "ipython",
    "version": 3
   },
   "file_extension": ".py",
   "mimetype": "text/x-python",
   "name": "python",
   "nbconvert_exporter": "python",
   "pygments_lexer": "ipython3",
   "version": "3.6.4"
  }
 },
 "nbformat": 4,
 "nbformat_minor": 2
}
