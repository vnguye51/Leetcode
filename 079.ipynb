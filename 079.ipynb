{
 "cells": [
  {
   "cell_type": "markdown",
   "metadata": {},
   "source": [
    "# Word Search\n",
    "\n",
    "Given a 2D board and a word, find if the word exists in the grid.\n",
    "\n",
    "The word can be constructed from letters of sequentially adjacent cell, where \"adjacent\" cells are those horizontally or vertically neighboring. The same letter cell may not be used more than once.\n",
    "\n",
    "    Example:\n",
    "\n",
    "    board =\n",
    "    [\n",
    "      ['A','B','C','E'],\n",
    "      ['S','F','C','S'],\n",
    "      ['A','D','E','E']\n",
    "    ]\n",
    "\n",
    "    Given word = \"ABCCED\", return true.\n",
    "    Given word = \"SEE\", return true.\n",
    "    Given word = \"ABCB\", return false.\n",
    "\n"
   ]
  },
  {
   "cell_type": "markdown",
   "metadata": {},
   "source": [
    "* Sounds like we need to recursively build our string\n",
    "\n",
    "* Search all slots for the first letter\n",
    "* Check each adjacent tile, if it is move to that slot and add it to our string\n",
    "* Repeat for adjacent slots except the slot you came from"
   ]
  },
  {
   "cell_type": "code",
   "execution_count": 133,
   "metadata": {},
   "outputs": [],
   "source": [
    "class Solution:\n",
    "    def exist(self, board, word):\n",
    "        def checkTile(x,y, target , memo):\n",
    "            if (x < 0 or x >= len(board) or y < 0 or y >= len(board[0])):\n",
    "                return False\n",
    "            if (x,y) in memo:\n",
    "                return False\n",
    "            if board[x][y] == target:\n",
    "                return True\n",
    "            return False\n",
    "            \n",
    "        def checkAndMove(x,y,targetword,memo):\n",
    "            if(len(targetword) == 0):\n",
    "                return True\n",
    "            if checkTile(x+1,y,targetword[0], memo):\n",
    "                newmemo = memo.copy()\n",
    "                newmemo[(x+1,y)] = 1\n",
    "                if(checkAndMove(x+1,y,targetword[1:],newmemo)):\n",
    "                    return True\n",
    "                \n",
    "            if checkTile(x-1,y,targetword[0], memo):\n",
    "                newmemo = memo.copy()\n",
    "                newmemo[(x-1,y)] = 1\n",
    "                if(checkAndMove(x-1,y,targetword[1:],newmemo)):\n",
    "                    return True\n",
    "                \n",
    "            if checkTile(x,y+1,targetword[0], memo):\n",
    "                newmemo = memo.copy()\n",
    "                newmemo[(x,y+1)] = 1\n",
    "                if (checkAndMove(x,y+1,targetword[1:],newmemo)):\n",
    "                    return True\n",
    "                \n",
    "            if checkTile(x,y-1,targetword[0], memo):\n",
    "                newmemo = memo.copy()\n",
    "                newmemo[(x,y-1)] = 1\n",
    "                if (checkAndMove(x,y-1,targetword[1:],newmemo)):\n",
    "                    return True\n",
    "            \n",
    "        if word == '':\n",
    "            return True\n",
    "        \n",
    "        for i in range(0,len(board)):\n",
    "            for j in range(0,len(board[0])):\n",
    "                if checkTile(i,j,word[0],{}):\n",
    "                    if(checkAndMove(i,j,word[1:],{(i,j): 1})):\n",
    "                        return True\n",
    "        return False\n",
    "            "
   ]
  },
  {
   "cell_type": "code",
   "execution_count": 134,
   "metadata": {},
   "outputs": [
    {
     "name": "stdout",
     "output_type": "stream",
     "text": [
      "True\n",
      "True\n",
      "False\n",
      "True\n",
      "False\n",
      "True\n"
     ]
    }
   ],
   "source": [
    "sol = Solution()\n",
    "print(sol.exist(    [\n",
    "      ['A','B','C','E'],\n",
    "      ['S','F','C','S'],\n",
    "      ['A','D','E','E']\n",
    "    ],'ABCCED'))\n",
    "print(sol.exist(    [\n",
    "      ['A','B','C','E'],\n",
    "      ['S','F','C','S'],\n",
    "      ['A','D','E','E']\n",
    "    ],'SEE'))\n",
    "print(sol.exist(    [\n",
    "      ['A','B','C','E'],\n",
    "      ['S','F','C','S'],\n",
    "      ['A','D','E','E']\n",
    "    ],'ABCB'))\n",
    "print(sol.exist(    [\n",
    "    []\n",
    "    ],''))\n",
    "\n",
    "print(sol.exist(    [\n",
    "    ['a','a']\n",
    "    ],'aaa'))\n",
    "\n",
    "print(sol.exist([[\"C\",\"A\",\"A\"],\n",
    "                 [\"A\",\"A\",\"A\"],\n",
    "                 [\"B\",\"C\",\"D\"]],\"AAB\"))"
   ]
  }
 ],
 "metadata": {
  "kernelspec": {
   "display_name": "Python 3",
   "language": "python",
   "name": "python3"
  },
  "language_info": {
   "codemirror_mode": {
    "name": "ipython",
    "version": 3
   },
   "file_extension": ".py",
   "mimetype": "text/x-python",
   "name": "python",
   "nbconvert_exporter": "python",
   "pygments_lexer": "ipython3",
   "version": "3.6.4"
  }
 },
 "nbformat": 4,
 "nbformat_minor": 2
}
