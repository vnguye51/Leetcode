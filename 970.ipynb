{
 "cells": [
  {
   "cell_type": "markdown",
   "metadata": {},
   "source": [
    "## Powerful Integers\n",
    "\n",
    "Given two non-negative integers x and y, an integer is powerful if it is equal to x^i + y^j for some integers i >= 0 and j >= 0.\n",
    "\n",
    "Return a list of all powerful integers that have value less than or equal to bound.\n",
    "\n",
    "You may return the answer in any order.  In your answer, each value should occur at most once.\n",
    "\n",
    "    Example 1:\n",
    "\n",
    "    Input: x = 2, y = 3, bound = 10\n",
    "    Output: [2,3,4,5,7,9,10]\n",
    "    Explanation: \n",
    "    2 = 2^0 + 3^0\n",
    "    3 = 2^1 + 3^0\n",
    "    4 = 2^0 + 3^1\n",
    "    5 = 2^1 + 3^1\n",
    "    7 = 2^2 + 3^1\n",
    "    9 = 2^3 + 3^0\n",
    "    10 = 2^0 + 3^2\n",
    "\n",
    "\n",
    "* Let's try a brute force\n",
    "    * To start initialize i,j = 0\n",
    "    * While the sum of x^i + y^j < bound \n",
    "        * Increase j and record every value\n",
    "        * When it is greater than bound reset j to 0 and increment i\n",
    "        * If the sum is greater than the bound and y = 0 break the loop\n",
    "       "
   ]
  },
  {
   "cell_type": "code",
   "execution_count": 22,
   "metadata": {},
   "outputs": [],
   "source": [
    "class Solution:\n",
    "    def powerfulIntegers(self, x, y, bound):\n",
    "        res = set()\n",
    "        i = 0\n",
    "        j = 0\n",
    "        if x == 1 and y == 1:\n",
    "            if x**i + y**j <= bound:\n",
    "                res.add(x**i + y**j)\n",
    "        elif x == 1:\n",
    "            while x**i + y**j <= bound:\n",
    "                res.add(x**i + y**j)\n",
    "                j += 1\n",
    "        elif y == 1:\n",
    "            while x**i + y**j <= bound:\n",
    "                res.add(x**i + y**j)\n",
    "                i += 1\n",
    "        else:\n",
    "            while x**i <= bound:\n",
    "                while x**i + y**j <= bound:\n",
    "                    res.add(x**i + y**j)\n",
    "                    j += 1\n",
    "                i += 1\n",
    "                j = 0\n",
    "        return list(res)"
   ]
  },
  {
   "cell_type": "code",
   "execution_count": 23,
   "metadata": {},
   "outputs": [
    {
     "data": {
      "text/plain": [
       "[33, 2, 3, 65, 5, 9, 17]"
      ]
     },
     "execution_count": 23,
     "metadata": {},
     "output_type": "execute_result"
    }
   ],
   "source": [
    "sol = Solution()\n",
    "sol.powerfulIntegers(1,2,100)"
   ]
  }
 ],
 "metadata": {
  "kernelspec": {
   "display_name": "Python 3",
   "language": "python",
   "name": "python3"
  },
  "language_info": {
   "codemirror_mode": {
    "name": "ipython",
    "version": 3
   },
   "file_extension": ".py",
   "mimetype": "text/x-python",
   "name": "python",
   "nbconvert_exporter": "python",
   "pygments_lexer": "ipython3",
   "version": "3.6.4"
  }
 },
 "nbformat": 4,
 "nbformat_minor": 2
}
