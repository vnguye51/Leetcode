{
 "cells": [
  {
   "cell_type": "markdown",
   "metadata": {},
   "source": [
    "# Merge Sort\n",
    "\n",
    "## Key Facts\n",
    "* Merge sort is based on the idea of merging two pre-sorted arrays together\n",
    "* An array of length 1 is already sorted\n",
    "* Given two sorted arrays filter them into a third array based on the smaller value at index 0 of both arrays\n",
    "\n",
    "## Steps\n",
    "* Break the array into an array of arrays(of size 1)\n",
    "* Loop through the array of arrays skipping every 2nd value and merge the two together\n",
    "* Keep doing this until you are left with 1 array"
   ]
  },
  {
   "cell_type": "code",
   "execution_count": 3,
   "metadata": {},
   "outputs": [],
   "source": [
    "from random import randint\n",
    "\n",
    "def merge_sort(arr):\n",
    "    newarr = []\n",
    "    for n in arr:\n",
    "        newarr.append([n])\n",
    "    while len(newarr) > 1:\n",
    "        temparr = []\n",
    "        for i in range(0,len(newarr)-1,2):\n",
    "            temparr.append(merge_sorted_arrays(newarr[i],newarr[i+1]))\n",
    "        if len(newarr)%2 == 1:\n",
    "            temparr.append(newarr[-1])\n",
    "        newarr = temparr\n",
    "    return newarr[0]\n",
    "        \n",
    "def merge_sorted_arrays(arr1,arr2):\n",
    "    newarr = []\n",
    "    while arr1 and arr2:\n",
    "        if arr1[0] < arr2[0]:\n",
    "            newarr.append(arr1.pop(0))\n",
    "        else:\n",
    "            newarr.append(arr2.pop(0))\n",
    "    if arr1:\n",
    "        newarr += arr1\n",
    "    if arr2: \n",
    "        newarr += arr2\n",
    "    return newarr\n"
   ]
  },
  {
   "cell_type": "code",
   "execution_count": 4,
   "metadata": {},
   "outputs": [
    {
     "name": "stdout",
     "output_type": "stream",
     "text": [
      "[6, 6, 8, 9, 9, 11, 13, 13, 13, 14, 15, 16, 18, 19, 20, 20, 21, 22, 24, 25, 25, 26, 26, 26, 27, 29, 31, 32, 34, 35, 36, 36, 37, 37, 38, 38, 39, 41, 42, 43, 44, 44, 45, 45, 45, 47, 48, 50, 51, 51, 52, 53, 54, 61, 61, 63, 65, 66, 67, 71, 73, 73, 76, 76, 77, 79, 79, 79, 80, 80, 80, 81, 81, 81, 81, 82, 82, 82, 84, 85, 85, 86, 87, 88, 89, 89, 91, 91, 92, 92, 93, 93, 94, 94, 97, 98, 99, 99, 100, 100, 100]\n",
      "[6, 6, 8, 9, 9, 11, 13, 13, 13, 14, 15, 16, 18, 19, 20, 20, 21, 22, 24, 25, 25, 26, 26, 26, 27, 29, 31, 32, 34, 35, 36, 36, 37, 37, 38, 38, 39, 41, 42, 43, 44, 44, 45, 45, 45, 47, 48, 50, 51, 51, 52, 53, 54, 61, 61, 63, 65, 66, 67, 71, 73, 73, 76, 76, 77, 79, 79, 79, 80, 80, 80, 81, 81, 81, 81, 82, 82, 82, 84, 85, 85, 86, 87, 88, 89, 89, 91, 91, 92, 92, 93, 93, 94, 94, 97, 98, 99, 99, 100, 100, 100]\n"
     ]
    }
   ],
   "source": [
    "randarray = [randint(1,100) for n in range(101)]\n",
    "print(merge_sort(randarray))\n",
    "print(sorted(randarray))"
   ]
  },
  {
   "cell_type": "markdown",
   "metadata": {},
   "source": [
    "## Insertion Sort\n",
    "\n",
    "### Key Facts\n",
    "* Is based on inserting an element one at a time by scanning left to right through the entire array\n",
    "* Taking the first non sorted element scan through the sorted elements left to right until you come across the first element that is larger than it and insert it prior to that\n",
    "### Steps\n",
    "* Grab the first unsorted value\n",
    "* Scan through the sorted array(there is none at the start)\n",
    "* If you find an element larger then the chosen value or the end of the array is reached\n",
    "    * Stop the loop and insert it there\n",
    "* Repeat until there are no unsorted elements\n",
    "\n",
    "* If being done in place the left side of the arr will be the sorted elements so keep track of the number of sorted elements"
   ]
  },
  {
   "cell_type": "code",
   "execution_count": 5,
   "metadata": {},
   "outputs": [],
   "source": [
    "def insertSort(arr):\n",
    "    i = 0\n",
    "    while i < len(arr):\n",
    "        val = arr.pop(i)\n",
    "        flag = False\n",
    "        for j in range(0,i):\n",
    "            if arr[j] > val:\n",
    "                arr.insert(j,val)\n",
    "                flag = True\n",
    "                break\n",
    "        if flag == False:\n",
    "            arr.insert(i,val)\n",
    "        i+=1\n",
    "    return arr"
   ]
  },
  {
   "cell_type": "code",
   "execution_count": 6,
   "metadata": {},
   "outputs": [
    {
     "name": "stdout",
     "output_type": "stream",
     "text": [
      "[1, 1, 1, 1, 3, 6, 6, 7, 8, 9, 10, 10, 11, 13, 14, 15, 20, 22, 22, 22, 23, 24, 26, 29, 30, 30, 31, 33, 33, 35, 36, 36, 37, 38, 38, 38, 41, 42, 43, 43, 44, 45, 45, 47, 47, 50, 53, 53, 55, 55, 57, 59, 59, 59, 60, 61, 61, 61, 63, 64, 66, 67, 67, 67, 69, 69, 69, 69, 70, 71, 73, 73, 73, 76, 77, 78, 78, 79, 79, 80, 81, 84, 84, 85, 86, 87, 89, 89, 90, 92, 92, 93, 93, 94, 94, 94, 96, 96, 100, 100, 100]\n",
      "[1, 1, 1, 1, 3, 6, 6, 7, 8, 9, 10, 10, 11, 13, 14, 15, 20, 22, 22, 22, 23, 24, 26, 29, 30, 30, 31, 33, 33, 35, 36, 36, 37, 38, 38, 38, 41, 42, 43, 43, 44, 45, 45, 47, 47, 50, 53, 53, 55, 55, 57, 59, 59, 59, 60, 61, 61, 61, 63, 64, 66, 67, 67, 67, 69, 69, 69, 69, 70, 71, 73, 73, 73, 76, 77, 78, 78, 79, 79, 80, 81, 84, 84, 85, 86, 87, 89, 89, 90, 92, 92, 93, 93, 94, 94, 94, 96, 96, 100, 100, 100]\n"
     ]
    }
   ],
   "source": [
    "randarray = [randint(1,100) for n in range(101)]\n",
    "print(insertSort(randarray))\n",
    "print(sorted(randarray))"
   ]
  },
  {
   "cell_type": "markdown",
   "metadata": {},
   "source": [
    "## Bubble Sort\n",
    "\n",
    "### Key Facts\n",
    "* Based on a moving window that swaps values into the correct order, window keeps passing through until every element is ordered\n",
    "* Every pass will lock one number into the correct place at the very end\n",
    "\n",
    "### Steps\n",
    "* Keep track of how many passes have been made\n",
    "* Create a flag that checks if a swap has been made\n",
    "* If a swap is made then that means the loop should keep going\n"
   ]
  },
  {
   "cell_type": "code",
   "execution_count": 14,
   "metadata": {},
   "outputs": [],
   "source": [
    "def bubble_sort(arr,swapped=False):\n",
    "    for i in range(0,len(arr)-1):\n",
    "        if arr[i] > arr[i+1]:\n",
    "            arr[i],arr[i+1] = arr[i+1],arr[i]\n",
    "            swapped = True\n",
    "\n",
    "    if not swapped:\n",
    "        return arr\n",
    "    else:\n",
    "        return bubble_sort(arr)"
   ]
  },
  {
   "cell_type": "code",
   "execution_count": 15,
   "metadata": {},
   "outputs": [
    {
     "name": "stdout",
     "output_type": "stream",
     "text": [
      "[1, 4, 4, 6, 7, 8, 9, 10, 11, 11, 12, 12, 14, 14, 14, 15, 17, 17, 17, 18, 19, 20, 20, 22, 22, 28, 29, 30, 30, 30, 31, 32, 33, 36, 41, 41, 42, 43, 43, 44, 46, 47, 48, 50, 50, 53, 56, 56, 58, 58, 58, 59, 61, 61, 61, 63, 63, 63, 66, 67, 69, 69, 69, 70, 73, 73, 74, 75, 77, 77, 79, 84, 85, 85, 85, 85, 86, 87, 87, 88, 90, 90, 90, 91, 91, 92, 93, 93, 94, 94, 96, 96, 97, 97, 98, 98, 99, 99, 99, 100, 100]\n",
      "[1, 4, 4, 6, 7, 8, 9, 10, 11, 11, 12, 12, 14, 14, 14, 15, 17, 17, 17, 18, 19, 20, 20, 22, 22, 28, 29, 30, 30, 30, 31, 32, 33, 36, 41, 41, 42, 43, 43, 44, 46, 47, 48, 50, 50, 53, 56, 56, 58, 58, 58, 59, 61, 61, 61, 63, 63, 63, 66, 67, 69, 69, 69, 70, 73, 73, 74, 75, 77, 77, 79, 84, 85, 85, 85, 85, 86, 87, 87, 88, 90, 90, 90, 91, 91, 92, 93, 93, 94, 94, 96, 96, 97, 97, 98, 98, 99, 99, 99, 100, 100]\n"
     ]
    }
   ],
   "source": [
    "randarray = [randint(1,100) for n in range(101)]\n",
    "print(bubble_sort(randarray))\n",
    "print(sorted(randarray))"
   ]
  },
  {
   "cell_type": "markdown",
   "metadata": {},
   "source": [
    "## Quick Sort\n",
    "\n",
    "### Key Facts\n",
    "* Based on partitions\n",
    "* Based on the idea that if you choose a value and throw all the values lower than it to the left and all the values higher than it to the right then that value is in its correct location\n",
    "* Once that happens you have two partitions(left and right) \n",
    "* You can repeat that process for those partitions and when the partition lengths are 1 then the sort is complete\n",
    "\n",
    "### Steps\n",
    "* Choose a random number in the array(j)\n",
    "* i will be the left partition\n",
    "* j will be the right partition\n",
    "* At the start i=0,j=random(0,len(arr)),k= len(arr)-1\n",
    "* Swap values until i"
   ]
  },
  {
   "cell_type": "code",
   "execution_count": 65,
   "metadata": {},
   "outputs": [],
   "source": [
    "def quick_sort(arr):\n",
    "    if len(arr) <= 1:\n",
    "        return arr\n",
    "    curr_index = randint(0,len(arr)-1)\n",
    "    leftarr = []\n",
    "    rightarr = []\n",
    "    for i in range(0,len(arr)):\n",
    "        if i != curr_index:\n",
    "            if arr[i] < arr[curr_index]:\n",
    "                leftarr.append(arr[i])\n",
    "            else:\n",
    "                rightarr.append(arr[i])\n",
    "    return quick_sort(leftarr) + [arr[curr_index]] + quick_sort(rightarr)\n",
    "        \n",
    "    "
   ]
  },
  {
   "cell_type": "code",
   "execution_count": 66,
   "metadata": {},
   "outputs": [
    {
     "name": "stdout",
     "output_type": "stream",
     "text": [
      "[3, 4, 7, 7, 7, 8, 10, 11, 13, 13, 14, 14, 15, 16, 16, 17, 17, 19, 20, 23, 23, 25, 26, 27, 27, 28, 28, 31, 32, 32, 33, 34, 35, 35, 36, 36, 37, 37, 37, 38, 38, 38, 39, 39, 40, 41, 42, 43, 43, 43, 45, 47, 49, 50, 50, 53, 54, 55, 55, 55, 58, 60, 60, 61, 63, 65, 66, 66, 66, 67, 69, 69, 72, 73, 74, 74, 75, 77, 78, 78, 79, 80, 81, 85, 85, 86, 87, 88, 88, 91, 91, 91, 91, 92, 93, 93, 94, 98, 98, 99]\n",
      "[3, 4, 7, 7, 7, 8, 10, 11, 13, 13, 14, 14, 15, 16, 16, 17, 17, 19, 20, 23, 23, 25, 26, 27, 27, 28, 28, 31, 32, 32, 33, 34, 35, 35, 36, 36, 37, 37, 37, 38, 38, 38, 39, 39, 40, 41, 42, 43, 43, 43, 45, 47, 49, 50, 50, 53, 54, 55, 55, 55, 58, 60, 60, 61, 63, 65, 66, 66, 66, 67, 69, 69, 72, 73, 74, 74, 75, 77, 78, 78, 79, 80, 81, 85, 85, 86, 87, 88, 88, 91, 91, 91, 91, 92, 93, 93, 94, 98, 98, 99]\n"
     ]
    }
   ],
   "source": [
    "randarray = [randint(1,100) for n in range(100)]\n",
    "print(quick_sort(randarray))\n",
    "print(sorted(randarray))"
   ]
  },
  {
   "cell_type": "code",
   "execution_count": 55,
   "metadata": {},
   "outputs": [
    {
     "data": {
      "text/plain": [
       "1"
      ]
     },
     "execution_count": 55,
     "metadata": {},
     "output_type": "execute_result"
    }
   ],
   "source": [
    "arr = [1,2,3,4]\n",
    "randint(0,len(arr)-1)"
   ]
  },
  {
   "cell_type": "code",
   "execution_count": null,
   "metadata": {},
   "outputs": [],
   "source": []
  }
 ],
 "metadata": {
  "kernelspec": {
   "display_name": "Python 3",
   "language": "python",
   "name": "python3"
  },
  "language_info": {
   "codemirror_mode": {
    "name": "ipython",
    "version": 3
   },
   "file_extension": ".py",
   "mimetype": "text/x-python",
   "name": "python",
   "nbconvert_exporter": "python",
   "pygments_lexer": "ipython3",
   "version": "3.6.4"
  }
 },
 "nbformat": 4,
 "nbformat_minor": 2
}
