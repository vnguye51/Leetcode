{
 "cells": [
  {
   "cell_type": "markdown",
   "metadata": {},
   "source": [
    "# Beautiful Array\n",
    "\n",
    "For some fixed N, an array A is beautiful if it is a permutation of the integers 1, 2, ..., N, such that:\n",
    "\n",
    "For every i < j, there is no k with i < k < j such that A[k] * 2 = A[i] + A[j].\n",
    "\n",
    "Given N, return any beautiful array A.  (It is guaranteed that one exists.)\n",
    "\n",
    " \n",
    "\n",
    "    Example 1:\n",
    "\n",
    "    Input: 4\n",
    "    Output: [2,1,4,3]\n",
    "\n",
    "    Example 2:\n",
    "\n",
    "    Input: 5\n",
    "    Output: [3,1,2,5,4]\n",
    "\n",
    "\n",
    "\n",
    "    Note:\n",
    "\n",
    "        1 <= N <= 1000\n"
   ]
  },
  {
   "cell_type": "markdown",
   "metadata": {},
   "source": [
    "* Build from the outside in. If the outside works than we are free to rearrange the inside parts however we want\n",
    "* The leftmost number is always N-2 the rightmost number is always N-1\n",
    "* Then we have "
   ]
  },
  {
   "cell_type": "code",
   "execution_count": 1,
   "metadata": {},
   "outputs": [],
   "source": [
    "class Solution:\n",
    "    def beautifulArray(self, N):\n",
    "        A = []\n",
    "        "
   ]
  },
  {
   "cell_type": "code",
   "execution_count": 2,
   "metadata": {},
   "outputs": [
    {
     "name": "stdout",
     "output_type": "stream",
     "text": [
      "Yes\n"
     ]
    }
   ],
   "source": [
    "def isBeautiful(a,n): \n",
    "   \n",
    "    sum = a[0] \n",
    "    isAscSorted = True\n",
    "    for i in range(1,n): \n",
    "   \n",
    "        # Checking for any repeated entry \n",
    "        if (a[i] == a[i - 1]): \n",
    "            return False\n",
    "   \n",
    "        # Checking for ascending sorting \n",
    "        if (a[i] < a[i - 1]): \n",
    "            isAscSorted = False\n",
    "        sum=sum+ a[i] \n",
    "   \n",
    "    # Does not satisfy second condition \n",
    "    if (isAscSorted == True): \n",
    "        return False\n",
    "   \n",
    "    #Sum of 1 to n elements is \n",
    "    # (n*(n + 1)/2)) \n",
    "    return (sum == (n * (n + 1) // 2)) \n",
    "  \n"
   ]
  },
  {
   "cell_type": "code",
   "execution_count": null,
   "metadata": {},
   "outputs": [],
   "source": []
  }
 ],
 "metadata": {
  "kernelspec": {
   "display_name": "Python 3",
   "language": "python",
   "name": "python3"
  },
  "language_info": {
   "codemirror_mode": {
    "name": "ipython",
    "version": 3
   },
   "file_extension": ".py",
   "mimetype": "text/x-python",
   "name": "python",
   "nbconvert_exporter": "python",
   "pygments_lexer": "ipython3",
   "version": "3.6.4"
  }
 },
 "nbformat": 4,
 "nbformat_minor": 2
}
