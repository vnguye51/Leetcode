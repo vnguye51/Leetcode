{
 "cells": [
  {
   "cell_type": "markdown",
   "metadata": {},
   "source": [
    "# Merge Sorted Array\n",
    "\n",
    "Given two sorted integer arrays nums1 and nums2, merge nums2 into nums1 as one sorted array.\n",
    "\n",
    "Note:\n",
    "\n",
    "    The number of elements initialized in nums1 and nums2 are m and n respectively.\n",
    "    You may assume that nums1 has enough space (size that is greater or equal to m + n) to hold additional elements from \n",
    "    nums2.\n",
    "\n",
    "    Example:\n",
    "\n",
    "    Input:\n",
    "    nums1 = [1,2,3,0,0,0], m = 3\n",
    "    nums2 = [2,5,6],       n = 3\n",
    "\n",
    "    Output: [1,2,2,3,5,6]\n",
    "\n"
   ]
  },
  {
   "cell_type": "markdown",
   "metadata": {},
   "source": [
    "* From the example it looks like zero values are considered \"null\" and replaced by incoming values\n",
    "* So let's hold as a reference the current and the next value in nums 1 and use it as a window to place incoming values\n",
    "* For every value we add in pop a zero from the end"
   ]
  },
  {
   "cell_type": "code",
   "execution_count": 27,
   "metadata": {},
   "outputs": [],
   "source": [
    "class Solution:\n",
    "    def merge(self, nums1, m, nums2, n):\n",
    "        for i in range(1,len(nums1)):\n",
    "            if(len(nums2) == 0):\n",
    "                break\n",
    "            if nums2[0] < nums1[i-1]:\n",
    "                nums1.insert(i-1,nums2[0])\n",
    "                nums2.pop(0)\n",
    "                nums1.pop()\n",
    "            elif nums2[0] < nums1[i]:\n",
    "                nums1.insert(i,nums2[0])\n",
    "                nums2.pop(0)\n",
    "                nums1.pop()\n",
    "        for n in nums2:\n",
    "            nums1.pop()\n",
    "        for n in nums2:\n",
    "            nums1.append(n)\n",
    "        print(nums1)"
   ]
  },
  {
   "cell_type": "code",
   "execution_count": 28,
   "metadata": {},
   "outputs": [
    {
     "name": "stdout",
     "output_type": "stream",
     "text": [
      "[1, 2, 2, 3, 5, 6]\n"
     ]
    }
   ],
   "source": [
    "sol = Solution()\n",
    "sol.merge([1,2,3,0,0,0],3,[2,5,6],3)"
   ]
  }
 ],
 "metadata": {
  "kernelspec": {
   "display_name": "Python 3",
   "language": "python",
   "name": "python3"
  },
  "language_info": {
   "codemirror_mode": {
    "name": "ipython",
    "version": 3
   },
   "file_extension": ".py",
   "mimetype": "text/x-python",
   "name": "python",
   "nbconvert_exporter": "python",
   "pygments_lexer": "ipython3",
   "version": "3.6.4"
  }
 },
 "nbformat": 4,
 "nbformat_minor": 2
}
