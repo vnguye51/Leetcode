{
 "cells": [
  {
   "cell_type": "markdown",
   "metadata": {},
   "source": [
    "## Number of Lines to Write String\n",
    "\n",
    "We are to write the letters of a given string S, from left to right into lines. Each line has maximum width 100 units, and if writing a letter would cause the width of the line to exceed 100 units, it is written on the next line. We are given an array widths, an array where widths[0] is the width of 'a', widths[1] is the width of 'b', ..., and widths[25] is the width of 'z'.\n",
    "\n",
    "Now answer two questions: how many lines have at least one character from S, and what is the width used by the last such line? Return your answer as an integer list of length 2."
   ]
  },
  {
   "cell_type": "markdown",
   "metadata": {},
   "source": [
    "* The goal is to find how many lines are used to write the string and the alphabetical sum of the last line\n",
    "* We can create a while loop that appends the letters to a list\n",
    "* If the list reaches 100 width then the list is reinitialized and the letter is appended to that instead\n",
    "* If there are no words left then we break the loop and sum the values of the last list"
   ]
  },
  {
   "cell_type": "code",
   "execution_count": 23,
   "metadata": {},
   "outputs": [],
   "source": [
    "def numberOfLines(widths, S):\n",
    "    if S == '':\n",
    "        return([0,0])\n",
    "    \n",
    "    lineindex = 0\n",
    "    lastwidth = 0\n",
    "    \n",
    "    S = list(S)\n",
    "    line = []\n",
    "    linewidth = 0\n",
    "    \n",
    "    while S:\n",
    "        linewidth = linewidth + widths[ord(S[0]) - 97]\n",
    "        \n",
    "        \n",
    "        if linewidth > 100:\n",
    "            \n",
    "            lineindex = lineindex + 1\n",
    "            linewidth = 0\n",
    "            line = []\n",
    "            linewidth = linewidth + widths[ord(S[0]) - 97]\n",
    "            line.append(S.pop(0))\n",
    "            \n",
    "            \n",
    "        else:\n",
    "            line.append(S.pop(0))\n",
    "            \n",
    "    \n",
    "    return [lineindex+1,linewidth]"
   ]
  },
  {
   "cell_type": "code",
   "execution_count": 26,
   "metadata": {},
   "outputs": [
    {
     "name": "stdout",
     "output_type": "stream",
     "text": [
      "['a', 'b', 'c', 'd', 'e', 'f', 'g', 'h', 'i', 'j']\n",
      "['k', 'l', 'm', 'n', 'o', 'p', 'q', 'r', 's', 't']\n"
     ]
    },
    {
     "data": {
      "text/plain": [
       "[3, 60]"
      ]
     },
     "execution_count": 26,
     "metadata": {},
     "output_type": "execute_result"
    }
   ],
   "source": [
    "widths = [10,10,10,10,10,10,10,10,10,10,10,10,10,10,10,10,10,10,10,10,10,10,10,10,10,10]\n",
    "S = \"abcdefghijklmnopqrstuvwxyz\"\n",
    "numberOfLines(widths,S)"
   ]
  },
  {
   "cell_type": "code",
   "execution_count": 27,
   "metadata": {},
   "outputs": [
    {
     "name": "stdout",
     "output_type": "stream",
     "text": [
      "['b', 'b', 'b', 'c', 'c', 'c', 'd', 'd', 'd', 'a', 'a']\n"
     ]
    },
    {
     "data": {
      "text/plain": [
       "[2, 4]"
      ]
     },
     "execution_count": 27,
     "metadata": {},
     "output_type": "execute_result"
    }
   ],
   "source": [
    "widths = [4,10,10,10,10,10,10,10,10,10,10,10,10,10,10,10,10,10,10,10,10,10,10,10,10,10]\n",
    "S = \"bbbcccdddaaa\"\n",
    "numberOfLines(widths,S)"
   ]
  },
  {
   "cell_type": "code",
   "execution_count": null,
   "metadata": {
    "collapsed": true
   },
   "outputs": [],
   "source": []
  }
 ],
 "metadata": {
  "kernelspec": {
   "display_name": "Python 2",
   "language": "python",
   "name": "python2"
  },
  "language_info": {
   "codemirror_mode": {
    "name": "ipython",
    "version": 2
   },
   "file_extension": ".py",
   "mimetype": "text/x-python",
   "name": "python",
   "nbconvert_exporter": "python",
   "pygments_lexer": "ipython2",
   "version": "2.7.14"
  }
 },
 "nbformat": 4,
 "nbformat_minor": 2
}
