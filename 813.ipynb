{
 "cells": [
  {
   "cell_type": "markdown",
   "metadata": {},
   "source": [
    "## Largest Sum of Averages\n",
    "\n",
    "We partition a row of numbers A into at most K adjacent (non-empty) groups, then our score is the sum of the average of each group. What is the largest score we can achieve?\n",
    "\n",
    "Note that our partition must use every number in A, and that scores are not necessarily integers."
   ]
  },
  {
   "cell_type": "markdown",
   "metadata": {},
   "source": [
    "* When finding the score, the best possible arrangement is to have as many of the largest numbers as possible be in their own group\n",
    "* The best possible arrangement will always use every  bin possible\n",
    "* sort A\n",
    "* create a list with length (k-1)\n",
    "* Until each bin is length 1 pop the last element in A and place them into their own bins\n",
    "* Every other element can be put into the last bin"
   ]
  },
  {
   "cell_type": "code",
   "execution_count": 11,
   "metadata": {
    "collapsed": true
   },
   "outputs": [],
   "source": [
    "def largestSumOfAverages(A, K):\n",
    "    A.sort()\n",
    "    Bins = [[] for n in range(0,K)]\n",
    "    for i in range(0,K):\n",
    "        Bins[i].append(A.pop(-1))\n",
    "        \n",
    "    while A:\n",
    "        Bins[-1].append(A.pop(-1))\n",
    "    \n",
    "    Score = 0\n",
    "    print Bins\n",
    "    for n in Bins:\n",
    "        Score = Score + float(sum(n))/len(n)\n",
    "        \n",
    "    return Score"
   ]
  },
  {
   "cell_type": "code",
   "execution_count": 32,
   "metadata": {},
   "outputs": [
    {
     "name": "stdout",
     "output_type": "stream",
     "text": [
      "[9] [1] [2, 3, 9]\n",
      "[9] [1, 2] [3, 9]\n",
      "[9] [1, 2, 3] [9]\n",
      "[9, 1] [2] [3, 9]\n",
      "[9, 1] [2, 3] [9]\n",
      "[9, 1, 2] [3] [9]\n"
     ]
    },
    {
     "data": {
      "text/plain": [
       "20.0"
      ]
     },
     "execution_count": 32,
     "metadata": {},
     "output_type": "execute_result"
    }
   ],
   "source": [
    "largestSumOfAverages([4,1,7,5,6,2,3],4)\n",
    "\n",
    "#18.16667"
   ]
  },
  {
   "cell_type": "code",
   "execution_count": 30,
   "metadata": {
    "collapsed": true
   },
   "outputs": [],
   "source": [
    "def largestSumOfAverages(A, K):\n",
    "    MaxScore = 0\n",
    "    for i in range(1,len(A)):\n",
    "        for j in range(i+1,len(A)):\n",
    "            print A[:i],A[i:j],A[j:]\n",
    "            Score = sum(A[:i])/float(len(A[:i])) + sum(A[i:j])/float(len(A[i:j])) + sum(A[j:])/float(len(A[j:]))\n",
    "            if Score > MaxScore:\n",
    "                MaxScore = Score\n",
    "    return MaxScore"
   ]
  },
  {
   "cell_type": "code",
   "execution_count": null,
   "metadata": {
    "collapsed": true
   },
   "outputs": [],
   "source": []
  },
  {
   "cell_type": "code",
   "execution_count": null,
   "metadata": {
    "collapsed": true
   },
   "outputs": [],
   "source": []
  }
 ],
 "metadata": {
  "kernelspec": {
   "display_name": "Python 2",
   "language": "python",
   "name": "python2"
  },
  "language_info": {
   "codemirror_mode": {
    "name": "ipython",
    "version": 2
   },
   "file_extension": ".py",
   "mimetype": "text/x-python",
   "name": "python",
   "nbconvert_exporter": "python",
   "pygments_lexer": "ipython2",
   "version": "2.7.14"
  }
 },
 "nbformat": 4,
 "nbformat_minor": 2
}
