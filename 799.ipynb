{
 "cells": [
  {
   "cell_type": "markdown",
   "metadata": {},
   "source": [
    "## Champagne Tower\n",
    "\n",
    "We stack glasses in a pyramid, where the first row has 1 glass, the second row has 2 glasses, and so on until the 100th row.  Each glass holds one cup (250ml) of champagne.\n",
    "\n",
    "Then, some champagne is poured in the first glass at the top.  When the top most glass is full, any excess liquid poured will fall equally to the glass immediately to the left and right of it.  When those glasses become full, any excess champagne will fall equally to the left and right of those glasses, and so on.  (A glass at the bottom row has it's excess champagne fall on the floor.)\n",
    "\n",
    "For example, after one cup of champagne is poured, the top most glass is full.  After two cups of champagne are poured, the two glasses on the second row are half full.  After three cups of champagne are poured, those two cups become full - there are 3 full glasses total now.  After four cups of champagne are poured, the third row has the middle glass half full, and the two outside glasses are a quarter full, as pictured below.\n",
    "\n",
    "* There are always (i-1)*2 streams pouring into each cup\n",
    "* Each stream contains 1/(i-1) of the cup poured\n",
    "* Every inner cup has $\\dfrac{2n}{i-1}$ cups in it\n",
    "* Every outer cup has $\\dfrac{n}{i-1}$ cups\n",
    "* n is the number of cups from when that row is empty\n",
    "* the number of cups to fill the previous row are given by the triangular numbers $\\dfrac{n(n+1)}{2}$\n",
    "* The solution to the triangular number is given by the quadratic formula for $\\dfrac{n^2}{2} + \\dfrac{n}{2} - p = 0$ where p is the amount poured\n",
    "* $n = \\dfrac{(-1/2) + \\sqrt{(1/2)^2 - 4(1/2)(-p)}}{2*(1/2)}$"
   ]
  },
  {
   "cell_type": "code",
   "execution_count": null,
   "metadata": {
    "collapsed": true
   },
   "outputs": [],
   "source": [
    "def champagneTower(poured, query_row, query_glass):\n",
    "    unfilledrow = int(-0.5 + ((0.5)**2 + 2 *poured)**0.5)\n",
    "    "
   ]
  }
 ],
 "metadata": {
  "kernelspec": {
   "display_name": "Python 2",
   "language": "python",
   "name": "python2"
  },
  "language_info": {
   "codemirror_mode": {
    "name": "ipython",
    "version": 2
   },
   "file_extension": ".py",
   "mimetype": "text/x-python",
   "name": "python",
   "nbconvert_exporter": "python",
   "pygments_lexer": "ipython2",
   "version": "2.7.14"
  }
 },
 "nbformat": 4,
 "nbformat_minor": 2
}
