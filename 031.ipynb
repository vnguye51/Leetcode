{
 "cells": [
  {
   "cell_type": "markdown",
   "metadata": {},
   "source": [
    "## Next Permutation\n",
    "\n",
    "Implement next permutation, which rearranges numbers into the lexicographically next greater permutation of numbers.\n",
    "\n",
    "If such arrangement is not possible, it must rearrange it as the lowest possible order (ie, sorted in ascending order).\n",
    "\n",
    "The replacement must be in-place and use only constant extra memory.\n",
    "\n",
    "Here are some examples. Inputs are in the left-hand column and its corresponding outputs are in the right-hand column.\n",
    "\n",
    "1 -> 2 -> 3 -> 4 : 1 -> 2 -> 4 -> 3\n",
    "* The last digit is swapped with the digit to its left\n",
    "* If it creates a larger value the remaining digits on the right are sorted\n",
    "* If not than swap it with the next digit and so on\n",
    "\n",
    "1 -> 3 -> 4 -> 2\n",
    "\n",
    " 2 -> 3 -> 4 -> 1\n",
    " \n",
    " 2 -> 1 -> 3 -> 4 \n",
    " \n",
    "* If there is no possible swap than return the list in sorted order"
   ]
  },
  {
   "cell_type": "code",
   "execution_count": 87,
   "metadata": {},
   "outputs": [],
   "source": [
    "def nextPermutation( nums): \n",
    "    for i in range(len(nums)-1,-1,-1):\n",
    "        for j in range(len(nums)-1,i,-1):\n",
    "            if nums[i] < nums[j]:\n",
    "                nums[i],nums[j] = nums[j],nums[i]\n",
    "                nums[i+1:] = sorted(nums[i+1:])\n",
    "                return \n",
    "    nums[:] = sorted(nums)\n",
    "    return\n",
    "    \n",
    "    "
   ]
  },
  {
   "cell_type": "code",
   "execution_count": 88,
   "metadata": {},
   "outputs": [
    {
     "name": "stdout",
     "output_type": "stream",
     "text": [
      "[2, 1, 3]\n",
      "[2, 1, 4, 3]\n",
      "[4, 0, 2, 1, 3, 3, 3, 5, 5, 2, 5]\n"
     ]
    }
   ],
   "source": [
    "nums = [1,3,2]\n",
    "nextPermutation(nums)\n",
    "print(nums)\n",
    "nums = [2,1,3,4]\n",
    "nextPermutation(nums)\n",
    "print(nums)\n",
    "nums = [4,0,2,1,3,3,3,5,2,5,5]\n",
    "nextPermutation(nums)\n",
    "print(nums)"
   ]
  }
 ],
 "metadata": {
  "kernelspec": {
   "display_name": "Python 3",
   "language": "python",
   "name": "python3"
  },
  "language_info": {
   "codemirror_mode": {
    "name": "ipython",
    "version": 3
   },
   "file_extension": ".py",
   "mimetype": "text/x-python",
   "name": "python",
   "nbconvert_exporter": "python",
   "pygments_lexer": "ipython3",
   "version": "3.6.4"
  }
 },
 "nbformat": 4,
 "nbformat_minor": 2
}
