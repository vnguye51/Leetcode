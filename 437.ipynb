{
 "cells": [
  {
   "cell_type": "markdown",
   "metadata": {},
   "source": [
    "## Path Sum III\n",
    "\n",
    "You are given a binary tree in which each node contains an integer value.\n",
    "\n",
    "Find the number of paths that sum to a given value.\n",
    "\n",
    "The path does not need to start or end at the root or a leaf, but it must go downwards (traveling only from parent nodes to child nodes).\n",
    "\n",
    "The tree has no more than 1,000 nodes and the values are in the range -1,000,000 to 1,000,000. \n",
    "\n",
    "* Another solution is to keep a running record of all the sums as we follow a path.\n",
    "    * Traversing through the tree postorder we store the running sums into a memo\n",
    "    * If the value already exists in the memo increment it \n",
    "    * Check the dictionary for memo[runningsum-targetsum] and increment the pathcount by the stored value\n",
    "    * Continue traversing the left and right, repeating these actions\n",
    "    * Once we fully resolve that node(left and right has both been explored)\n",
    "        * Remove its runningsum from memo\n"
   ]
  },
  {
   "cell_type": "code",
   "execution_count": null,
   "metadata": {},
   "outputs": [],
   "source": [
    "# Definition for a binary tree node.\n",
    "# class TreeNode:\n",
    "#     def __init__(self, x):\n",
    "#         self.val = x\n",
    "#         self.left = None\n",
    "#         self.right = None\n",
    "\n",
    "class Solution:\n",
    "    memo = {}\n",
    "    current_sum = 0\n",
    "    def pathSum(self,root,sum):\n",
    "        count = 0\n",
    "\n",
    "        if root:\n",
    "            self.current_sum += root.val\n",
    "            target = self.current_sum - sum\n",
    "\n",
    "            \n",
    "            if target == 0:\n",
    "                count += 1\n",
    "            if target in self.memo:\n",
    "                count += self.memo[target]\n",
    "\n",
    "            if self.current_sum in self.memo:\n",
    "                self.memo[self.current_sum] += 1\n",
    "            else:\n",
    "                self.memo[self.current_sum] = 1\n",
    "                \n",
    "            count += self.pathSum(root.left,sum)\n",
    "            count += self.pathSum(root.right,sum)\n",
    "            \n",
    "            # print(root.val,\"/\",count,\"/\",self.memo)\n",
    "            \n",
    "            self.memo[self.current_sum] -= 1\n",
    "            self.current_sum -= root.val\n",
    "            \n",
    "\n",
    "\n",
    "\n",
    "        return count\n",
    "    \n"
   ]
  }
 ],
 "metadata": {
  "kernelspec": {
   "display_name": "Python 3",
   "language": "python",
   "name": "python3"
  },
  "language_info": {
   "codemirror_mode": {
    "name": "ipython",
    "version": 3
   },
   "file_extension": ".py",
   "mimetype": "text/x-python",
   "name": "python",
   "nbconvert_exporter": "python",
   "pygments_lexer": "ipython3",
   "version": "3.6.4"
  }
 },
 "nbformat": 4,
 "nbformat_minor": 2
}
