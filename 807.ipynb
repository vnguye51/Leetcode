{
 "cells": [
  {
   "cell_type": "markdown",
   "metadata": {},
   "source": [
    "## Max Increase to Keep City Skyline\n",
    "\n",
    "In a 2 dimensional array grid, each value grid[i][j] represents the height of a building located there. We are allowed to increase the height of any number of buildings, by any amount (the amounts can be different for different buildings). Height 0 is considered to be a building as well. \n",
    "\n",
    "At the end, the \"skyline\" when viewed from all four directions of the grid, i.e. top, bottom, left, and right, must be the same as the skyline of the original grid. A city's skyline is the outer contour of the rectangles formed by all the buildings when viewed from a distance. See the following example.\n",
    "\n",
    "What is the maximum total sum that the height of the buildings can be increased?"
   ]
  },
  {
   "cell_type": "markdown",
   "metadata": {},
   "source": [
    "* We'll look down each axis and break the subarray out when looking in that direction\n",
    "* From the subarray we pull the max values and put them into their own list\n",
    "* From there the value at each index of our final array is based on the smaller of its [i,j] value there\n",
    "* Then we subtract the new grid from the previous grid and find its sum"
   ]
  },
  {
   "cell_type": "code",
   "execution_count": 15,
   "metadata": {
    "collapsed": true
   },
   "outputs": [],
   "source": [
    "import numpy as np\n",
    "\n",
    "def maxIncreaseKeepingSkyline(grid):\n",
    "    import numpy as np\n",
    "    \n",
    "    grid = np.array(grid)\n",
    "    numrows = grid.shape[0]\n",
    "    numcols = grid.shape[1]\n",
    "    \n",
    "    hormax = []\n",
    "    vertmax = []\n",
    "    for i in range(0,numrows):\n",
    "        hormax.append(max(grid[i,:]))\n",
    "    for j in range(0,numcols):\n",
    "        vertmax.append(max(grid[:,j]))\n",
    "        \n",
    "    newgrid = np.zeros((grid.shape[0],grid.shape[1]))\n",
    "    for i in range(0,grid.shape[0]):\n",
    "        for j in range(0,grid.shape[1]):\n",
    "            \n",
    "            if hormax[i] > vertmax[j]:\n",
    "                newgrid[i,j] = vertmax[j]\n",
    "                \n",
    "            else:\n",
    "                newgrid[i,j] = hormax[i]\n",
    "    print newgrid           \n",
    "    return int(np.sum(newgrid - grid))\n",
    "        \n",
    "    "
   ]
  },
  {
   "cell_type": "code",
   "execution_count": 16,
   "metadata": {},
   "outputs": [
    {
     "name": "stdout",
     "output_type": "stream",
     "text": [
      "[[ 8.  4.  8.  7.]\n",
      " [ 7.  4.  7.  7.]\n",
      " [ 9.  4.  8.  7.]\n",
      " [ 3.  3.  3.  3.]]\n"
     ]
    },
    {
     "data": {
      "text/plain": [
       "35.0"
      ]
     },
     "execution_count": 16,
     "metadata": {},
     "output_type": "execute_result"
    }
   ],
   "source": [
    "grid =  [[3,0,8,4],[2,4,5,7],[9,2,6,3],[0,3,1,0]]\n",
    "maxIncreaseKeepingSkyline(grid)"
   ]
  }
 ],
 "metadata": {
  "kernelspec": {
   "display_name": "Python 2",
   "language": "python",
   "name": "python2"
  },
  "language_info": {
   "codemirror_mode": {
    "name": "ipython",
    "version": 2
   },
   "file_extension": ".py",
   "mimetype": "text/x-python",
   "name": "python",
   "nbconvert_exporter": "python",
   "pygments_lexer": "ipython2",
   "version": "2.7.14"
  }
 },
 "nbformat": 4,
 "nbformat_minor": 2
}
