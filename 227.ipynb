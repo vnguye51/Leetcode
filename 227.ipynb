{
 "cells": [
  {
   "cell_type": "markdown",
   "metadata": {},
   "source": [
    "## Basic Calculator II\n",
    "\n",
    "Implement a basic calculator to evaluate a simple expression string.\n",
    "\n",
    "The expression string contains only non-negative integers, +, -, *, / operators and empty spaces . The integer division should truncate toward zero.\n",
    "\n",
    "* The first thing we should do is split the numbers and operations into a readable array\n",
    "* We then make two passes through the array, \n",
    "    * one pass to resolve all mult and division\n",
    "    * Then another to resolve all subt and add"
   ]
  },
  {
   "cell_type": "code",
   "execution_count": 50,
   "metadata": {},
   "outputs": [],
   "source": [
    "class Solution:\n",
    "    def calculate(self, s):\n",
    "        curr = \"\"\n",
    "        arr = []\n",
    "        for i,char in enumerate(s):\n",
    "            if char == \" \":\n",
    "                continue\n",
    "            if char == \"+\" or char == \"-\" or char == \"/\" or char == \"*\":\n",
    "                arr.append(int(curr))\n",
    "                arr.append(char)\n",
    "                curr = \"\"\n",
    "            else:\n",
    "                curr += char\n",
    "        arr.append(int(curr))\n",
    "        \n",
    "        \n",
    "        i = 0\n",
    "        while i < len(arr):\n",
    "            if arr[i] == \"*\":\n",
    "                arr[i-1] = arr[i-1]*arr[i+1]\n",
    "                arr.pop(i)\n",
    "                arr.pop(i)\n",
    "            elif arr[i] == \"/\":              \n",
    "                arr[i-1] = arr[i-1]//arr[i+1]\n",
    "                arr.pop(i)\n",
    "                arr.pop(i)\n",
    "            else:\n",
    "                i += 1\n",
    "        \n",
    "        while len(arr)>1:\n",
    "            a = arr.pop(0)\n",
    "            operator = arr.pop(0)\n",
    "            b = arr.pop(0)\n",
    "            if operator == \"+\":\n",
    "                arr.insert(0,a+b)\n",
    "            else:\n",
    "                arr.insert(0,a-b)\n",
    "\n",
    "        return arr[0]\n"
   ]
  },
  {
   "cell_type": "code",
   "execution_count": 51,
   "metadata": {},
   "outputs": [
    {
     "data": {
      "text/plain": [
       "157"
      ]
     },
     "execution_count": 51,
     "metadata": {},
     "output_type": "execute_result"
    }
   ],
   "source": [
    "sol = Solution()\n",
    "sol.calculate(\"3+4/2/1*64-3+54-2*12-1\")"
   ]
  },
  {
   "cell_type": "code",
   "execution_count": 38,
   "metadata": {},
   "outputs": [
    {
     "data": {
      "text/plain": [
       "157.0"
      ]
     },
     "execution_count": 38,
     "metadata": {},
     "output_type": "execute_result"
    }
   ],
   "source": [
    "3+4/2/1*64-3+54-2*12-1"
   ]
  }
 ],
 "metadata": {
  "kernelspec": {
   "display_name": "Python 3",
   "language": "python",
   "name": "python3"
  },
  "language_info": {
   "codemirror_mode": {
    "name": "ipython",
    "version": 3
   },
   "file_extension": ".py",
   "mimetype": "text/x-python",
   "name": "python",
   "nbconvert_exporter": "python",
   "pygments_lexer": "ipython3",
   "version": "3.6.4"
  }
 },
 "nbformat": 4,
 "nbformat_minor": 2
}
