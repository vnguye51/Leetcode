{
 "cells": [
  {
   "cell_type": "markdown",
   "metadata": {},
   "source": [
    "## Intersection of Two Lists\n",
    "\n",
    "Given two linked lists, determine if the two lists intersects. \n",
    "\n",
    "* We can use the keyword \"is\" in Python to determine if two things reference the same object\n",
    "* We can detect if the linked lists intersect at all by checking just the last node\n",
    "* If we subtract the lengths of both lists from eachother we can determine how many nodes in the intersection might be\n",
    "* Iterate once through both lists counting the number of steps\n",
    "    * Then, If the number of steps is the same we check for equality at every step\n",
    "    * If one is greater than the other move the pointer for the longer list ahead by that many nodes\n",
    "* Then check for equality\n",
    "\n"
   ]
  },
  {
   "cell_type": "code",
   "execution_count": null,
   "metadata": {},
   "outputs": [],
   "source": [
    "def intersection(l1,l2):\n",
    "    p1 = l1\n",
    "    p2 = l2\n",
    "    n1 = 0\n",
    "    n2 = 0\n",
    "    while p1.next:\n",
    "        p1 = p1.next \n",
    "        n1 += 1\n",
    "    while p2.next:\n",
    "        p2 = p2.next\n",
    "        n2 += 1\n",
    "    if not p1 is p2:\n",
    "        return False\n",
    "\n",
    "    D = n2 - n1\n",
    "    p1 = l1\n",
    "    p2 = l2\n",
    "    if D > 0:\n",
    "        for i in range(0,D):\n",
    "            p2 = p2.next\n",
    "    elif D < 0:\n",
    "        for i in range(0,-D):\n",
    "            p1 = p1.next\n",
    "\n",
    "    while p1 and p2:\n",
    "        if p2 is p1:\n",
    "            return p1.val\n",
    "        p1 = p1.next\n",
    "        p2 = p2.next\n"
   ]
  }
 ],
 "metadata": {
  "kernelspec": {
   "display_name": "Python 3",
   "language": "python",
   "name": "python3"
  },
  "language_info": {
   "codemirror_mode": {
    "name": "ipython",
    "version": 3
   },
   "file_extension": ".py",
   "mimetype": "text/x-python",
   "name": "python",
   "nbconvert_exporter": "python",
   "pygments_lexer": "ipython3",
   "version": "3.6.4"
  }
 },
 "nbformat": 4,
 "nbformat_minor": 2
}
