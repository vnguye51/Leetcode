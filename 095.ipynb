{
 "cells": [
  {
   "cell_type": "markdown",
   "metadata": {},
   "source": [
    "## Unique Binary Search Trees II\n",
    "\n",
    "Given an integer n, generate all structurally unique BST's (binary search trees) that store values 1 ... n.\n",
    "\n",
    "    Example:\n",
    "\n",
    "    Input: 3\n",
    "    Output:\n",
    "    [\n",
    "      [1,null,3,2],\n",
    "      [3,2,null,1],\n",
    "      [3,1,null,null,2],\n",
    "      [2,1,3],\n",
    "      [1,null,2,null,3]\n",
    "    ]\n",
    "    Explanation:\n",
    "    The above output corresponds to the 5 unique BST's shown below:\n",
    "\n",
    "       1         3     3      2      1\n",
    "        \\       /     /      / \\      \\\n",
    "         3     2     1      1   3      2\n",
    "        /     /       \\                 \\\n",
    "       2     1         2                 3\n",
    "\n"
   ]
  },
  {
   "cell_type": "markdown",
   "metadata": {},
   "source": [
    "* Structurally unique so the numbers don't matter\n",
    "* Recursive building should be fine here\n",
    "* For each node decrement the \"pool\"\n",
    "    * We then have 3 options\n",
    "    * Place only on the left\n",
    "    * Place only on the right\n",
    "    * Place both\n",
    "    \n",
    "* Move into that branch and repeat\n",
    "\n",
    "* This worked but it seems that the problem wnats the numbers to be in a certain order:\n",
    "    * Left subtrees are given the third number in the pool\n",
    "    * Double subtrees are given the second number in the pool\n",
    "    * Right subtrees are given the first number in the pool"
   ]
  },
  {
   "cell_type": "code",
   "execution_count": 72,
   "metadata": {},
   "outputs": [],
   "source": [
    "import copy\n",
    "\n",
    "# Definition for a binary tree node.\n",
    "class TreeNode:\n",
    "    def __init__(self, x):\n",
    "        self.val = x\n",
    "        self.left = None\n",
    "        self.right = None\n",
    "\n",
    "class Solution:\n",
    "\n",
    "    def generateTrees(self, n):\n",
    "        def createBranch(curr,n, dup):\n",
    "            if n == 0 and dup == False:\n",
    "                res.append(copy.deepcopy(starter))\n",
    "            else:\n",
    "                if n > 0:\n",
    "                    curr.left = TreeNode(n)\n",
    "                    createBranch(curr.left,n-1, False)\n",
    "                    curr.left = None\n",
    "                    curr.right = TreeNode(n)\n",
    "                    createBranch(curr.right,n-1, False)\n",
    "                if n > 1:\n",
    "                    curr.right = TreeNode(n)\n",
    "                    curr.left = TreeNode(n-1)\n",
    "                    createBranch(curr.left,n-2, False)\n",
    "                    createBranch(curr.right,n-2, True)\n",
    "            \n",
    "        res = []\n",
    "        starter = TreeNode(n)\n",
    "        createBranch(starter,n-1, False)\n",
    "        return res\n",
    "        "
   ]
  },
  {
   "cell_type": "code",
   "execution_count": 73,
   "metadata": {},
   "outputs": [
    {
     "name": "stdout",
     "output_type": "stream",
     "text": [
      "5\n"
     ]
    }
   ],
   "source": [
    "sol = Solution()\n",
    "res = sol.generateTrees(3)\n",
    "print(len(res))"
   ]
  },
  {
   "cell_type": "code",
   "execution_count": null,
   "metadata": {},
   "outputs": [],
   "source": [
    "class Solution:\n",
    "\n",
    "    def generateTrees(self, n):\n",
    "        pool = [i for i in range(1,n+1)]\n",
    "        "
   ]
  }
 ],
 "metadata": {
  "kernelspec": {
   "display_name": "Python 3",
   "language": "python",
   "name": "python3"
  },
  "language_info": {
   "codemirror_mode": {
    "name": "ipython",
    "version": 3
   },
   "file_extension": ".py",
   "mimetype": "text/x-python",
   "name": "python",
   "nbconvert_exporter": "python",
   "pygments_lexer": "ipython3",
   "version": "3.6.4"
  }
 },
 "nbformat": 4,
 "nbformat_minor": 2
}
