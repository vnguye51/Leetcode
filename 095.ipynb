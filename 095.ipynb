{
 "cells": [
  {
   "cell_type": "markdown",
   "metadata": {},
   "source": [
    "## Unique Binary Search Trees II\n",
    "\n",
    "Given an integer n, generate all structurally unique BST's (binary search trees) that store values 1 ... n.\n",
    "\n",
    "    Example:\n",
    "\n",
    "    Input: 3\n",
    "    Output:\n",
    "    [\n",
    "      [1,null,3,2],\n",
    "      [3,2,null,1],\n",
    "      [3,1,null,null,2],\n",
    "      [2,1,3],\n",
    "      [1,null,2,null,3]\n",
    "    ]\n",
    "    Explanation:\n",
    "    The above output corresponds to the 5 unique BST's shown below:\n",
    "\n",
    "       1         3     3      2      1\n",
    "        \\       /     /      / \\      \\\n",
    "         3     2     1      1   3      2\n",
    "        /     /       \\                 \\\n",
    "       2     1         2                 3\n",
    "\n"
   ]
  },
  {
   "cell_type": "markdown",
   "metadata": {},
   "source": [
    "* Select a number n\n",
    "* put all remaining numbers less than n to the left and all greater numbers to the right \n",
    "* generate all BST that can be formed from the values on the right and add them to all BSTs that can be formed from the left"
   ]
  },
  {
   "cell_type": "code",
   "execution_count": 108,
   "metadata": {},
   "outputs": [],
   "source": [
    "import copy\n",
    "\n",
    "# Definition for a binary tree node.\n",
    "class TreeNode:\n",
    "    def __init__(self, x):\n",
    "        self.val = x\n",
    "        self.left = None\n",
    "        self.right = None\n",
    "\n",
    "class Solution:\n",
    "    res = []\n",
    "    def generateBSTs(self,pool,root):\n",
    "        if not (root and pool) :\n",
    "            return []\n",
    "        res = []\n",
    "        leftpool = [n for n in pool if n < root.val]\n",
    "        rightpool = [n for n in pool if n > root.val]\n",
    "        left_trees = []\n",
    "        right_trees = []\n",
    "        for n in leftpool:\n",
    "            left_trees += self.generateBSTs(leftpool,TreeNode(n))\n",
    "        for m in rightpool:\n",
    "            right_trees += self.generateBSTs(rightpool,TreeNode(m))\n",
    "        if not right_trees: right_trees.append(None)\n",
    "        if not left_trees: left_trees.append(None)\n",
    "        for n in left_trees:\n",
    "            for m in right_trees:\n",
    "                r = copy.deepcopy(root)\n",
    "                r.left = n\n",
    "                r.right = m\n",
    "                res.append(r)\n",
    "        return res\n",
    "        \n",
    "    def generateTrees(self, n):\n",
    "        if n == 1:\n",
    "            return TreeNode(1)\n",
    "        res = []\n",
    "        for i in range(1,n+1):\n",
    "            pool = [m for m in range(1,n+1) if m != i]\n",
    "            res += self.generateBSTs(pool, TreeNode(i))\n",
    "        return res"
   ]
  },
  {
   "cell_type": "code",
   "execution_count": 111,
   "metadata": {},
   "outputs": [
    {
     "data": {
      "text/plain": [
       "[<__main__.TreeNode at 0x239d39f86a0>,\n",
       " <__main__.TreeNode at 0x239d39b9f98>,\n",
       " <__main__.TreeNode at 0x239d39b9630>,\n",
       " <__main__.TreeNode at 0x239d39b9c50>,\n",
       " <__main__.TreeNode at 0x239d39b9e10>,\n",
       " <__main__.TreeNode at 0x239d39b9b70>,\n",
       " <__main__.TreeNode at 0x239d39b9c88>,\n",
       " <__main__.TreeNode at 0x239d39b9198>,\n",
       " <__main__.TreeNode at 0x239d39b96d8>,\n",
       " <__main__.TreeNode at 0x239d39b9f60>,\n",
       " <__main__.TreeNode at 0x239d39cb908>,\n",
       " <__main__.TreeNode at 0x239d39cbd30>,\n",
       " <__main__.TreeNode at 0x239d39cb7b8>,\n",
       " <__main__.TreeNode at 0x239d39cb208>,\n",
       " <__main__.TreeNode at 0x239d39cb8d0>,\n",
       " <__main__.TreeNode at 0x239d3a21828>,\n",
       " <__main__.TreeNode at 0x239d3a21940>,\n",
       " <__main__.TreeNode at 0x239d3a21a20>,\n",
       " <__main__.TreeNode at 0x239d3a21a90>,\n",
       " <__main__.TreeNode at 0x239d3a21ac8>,\n",
       " <__main__.TreeNode at 0x239d3a21e48>,\n",
       " <__main__.TreeNode at 0x239d3a21eb8>,\n",
       " <__main__.TreeNode at 0x239d3a21128>,\n",
       " <__main__.TreeNode at 0x239d3a21160>,\n",
       " <__main__.TreeNode at 0x239d3a48208>,\n",
       " <__main__.TreeNode at 0x239d3a48278>,\n",
       " <__main__.TreeNode at 0x239d3a482e8>,\n",
       " <__main__.TreeNode at 0x239d3a48358>,\n",
       " <__main__.TreeNode at 0x239d3a483c8>,\n",
       " <__main__.TreeNode at 0x239d3a3cc18>,\n",
       " <__main__.TreeNode at 0x239d3a3cc88>,\n",
       " <__main__.TreeNode at 0x239d3a3ccf8>,\n",
       " <__main__.TreeNode at 0x239d3a3cd68>,\n",
       " <__main__.TreeNode at 0x239d3a3cdd8>,\n",
       " <__main__.TreeNode at 0x239d3a3ce48>,\n",
       " <__main__.TreeNode at 0x239d3a3ceb8>,\n",
       " <__main__.TreeNode at 0x239d3a3cf28>,\n",
       " <__main__.TreeNode at 0x239d3a3cf98>,\n",
       " <__main__.TreeNode at 0x239d3a41048>,\n",
       " <__main__.TreeNode at 0x239d3a410b8>,\n",
       " <__main__.TreeNode at 0x239d3a41128>,\n",
       " <__main__.TreeNode at 0x239d3a41198>]"
      ]
     },
     "execution_count": 111,
     "metadata": {},
     "output_type": "execute_result"
    }
   ],
   "source": [
    "sol = Solution()\n",
    "sol.generateTrees(5)"
   ]
  },
  {
   "cell_type": "code",
   "execution_count": 47,
   "metadata": {},
   "outputs": [
    {
     "data": {
      "text/plain": [
       "[4, 1, 2]"
      ]
     },
     "execution_count": 47,
     "metadata": {},
     "output_type": "execute_result"
    }
   ],
   "source": [
    "[4]+[1,2]"
   ]
  },
  {
   "cell_type": "code",
   "execution_count": 48,
   "metadata": {},
   "outputs": [],
   "source": [
    "if []:\n",
    "    print('hi')"
   ]
  },
  {
   "cell_type": "code",
   "execution_count": null,
   "metadata": {},
   "outputs": [],
   "source": []
  }
 ],
 "metadata": {
  "kernelspec": {
   "display_name": "Python 3",
   "language": "python",
   "name": "python3"
  },
  "language_info": {
   "codemirror_mode": {
    "name": "ipython",
    "version": 3
   },
   "file_extension": ".py",
   "mimetype": "text/x-python",
   "name": "python",
   "nbconvert_exporter": "python",
   "pygments_lexer": "ipython3",
   "version": "3.6.4"
  }
 },
 "nbformat": 4,
 "nbformat_minor": 2
}
