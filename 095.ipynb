{
 "cells": [
  {
   "cell_type": "markdown",
   "metadata": {},
   "source": [
    "## Unique Binary Search Trees II\n",
    "\n",
    "Given an integer n, generate all structurally unique BST's (binary search trees) that store values 1 ... n.\n",
    "\n",
    "    Example:\n",
    "\n",
    "    Input: 3\n",
    "    Output:\n",
    "    [\n",
    "      [1,null,3,2],\n",
    "      [3,2,null,1],\n",
    "      [3,1,null,null,2],\n",
    "      [2,1,3],\n",
    "      [1,null,2,null,3]\n",
    "    ]\n",
    "    Explanation:\n",
    "    The above output corresponds to the 5 unique BST's shown below:\n",
    "\n",
    "       1         3     3      2      1\n",
    "        \\       /     /      / \\      \\\n",
    "         3     2     1      1   3      2\n",
    "        /     /       \\                 \\\n",
    "       2     1         2                 3\n",
    "\n"
   ]
  },
  {
   "cell_type": "markdown",
   "metadata": {},
   "source": [
    "* So we need to create all possible BSTs\n",
    "* We can do this using a pooling method \n",
    "* Say we choose the number 1 to start our root:\n",
    "    We now recurse and create all trees with values lower than 1 on the left\n",
    "    We now recurse and create all trees with values greater than 1 on the right\n",
    "* If there are no values left in the pool then append the current tree to the results\n",
    "    "
   ]
  },
  {
   "cell_type": "code",
   "execution_count": 72,
   "metadata": {},
   "outputs": [],
   "source": [
    "import copy\n",
    "\n",
    "# Definition for a binary tree node.\n",
    "class TreeNode:\n",
    "    def __init__(self, x):\n",
    "        self.val = x\n",
    "        self.left = None\n",
    "        self.right = None\n",
    "\n",
    "class Solution:\n",
    "    res = []\n",
    "    def generateTreesRecursion(self,root,leftpool,rightpool,origin):\n",
    "        if not leftpool and not rightpool:\n",
    "            self.res.append(copy.deepcopy(root))\n",
    "        for i in range(0,len(leftpool)):\n",
    "            root.left = TreeNode(leftpool[i])\n",
    "            self.generateTreesRecursion(root.left,leftpool[0:i],leftpool[i+1:]+rightpool,origin)\n",
    "            root.left = None\n",
    "        for i in range(0,len(rightpool)):\n",
    "            root.right = TreeNode(rightpool[i])\n",
    "            self.generateTreesRecursion(root.right,leftpool+rightpool[:i],rightpool[i+1:],origin)\n",
    "            root.right = None\n",
    "    def generateTrees(self, n):\n",
    "        self.res = []\n",
    "        for i in range(1,n+1):\n",
    "            leftpool = [j for j in range(1,i)]\n",
    "            rightpool = [j for j in range(i+1,n+1)]\n",
    "            root = TreeNode(i)\n",
    "            self.generateTreesRecursion(root,leftpool,rightpool,root)\n",
    "        \n",
    "        return self.res"
   ]
  },
  {
   "cell_type": "code",
   "execution_count": 73,
   "metadata": {},
   "outputs": [
    {
     "name": "stdout",
     "output_type": "stream",
     "text": [
      "5\n"
     ]
    }
   ],
   "source": [
    "sol = Solution()\n",
    "res = sol.generateTrees(3)\n",
    "print(len(res))"
   ]
  },
  {
   "cell_type": "code",
   "execution_count": null,
   "metadata": {},
   "outputs": [],
   "source": [
    "class Solution:\n",
    "\n",
    "    def generateTrees(self, n):\n",
    "        pool = [i for i in range(1,n+1)]\n",
    "        "
   ]
  }
 ],
 "metadata": {
  "kernelspec": {
   "display_name": "Python 3",
   "language": "python",
   "name": "python3"
  },
  "language_info": {
   "codemirror_mode": {
    "name": "ipython",
    "version": 3
   },
   "file_extension": ".py",
   "mimetype": "text/x-python",
   "name": "python",
   "nbconvert_exporter": "python",
   "pygments_lexer": "ipython3",
   "version": "3.6.4"
  }
 },
 "nbformat": 4,
 "nbformat_minor": 2
}
