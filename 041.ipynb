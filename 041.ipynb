{
 "cells": [
  {
   "cell_type": "markdown",
   "metadata": {},
   "source": [
    "## First Missing Positive\n",
    "\n",
    "Given an unsorted integer array, find the smallest missing positive integer."
   ]
  },
  {
   "cell_type": "markdown",
   "metadata": {},
   "source": [
    "[3,4,-1,1]\n",
    "Output: 2\n",
    "\n",
    "* Find the smallest number(min)\n",
    "* Find the largest number(max)\n",
    "* Create an array that spans the two numbers\n",
    "* As we look through the array cross off values in the array"
   ]
  },
  {
   "cell_type": "code",
   "execution_count": 21,
   "metadata": {},
   "outputs": [],
   "source": [
    "def firstMissingPositive(nums):\n",
    "    nums = [n for n in nums if n > 0]\n",
    "    if nums == []:\n",
    "        return 1\n",
    "    \n",
    "    Max = max(nums)\n",
    "    N = [0 for n in range(1,Max+1)]\n",
    "    for i,n in enumerate(nums):\n",
    "        N[n-1] = 1\n",
    "        \n",
    "    for i,n in enumerate(N):\n",
    "        if n == 0:\n",
    "            return i+1\n",
    "        \n",
    "    return Max+1"
   ]
  },
  {
   "cell_type": "code",
   "execution_count": 23,
   "metadata": {},
   "outputs": [
    {
     "data": {
      "text/plain": [
       "3"
      ]
     },
     "execution_count": 23,
     "metadata": {},
     "output_type": "execute_result"
    }
   ],
   "source": [
    "firstMissingPositive([1,2,0])"
   ]
  }
 ],
 "metadata": {
  "kernelspec": {
   "display_name": "Python 3",
   "language": "python",
   "name": "python3"
  },
  "language_info": {
   "codemirror_mode": {
    "name": "ipython",
    "version": 3
   },
   "file_extension": ".py",
   "mimetype": "text/x-python",
   "name": "python",
   "nbconvert_exporter": "python",
   "pygments_lexer": "ipython3",
   "version": "3.6.4"
  }
 },
 "nbformat": 4,
 "nbformat_minor": 2
}
