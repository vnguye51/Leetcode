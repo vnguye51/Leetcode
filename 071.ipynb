{
 "cells": [
  {
   "cell_type": "markdown",
   "metadata": {},
   "source": [
    "## Simplify Path\n",
    "\n",
    "Given an absolute path for a file (Unix-style), simplify it. \n",
    "\n",
    "For example,\n",
    "\n",
    "path = \"/home/\", => \"/home\"\n",
    "\n",
    "path = \"/a/./b/../../c/\", => \"/c\"\n",
    "\n",
    "path = \"/a/../../b/../c//.//\", => \"/c\"\n",
    "\n",
    "path = \"/a//b////c/d//././/..\", => \"/a/b/c\"\n",
    "\n",
    "In a UNIX-style file system, a period ('.') refers to the current directory, so it can be ignored in a simplified path. Additionally, a double period (\"..\") moves up a directory, so it cancels out whatever the last directory was. For more information, look here: https://en.wikipedia.org/wiki/Path_(computing)#Unix_style\n",
    "\n",
    "Corner Cases:\n",
    "\n",
    "    Did you consider the case where path = \"/../\"?\n",
    "    In this case, you should return \"/\".\n",
    "    Another corner case is the path might contain multiple slashes '/' together, such as \"/home//foo/\".\n",
    "    In this case, you should ignore redundant slashes and return \"/home/foo\".\n",
    "\n"
   ]
  },
  {
   "cell_type": "markdown",
   "metadata": {},
   "source": [
    "* The only characters that matter are / and . the rest are filler and we just need to know of their existence\n",
    "* let's start by doing a simple iteration through the string\n",
    "* If it hits a / we build a string and remember the index of that / until it hits another / or reaches the end\n",
    "* If we hit a . flag it and keep going until we hit a second . or we reach another / or the end of the string\n",
    "    * If we hit the end of the string or another / do nothing\n",
    "    * If we hit another . remove the string up to the last /"
   ]
  },
  {
   "cell_type": "code",
   "execution_count": 165,
   "metadata": {},
   "outputs": [],
   "source": [
    "class Solution:\n",
    "    def simplifyPath(self, path):\n",
    "        simplepath = ''\n",
    "        slashflag = False\n",
    "        slashmarker = 0\n",
    "        dotcount = 0\n",
    "        \n",
    "        def backup(simplepath):\n",
    "            #Used when .. appears\n",
    "            #start at i-3 to remove /..\n",
    "            for j in range(len(simplepath)-3,-1,-1):\n",
    "\n",
    "                if(simplepath[j] == '/'):\n",
    "                    simplepath = simplepath[:j+1]\n",
    "                    break\n",
    "            return simplepath\n",
    "                \n",
    "            \n",
    "            \n",
    "        for i in range(0,len(path)):\n",
    "            if(path[i] == '/'):\n",
    "                if dotcount > 2:\n",
    "                    simplepath += '.'*dotcount\n",
    "                    slashflag = False\n",
    "                if slashflag == False:\n",
    "                    simplepath += '/'\n",
    "                    \n",
    "                if dotcount == 2:\n",
    "                    simplepath = backup(simplepath)\n",
    "\n",
    "                slashflag = True\n",
    "                dotcount = 0\n",
    "            elif path[i] == '.':\n",
    "                dotcount += 1\n",
    "                    \n",
    "            elif path[i] != '/' and path[i] != '.':\n",
    "                simplepath += '.'*dotcount\n",
    "                dotcount = 0\n",
    "                slashflag = False\n",
    "                simplepath += path[i]\n",
    "        \n",
    "        if dotcount == 2:\n",
    "            simplepath = backup(simplepath)\n",
    "        elif dotcount > 2:\n",
    "            simplepath += '.'*dotcount\n",
    "            \n",
    "        #Strip the very last '/' if there is one\n",
    "        if len(simplepath) > 1 and simplepath[-1] == '/':\n",
    "            simplepath = simplepath[:-1]\n",
    "\n",
    "        return simplepath"
   ]
  },
  {
   "cell_type": "code",
   "execution_count": 166,
   "metadata": {},
   "outputs": [
    {
     "name": "stdout",
     "output_type": "stream",
     "text": [
      "/a/b/c\n",
      "/c\n",
      "/c\n",
      "/...../asdf/...\n",
      "/.....\n",
      "/.....\n",
      "/..hidden\n"
     ]
    }
   ],
   "source": [
    "sol = Solution()\n",
    "print(sol.simplifyPath('/a//b////c/d//././/../'))\n",
    "print(sol.simplifyPath('/a/../../b/../c//.//'))\n",
    "print(sol.simplifyPath('/a/./b/../../c/'))\n",
    "print(sol.simplifyPath('/...../asdf/.../'))\n",
    "print(sol.simplifyPath('/...../asdf/..'))\n",
    "print(sol.simplifyPath('/.....'))\n",
    "print(sol.simplifyPath(\"/..hidden\"))"
   ]
  },
  {
   "cell_type": "code",
   "execution_count": null,
   "metadata": {},
   "outputs": [],
   "source": []
  },
  {
   "cell_type": "code",
   "execution_count": null,
   "metadata": {},
   "outputs": [],
   "source": []
  }
 ],
 "metadata": {
  "kernelspec": {
   "display_name": "Python 3",
   "language": "python",
   "name": "python3"
  },
  "language_info": {
   "codemirror_mode": {
    "name": "ipython",
    "version": 3
   },
   "file_extension": ".py",
   "mimetype": "text/x-python",
   "name": "python",
   "nbconvert_exporter": "python",
   "pygments_lexer": "ipython3",
   "version": "3.6.4"
  }
 },
 "nbformat": 4,
 "nbformat_minor": 2
}
