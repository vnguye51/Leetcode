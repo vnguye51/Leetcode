{
 "cells": [
  {
   "cell_type": "markdown",
   "metadata": {},
   "source": [
    "# Hand of Straights\n"
   ]
  },
  {
   "cell_type": "markdown",
   "metadata": {},
   "source": [
    "Alice has a hand of cards, given as an array of integers.\n",
    "\n",
    "Now she wants to rearrange the cards into groups so that each group is size W, and consists of W consecutive cards.\n",
    "\n",
    "Return true if and only if she can.\n",
    "\n",
    "* sort the list\n",
    "* take the first value and pop it from the list\n",
    "* Check for the next value and pop it from the list\n",
    "* Once a group of W is made reset the counter and repeat"
   ]
  },
  {
   "cell_type": "code",
   "execution_count": 37,
   "metadata": {},
   "outputs": [],
   "source": [
    "def isNStraightHand(hand, W):\n",
    "    hand.sort()\n",
    "    prev = None\n",
    "    counter = 0\n",
    "    groups = 0\n",
    "    while hand:\n",
    "        if counter == W:\n",
    "            groups += 1\n",
    "            counter = 0\n",
    "            prev = None\n",
    "        elif prev == None:\n",
    "            prev = hand.pop(0)\n",
    "            counter += 1\n",
    "        else:\n",
    "            try:\n",
    "                prev = hand.pop(hand.index(prev + 1))\n",
    "                counter += 1\n",
    "            except:\n",
    "                return False\n",
    "    if counter == W:\n",
    "        return True\n",
    "    else:\n",
    "        return False"
   ]
  },
  {
   "cell_type": "code",
   "execution_count": 38,
   "metadata": {},
   "outputs": [
    {
     "data": {
      "text/plain": [
       "True"
      ]
     },
     "execution_count": 38,
     "metadata": {},
     "output_type": "execute_result"
    }
   ],
   "source": [
    "isNStraightHand([1,2,3,6,2,3,4,7,8],3)"
   ]
  },
  {
   "cell_type": "code",
   "execution_count": 39,
   "metadata": {},
   "outputs": [
    {
     "name": "stdout",
     "output_type": "stream",
     "text": [
      "1 1\n"
     ]
    },
    {
     "data": {
      "text/plain": [
       "False"
      ]
     },
     "execution_count": 39,
     "metadata": {},
     "output_type": "execute_result"
    }
   ],
   "source": [
    "isNStraightHand([1,2,3,4,5],4)"
   ]
  },
  {
   "cell_type": "code",
   "execution_count": 40,
   "metadata": {},
   "outputs": [
    {
     "data": {
      "text/plain": [
       "True"
      ]
     },
     "execution_count": 40,
     "metadata": {},
     "output_type": "execute_result"
    }
   ],
   "source": [
    "isNStraightHand([1,2,3,4,5,6],2)"
   ]
  },
  {
   "cell_type": "code",
   "execution_count": null,
   "metadata": {},
   "outputs": [],
   "source": []
  }
 ],
 "metadata": {
  "kernelspec": {
   "display_name": "Python 3",
   "language": "python",
   "name": "python3"
  },
  "language_info": {
   "codemirror_mode": {
    "name": "ipython",
    "version": 3
   },
   "file_extension": ".py",
   "mimetype": "text/x-python",
   "name": "python",
   "nbconvert_exporter": "python",
   "pygments_lexer": "ipython3",
   "version": "3.6.4"
  }
 },
 "nbformat": 4,
 "nbformat_minor": 2
}
