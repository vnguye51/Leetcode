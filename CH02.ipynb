{
 "cells": [
  {
   "cell_type": "code",
   "execution_count": 15,
   "metadata": {},
   "outputs": [
    {
     "name": "stdout",
     "output_type": "stream",
     "text": [
      "6\n",
      "8\n",
      "9\n"
     ]
    }
   ],
   "source": [
    "class ListNode:\n",
    "    def __init__(self,x):\n",
    "        self.next = None\n",
    "        self.val = x\n",
    "    def appendToTail(self,x):\n",
    "        while self.next:\n",
    "            self = self.next\n",
    "        self.next = ListNode(x)   \n",
    "    def deleteNode(self,n):\n",
    "        #deletes the first node with value n and returns the new linked list\n",
    "        head = self\n",
    "        if self.val == n:\n",
    "            return self.next\n",
    "        prev = None\n",
    "        while self.next:\n",
    "            if self.val == n:\n",
    "                prev.next = self.next\n",
    "                return head\n",
    "            prev = self\n",
    "            self = self.next\n",
    "\n",
    "a = ListNode(5)\n",
    "a.appendToTail(6)\n",
    "a.appendToTail(7)\n",
    "a.appendToTail(8)\n",
    "a.appendToTail(9)\n",
    "a = a.deleteNode(7)\n",
    "a = a.deleteNode(5)\n",
    "while a:\n",
    "    print(a.val)\n",
    "    a = a.next"
   ]
  },
  {
   "cell_type": "code",
   "execution_count": 45,
   "metadata": {},
   "outputs": [
    {
     "name": "stdout",
     "output_type": "stream",
     "text": [
      "0\n",
      "1\n",
      "2\n"
     ]
    }
   ],
   "source": [
    "##2.1\n",
    "\n",
    "def removeDups(node):\n",
    "    records = {}\n",
    "    p2 = ListNode(None)\n",
    "    p1 = node\n",
    "    while p1:\n",
    "        if p1.val in records:\n",
    "            p2.next = p1.next\n",
    "        else:\n",
    "            records[p1.val] = 1\n",
    "            p2 = p1\n",
    "        p1 = p1.next\n",
    "    return node\n",
    "\n",
    "\n",
    "a = ListNode(0)\n",
    "for n in range(0,10):\n",
    "    a.appendToTail(1)\n",
    "a.appendToTail(2)\n",
    "b = removeDups(a)\n",
    "while b:\n",
    "    print(b.val)\n",
    "    b = b.next"
   ]
  },
  {
   "cell_type": "code",
   "execution_count": 54,
   "metadata": {},
   "outputs": [
    {
     "name": "stdout",
     "output_type": "stream",
     "text": [
      "-1\n",
      "5\n",
      "4\n",
      "3\n",
      "2\n",
      "1\n",
      "0\n",
      "-1\n"
     ]
    }
   ],
   "source": [
    "##2.2\n",
    "def returnKthToLast(node,K):\n",
    "    p1 = node\n",
    "    p2 = node\n",
    "    if K == 0:\n",
    "        return -1\n",
    "    try:\n",
    "        for n in range(0,K):\n",
    "            p1 = p1.next\n",
    "    except:\n",
    "        return -1\n",
    "    while p1:\n",
    "        p1 = p1.next\n",
    "        p2 = p2.next\n",
    "\n",
    "    return p2.val\n",
    "a = ListNode(0)\n",
    "for n in range(1,6):\n",
    "    a.appendToTail(n)\n",
    "print(returnKthToLast(a,0))\n",
    "print(returnKthToLast(a,1))\n",
    "print(returnKthToLast(a,2))\n",
    "print(returnKthToLast(a,3))\n",
    "print(returnKthToLast(a,4))\n",
    "print(returnKthToLast(a,5))\n",
    "print(returnKthToLast(a,6))\n",
    "print(returnKthToLast(a,7))"
   ]
  },
  {
   "cell_type": "code",
   "execution_count": 62,
   "metadata": {},
   "outputs": [
    {
     "name": "stdout",
     "output_type": "stream",
     "text": [
      "0\n",
      "1\n",
      "2\n",
      "4\n",
      "5\n"
     ]
    }
   ],
   "source": [
    "#2.3\n",
    "def deleteMiddle(node):\n",
    "    node.val = node.next.val\n",
    "    node.next = node.next.next\n",
    "\n",
    "a = ListNode(0)\n",
    "for n in range(1,6):\n",
    "    a.appendToTail(n)\n",
    "b = a.next.next.next\n",
    "\n",
    "\n",
    "deleteMiddle(b)\n",
    "while a:\n",
    "    print(a.val)\n",
    "    a = a.next"
   ]
  },
  {
   "cell_type": "code",
   "execution_count": 71,
   "metadata": {},
   "outputs": [
    {
     "name": "stdout",
     "output_type": "stream",
     "text": [
      "5\n",
      "5\n",
      "5\n",
      "5\n",
      "5\n",
      "6\n"
     ]
    }
   ],
   "source": [
    "def Partition(node, P):\n",
    "    h1 = ListNode(None)\n",
    "    h2 = ListNode(None)\n",
    "    p1 = h1\n",
    "    p2 = h2\n",
    "\n",
    "    while node:\n",
    "        if node.val < P:\n",
    "            p1.next = node\n",
    "            p1 = p1.next\n",
    "        else:\n",
    "            p2.next = node\n",
    "            p2 = p2.next\n",
    "        node = node.next\n",
    "    p2.next = None\n",
    "    p1.next = h2.next\n",
    "    return h1.next\n",
    "\n",
    "a = ListNode(6)\n",
    "a.appendToTail(5)\n",
    "a.appendToTail(5)\n",
    "a.appendToTail(5)\n",
    "for n in range(1,3):\n",
    "    a.appendToTail(5)\n",
    "\n",
    "b = Partition(a,6)\n",
    "while b:\n",
    "    print(b.val)\n",
    "    b = b.next"
   ]
  },
  {
   "cell_type": "code",
   "execution_count": 72,
   "metadata": {},
   "outputs": [],
   "source": [
    "def sumLists(head1,head2):\n",
    "    p1 = head1\n",
    "    p2 = head2\n",
    "    dummyHead = ListNode(None)\n",
    "    curr_node = dummyHead\n",
    "    carry = 0\n",
    "    while p1 or p2:\n",
    "        curr = carry\n",
    "        carry = 0\n",
    "        if p1:\n",
    "            curr += p1.val\n",
    "            p1 = p1.next\n",
    "        if p2:\n",
    "            curr += p2.val\n",
    "            p2 = p2.next\n",
    "        if curr >= 10:\n",
    "            curr -= 10\n",
    "            carry = 1\n",
    "        curr_node.next = ListNode(curr)\n",
    "        curr_node = curr_node.next\n",
    "    return dummyHead.next\n"
   ]
  },
  {
   "cell_type": "code",
   "execution_count": 80,
   "metadata": {},
   "outputs": [
    {
     "name": "stdout",
     "output_type": "stream",
     "text": [
      "True\n"
     ]
    }
   ],
   "source": [
    "def palindrome(head):\n",
    "    S = \"\"\n",
    "    while head:\n",
    "        S += head.val\n",
    "        head = head.next\n",
    "    if S == S[::-1]:\n",
    "        return True\n",
    "    return False\n",
    "\n",
    "\n",
    "a = ListNode(\"a\")\n",
    "for c in \"sdfdsa\":\n",
    "    a.appendToTail(c)\n",
    "    \n",
    "print(palindrome(a))"
   ]
  },
  {
   "cell_type": "code",
   "execution_count": 92,
   "metadata": {},
   "outputs": [
    {
     "data": {
      "text/plain": [
       "False"
      ]
     },
     "execution_count": 92,
     "metadata": {},
     "output_type": "execute_result"
    }
   ],
   "source": [
    "def intersection(l1,l2):\n",
    "    p1 = l1\n",
    "    p2 = l2\n",
    "    n1 = 0\n",
    "    n2 = 0\n",
    "    while p1 and p1.next:\n",
    "        p1 = p1.next \n",
    "        n1 += 1\n",
    "    while p2 and p2.next:\n",
    "        p2 = p2.next\n",
    "        n2 += 1\n",
    "    if not p1 is p2:\n",
    "        return None\n",
    "\n",
    "\n",
    "    D = n2 - n1\n",
    "    p1 = l1\n",
    "    p2 = l2\n",
    "    if D > 0:\n",
    "        for i in range(0,D):\n",
    "            p2 = p2.next\n",
    "    elif D < 0:\n",
    "        for i in range(0,-D):\n",
    "            p1 = p1.next\n",
    "\n",
    "    while p1 and p2:       \n",
    "        if p2 is p1:\n",
    "            return p1\n",
    "        p1 = p1.next\n",
    "        p2 = p2.next\n",
    "\n",
    "\n",
    "c = ListNode(1000)\n",
    "c.next = ListNode(10)\n",
    "c.next.next = ListNode(20)\n",
    "\n",
    "a = ListNode(1)\n",
    "a.next = ListNode(4)\n",
    "a.next.next = ListNode(10)\n",
    "b = ListNode(2)\n",
    "b.next = ListNode(3)\n",
    "b.next.next = c\n",
    "\n",
    "intersection(a,b)"
   ]
  },
  {
   "cell_type": "code",
   "execution_count": null,
   "metadata": {},
   "outputs": [],
   "source": []
  }
 ],
 "metadata": {
  "kernelspec": {
   "display_name": "Python 3",
   "language": "python",
   "name": "python3"
  },
  "language_info": {
   "codemirror_mode": {
    "name": "ipython",
    "version": 3
   },
   "file_extension": ".py",
   "mimetype": "text/x-python",
   "name": "python",
   "nbconvert_exporter": "python",
   "pygments_lexer": "ipython3",
   "version": "3.6.4"
  }
 },
 "nbformat": 4,
 "nbformat_minor": 2
}
