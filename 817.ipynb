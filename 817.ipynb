{
 "cells": [
  {
   "cell_type": "markdown",
   "metadata": {},
   "source": [
    "# Linked List Components\n",
    "\n",
    "We are given head, the head node of a linked list containing unique integer values.\n",
    "\n",
    "We are also given the list G, a subset of the values in the linked list.\n",
    "\n",
    "Return the number of connected components in G, where two values are connected if they appear consecutively in the linked list.\n",
    "\n",
    "* Pass through the linked list using two placers\n",
    "* If both values are in the list then increment the count by 1"
   ]
  },
  {
   "cell_type": "code",
   "execution_count": 1,
   "metadata": {
    "collapsed": true
   },
   "outputs": [],
   "source": [
    "def numComponents(self, head, G):\n",
    "    \"\"\"\n",
    "    :type head: ListNode\n",
    "    :type G: List[int]\n",
    "    :rtype: int\n",
    "    \"\"\"\n",
    "    dummyHead = ListNode(0)\n",
    "    dummyHead.next = head\n",
    "    \n",
    "    getter1 = dummyHead.next\n",
    "    getter1 = getter1.next\n",
    "    \n",
    "    if getter1 == None:\n",
    "        return 0\n",
    "    \n",
    "    getter2 = dummyHead.next\n",
    "    \n",
    "    Count = 0\n",
    "    while getter1.next:\n",
    "        if getter1.val in G and getter2.val in G:\n",
    "            Count = Count+1\n",
    "        getter2 = getter2.next\n",
    "        getter1 = getter1.next\n",
    "        \n",
    "    return Count\n",
    "    "
   ]
  },
  {
   "cell_type": "code",
   "execution_count": null,
   "metadata": {
    "collapsed": true
   },
   "outputs": [],
   "source": []
  }
 ],
 "metadata": {
  "kernelspec": {
   "display_name": "Python 2",
   "language": "python",
   "name": "python2"
  },
  "language_info": {
   "codemirror_mode": {
    "name": "ipython",
    "version": 2
   },
   "file_extension": ".py",
   "mimetype": "text/x-python",
   "name": "python",
   "nbconvert_exporter": "python",
   "pygments_lexer": "ipython2",
   "version": "2.7.14"
  }
 },
 "nbformat": 4,
 "nbformat_minor": 2
}
