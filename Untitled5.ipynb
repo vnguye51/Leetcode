{
 "cells": [
  {
   "cell_type": "markdown",
   "metadata": {},
   "source": [
    "Given a collection of distinct integers, return all possible permutations.\n",
    "\n",
    "[1,2,3]\n",
    "\n",
    "[1] [2] [3]\n",
    "\n",
    "-------\n",
    "[1][2,3] [2][1,3] [3][1,2]\n",
    "\n",
    "-------\n",
    "\n",
    "[1,2][3] [1,3][2] and so on\n",
    "\n",
    "[1,2,3] <- to an array outside the recursions\n",
    "\n",
    "* For each number in the array\n",
    "* Create a copy of that array without the chosen number\n",
    "* And then send that back through the permute function\n",
    "\n"
   ]
  },
  {
   "cell_type": "code",
   "execution_count": 10,
   "metadata": {},
   "outputs": [
    {
     "name": "stdout",
     "output_type": "stream",
     "text": [
      "[] [1, 2, 3]\n",
      "[1] [2, 3]\n",
      "[1, 2] [3]\n",
      "[1, 2, 3] []\n",
      "[1, 3] [2]\n",
      "[1, 3, 2] []\n",
      "[2] [1, 3]\n",
      "[2, 1] [3]\n",
      "[2, 1, 3] []\n",
      "[2, 3] [1]\n",
      "[2, 3, 1] []\n",
      "[3] [1, 2]\n",
      "[3, 1] [2]\n",
      "[3, 1, 2] []\n",
      "[3, 2] [1]\n",
      "[3, 2, 1] []\n",
      "[[1, 2, 3], [1, 3, 2], [2, 1, 3], [2, 3, 1], [3, 1, 2], [3, 2, 1]]\n"
     ]
    }
   ],
   "source": [
    "\n",
    "result = []\n",
    "def permute(nums, pool):\n",
    "    if not pool:\n",
    "        result.append(nums)\n",
    "        return\n",
    "    \n",
    "    for i,n in enumerate(pool):\n",
    "        permute(nums+[n],pool[0:i]+pool[i+1:])\n",
    "    \n",
    "permute([],[1,2,3])\n",
    "print(result)\n",
    "\n",
    "\n"
   ]
  },
  {
   "cell_type": "markdown",
   "metadata": {},
   "source": [
    "Given a sorted array nums, remove the duplicates in-place such that each element appear only once and return the new length.\n",
    "\n",
    "* Key Facts\n",
    "* [1,1,2,2,2,3,3,4]\n",
    "* Take note of the first number\n",
    "* Moving through the array in a while loop\n",
    "    \n",
    "    * pop that element if it is the same: pop that value\n",
    "    * if it isn't the same then take note of that number instead: i+=1\n",
    "    \n",
    "\n"
   ]
  },
  {
   "cell_type": "code",
   "execution_count": null,
   "metadata": {},
   "outputs": [],
   "source": [
    "def removeDuplicates(self,nums):\n",
    "    i = 0\n",
    "    curr_value = None\n",
    "    while i < len(nums):\n",
    "        if curr_value == nums[i]:\n",
    "            nums.pop(i)\n",
    "        else:\n",
    "            curr_value = nums[i]\n",
    "            i += 1\n",
    "    return len(nums)"
   ]
  }
 ],
 "metadata": {
  "kernelspec": {
   "display_name": "Python 3",
   "language": "python",
   "name": "python3"
  },
  "language_info": {
   "codemirror_mode": {
    "name": "ipython",
    "version": 3
   },
   "file_extension": ".py",
   "mimetype": "text/x-python",
   "name": "python",
   "nbconvert_exporter": "python",
   "pygments_lexer": "ipython3",
   "version": "3.6.4"
  }
 },
 "nbformat": 4,
 "nbformat_minor": 2
}
