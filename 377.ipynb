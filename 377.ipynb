{
 "cells": [
  {
   "cell_type": "markdown",
   "metadata": {},
   "source": [
    "## Combination Sum IV\n",
    "\n",
    "Given an integer array with all positive numbers and no duplicates, find the number of possible combinations that add up to a positive integer target."
   ]
  },
  {
   "cell_type": "code",
   "execution_count": 7,
   "metadata": {},
   "outputs": [],
   "source": [
    "#The number of ways to get target given a pool of N values is\n",
    "#the number of ways to get (target-n0) + (target-n1) + ...\n",
    "#different sequences are counted as different combinations"
   ]
  },
  {
   "cell_type": "code",
   "execution_count": 10,
   "metadata": {},
   "outputs": [
    {
     "data": {
      "text/plain": [
       "7"
      ]
     },
     "execution_count": 10,
     "metadata": {},
     "output_type": "execute_result"
    }
   ],
   "source": [
    "class Solution:\n",
    "    def combinationSum4(self, nums, target, memo = None):\n",
    "        if memo == None:\n",
    "            memo = {}\n",
    "        if target == 0:\n",
    "            return 1\n",
    "        if target < 0:\n",
    "            return 0\n",
    "        res = 0\n",
    "        for n in nums:\n",
    "            if (target-n) in memo:\n",
    "                res += memo[target-n]\n",
    "            else:\n",
    "                res += self.combinationSum4(nums, target-n, memo)\n",
    "        memo[target] = res\n",
    "        return res\n",
    "sol = Solution()\n",
    "sol.combinationSum4([1,2,3],4)"
   ]
  }
 ],
 "metadata": {
  "kernelspec": {
   "display_name": "Python 3",
   "language": "python",
   "name": "python3"
  },
  "language_info": {
   "codemirror_mode": {
    "name": "ipython",
    "version": 3
   },
   "file_extension": ".py",
   "mimetype": "text/x-python",
   "name": "python",
   "nbconvert_exporter": "python",
   "pygments_lexer": "ipython3",
   "version": "3.6.4"
  }
 },
 "nbformat": 4,
 "nbformat_minor": 2
}
