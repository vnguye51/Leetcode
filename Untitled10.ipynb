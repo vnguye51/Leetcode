{
 "cells": [
  {
   "cell_type": "code",
   "execution_count": 14,
   "metadata": {},
   "outputs": [],
   "source": [
    "class Solution:\n",
    "    def findMin(self,AB):\n",
    "        Min = 10e32\n",
    "        MinVector = (0,0)\n",
    "        for U in range(0,256):\n",
    "            trialMin = (AB - U)**2\n",
    "            if trialMin < Min:\n",
    "                MinVector = U\n",
    "                Min = trialMin\n",
    "        print(Min)\n",
    "        return MinVector\n",
    "    def similarRGB(self, color):\n",
    "        AB = int(color[1:3],16)\n",
    "        CD = int(color[3:5],16)\n",
    "        EF = int(color[5:],16)\n",
    "        \n",
    "        U = self.findMin(AB)\n",
    "        W = self.findMin(CD)\n",
    "        Y = self.findMin(EF)\n",
    "\n",
    "        return (hex(U)[2:]*2) + (hex(W)[2:]*2) + (hex(Y)[2:]*2)\n",
    "        \n",
    "        "
   ]
  },
  {
   "cell_type": "code",
   "execution_count": 21,
   "metadata": {},
   "outputs": [
    {
     "data": {
      "text/plain": [
       "'0b11110101'"
      ]
     },
     "execution_count": 21,
     "metadata": {},
     "output_type": "execute_result"
    }
   ],
   "source": [
    "bin(245)"
   ]
  },
  {
   "cell_type": "code",
   "execution_count": 19,
   "metadata": {},
   "outputs": [
    {
     "data": {
      "text/plain": [
       "241"
      ]
     },
     "execution_count": 19,
     "metadata": {},
     "output_type": "execute_result"
    }
   ],
   "source": [
    "int(\"f1\",16)"
   ]
  },
  {
   "cell_type": "code",
   "execution_count": null,
   "metadata": {},
   "outputs": [],
   "source": []
  }
 ],
 "metadata": {
  "kernelspec": {
   "display_name": "Python 3",
   "language": "python",
   "name": "python3"
  },
  "language_info": {
   "codemirror_mode": {
    "name": "ipython",
    "version": 3
   },
   "file_extension": ".py",
   "mimetype": "text/x-python",
   "name": "python",
   "nbconvert_exporter": "python",
   "pygments_lexer": "ipython3",
   "version": "3.6.4"
  }
 },
 "nbformat": 4,
 "nbformat_minor": 2
}
