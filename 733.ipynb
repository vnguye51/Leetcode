{
 "cells": [
  {
   "cell_type": "markdown",
   "metadata": {},
   "source": [
    "## Flood Fill\n",
    "\n",
    " An image is represented by a 2-D array of integers, each integer representing the pixel value of the image (from 0 to 65535).\n",
    "\n",
    "Given a coordinate (sr, sc) representing the starting pixel (row and column) of the flood fill, and a pixel value newColor, \"flood fill\" the image.\n",
    "\n",
    "To perform a \"flood fill\", consider the starting pixel, plus any pixels connected 4-directionally to the starting pixel of the same color as the starting pixel, plus any pixels connected 4-directionally to those pixels (also with the same color as the starting pixel), and so on. Replace the color of all of the aforementioned pixels with the newColor.\n",
    "\n",
    "At the end, return the modified image. "
   ]
  },
  {
   "cell_type": "code",
   "execution_count": 23,
   "metadata": {},
   "outputs": [],
   "source": [
    "class Solution:\n",
    "    def floodFill(self, A, i, j, newC, c=None, visited = None):\n",
    "        if c is None:\n",
    "            visited = {}\n",
    "            c = A[i][j]\n",
    "        if not (i,j) in visited:\n",
    "            visited[(i,j)] = 1\n",
    "        else:\n",
    "            return\n",
    "        \n",
    "        if i >= 0 and i < len(A) and j >= 0 and j < len(A[0]) and A[i][j] == c:\n",
    "            A[i][j] = newC\n",
    "            self.floodFill(A,i+1,j,newC,c,visited)\n",
    "            self.floodFill(A,i-1,j,newC,c,visited)\n",
    "            self.floodFill(A,i,j+1,newC,c,visited)\n",
    "            self.floodFill(A,i,j-1,newC,c,visited)\n",
    "        "
   ]
  },
  {
   "cell_type": "code",
   "execution_count": 24,
   "metadata": {},
   "outputs": [
    {
     "name": "stdout",
     "output_type": "stream",
     "text": [
      "[[2, 2, 2], [2, 2, 0], [2, 0, 1]]\n"
     ]
    }
   ],
   "source": [
    "sol = Solution()\n",
    "A = [[1,1,1],[1,1,0],[1,0,1]]\n",
    "sol.floodFill(A,1,1,2)\n",
    "print(A)"
   ]
  },
  {
   "cell_type": "code",
   "execution_count": null,
   "metadata": {},
   "outputs": [],
   "source": []
  }
 ],
 "metadata": {
  "kernelspec": {
   "display_name": "Python 3",
   "language": "python",
   "name": "python3"
  },
  "language_info": {
   "codemirror_mode": {
    "name": "ipython",
    "version": 3
   },
   "file_extension": ".py",
   "mimetype": "text/x-python",
   "name": "python",
   "nbconvert_exporter": "python",
   "pygments_lexer": "ipython3",
   "version": "3.6.4"
  }
 },
 "nbformat": 4,
 "nbformat_minor": 2
}
