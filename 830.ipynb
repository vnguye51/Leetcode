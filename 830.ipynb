{
 "cells": [
  {
   "cell_type": "markdown",
   "metadata": {},
   "source": [
    "## Positions of Large Groups\n",
    "In a string S of lowercase letters, these letters form consecutive groups of the same character.\n",
    "\n",
    "For example, a string like S = \"abbxxxxzyy\" has the groups \"a\", \"bb\", \"xxxx\", \"z\" and \"yy\".\n",
    "\n",
    "Call a group large if it has 3 or more characters.  We would like the starting and ending positions of every large group.\n",
    "\n",
    "The final answer should be in lexicographic order.\n",
    "\n",
    "* Scan from left to right\n",
    "* set left to 0\n",
    "* If the current character is equal to its previous: pass\n",
    "    * If not then set right to i-1\n",
    "* If right - left >= 3 then append it to the output\n",
    "* after the string is finished set the right to the final index and check again"
   ]
  },
  {
   "cell_type": "code",
   "execution_count": 16,
   "metadata": {},
   "outputs": [],
   "source": [
    "def largeGroupPositions(S):\n",
    "    if len(S) <= 2:\n",
    "        return []\n",
    "    Output = []\n",
    "    left = 0\n",
    "    for i in range(1,len(S)):\n",
    "        if S[i-1] != S[i]:\n",
    "            right = i-1\n",
    "            print(right,left)\n",
    "            if right-left+1 >= 3:\n",
    "                Output.append([left,right])\n",
    "            left = i\n",
    "    right = i\n",
    "    \n",
    "    if right-left+1 >= 3:\n",
    "        Output.append([left,right])\n",
    "        \n",
    "    return Output\n",
    "            "
   ]
  },
  {
   "cell_type": "code",
   "execution_count": 17,
   "metadata": {},
   "outputs": [
    {
     "name": "stdout",
     "output_type": "stream",
     "text": [
      "0 0\n",
      "1 1\n",
      "2 2\n",
      "5 3\n",
      "9 6\n",
      "11 10\n",
      "14 12\n",
      "15 15\n"
     ]
    },
    {
     "data": {
      "text/plain": [
       "[[3, 5], [6, 9], [12, 14], [16, 19]]"
      ]
     },
     "execution_count": 17,
     "metadata": {},
     "output_type": "execute_result"
    }
   ],
   "source": [
    "largeGroupPositions(\"abcdddeeeeaabbbcdddd\")"
   ]
  },
  {
   "cell_type": "code",
   "execution_count": null,
   "metadata": {},
   "outputs": [],
   "source": []
  }
 ],
 "metadata": {
  "kernelspec": {
   "display_name": "Python 3",
   "language": "python",
   "name": "python3"
  },
  "language_info": {
   "codemirror_mode": {
    "name": "ipython",
    "version": 3
   },
   "file_extension": ".py",
   "mimetype": "text/x-python",
   "name": "python",
   "nbconvert_exporter": "python",
   "pygments_lexer": "ipython3",
   "version": "3.6.4"
  }
 },
 "nbformat": 4,
 "nbformat_minor": 2
}
