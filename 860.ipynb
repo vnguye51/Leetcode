{
 "cells": [
  {
   "cell_type": "markdown",
   "metadata": {},
   "source": [
    "## Lemonade Change\n",
    "\n",
    "At a lemonade stand, each lemonade costs $5. \n",
    "\n",
    "Customers are standing in a queue to buy from you, and order one at a time (in the order specified by bills).\n",
    "\n",
    "Each customer will only buy one lemonade and pay with either a \\$5, \\$10, or \\$20 bill.  You must provide the correct change to each customer, so that the net transaction is that the customer pays $5.\n",
    "\n",
    "Note that you don't have any change in hand at first.\n",
    "\n",
    "Return true if and only if you can provide every customer with correct change."
   ]
  },
  {
   "cell_type": "markdown",
   "metadata": {},
   "source": [
    "* Queue system\n",
    "* Simply keep a tally of bills\n",
    "* prioritize paying with larger bills\n",
    "* A 20 must be paid back with a 10 and a 5 or three 5s\n",
    "* A 10 must be paid back with a 5\n",
    "* No need to keep track of twenties"
   ]
  },
  {
   "cell_type": "code",
   "execution_count": 5,
   "metadata": {},
   "outputs": [],
   "source": [
    "class Solution:\n",
    "    def lemonadeChange(self, bills):\n",
    "        bank = [0,0]\n",
    "        for n in bills:\n",
    "            if n == 5:\n",
    "                bank[0] += 1\n",
    "            if n == 10:\n",
    "                if bank[0] > 0:\n",
    "                    bank[0] -= 1\n",
    "                    bank[1] += 1\n",
    "                else:\n",
    "                    return False\n",
    "            if n == 20:\n",
    "                if bank[1] > 0 and bank[0] > 0:\n",
    "                    bank[1] -= 1\n",
    "                    bank[0] -= 1\n",
    "                elif bank[0] > 2:\n",
    "                    bank[0] -= 3\n",
    "                else:\n",
    "                    return False\n",
    "        return True"
   ]
  },
  {
   "cell_type": "code",
   "execution_count": 7,
   "metadata": {},
   "outputs": [
    {
     "data": {
      "text/plain": [
       "True"
      ]
     },
     "execution_count": 7,
     "metadata": {},
     "output_type": "execute_result"
    }
   ],
   "source": [
    "sol = Solution()\n",
    "sol.lemonadeChange([5,5,10,10,20])\n",
    "sol.lemonadeChange([5,5,10])\n",
    "sol.lemonadeChange([])"
   ]
  },
  {
   "cell_type": "code",
   "execution_count": null,
   "metadata": {},
   "outputs": [],
   "source": []
  }
 ],
 "metadata": {
  "kernelspec": {
   "display_name": "Python 3",
   "language": "python",
   "name": "python3"
  },
  "language_info": {
   "codemirror_mode": {
    "name": "ipython",
    "version": 3
   },
   "file_extension": ".py",
   "mimetype": "text/x-python",
   "name": "python",
   "nbconvert_exporter": "python",
   "pygments_lexer": "ipython3",
   "version": "3.6.4"
  }
 },
 "nbformat": 4,
 "nbformat_minor": 2
}
