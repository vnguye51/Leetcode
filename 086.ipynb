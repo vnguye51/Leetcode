{
 "cells": [
  {
   "cell_type": "markdown",
   "metadata": {},
   "source": [
    "# Partition List\n",
    "\n",
    "Given a linked list and a value x, partition it such that all nodes less than x come before nodes greater than or equal to x.\n",
    "\n",
    "You should preserve the original relative order of the nodes in each of the two partitions.\n",
    "\n",
    "    Example:\n",
    "\n",
    "    Input: head = 1->4->3->2->5->2, x = 3\n",
    "    Output: 1->2->2->4->3->5\n",
    "\n"
   ]
  },
  {
   "cell_type": "markdown",
   "metadata": {},
   "source": [
    "* Find the first node under x create a ref to it\n",
    "* Find the first node greater than x create a ref to it\n",
    "\n",
    "* For every other number attach it to the corresponding head\n",
    "* attach the two heads end to end once the entire list is finished"
   ]
  },
  {
   "cell_type": "code",
   "execution_count": 56,
   "metadata": {},
   "outputs": [],
   "source": [
    "class ListNode:\n",
    "    def __init__(self, x):\n",
    "        self.val = x\n",
    "        self.next = None\n",
    "\n",
    "class Solution:\n",
    "    def partition(self, head, x):\n",
    "        if head == None or head.next == None:\n",
    "            return head\n",
    "        hihead = None\n",
    "        currhi = None\n",
    "        lohead = None\n",
    "        currlo = None\n",
    "        currnode = head\n",
    "        while currnode:\n",
    "            if currnode.val >= x:\n",
    "                if not hihead:\n",
    "                    hihead = currnode\n",
    "                    currhi = hihead\n",
    "                else:\n",
    "                    currhi.next = currnode\n",
    "                    currhi = currhi.next\n",
    "            else:\n",
    "                if not lohead:\n",
    "                    lohead = currnode\n",
    "                    currlo = lohead\n",
    "                else:\n",
    "                    currlo.next = currnode\n",
    "                    currlo = currlo.next\n",
    "            currnode = currnode.next\n",
    "        if(hihead and lohead):\n",
    "            currhi.next = None\n",
    "            currlo.next = hihead\n",
    "            return lohead\n",
    "        elif lohead:\n",
    "            return lohead\n",
    "        else:\n",
    "            return hihead\n",
    "        \n",
    "def arrToLinkedList(arr):\n",
    "    if len(arr) == 0:\n",
    "        return None\n",
    "    head = ListNode(arr[0])\n",
    "    if(len(arr) > 1):\n",
    "        a = ListNode(arr[1])\n",
    "        head.next = a\n",
    "        if(len(arr) > 2):\n",
    "            for n in arr[2:]:\n",
    "                a.next = ListNode(n)\n",
    "                a = a.next\n",
    "    return head\n",
    "\n",
    "def LinkedListToArr(head):\n",
    "    if not head:\n",
    "        return head\n",
    "    arr = [head.val]\n",
    "    while head.next:\n",
    "        head = head.next\n",
    "        arr.append(head.val)\n",
    "    return arr\n",
    "\n",
    "\n",
    "\n",
    "        "
   ]
  },
  {
   "cell_type": "code",
   "execution_count": 60,
   "metadata": {},
   "outputs": [
    {
     "name": "stdout",
     "output_type": "stream",
     "text": [
      "[1, 2, 2, 2, 4, 3, 5]\n",
      "[-1, 3]\n"
     ]
    }
   ],
   "source": [
    "head1 = arrToLinkedList([1,4,3,2,5,2,2])\n",
    "head2 = arrToLinkedList([-1,3])\n",
    "\n",
    "sol = Solution()\n",
    "print(LinkedListToArr(sol.partition(head1,3)))\n",
    "print(LinkedListToArr(sol.partition(head2,0)))"
   ]
  }
 ],
 "metadata": {
  "kernelspec": {
   "display_name": "Python 3",
   "language": "python",
   "name": "python3"
  },
  "language_info": {
   "codemirror_mode": {
    "name": "ipython",
    "version": 3
   },
   "file_extension": ".py",
   "mimetype": "text/x-python",
   "name": "python",
   "nbconvert_exporter": "python",
   "pygments_lexer": "ipython3",
   "version": "3.6.4"
  }
 },
 "nbformat": 4,
 "nbformat_minor": 2
}
