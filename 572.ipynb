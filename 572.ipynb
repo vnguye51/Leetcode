{
 "cells": [
  {
   "cell_type": "code",
   "execution_count": null,
   "metadata": {},
   "outputs": [],
   "source": [
    "class Solution:\n",
    "    def isSubtree(self, T1, T2):\n",
    "        def preorder(root,arr):\n",
    "            if root:\n",
    "                arr.append(root.val)\n",
    "                preorder(root.left,arr)\n",
    "                preorder(root.right,arr)\n",
    "            else:\n",
    "                arr.append(\"X\")\n",
    "        preorderT1 = []\n",
    "        preorderT2 = []\n",
    "        preorder(T1,preorderT1)\n",
    "        preorder(T2,preorderT2)\n",
    "\n",
    "        i = 0\n",
    "        flag1 = False\n",
    "        \n",
    "        while i <= len(preorderT1) - len(preorderT2):\n",
    "            if preorderT1[i:i+len(preorderT2)] == preorderT2:\n",
    "                flag1 = True\n",
    "            i += 1\n",
    "\n",
    "        return flag1"
   ]
  }
 ],
 "metadata": {
  "kernelspec": {
   "display_name": "Python 3",
   "language": "python",
   "name": "python3"
  }
 },
 "nbformat": 4,
 "nbformat_minor": 2
}
