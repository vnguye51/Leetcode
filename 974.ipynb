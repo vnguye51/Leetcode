{
 "cells": [
  {
   "cell_type": "markdown",
   "metadata": {},
   "source": [
    "## Subarray Sums Divisible by K\n",
    "Given an array A of integers, return the number of (contiguous, non-empty) subarrays that have a sum divisible by K\n",
    "\n",
    "* We could simply use a window and scan the array but that is very likely to exceed the time limit\n",
    "* We can simplify the taking of sums by simply removing the last or first element while recursing through the possibilities"
   ]
  },
  {
   "cell_type": "code",
   "execution_count": 27,
   "metadata": {},
   "outputs": [],
   "source": [
    "class Solution:\n",
    "    def subarraysDivByK(self, A, K):\n",
    "        memo = {}\n",
    "        def helper(A,K,curr, memo): \n",
    "            count = 0\n",
    "            if not A or tuple(A) in memo:\n",
    "                return 0\n",
    "            memo[tuple(A)] = 1\n",
    "            if curr%K == 0:\n",
    "                count += 1\n",
    "            return count + helper(A[1:],K,curr-A[0],memo) + helper(A[0:-1],K,curr-A[-1],memo)\n",
    "        return helper(A,K,sum(A),memo)\n",
    "        \n",
    "        "
   ]
  },
  {
   "cell_type": "code",
   "execution_count": 91,
   "metadata": {},
   "outputs": [
    {
     "name": "stdout",
     "output_type": "stream",
     "text": [
      "[4, 5, 0, -2, -3, 1] 5 0 6 6\n",
      "!\n",
      "1 7\n",
      "[4, 5, 0, -2, -3] 4 0 5 5\n",
      "[5, 0, -2, -3, 1] 1 1 6 5\n",
      "2 7\n",
      "[4, 5, 0, -2] 7 0 4 4\n",
      "[5, 0, -2, -3] 0 1 5 4\n",
      "!\n",
      "[0, -2, -3, 1] -4 2 6 4\n",
      "3 7\n",
      "[4, 5, 0] 9 0 3 3\n",
      "[5, 0, -2] 3 1 4 3\n",
      "[0, -2, -3] -5 2 5 3\n",
      "!\n",
      "[-2, -3, 1] -4 3 6 3\n",
      "4 7\n",
      "[4, 5] 9 0 2 2\n",
      "[5, 0] 5 1 3 2\n",
      "!\n",
      "[0, -2] -2 2 4 2\n",
      "[-2, -3] -5 3 5 2\n",
      "!\n",
      "[-3, 1] -2 4 6 2\n",
      "5 7\n",
      "[4] 4 0 1 1\n",
      "[5] 5 1 2 1\n",
      "!\n",
      "[0] 0 2 3 1\n",
      "!\n",
      "[-2] -2 3 4 1\n",
      "[-3] -3 4 5 1\n",
      "[1] 1 5 6 1\n",
      "6 7\n"
     ]
    },
    {
     "data": {
      "text/plain": [
       "7"
      ]
     },
     "execution_count": 91,
     "metadata": {},
     "output_type": "execute_result"
    }
   ],
   "source": [
    "sol = Solution()\n",
    "sol.subarraysDivByK([4,5,0,-2,-3,1],5)\n",
    "# sol.subarraysDivByK([8,9,7,8,9],8)\n"
   ]
  },
  {
   "cell_type": "code",
   "execution_count": 90,
   "metadata": {},
   "outputs": [],
   "source": [
    "class Solution:\n",
    "    def subarraysDivByK(self, A, K):\n",
    "        count = 0\n",
    "        curr = sum(A)\n",
    "        width = len(A)\n",
    "        i,j = 0,len(A)\n",
    "        while i != j:\n",
    "            if curr%K == 0:\n",
    "                count += 1\n",
    "            i += 1\n",
    "            j += 1\n",
    "            if j >= len(A)+1:\n",
    "                print(i,j)\n",
    "                width -= 1\n",
    "                i = 0\n",
    "                j = width\n",
    "                curr = sum(A[i:j])\n",
    "                \n",
    "            else:\n",
    "                curr -= A[i-1]\n",
    "                curr += A[j-1]\n",
    "        return count"
   ]
  },
  {
   "cell_type": "code",
   "execution_count": null,
   "metadata": {},
   "outputs": [],
   "source": []
  },
  {
   "cell_type": "code",
   "execution_count": null,
   "metadata": {},
   "outputs": [],
   "source": []
  }
 ],
 "metadata": {
  "kernelspec": {
   "display_name": "Python 3",
   "language": "python",
   "name": "python3"
  },
  "language_info": {
   "codemirror_mode": {
    "name": "ipython",
    "version": 3
   },
   "file_extension": ".py",
   "mimetype": "text/x-python",
   "name": "python",
   "nbconvert_exporter": "python",
   "pygments_lexer": "ipython3",
   "version": "3.6.4"
  }
 },
 "nbformat": 4,
 "nbformat_minor": 2
}
