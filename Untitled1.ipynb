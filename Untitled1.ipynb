{
 "cells": [
  {
   "cell_type": "markdown",
   "metadata": {},
   "source": [
    "## Accounts Merge\n",
    "Given a list accounts, each element accounts[i] is a list of strings, where the first element accounts[i][0] is a name, and the rest of the elements are emails representing emails of the account.\n",
    "\n",
    "Now, we would like to merge these accounts. Two accounts definitely belong to the same person if there is some email that is common to both accounts. Note that even if two accounts have the same name, they may belong to different people as people could have the same name. A person can have any number of accounts initially, but all of their accounts definitely have the same name.\n",
    "\n",
    "After merging the accounts, return the accounts in the following format: the first element of each account is the name, and the rest of the elements are emails in sorted order. The accounts themselves can be returned in any order."
   ]
  },
  {
   "cell_type": "code",
   "execution_count": 1,
   "metadata": {},
   "outputs": [],
   "source": [
    "# We Will use a dictionary of dictionaries to solve this\n",
    "# We'll use a dictionary as a map emails will map to unique names\n",
    "# First we need a way to \"hash\" names\n",
    "## To do this we'll simply use a dictionary to keep a running count of duplicate names and append that count to their name\n",
    "## later we'll strip it\n",
    "## we are told there will only be 1000 accounts so we'll have the names be John000 or so"
   ]
  },
  {
   "cell_type": "code",
   "execution_count": 13,
   "metadata": {},
   "outputs": [
    {
     "data": {
      "text/plain": [
       "[['John', 'john00@mail.com', 'john_newyork@mail.com', 'johnsmith@mail.com'],\n",
       " ['John', 'johnnybravo@mail.com'],\n",
       " ['Mary', 'mary@mail.com']]"
      ]
     },
     "execution_count": 13,
     "metadata": {},
     "output_type": "execute_result"
    }
   ],
   "source": [
    "class Solution:\n",
    "    def nameHash(self,name,memo):\n",
    "        if name in memo:\n",
    "            memo[name] += 1\n",
    "        else:\n",
    "            memo[name] = 0\n",
    "        return name+str(memo[name]).zfill(3)\n",
    "        \n",
    "    def accountsMerge(self, accounts):\n",
    "        names = {}\n",
    "        emailMap = {}\n",
    "        for emails in accounts:\n",
    "            name = emails[0]\n",
    "            dupemail = None\n",
    "            for email in emails[1:]:\n",
    "                if email in emailMap:\n",
    "                    dupemail = email\n",
    "                    break\n",
    "            if dupemail:\n",
    "                hashedName = emailMap[dupemail]\n",
    "            else:\n",
    "                hashedName = self.nameHash(name,names)\n",
    "            for email in emails[1:]:\n",
    "                emailMap[email] = hashedName\n",
    "        \n",
    "        res = []\n",
    "        invertedMap = {}\n",
    "        for email,name in emailMap.items():\n",
    "            if name in invertedMap:\n",
    "                invertedMap[name].append(email)\n",
    "            else:\n",
    "                invertedMap[name] = [email]\n",
    "        \n",
    "        for name,emails in invertedMap.items():\n",
    "            res.append([name[:-3]]+sorted(emails))\n",
    "        return res\n",
    "            \n",
    "sol = Solution()\n",
    "accounts = [[\"John\", \"johnsmith@mail.com\", \"john00@mail.com\"], [\"John\", \"johnnybravo@mail.com\"], \n",
    "            [\"John\", \"johnsmith@mail.com\", \"john_newyork@mail.com\"], [\"Mary\", \"mary@mail.com\"]]\n",
    "sol.accountsMerge(accounts)"
   ]
  },
  {
   "cell_type": "code",
   "execution_count": 4,
   "metadata": {},
   "outputs": [
    {
     "data": {
      "text/plain": [
       "'005'"
      ]
     },
     "execution_count": 4,
     "metadata": {},
     "output_type": "execute_result"
    }
   ],
   "source": [
    "\"5\".zfill(3)"
   ]
  },
  {
   "cell_type": "code",
   "execution_count": null,
   "metadata": {},
   "outputs": [],
   "source": []
  }
 ],
 "metadata": {
  "kernelspec": {
   "display_name": "Python 3",
   "language": "python",
   "name": "python3"
  },
  "language_info": {
   "codemirror_mode": {
    "name": "ipython",
    "version": 3
   },
   "file_extension": ".py",
   "mimetype": "text/x-python",
   "name": "python",
   "nbconvert_exporter": "python",
   "pygments_lexer": "ipython3",
   "version": "3.6.4"
  }
 },
 "nbformat": 4,
 "nbformat_minor": 2
}
