{
 "cells": [
  {
   "cell_type": "markdown",
   "metadata": {},
   "source": [
    " ## Merge k sorted lists\n",
    " \n",
    " Merge k sorted linked lists and return it as one sorted list. Analyze and describe its complexity. \n",
    " \n",
    " * We'll do this problem by modifying our solution to merging two sorted lists\n",
    " * At each step we loop through the nodes checking for smallest of each number "
   ]
  },
  {
   "cell_type": "code",
   "execution_count": null,
   "metadata": {
    "collapsed": true
   },
   "outputs": [],
   "source": [
    "# Definition for singly-linked list.\n",
    "# class ListNode:\n",
    "#     def __init__(self, x):\n",
    "#         self.val = x\n",
    "#         self.next = None\n",
    "\n",
    "class Solution:\n",
    "    def mergeKLists(self, lists):\n",
    "        \n",
    "    \n",
    "    dummyHead = ListNode(0)\n",
    "    NewList = dummyHead\n",
    "    dummyHead.next = NewList\n",
    "    \n",
    "    while lists:\n",
    "    \n",
    "        CurrentValues = []\n",
    "        for i,n in enumerate(lists):\n",
    "            CurrentValues.append(n.val)\n",
    "        \n",
    "        MaxIndex = CurrentValues.index(max(CurrentValues))\n",
    "        NewList.next = ListNode(CurrentValues[MaxIndex])\n",
    "        NewList = NewList.next\n",
    "        \n",
    "        lists[MaxIndex] = lists[MaxIndex].next\n",
    "        \n",
    "        lists = [n for n in lists if n != None]\n",
    "        \n",
    "    return dummyHead.next"
   ]
  }
 ],
 "metadata": {
  "kernelspec": {
   "display_name": "Python 2",
   "language": "python",
   "name": "python2"
  },
  "language_info": {
   "codemirror_mode": {
    "name": "ipython",
    "version": 2
   },
   "file_extension": ".py",
   "mimetype": "text/x-python",
   "name": "python",
   "nbconvert_exporter": "python",
   "pygments_lexer": "ipython2",
   "version": "2.7.14"
  }
 },
 "nbformat": 4,
 "nbformat_minor": 2
}
