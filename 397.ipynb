{
 "cells": [
  {
   "cell_type": "markdown",
   "metadata": {},
   "source": [
    "## Integer Replacement\n",
    "\n",
    " Given a positive integer n and you can do operations as follow:\n",
    "\n",
    "    If n is even, replace n with n/2.\n",
    "    If n is odd, you can replace n with either n + 1 or n - 1.\n",
    "\n",
    "What is the minimum number of replacements needed for n to become 1? \n",
    "\n",
    "    Example 1:\n",
    "    \n",
    "    Input:\n",
    "    8\n",
    "\n",
    "    Output:\n",
    "    3\n",
    "\n",
    "    Explanation:\n",
    "    8 -> 4 -> 2 -> 1\n",
    "\n",
    "    Example 2:\n",
    "\n",
    "    Input:\n",
    "    7\n",
    "\n",
    "    Output:\n",
    "    4\n",
    "\n",
    "    Explanation:\n",
    "    7 -> 8 -> 4 -> 2 -> 1\n",
    "    or\n",
    "    7 -> 6 -> 3 -> 2 -> 1\n"
   ]
  },
  {
   "cell_type": "code",
   "execution_count": 1,
   "metadata": {},
   "outputs": [],
   "source": [
    "#This sounds like a bit shifting problem so we should represent our examples as binary\n",
    "#In example 1\n",
    "#The answer is that as long as the bit to your left is 1 then you add 1, otherwise subtract 1\n"
   ]
  },
  {
   "cell_type": "code",
   "execution_count": 11,
   "metadata": {},
   "outputs": [
    {
     "name": "stdout",
     "output_type": "stream",
     "text": [
      "1\n",
      "1\n",
      "1\n",
      "1\n"
     ]
    },
    {
     "data": {
      "text/plain": [
       "6"
      ]
     },
     "execution_count": 11,
     "metadata": {},
     "output_type": "execute_result"
    }
   ],
   "source": [
    "class Solution:\n",
    "    def integerReplacement(self, n):\n",
    "        \"\"\"\n",
    "        :type n: int\n",
    "        :rtype: int\n",
    "        \"\"\"\n",
    "        \n",
    "        count = 0\n",
    "        while n!=1:\n",
    "            nbin = bin(n)[2:]   \n",
    "            if nbin[-1] == \"1\":\n",
    "                if nbin[-2] == \"1\" and len(nbin) > 2:\n",
    "                    n+=1\n",
    "                else:\n",
    "                    n-=1\n",
    "            else:\n",
    "                n//=2\n",
    "            count+=1\n",
    "        return count\n",
    "    \n",
    "sol = Solution()\n",
    "sol.integerReplacement(8)#3\n",
    "sol.integerReplacement(7)#4\n",
    "sol.integerReplacement(3)#2\n",
    "sol.integerReplacement(21)#6"
   ]
  }
 ],
 "metadata": {
  "kernelspec": {
   "display_name": "Python 3",
   "language": "python",
   "name": "python3"
  },
  "language_info": {
   "codemirror_mode": {
    "name": "ipython",
    "version": 3
   },
   "file_extension": ".py",
   "mimetype": "text/x-python",
   "name": "python",
   "nbconvert_exporter": "python",
   "pygments_lexer": "ipython3",
   "version": "3.6.4"
  }
 },
 "nbformat": 4,
 "nbformat_minor": 2
}
