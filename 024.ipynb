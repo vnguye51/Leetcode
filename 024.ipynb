{
 "cells": [
  {
   "cell_type": "markdown",
   "metadata": {},
   "source": [
    "## Given a linked list, swap every two adjacent nodes and return its head.\n",
    "\n",
    "For example,\n",
    "Given 1->2->3->4, you should return the list as 2->1->4->3.\n",
    "\n",
    "Your algorithm should use only constant space. You may not modify the values in the list, only nodes itself can be changed. "
   ]
  },
  {
   "cell_type": "markdown",
   "metadata": {},
   "source": [
    "*  We create a while loop. We send two pointers down the linked list. \n",
    "*  the next of the trailing node is replaced with the next of the leading node,\n",
    "    * the next of the leading node is then assigned as the trailing node\n",
    "* both the leading and trailing node are relabeled as each other\n",
    "* both of them advance 1 step"
   ]
  },
  {
   "cell_type": "code",
   "execution_count": 1,
   "metadata": {},
   "outputs": [],
   "source": [
    "class ListNode:\n",
    "     def __init__(self, x):\n",
    "        self.val = x\n",
    "        self.next = None\n",
    "\n",
    "class Solution:\n",
    "    def swapPairs(self, head):\n",
    "        \n",
    "        dummyHead = ListNode(0)\n",
    "        dummyHead.next = head\n",
    "        Pointer2 = dummyHead\n",
    "        Pointer1 = Pointer2.next\n",
    "        \n",
    "        while Pointer1 is not None and Pointer1.next is not None:\n",
    "                    \n",
    "            Pointer2.next = Pointer1.next\n",
    "            Pointer2 = Pointer2.next\n",
    "            Pointer1.next = Pointer1.next.next\n",
    "            Pointer2.next = Pointer1\n",
    "            \n",
    "            Pointer1,Pointer2 = Pointer2,Pointer1\n",
    "            \n",
    "            Pointer1 = Pointer1.next\n",
    "            Pointer2 = Pointer2.next\n",
    "            \n",
    "            \n",
    "        return dummyHead.next"
   ]
  },
  {
   "cell_type": "code",
   "execution_count": null,
   "metadata": {
    "collapsed": true
   },
   "outputs": [],
   "source": []
  }
 ],
 "metadata": {
  "kernelspec": {
   "display_name": "Python 3",
   "language": "python",
   "name": "python3"
  },
  "language_info": {
   "codemirror_mode": {
    "name": "ipython",
    "version": 3
   },
   "file_extension": ".py",
   "mimetype": "text/x-python",
   "name": "python",
   "nbconvert_exporter": "python",
   "pygments_lexer": "ipython3",
   "version": "3.6.4"
  }
 },
 "nbformat": 4,
 "nbformat_minor": 2
}
