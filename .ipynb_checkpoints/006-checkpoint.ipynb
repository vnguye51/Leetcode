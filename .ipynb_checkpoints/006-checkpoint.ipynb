{
 "cells": [
  {
   "cell_type": "markdown",
   "metadata": {},
   "source": [
    "## ZigZagConversion\n",
    "\n",
    "The string \"PAYPALISHIRING\" is written in a zigzag pattern on a given number of rows like this: \n",
    "\n",
    "And then read line by line: \"PAHNAPLSIIGYIR\"\n",
    "\n",
    "Write the code that will take a string and make this conversion given a number of rows:\n",
    "\n",
    "convert(\"PAYPALISHIRING\", 3) should return \"PAHNAPLSIIGYIR\". "
   ]
  },
  {
   "cell_type": "markdown",
   "metadata": {},
   "source": [
    "The position of the top and bottom rows are $2(R-1)$ elements away from each other,\n",
    "The position of the middle rows alternate based on the distance from the top or bottom:\n",
    "    \n",
    "$2((R-1)-d)$ and $2d(R-1)$"
   ]
  },
  {
   "cell_type": "code",
   "execution_count": 73,
   "metadata": {
    "collapsed": true
   },
   "outputs": [],
   "source": [
    "def convert( s, numRows):\n",
    "    if len(s) <= numRows or numRows == 1:\n",
    "        return s\n",
    "    converted = ''\n",
    "    converted = converted + s[::2*(numRows-1)]\n",
    "\n",
    "    for n in range(1,numRows-1):\n",
    "        evenodd = 0\n",
    "        i = n\n",
    "        converted = converted + s[i]\n",
    "        while True:\n",
    "            if evenodd == 0:\n",
    "                d = 2*((numRows-1)-n)\n",
    "                evenodd = 1\n",
    "            else:\n",
    "                d = 2*(n)\n",
    "                evenodd = 0\n",
    "            try:\n",
    "                converted = converted + s[i+d]\n",
    "\n",
    "            except IndexError:\n",
    "                break\n",
    "            i = i+d\n",
    "\n",
    "    converted = converted + s[numRows-1::2*(numRows-1)]\n",
    "    return converted\n",
    "   "
   ]
  },
  {
   "cell_type": "code",
   "execution_count": 74,
   "metadata": {},
   "outputs": [
    {
     "data": {
      "text/plain": [
       "'AB'"
      ]
     },
     "execution_count": 74,
     "metadata": {},
     "output_type": "execute_result"
    }
   ],
   "source": [
    "convert(\"AB\",4)"
   ]
  }
 ],
 "metadata": {
  "kernelspec": {
   "display_name": "Python 2",
   "language": "python",
   "name": "python2"
  },
  "language_info": {
   "codemirror_mode": {
    "name": "ipython",
    "version": 2
   },
   "file_extension": ".py",
   "mimetype": "text/x-python",
   "name": "python",
   "nbconvert_exporter": "python",
   "pygments_lexer": "ipython2",
   "version": "2.7.14"
  }
 },
 "nbformat": 4,
 "nbformat_minor": 2
}
