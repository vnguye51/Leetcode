{
 "cells": [
  {
   "cell_type": "markdown",
   "metadata": {},
   "source": [
    "## Maximum Width Ramp\n",
    "\n",
    "Given an array A of integers, a ramp is a tuple (i, j) for which i < j and A[i] <= A[j].  The width of such a ramp is j - i.\n",
    "\n",
    "Find the maximum width of a ramp in A.  If one doesn't exist, return 0.\n",
    "\n",
    "    Example 1:\n",
    "\n",
    "    Input: [6,0,8,2,1,5]\n",
    "    Output: 4\n",
    "    Explanation: \n",
    "    The maximum width ramp is achieved at (i, j) = (1, 5): A[1] = 0 and A[5] = 5.\n",
    "\n",
    "    Example 2:\n",
    "\n",
    "    Input: [9,8,1,0,1,9,4,0,4,1]\n",
    "    Output: 7\n",
    "    Explanation: \n",
    "    The maximum width ramp is achieved at (i, j) = (2, 9): A[2] = 1 and A[9] = 1.\n",
    "\n",
    "\n",
    "\n",
    "    Note:\n",
    "\n",
    "        2 <= A.length <= 50000\n",
    "        0 <= A[i] <= 50000\n",
    "\n",
    "* Take note of the first element of the array\n",
    "* Looping from the back check if each element can be a corresponding ramp for the first element\n",
    "    * If it is break that loop and record the width\n",
    "* Repeat this with the second element and so on\n",
    "   "
   ]
  },
  {
   "cell_type": "code",
   "execution_count": 2,
   "metadata": {},
   "outputs": [],
   "source": [
    "class Solution(object):\n",
    "    def maxWidthRamp(self, A):\n",
    "        max_width = 0\n",
    "        for i,n in enumerate(A):\n",
    "            for j,m in enumerate(A[:i:-1]):\n",
    "                if n < m:\n",
    "                    if j-i > max_width:\n",
    "                        max_width = j-i\n",
    "                    break\n",
    "        return max_width\n"
   ]
  },
  {
   "cell_type": "code",
   "execution_count": null,
   "metadata": {},
   "outputs": [],
   "source": []
  }
 ],
 "metadata": {
  "kernelspec": {
   "display_name": "Python 3",
   "language": "python",
   "name": "python3"
  },
  "language_info": {
   "codemirror_mode": {
    "name": "ipython",
    "version": 3
   },
   "file_extension": ".py",
   "mimetype": "text/x-python",
   "name": "python",
   "nbconvert_exporter": "python",
   "pygments_lexer": "ipython3",
   "version": "3.6.4"
  }
 },
 "nbformat": 4,
 "nbformat_minor": 2
}
