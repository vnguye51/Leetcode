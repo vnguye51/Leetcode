{
 "cells": [
  {
   "cell_type": "markdown",
   "metadata": {},
   "source": [
    "## DI String Match\n",
    "\n",
    "Given a string S that only contains \"I\" (increase) or \"D\" (decrease), let N = S.length.\n",
    "\n",
    "Return any permutation A of [0, 1, ..., N] such that for all i = 0, ..., N-1:\n",
    "\n",
    "    If S[i] == \"I\", then A[i] < A[i+1]\n",
    "    If S[i] == \"D\", then A[i] > A[i+1]\n"
   ]
  },
  {
   "cell_type": "markdown",
   "metadata": {},
   "source": [
    "* The question asks us to return a single possible permutation that follows the increasing/decreasing pattern\n",
    "* For a length N string we will use a length N+1 array of numbers (0,...,N)\n",
    "\n",
    "\n",
    "* For every I add the leftmost of the unchosen numbers\n",
    "* For every D add the rightmost of the unchosen numbers\n",
    "\n",
    "* Add the final unchosen number"
   ]
  },
  {
   "cell_type": "code",
   "execution_count": 3,
   "metadata": {},
   "outputs": [],
   "source": [
    "class Solution:\n",
    "    def diStringMatch(self, S):\n",
    "        pool = [i for i in range(0,len(S)+1)]\n",
    "        sol = []\n",
    "        for char in S:\n",
    "            if char == \"I\":\n",
    "                sol.append(pool.pop(0))\n",
    "            else:\n",
    "                sol.append(pool.pop(-1))\n",
    "        sol.append(pool[0])\n",
    "        return sol"
   ]
  },
  {
   "cell_type": "code",
   "execution_count": 4,
   "metadata": {},
   "outputs": [
    {
     "data": {
      "text/plain": [
       "[0, 4, 1, 3, 2]"
      ]
     },
     "execution_count": 4,
     "metadata": {},
     "output_type": "execute_result"
    }
   ],
   "source": [
    "sol = Solution()\n",
    "sol.diStringMatch(\"IDID\")"
   ]
  },
  {
   "cell_type": "code",
   "execution_count": null,
   "metadata": {},
   "outputs": [],
   "source": []
  }
 ],
 "metadata": {
  "kernelspec": {
   "display_name": "Python 3",
   "language": "python",
   "name": "python3"
  },
  "language_info": {
   "codemirror_mode": {
    "name": "ipython",
    "version": 3
   },
   "file_extension": ".py",
   "mimetype": "text/x-python",
   "name": "python",
   "nbconvert_exporter": "python",
   "pygments_lexer": "ipython3",
   "version": "3.6.4"
  }
 },
 "nbformat": 4,
 "nbformat_minor": 2
}
