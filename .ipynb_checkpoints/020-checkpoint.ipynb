{
 "cells": [
  {
   "cell_type": "markdown",
   "metadata": {},
   "source": [
    "## Valid Parentheses\n",
    "\n",
    "Given a string containing just the characters '(', ')', '{', '}', '[' and ']', determine if the input string is valid.\n",
    "\n",
    "The brackets must close in the correct order, \"()\" and \"()[]{}\" are all valid but \"(]\" and \"([)]\" are not.\n"
   ]
  },
  {
   "cell_type": "markdown",
   "metadata": {},
   "source": [
    "* Given a string we search through it for the first open bracket (,[,{\n",
    "* The open brackets enter a queue to be checked by the close brackets\n",
    "* Then we continue searching until we hit a close bracket ),],}\n",
    "* If the close bracket does not match correctly then we return False\n",
    "* If the end of the string is reached we return True"
   ]
  },
  {
   "cell_type": "code",
   "execution_count": 16,
   "metadata": {},
   "outputs": [],
   "source": [
    "def isValid(s):\n",
    "    Counterparts = {'}':'{',\n",
    "                    ']':'[',\n",
    "                    ')':'('}\n",
    "    Queue = []\n",
    "    for n in s:\n",
    "        if n == '{' or n == '[' or n == '(':\n",
    "            Queue.append(n)\n",
    "        elif n == '}' or n == ']' or n == ')':\n",
    "            if not Queue:\n",
    "                return False\n",
    "            print Queue,Queue[-1]\n",
    "            if Queue[-1] == Counterparts.get(n):\n",
    "                \n",
    "                Queue.pop(-1)\n",
    "            else:\n",
    "                return False\n",
    "    if Queue:\n",
    "        return False\n",
    "\n",
    "    return True\n"
   ]
  },
  {
   "cell_type": "code",
   "execution_count": 17,
   "metadata": {},
   "outputs": [
    {
     "name": "stdout",
     "output_type": "stream",
     "text": [
      "['['] [\n"
     ]
    },
    {
     "data": {
      "text/plain": [
       "True"
      ]
     },
     "execution_count": 17,
     "metadata": {},
     "output_type": "execute_result"
    }
   ],
   "source": [
    "isValid('[]')"
   ]
  }
 ],
 "metadata": {
  "kernelspec": {
   "display_name": "Python 2",
   "language": "python",
   "name": "python2"
  },
  "language_info": {
   "codemirror_mode": {
    "name": "ipython",
    "version": 2
   },
   "file_extension": ".py",
   "mimetype": "text/x-python",
   "name": "python",
   "nbconvert_exporter": "python",
   "pygments_lexer": "ipython2",
   "version": "2.7.14"
  }
 },
 "nbformat": 4,
 "nbformat_minor": 2
}
