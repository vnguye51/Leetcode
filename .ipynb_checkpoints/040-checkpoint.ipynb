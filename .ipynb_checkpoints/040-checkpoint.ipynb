{
 "cells": [
  {
   "cell_type": "markdown",
   "metadata": {},
   "source": [
    "## Combination Sum II \n",
    "\n",
    "Given a collection of candidate numbers (candidates) and a target number (target), find all unique combinations in candidates where the candidate numbers sums to target.\n",
    "\n",
    "Each number in candidates may only be used once in the combination.\n",
    "\n",
    "Note:\n",
    "\n",
    "    All numbers (including target) will be positive integers.\n",
    "    The solution set must not contain duplicate combinations\n",
    "    \n",
    "*"
   ]
  },
  {
   "cell_type": "code",
   "execution_count": 33,
   "metadata": {},
   "outputs": [
    {
     "data": {
      "text/plain": [
       "[[2, 6], [1, 1, 6], [1, 2, 5], [1, 7]]"
      ]
     },
     "execution_count": 33,
     "metadata": {},
     "output_type": "execute_result"
    }
   ],
   "source": [
    "def Ways(target,i,result,subresult,candidates):\n",
    "    if target == 0:\n",
    "        result.append(subresult[:])\n",
    "        return\n",
    "    \n",
    "    elif target < 0:\n",
    "        return\n",
    "\n",
    "    else:\n",
    "        while i < len(candidates) and target >= candidates[i]:\n",
    "            subresult.append(candidates[i])\n",
    "            Ways(target - candidates[i],i+1,result,subresult,candidates)\n",
    "            subresult.pop(-1)\n",
    "            i = i+1\n",
    "\n",
    "    return\n",
    "\n",
    "\n",
    "def combinationSum(candidates, target):\n",
    "    candidates.sort()\n",
    "\n",
    "    result = []\n",
    "    subresult = []\n",
    "    i = 0\n",
    "    Ways(target,i,result,subresult,candidates)\n",
    "    \n",
    "    return (list(map(list,set(map(tuple,result)))))\n",
    "\n",
    "combinationSum([10,1,2,7,6,1,5],8)\n",
    "\n"
   ]
  },
  {
   "cell_type": "code",
   "execution_count": null,
   "metadata": {},
   "outputs": [],
   "source": []
  }
 ],
 "metadata": {
  "kernelspec": {
   "display_name": "Python 3",
   "language": "python",
   "name": "python3"
  },
  "language_info": {
   "codemirror_mode": {
    "name": "ipython",
    "version": 3
   },
   "file_extension": ".py",
   "mimetype": "text/x-python",
   "name": "python",
   "nbconvert_exporter": "python",
   "pygments_lexer": "ipython3",
   "version": "3.6.4"
  }
 },
 "nbformat": 4,
 "nbformat_minor": 2
}
