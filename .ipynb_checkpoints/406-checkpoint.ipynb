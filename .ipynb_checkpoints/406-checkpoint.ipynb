{
 "cells": [
  {
   "cell_type": "markdown",
   "metadata": {},
   "source": [
    "## Queue Reconstruction by Height\n",
    "\n",
    "Suppose you have a random list of people standing in a queue. Each person is described by a pair of integers (h, k), where h is the height of the person and k is the number of people in front of this person who have a height greater than or equal to h. Write an algorithm to reconstruct the queue.\n",
    "\n",
    "----\n",
    "\n",
    "\n",
    "    \n",
    "    \n",
    "## Solution 1:\n",
    "* The possible people to insert at position 0 are chosen from the group of people that have k = 0\n",
    "* Choose the smallest of them to add to results\n",
    "* Remove the person that was just added\n",
    "* Decrement 1 from k from every person who's height is equal to or less than the person just added to results\n",
    "* Repeat the process until the entire list of people is exhausted"
   ]
  },
  {
   "cell_type": "code",
   "execution_count": 64,
   "metadata": {},
   "outputs": [],
   "source": [
    "class Solution(object):\n",
    "    def reconstructQueue(self, people):\n",
    "        res = []\n",
    "        count = len(people)\n",
    "        original = people[:]\n",
    "        while people:\n",
    "            min_height = 10e26\n",
    "            for i,p in enumerate(people):\n",
    "                if p[0] < min_height and p[1] == 0:\n",
    "                    min_index = i\n",
    "                    min_height = p[0]  \n",
    "            people.pop(min_index)\n",
    "            res.append(original.pop(min_index))\n",
    "            people = [[p[0],p[1]-1] if p[0] <= min_height else p for p in people ]\n",
    "\n",
    "        return res"
   ]
  },
  {
   "cell_type": "code",
   "execution_count": 65,
   "metadata": {},
   "outputs": [
    {
     "data": {
      "text/plain": [
       "[[5, 0], [7, 0], [5, 2], [6, 1], [4, 4], [7, 1]]"
      ]
     },
     "execution_count": 65,
     "metadata": {},
     "output_type": "execute_result"
    }
   ],
   "source": [
    "sol = Solution()\n",
    "sol.reconstructQueue([[7,0], [4,4], [7,1], [5,0], [6,1], [5,2]])"
   ]
  }
 ],
 "metadata": {
  "kernelspec": {
   "display_name": "Python 3",
   "language": "python",
   "name": "python3"
  },
  "language_info": {
   "codemirror_mode": {
    "name": "ipython",
    "version": 3
   },
   "file_extension": ".py",
   "mimetype": "text/x-python",
   "name": "python",
   "nbconvert_exporter": "python",
   "pygments_lexer": "ipython3",
   "version": "3.6.4"
  }
 },
 "nbformat": 4,
 "nbformat_minor": 2
}
