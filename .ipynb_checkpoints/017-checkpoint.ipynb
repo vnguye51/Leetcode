{
 "cells": [
  {
   "cell_type": "markdown",
   "metadata": {},
   "source": [
    "## Letter Combinations of a Phone Number\n",
    "\n",
    "Given a digit string, return all possible letter combinations that the number could represent.\n",
    "\n",
    "A mapping of digit to letters (just like on the telephone buttons) is given below."
   ]
  },
  {
   "cell_type": "code",
   "execution_count": 1,
   "metadata": {
    "collapsed": true
   },
   "outputs": [],
   "source": [
    "Map = {2:['a','b','c'],3:['d','e','f'],4:['g','h','i'],5:['j','k','l'],\n",
    "       6:['m','n','o'],7:['p','q','r','s'],8:['t','u','v'],9:['w','x','y','z']}"
   ]
  },
  {
   "cell_type": "markdown",
   "metadata": {},
   "source": [
    "* We want to create a recursive solution that for every growing string in the list we append the possible letters to each"
   ]
  },
  {
   "cell_type": "code",
   "execution_count": 24,
   "metadata": {},
   "outputs": [],
   "source": [
    "def StringBuild(N,arr):\n",
    "    temp = []\n",
    "    if len(N) > 1:\n",
    "        for s in StringBuild(N[1:],arr):\n",
    "            for letter in Map.get(N[0]):\n",
    "                temp.insert(0,s+letter)\n",
    "        return temp\n",
    "    else:\n",
    "        for s in Map.get(N[0]):\n",
    "            temp.insert(0,s)\n",
    "        return temp\n",
    "\n",
    "def letterCombinations(digits):\n",
    "    N = [int(n) for n in (digits)]\n",
    "    return StringBuild(N[::-1],[])"
   ]
  },
  {
   "cell_type": "code",
   "execution_count": 25,
   "metadata": {},
   "outputs": [
    {
     "data": {
      "text/plain": [
       "['af', 'ae', 'ad', 'bf', 'be', 'bd', 'cf', 'ce', 'cd']"
      ]
     },
     "execution_count": 25,
     "metadata": {},
     "output_type": "execute_result"
    }
   ],
   "source": [
    "letterCombinations('23')"
   ]
  }
 ],
 "metadata": {
  "kernelspec": {
   "display_name": "Python 2",
   "language": "python",
   "name": "python2"
  },
  "language_info": {
   "codemirror_mode": {
    "name": "ipython",
    "version": 2
   },
   "file_extension": ".py",
   "mimetype": "text/x-python",
   "name": "python",
   "nbconvert_exporter": "python",
   "pygments_lexer": "ipython2",
   "version": "2.7.14"
  }
 },
 "nbformat": 4,
 "nbformat_minor": 2
}
