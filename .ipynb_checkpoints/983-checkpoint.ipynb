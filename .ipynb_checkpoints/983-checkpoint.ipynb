{
 "cells": [
  {
   "cell_type": "markdown",
   "metadata": {},
   "source": [
    "## Minimum Cost For Tickets\n",
    "\n",
    "\n",
    "\n",
    "In a country popular for train travel, you have planned some train travelling one year in advance.  The days of the year that you will travel is given as an array days.  Each day is an integer from 1 to 365.\n",
    "\n",
    "Train tickets are sold in 3 different ways:\n",
    "\n",
    "    a 1-day pass is sold for costs[0] dollars;\n",
    "    a 7-day pass is sold for costs[1] dollars;\n",
    "    a 30-day pass is sold for costs[2] dollars.\n",
    "\n",
    "The passes allow that many days of consecutive travel.  For example, if we get a 7-day pass on day 2, then we can travel for 7 days: day 2, 3, 4, 5, 6, 7, and 8.\n",
    "\n",
    "Return the minimum number of dollars you need to travel every day in the given list of days.\n",
    "\n",
    "* On any given day you have a choice of buying a 1-day, 7-day, or 30-day pass.  Because all days must be accounted for there i"
   ]
  },
  {
   "cell_type": "code",
   "execution_count": 67,
   "metadata": {},
   "outputs": [],
   "source": [
    "class Solution:\n",
    "    def mincostTickets(self, days: 'List[int]', costs: 'List[int]') -> 'int':\n",
    "\n",
    "        day = 1\n",
    "        while day+6 <= days[-1]:\n",
    "            j = -1\n",
    "            i = -1\n",
    "            for k in range(0,len(days)):\n",
    "                if i == -1:\n",
    "                    if days[k] >= day and days[k] <= day+7:\n",
    "                        i = k\n",
    "                        j = k+1\n",
    "                elif days[k] <= i+7:\n",
    "                    j+=1\n",
    "            day += 1"
   ]
  },
  {
   "cell_type": "code",
   "execution_count": 68,
   "metadata": {},
   "outputs": [
    {
     "name": "stdout",
     "output_type": "stream",
     "text": [
      "1 [1, 4, 6, 7] 0 4\n",
      "2 [4, 6, 7, 8] 1 5\n",
      "3 [4, 6, 7, 8] 1 5\n",
      "4 [4, 6, 7, 8] 1 5\n",
      "5 [6, 7, 8] 2 5\n",
      "6 [6, 7, 8] 2 5\n",
      "7 [7, 8] 3 5\n",
      "8 [8] 4 5\n",
      "9 [] -1 -1\n",
      "10 [] -1 -1\n",
      "11 [] -1 -1\n",
      "12 [] -1 -1\n",
      "13 [20] 5 6\n",
      "14 [20] 5 6\n"
     ]
    }
   ],
   "source": [
    "sol = Solution()\n",
    "sol.mincostTickets([1,4,6,7,8,20],[2,7,15])"
   ]
  },
  {
   "cell_type": "code",
   "execution_count": null,
   "metadata": {},
   "outputs": [],
   "source": []
  }
 ],
 "metadata": {
  "kernelspec": {
   "display_name": "Python 3",
   "language": "python",
   "name": "python3"
  },
  "language_info": {
   "codemirror_mode": {
    "name": "ipython",
    "version": 3
   },
   "file_extension": ".py",
   "mimetype": "text/x-python",
   "name": "python",
   "nbconvert_exporter": "python",
   "pygments_lexer": "ipython3",
   "version": "3.6.4"
  }
 },
 "nbformat": 4,
 "nbformat_minor": 2
}
