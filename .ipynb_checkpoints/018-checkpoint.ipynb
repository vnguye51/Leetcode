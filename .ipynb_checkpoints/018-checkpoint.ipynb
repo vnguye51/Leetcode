{
 "cells": [
  {
   "cell_type": "markdown",
   "metadata": {},
   "source": [
    "## 4Sum\n",
    "\n",
    "Given an array S of n integers, are there elements a, b, c, and d in S such that a + b + c + d = target? Find all unique quadruplets in the array which gives the sum of target.\n",
    "\n",
    "* We can solve this by reusing our 3Sum solution and encompassing it within a for loop"
   ]
  },
  {
   "cell_type": "code",
   "execution_count": 2,
   "metadata": {
    "collapsed": true
   },
   "outputs": [],
   "source": [
    "def fourSum(nums,target):\n",
    "    N = sorted(nums)\n",
    "    sums = []\n",
    "    for i,n in enumerate(nums):\n",
    "        for j,m in enumerate(nums):\n",
    "            if j > i:\n",
    "                k = j+1\n",
    "                l = len(nums)-1\n",
    "                while k < l:\n",
    "                    Sum = N[i] + N[j] + N[k] + N[l]\n",
    "                    if Sum == target:\n",
    "                        sums.append((N[i],N[j],N[k],N[l]))\n",
    "                        k = k+1\n",
    "                        l = l-1\n",
    "                    elif Sum > target:\n",
    "                        l = l-1\n",
    "                    else:\n",
    "                        k = k+1\n",
    "\n",
    "    \n",
    "    sums = [list(n) for n in list(set(sums))]\n",
    "    return sums\n",
    "\n",
    "                "
   ]
  },
  {
   "cell_type": "code",
   "execution_count": 3,
   "metadata": {},
   "outputs": [
    {
     "data": {
      "text/plain": [
       "[[-2, -1, 1, 2], [-1, 0, 0, 1], [-2, 0, 0, 2]]"
      ]
     },
     "execution_count": 3,
     "metadata": {},
     "output_type": "execute_result"
    }
   ],
   "source": [
    "threeSum([1,0,-1,0,-2,2],0)"
   ]
  }
 ],
 "metadata": {
  "kernelspec": {
   "display_name": "Python 2",
   "language": "python",
   "name": "python2"
  },
  "language_info": {
   "codemirror_mode": {
    "name": "ipython",
    "version": 2
   },
   "file_extension": ".py",
   "mimetype": "text/x-python",
   "name": "python",
   "nbconvert_exporter": "python",
   "pygments_lexer": "ipython2",
   "version": "2.7.14"
  }
 },
 "nbformat": 4,
 "nbformat_minor": 2
}
