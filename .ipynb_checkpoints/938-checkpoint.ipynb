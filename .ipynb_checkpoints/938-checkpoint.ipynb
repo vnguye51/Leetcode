{
 "cells": [
  {
   "cell_type": "markdown",
   "metadata": {},
   "source": [
    "# Range Sum of BST"
   ]
  },
  {
   "cell_type": "markdown",
   "metadata": {},
   "source": [
    "Given the root node of a binary search tree, return the sum of values of all nodes with value between L and R (inclusive).\n",
    "\n",
    "The binary search tree is guaranteed to have unique values.\n",
    "\n",
    " \n",
    "\n",
    "    Example 1:\n",
    "\n",
    "    Input: root = [10,5,15,3,7,null,18], L = 7, R = 15\n",
    "    Output: 32\n",
    "\n",
    "    Example 2:\n",
    "\n",
    "    Input: root = [10,5,15,3,7,13,18,1,null,6], L = 6, R = 10\n",
    "    Output: 23\n",
    "\n",
    "\n",
    "\n",
    "Note:\n",
    "\n",
    "    The number of nodes in the tree is at most 10000.\n",
    "    The final answer is guaranteed to be less than 2^31.\n",
    "\n"
   ]
  },
  {
   "cell_type": "markdown",
   "metadata": {},
   "source": [
    "* Sounds like we just recursively iterate throuhg all values, checking if they are between L and R\n",
    "* If the left node is smaller than L we do not have to continue searching on that line\n",
    "* If the right node is larger than R we do not have to continue searching on that line"
   ]
  },
  {
   "cell_type": "code",
   "execution_count": 1,
   "metadata": {},
   "outputs": [],
   "source": [
    "# Definition for a binary tree node.\n",
    "# class TreeNode:\n",
    "#     def __init__(self, x):\n",
    "#         self.val = x\n",
    "#         self.left = None\n",
    "#         self.right = None\n",
    "\n",
    "class Solution:\n",
    "    def __init__(self):\n",
    "        self.Sum = 0\n",
    "    def rangeSumBST(self, root, L, R):\n",
    "        def search(root):\n",
    "            if root.val <= R and root.val >= L:\n",
    "                self.Sum += root.val\n",
    "            if root.left:\n",
    "                search(root.left)\n",
    "            if root.right:\n",
    "                search(root.right)\n",
    "                \n",
    "        search(root)\n",
    "        return self.Sum\n",
    "    "
   ]
  }
 ],
 "metadata": {
  "kernelspec": {
   "display_name": "Python 3",
   "language": "python",
   "name": "python3"
  },
  "language_info": {
   "codemirror_mode": {
    "name": "ipython",
    "version": 3
   },
   "file_extension": ".py",
   "mimetype": "text/x-python",
   "name": "python",
   "nbconvert_exporter": "python",
   "pygments_lexer": "ipython3",
   "version": "3.6.4"
  }
 },
 "nbformat": 4,
 "nbformat_minor": 2
}
