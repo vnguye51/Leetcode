{
 "cells": [
  {
   "cell_type": "code",
   "execution_count": null,
   "metadata": {},
   "outputs": [],
   "source": [
    "class Solution:\n",
    "    def findOrder(self, numCourses, prerequisites):\n",
    "        build = []\n",
    "        graph = {key: [] for key in range(0,numCourses)}\n",
    "        invgraph = {key: [] for key in range(0,numCourses)}\n",
    "        flag = False\n",
    "        for n in prerequisites:\n",
    "            graph[n[0]] += [n[1]]\n",
    "            invgraph[n[1]] += [n[0]]\n",
    "        inorder = {key: len(graph[key]) for key in list(graph.keys())}\n",
    "        while graph:\n",
    "            flag = False\n",
    "            for key in list(inorder.keys()):     \n",
    "                if inorder[key] == 0:\n",
    "                    flag = True\n",
    "                    build.append(key)\n",
    "                    for n in invgraph[key]:\n",
    "                        inorder[n] -= 1\n",
    "                    del graph[key]\n",
    "                    del invgraph[key]\n",
    "                    del inorder[key]\n",
    "            if not flag:\n",
    "                return []\n",
    "        return build"
   ]
  }
 ],
 "metadata": {
  "kernelspec": {
   "display_name": "Python 3",
   "language": "python",
   "name": "python3"
  },
  "language_info": {
   "codemirror_mode": {
    "name": "ipython",
    "version": 3
   },
   "file_extension": ".py",
   "mimetype": "text/x-python",
   "name": "python",
   "nbconvert_exporter": "python",
   "pygments_lexer": "ipython3",
   "version": "3.6.4"
  }
 },
 "nbformat": 4,
 "nbformat_minor": 2
}
