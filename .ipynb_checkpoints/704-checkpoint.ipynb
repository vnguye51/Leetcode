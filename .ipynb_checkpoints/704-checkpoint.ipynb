{
 "cells": [
  {
   "cell_type": "markdown",
   "metadata": {},
   "source": [
    "## Binary Search\n",
    "\n",
    "Given a sorted (in ascending order) integer array nums of n elements and a target value, write a function to search target in nums. If target exists, then return its index, otherwise return -1.\n",
    "\n",
    "\n",
    "    Example 1:\n",
    "\n",
    "    Input: nums = [-1,0,3,5,9,12], target = 9\n",
    "    Output: 4\n",
    "    Explanation: 9 exists in nums and its index is 4\n",
    "\n",
    "    Example 2:\n",
    "\n",
    "    Input: nums = [-1,0,3,5,9,12], target = 2\n",
    "    Output: -1\n",
    "    Explanation: 2 does not exist in nums so return -1\n"
   ]
  },
  {
   "cell_type": "code",
   "execution_count": 19,
   "metadata": {},
   "outputs": [],
   "source": [
    "class Solution:\n",
    "    def search(self, nums, target):\n",
    "        i = 0\n",
    "        k = len(nums)\n",
    "        j = (i+k)//2\n",
    "        while i != k:\n",
    "            j = (i+k)//2\n",
    "            if target == nums[j]:\n",
    "                return j\n",
    "            elif target > nums[j]:\n",
    "                i = j+1\n",
    "            else:\n",
    "                k = j\n",
    "        return -1\n",
    "\n"
   ]
  },
  {
   "cell_type": "code",
   "execution_count": 20,
   "metadata": {},
   "outputs": [
    {
     "data": {
      "text/plain": [
       "1"
      ]
     },
     "execution_count": 20,
     "metadata": {},
     "output_type": "execute_result"
    }
   ],
   "source": [
    "sol = Solution()\n",
    "sol.search([-1,0,3,5,9,12],9)\n",
    "sol.search([-1,0,3,5,9,12],2)\n",
    "sol.search([-1,0,3,5,9,12],13)\n",
    "sol.search([-1,0,3,5,9,12],0)"
   ]
  }
 ],
 "metadata": {
  "kernelspec": {
   "display_name": "Python 3",
   "language": "python",
   "name": "python3"
  },
  "language_info": {
   "codemirror_mode": {
    "name": "ipython",
    "version": 3
   },
   "file_extension": ".py",
   "mimetype": "text/x-python",
   "name": "python",
   "nbconvert_exporter": "python",
   "pygments_lexer": "ipython3",
   "version": "3.6.4"
  }
 },
 "nbformat": 4,
 "nbformat_minor": 2
}
