{
 "cells": [
  {
   "cell_type": "markdown",
   "metadata": {},
   "source": [
    "## Binary Tree Pruning"
   ]
  },
  {
   "cell_type": "markdown",
   "metadata": {},
   "source": [
    "We are given the head node root of a binary tree, where additionally every node's value is either a 0 or a 1.\n",
    "\n",
    "Return the same tree where every subtree (of the given tree) not containing a 1 has been removed.\n",
    "\n",
    "(Recall that the subtree of a node X is X, plus every node that is a descendant of X.)"
   ]
  },
  {
   "cell_type": "markdown",
   "metadata": {},
   "source": [
    "* We want a recursion:\n",
    "* We go down the list. "
   ]
  },
  {
   "cell_type": "code",
   "execution_count": null,
   "metadata": {
    "collapsed": true
   },
   "outputs": [],
   "source": [
    " #Definition for a binary tree node.\n",
    "class TreeNode:\n",
    "    def __init__(self, x):\n",
    "        self.val = x\n",
    "        self.left = None\n",
    "        self.right = None\n",
    "\n",
    "class Solution:\n",
    "    def pruneTree(self, root):\n",
    "        if root.right != None:\n",
    "            if root.right.val == 0:\n",
    "                if root.right.right ==None and root.right.left == None:\n",
    "                    root.right = None\n",
    "                if root.left.right == None and root.left.left == None:\n",
    "                    root.left = None\n",
    "        if root.left != None:\n",
    "            return root\n",
    "\n",
    "        if root.val == 1:\n",
    "            pruneTree(root.right)\n",
    "            pruneTree(root.left)\n",
    "                \n",
    "        \"\"\"\n",
    "        :type root: TreeNode\n",
    "        :rtype: TreeNode\n",
    "        \"\"\"\n",
    "        "
   ]
  }
 ],
 "metadata": {
  "kernelspec": {
   "display_name": "Python 2",
   "language": "python",
   "name": "python2"
  },
  "language_info": {
   "codemirror_mode": {
    "name": "ipython",
    "version": 2
   },
   "file_extension": ".py",
   "mimetype": "text/x-python",
   "name": "python",
   "nbconvert_exporter": "python",
   "pygments_lexer": "ipython2",
   "version": "2.7.14"
  }
 },
 "nbformat": 4,
 "nbformat_minor": 2
}
