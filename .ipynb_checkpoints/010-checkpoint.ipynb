{
 "cells": [
  {
   "cell_type": "markdown",
   "metadata": {},
   "source": [
    "# 10. Regular Expression Matching"
   ]
  },
  {
   "cell_type": "markdown",
   "metadata": {},
   "source": [
    "Implement regular expression matching with support for '.' and '*'.\n",
    "\n",
    "* '.' Matches any single character.\n",
    "\n",
    "* '*' Matches zero or more of the preceding element.\n",
    "\n",
    "* The matching should cover the entire input string (not partial).\n",
    "\n",
    "Some examples:\n",
    "isMatch(\"aa\",\"a\") → false\n",
    "\n",
    "isMatch(\"aa\",\"aa\") → true\n",
    "\n",
    "isMatch(\"aaa\",\"aa\") → false\n",
    "\n",
    "isMatch(\"aa\", \"a$^*$\") → true\n",
    "\n",
    "isMatch(\"aa\", \"$.^*$\") → true\n",
    "\n",
    "isMatch(\"ab\", \"$.^*$\") → true\n",
    "\n",
    "isMatch(\"aab\", \"c$^*$a$^*$b\") → true"
   ]
  },
  {
   "cell_type": "markdown",
   "metadata": {},
   "source": [
    "Let's start by implementing . \n",
    "\n",
    "Let's recursively take snippets of the string starting with the entire string\n",
    "\n",
    "* If the remainder of the string is a match then return True\n",
    "* If its not check if we have a wildcard, if we do move to the next char, if we don't return False"
   ]
  },
  {
   "cell_type": "code",
   "execution_count": 92,
   "metadata": {},
   "outputs": [],
   "source": [
    "def isWildMatch(s,p):\n",
    "    print(s,p)\n",
    "    if s == p:\n",
    "        return True\n",
    "    if p[0] == '.' or p[0] == s[0]:\n",
    "        return isWildMatch(s[1:],p[1:])\n",
    "    return False"
   ]
  },
  {
   "cell_type": "markdown",
   "metadata": {},
   "source": [
    "Now we need to implement *\n",
    "* If we hit a * we need to see if any of the remainder "
   ]
  },
  {
   "cell_type": "code",
   "execution_count": 153,
   "metadata": {},
   "outputs": [],
   "source": [
    "def isWildMatch(s,p):\n",
    "    if s == p:\n",
    "        return True\n",
    "    if not s:\n",
    "        return False\n",
    "    if not p:\n",
    "        return False\n",
    "    firstmatch = False\n",
    "\n",
    "    if p[0] == '.' or p[0] == s[0]:\n",
    "        firstmatch = True\n",
    "    if len(p) >= 2 and p[1] == '*':\n",
    "        #If there's a star in the next slot check if the rest of the string matches\n",
    "        return(isWildMatch(s,p[2:]) or (isWildMatch(s[1:],p) and firstmatch))\n",
    "        #Also try to see if we can slice away the first part of the string and have it match\n",
    "    else:\n",
    "        return isWildMatch(s[1:],p[1:])\n",
    "    return False"
   ]
  },
  {
   "cell_type": "code",
   "execution_count": 154,
   "metadata": {},
   "outputs": [
    {
     "data": {
      "text/plain": [
       "False"
      ]
     },
     "execution_count": 154,
     "metadata": {},
     "output_type": "execute_result"
    }
   ],
   "source": [
    "isWildMatch('aaaaaaaaaaabbbbbbcde','a*b*c*d*e*')\n",
    "    \n",
    "            \n",
    "            "
   ]
  },
  {
   "cell_type": "code",
   "execution_count": 48,
   "metadata": {},
   "outputs": [
    {
     "data": {
      "text/plain": [
       "True"
      ]
     },
     "execution_count": 48,
     "metadata": {},
     "output_type": "execute_result"
    }
   ],
   "source": []
  },
  {
   "cell_type": "markdown",
   "metadata": {},
   "source": [
    "Now we need to combine them. \n",
    "\n",
    "* We should only have to fix one special case of .*"
   ]
  },
  {
   "cell_type": "code",
   "execution_count": 74,
   "metadata": {},
   "outputs": [],
   "source": [
    "def isMatch(s,p):\n",
    "    i = 0\n",
    "    j = 0\n",
    "    dup_count = 0\n",
    "    held = ''\n",
    "    while i < len(s) and j < len(p):\n",
    "        if s[i] == p[j] or p[j] == '.':\n",
    "            held = p[j]\n",
    "            i += 1\n",
    "            j += 1\n",
    "        elif p[j] == '*':\n",
    "                \n",
    "            dup_count = 0\n",
    "            while p[j] == '*':\n",
    "                j += 1\n",
    "            if held == '.':\n",
    "                dup_count = len(p) - j\n",
    "                j += 1\n",
    "                while j < len(p):\n",
    "                    \n",
    "            while s[i] == held:\n",
    "                dup_count += 1\n",
    "                i += 1\n",
    "            while p[j] == held or p[j] == '.':\n",
    "                dup_count -= 1\n",
    "                j += 1\n",
    "            if dup_count < 0:\n",
    "                return False\n",
    "        else:\n",
    "            return False\n",
    "    return True\n",
    "            "
   ]
  },
  {
   "cell_type": "code",
   "execution_count": 75,
   "metadata": {},
   "outputs": [
    {
     "data": {
      "text/plain": [
       "False"
      ]
     },
     "execution_count": 75,
     "metadata": {},
     "output_type": "execute_result"
    }
   ],
   "source": [
    "isMatch('aaaaaaaaaaabbbbbbcde','*aa****a.*aa*b*cde') "
   ]
  },
  {
   "cell_type": "code",
   "execution_count": null,
   "metadata": {},
   "outputs": [],
   "source": []
  }
 ],
 "metadata": {
  "kernelspec": {
   "display_name": "Python 3",
   "language": "python",
   "name": "python3"
  },
  "language_info": {
   "codemirror_mode": {
    "name": "ipython",
    "version": 3
   },
   "file_extension": ".py",
   "mimetype": "text/x-python",
   "name": "python",
   "nbconvert_exporter": "python",
   "pygments_lexer": "ipython3",
   "version": "3.6.4"
  }
 },
 "nbformat": 4,
 "nbformat_minor": 2
}
