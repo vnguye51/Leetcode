{
 "cells": [
  {
   "cell_type": "markdown",
   "metadata": {},
   "source": [
    "10. Regular Expression Matching"
   ]
  },
  {
   "cell_type": "markdown",
   "metadata": {},
   "source": [
    "Implement regular expression matching with support for '.' and '*'.\n",
    "\n",
    "'.' Matches any single character.\n",
    "\n",
    "'*' Matches zero or more of the preceding element.\n",
    "\n",
    "The matching should cover the entire input string (not partial).\n",
    "\n",
    "The function prototype should be:\n",
    "\n",
    "bool isMatch(const char *s, const char *p)\n",
    "\n",
    "Some examples:\n",
    "isMatch(\"aa\",\"a\") → false\n",
    "\n",
    "isMatch(\"aa\",\"aa\") → true\n",
    "\n",
    "isMatch(\"aaa\",\"aa\") → false\n",
    "\n",
    "isMatch(\"aa\", \"a*\") → true\n",
    "\n",
    "isMatch(\"aa\", \".*\") → true\n",
    "\n",
    "isMatch(\"ab\", \".*\") → true\n",
    "\n",
    "isMatch(\"aab\", \"c*a*b\") → true"
   ]
  },
  {
   "cell_type": "markdown",
   "metadata": {},
   "source": [
    "the asterisk is a multiplier so that if we have\n",
    "\n",
    "' *a' it can match with 'aa' or 'aaaaaaa' or '' \n",
    "\n",
    ". represents a wild card character"
   ]
  },
  {
   "cell_type": "markdown",
   "metadata": {},
   "source": [
    "Let's start by implementing * \n",
    "\n",
    "We'll start by reducing the string into a tuple with the letters and integers\n",
    "\n",
    "so if we have aaba and c \\* a \\* ba it will be\n",
    "\n",
    "[(a,2),(b,1),(a,1)] vs [(c,\\*),(a,\\*),(b,1),(a,1)]\n",
    "\n",
    "We go from left to right. The first index of the first tuple is mismatched. Under normal circumstances this will immediately eliminate our match. However, the \\* will indicate us to delete it from the array which results in\n",
    "\n",
    "[(a,2),(b,1),(a,1)] vs [(a,\\*),(b,1),(a,1)]\n"
   ]
  },
  {
   "cell_type": "code",
   "execution_count": null,
   "metadata": {
    "collapsed": true
   },
   "outputs": [],
   "source": []
  },
  {
   "cell_type": "code",
   "execution_count": 99,
   "metadata": {},
   "outputs": [],
   "source": [
    "def split(s):\n",
    "    grouped = []\n",
    "    if s == '':\n",
    "        return grouped\n",
    "    curr = s[0]\n",
    "    currn = 0\n",
    "    starred = False\n",
    "    for i,n in enumerate(s):\n",
    "        if curr == n:\n",
    "            currn = currn + 1\n",
    "        elif n == '*':\n",
    "            starred = True\n",
    "            #grouped.append((curr,currn-1))\n",
    "            #grouped.append((curr,'*'))\n",
    "            #currn = 0\n",
    "        else:\n",
    "            if starred == True:\n",
    "                \n",
    "                currn = currn - 1\n",
    "                if currn > 0:\n",
    "                    grouped.append((curr,currn))\n",
    "                grouped.append((curr,'*'))\n",
    "                starred = False\n",
    "            else:\n",
    "                grouped.append((curr,currn))\n",
    "            \n",
    "            curr = n\n",
    "            currn = 1\n",
    "            \n",
    "    \n",
    "    grouped.append((curr,currn)) \n",
    "    return grouped\n",
    "        \n",
    "S = 'aaaba'\n",
    "P = 'aaaaabac'\n",
    "        \n",
    "\n",
    "def isMatch(s,p):\n",
    "    S = split(s)\n",
    "    P = split(p)\n",
    "    C = []\n",
    "    while S and P:\n",
    "        #####check to see if the next value in the correct list is *############\n",
    "        if C:\n",
    "            if C[0][1] > 0:\n",
    "                if C[0][0] == P[0][0]:\n",
    "                    if P[0][1] == '*':\n",
    "                        C.pop(0)\n",
    "                        P.pop(0)\n",
    "            if C[0][1] < 0:\n",
    "                if C[0][0] == S[0][0]:\n",
    "                    if S[0][1] == '*':\n",
    "                        C.pop(0)\n",
    "                        S.pop(0)\n",
    "        ###################################################################\n",
    "        \n",
    "        if C:\n",
    "            if C[0][1] > 0:\n",
    "                if \n",
    "        if C:\n",
    "            return False\n",
    "        if S[0][0] == '.' or P[0][0] == '.':\n",
    "            \n",
    "        if S[0][0] == P[0][0]:\n",
    "            if S[0][1] == '*':\n",
    "                pass\n",
    "            else:\n",
    "                C.append((S[0][0],S[0][1] - P[0][1]))\n",
    "                if C[0][1] == 0:\n",
    "                    C.pop(0)\n",
    "        S.pop(0)\n",
    "        P.pop(0)\n",
    "        \n",
    "    if not (C or S or P):\n",
    "        return True\n",
    "    else:\n",
    "        return False\n",
    "    pass\n",
    "    # i,n in s:\n",
    "        "
   ]
  },
  {
   "cell_type": "code",
   "execution_count": 102,
   "metadata": {},
   "outputs": [
    {
     "data": {
      "text/plain": [
       "True"
      ]
     },
     "execution_count": 102,
     "metadata": {},
     "output_type": "execute_result"
    }
   ],
   "source": [
    "S = 'a*abcdefg'\n",
    "P = 'aabcdefg'\n",
    "isMatch(S,P)"
   ]
  },
  {
   "cell_type": "code",
   "execution_count": 51,
   "metadata": {},
   "outputs": [
    {
     "data": {
      "text/plain": [
       "1"
      ]
     },
     "execution_count": 51,
     "metadata": {},
     "output_type": "execute_result"
    }
   ],
   "source": [
    "(1,2)[0]"
   ]
  },
  {
   "cell_type": "code",
   "execution_count": null,
   "metadata": {
    "collapsed": true
   },
   "outputs": [],
   "source": []
  }
 ],
 "metadata": {
  "kernelspec": {
   "display_name": "Python 2",
   "language": "python",
   "name": "python2"
  },
  "language_info": {
   "codemirror_mode": {
    "name": "ipython",
    "version": 2
   },
   "file_extension": ".py",
   "mimetype": "text/x-python",
   "name": "python",
   "nbconvert_exporter": "python",
   "pygments_lexer": "ipython2",
   "version": "2.7.14"
  }
 },
 "nbformat": 4,
 "nbformat_minor": 2
}
