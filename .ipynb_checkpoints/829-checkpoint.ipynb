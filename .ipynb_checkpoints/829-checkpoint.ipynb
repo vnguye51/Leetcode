{
 "cells": [
  {
   "cell_type": "markdown",
   "metadata": {},
   "source": [
    "## 829. Consecutive Numbers Sum\n",
    "\n",
    "Given a positive integer N, how many ways can we write it as a sum of consecutive positive integers?\n",
    "\n",
    "If N is even there is no consecutive two-pair that can create it\n",
    "\n",
    "If N is odd the two-pair will always be at int(N/2) + (int(N/2) + 1)\n",
    "    * We can determine if the number has an n-pair if N-sum([0,..,n]) % n == 0\n",
    "\n",
    "* The sum of a sequence of numbers is (nf-ni+1)((nf+ni)/2)"
   ]
  },
  {
   "cell_type": "code",
   "execution_count": 14,
   "metadata": {},
   "outputs": [],
   "source": [
    "def consecutiveNumbersSum(N):\n",
    "    Count = 0\n",
    "    n = 2\n",
    "    while True:\n",
    "        A = n*(n+1)/2\n",
    "        if N-A < 0:\n",
    "            return Count+1\n",
    "        elif (N-A)%n == 0:\n",
    "            Count = Count + 1\n",
    "        else:\n",
    "            pass\n",
    "        n = n+1"
   ]
  }
 ],
 "metadata": {
  "kernelspec": {
   "display_name": "Python 3",
   "language": "python",
   "name": "python3"
  },
  "language_info": {
   "codemirror_mode": {
    "name": "ipython",
    "version": 3
   },
   "file_extension": ".py",
   "mimetype": "text/x-python",
   "name": "python",
   "nbconvert_exporter": "python",
   "pygments_lexer": "ipython3",
   "version": "3.6.4"
  }
 },
 "nbformat": 4,
 "nbformat_minor": 2
}
