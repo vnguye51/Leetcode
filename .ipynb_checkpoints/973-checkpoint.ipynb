{
 "cells": [
  {
   "cell_type": "markdown",
   "metadata": {},
   "source": [
    "## K Closest Points to Origin\n",
    "\n",
    "We have a list of points on the plane.  Find the K closest points to the origin (0, 0).\n",
    "\n",
    "(Here, the distance between two points on a plane is the Euclidean distance.)\n",
    "\n",
    "You may return the answer in any order.  The answer is guaranteed to be unique (except for the order that it is in.)\n",
    "\n",
    "    Example 1:\n",
    "\n",
    "    Input: points = [[1,3],[-2,2]], K = 1\n",
    "    Output: [[-2,2]]\n",
    "    Explanation: \n",
    "    The distance between (1, 3) and the origin is sqrt(10).\n",
    "    The distance between (-2, 2) and the origin is sqrt(8).\n",
    "    Since sqrt(8) < sqrt(10), (-2, 2) is closer to the origin.\n",
    "    We only want the closest K = 1 points from the origin, so the answer is just [[-2,2]].\n",
    "\n",
    "    Example 2:\n",
    "\n",
    "    Input: points = [[3,3],[5,-1],[-2,4]], K = 2\n",
    "    Output: [[3,3],[-2,4]]\n",
    "    (The answer [[-2,4],[3,3]] would also be accepted.)\n",
    "    \n",
    "\n",
    "* I expect an nlogn solution\n",
    "* We need to sort the array by its squares and then return that value\n",
    "\n",
    "\n",
    "\n"
   ]
  },
  {
   "cell_type": "code",
   "execution_count": 27,
   "metadata": {},
   "outputs": [],
   "source": [
    "class Solution:\n",
    "    def kClosest(self, points, K):\n",
    "        points.sort(key = lambda x: x[0]**2+x[1]**2)\n",
    "        return points[0:K]\n",
    "\n",
    "        "
   ]
  },
  {
   "cell_type": "code",
   "execution_count": 28,
   "metadata": {},
   "outputs": [
    {
     "data": {
      "text/plain": [
       "[[3, 3], [-2, 4]]"
      ]
     },
     "execution_count": 28,
     "metadata": {},
     "output_type": "execute_result"
    }
   ],
   "source": [
    "sol = Solution()\n",
    "sol.kClosest([[3,3],[5,-1],[-2,4]], 2)"
   ]
  }
 ],
 "metadata": {
  "kernelspec": {
   "display_name": "Python 3",
   "language": "python",
   "name": "python3"
  },
  "language_info": {
   "codemirror_mode": {
    "name": "ipython",
    "version": 3
   },
   "file_extension": ".py",
   "mimetype": "text/x-python",
   "name": "python",
   "nbconvert_exporter": "python",
   "pygments_lexer": "ipython3",
   "version": "3.6.4"
  }
 },
 "nbformat": 4,
 "nbformat_minor": 2
}
