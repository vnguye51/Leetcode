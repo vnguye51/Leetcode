{
 "cells": [
  {
   "cell_type": "markdown",
   "metadata": {},
   "source": [
    "## RLE Iterator\n",
    "\n",
    "Write an iterator that iterates through a run-length encoded sequence.\n",
    "\n",
    "The iterator is initialized by RLEIterator(int[] A), where A is a run-length encoding of some sequence.  More specifically, for all even i, A[i] tells us the number of times that the non-negative integer value A[i+1] is repeated in the sequence.\n",
    "\n",
    "The iterator supports one function: next(int n), which exhausts the next n elements (n >= 1) and returns the last element exhausted in this way.  If there is no element left to exhaust, next returns -1 instead.\n",
    "\n",
    "For example, we start with A = [3,8,0,9,2,5], which is a run-length encoding of the sequence [8,8,8,5,5].  This is because the sequence can be read as \"three eights, zero nines, two fives\".\n",
    "\n",
    "* Read in the array as given, there is no need to change it\n",
    "* We can use a recursion to define next(self,n)\n",
    "    * if n == 0: return the last value of the array\n",
    "    * otherwise: \n",
    "        pop the first element and return next(n-1)"
   ]
  },
  {
   "cell_type": "code",
   "execution_count": 5,
   "metadata": {},
   "outputs": [
    {
     "data": {
      "text/plain": [
       "843"
      ]
     },
     "execution_count": 5,
     "metadata": {},
     "output_type": "execute_result"
    }
   ],
   "source": [
    "class RLEIterator:\n",
    "\n",
    "    def __init__(self, A):\n",
    "        \"\"\"\n",
    "        :type A: List[int]\n",
    "        \"\"\"\n",
    "        self.A = A\n",
    "        \n",
    "\n",
    "    def next(self, n):\n",
    "        while self.A and self.A[0] == 0:\n",
    "            self.A.pop(0)\n",
    "            self.A.pop(0)       \n",
    "        if not self.A:\n",
    "            return -1\n",
    "\n",
    "        if self.A[0] >= n:\n",
    "            return self.A[1]\n",
    "        else:\n",
    "            n -= self.A[0]\n",
    "            self.A[0] = 0\n",
    "            return self.next(n)\n",
    "        return self.next(n-1)\n",
    "                \n",
    "sol = RLEIterator([923381016,843,898173122,924,540599925,391,705283400,275,811628709,850,895038968,590,949764874,580,450563107,660,996257840,917,793325084,82])\n",
    "sol.next(612783106)"
   ]
  },
  {
   "cell_type": "code",
   "execution_count": null,
   "metadata": {},
   "outputs": [],
   "source": []
  }
 ],
 "metadata": {
  "kernelspec": {
   "display_name": "Python 3",
   "language": "python",
   "name": "python3"
  },
  "language_info": {
   "codemirror_mode": {
    "name": "ipython",
    "version": 3
   },
   "file_extension": ".py",
   "mimetype": "text/x-python",
   "name": "python",
   "nbconvert_exporter": "python",
   "pygments_lexer": "ipython3",
   "version": "3.6.4"
  }
 },
 "nbformat": 4,
 "nbformat_minor": 2
}
