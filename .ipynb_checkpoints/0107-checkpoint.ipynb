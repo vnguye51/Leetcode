{
 "cells": [
  {
   "cell_type": "markdown",
   "metadata": {},
   "source": [
    "## Binary Tree Level Order Traversal II\n",
    "\n",
    "Given a binary tree, return the bottom-up level order traversal of its nodes' values. (ie, from left to right, level by level from leaf to root).\n",
    "\n",
    "BFS appending into an array of arrays. Subarrays are based on the current depth.\n",
    "\n",
    "* while there are still values in the queue:\n",
    "    * iterate through queue:\n",
    "        * append branches to new_queue\n",
    "        * if queue is empty -> queue = new_queue; res.insert(0,curr_level); curr_level = []"
   ]
  },
  {
   "cell_type": "code",
   "execution_count": 1,
   "metadata": {},
   "outputs": [],
   "source": [
    "# Definition for a binary tree node.\n",
    "# class TreeNode(object):\n",
    "#     def __init__(self, x):\n",
    "#         self.val = x\n",
    "#         self.left = None\n",
    "#         self.right = None\n",
    "\n",
    "class Solution(object):\n",
    "    def levelOrderBottom(self, root):\n",
    "        queue = [root]\n",
    "        res = []\n",
    "        curr_level = []\n",
    "        next_queue = []\n",
    "        while queue:\n",
    "            curr_node = queue.pop(0)\n",
    "            curr_level.append(curr_node.val)\n",
    "            if curr_node.left:\n",
    "                next_queue.append(curr_node.left)\n",
    "            if curr_node.right:\n",
    "                next_queue.append(curr_node.right)\n",
    "            if not queue:\n",
    "                queue = next_queue\n",
    "                next_queue = []\n",
    "                res.insert(0,curr_level)\n",
    "                curr_level = []\n",
    "        return res"
   ]
  }
 ],
 "metadata": {
  "kernelspec": {
   "display_name": "Python 3",
   "language": "python",
   "name": "python3"
  },
  "language_info": {
   "codemirror_mode": {
    "name": "ipython",
    "version": 3
   },
   "file_extension": ".py",
   "mimetype": "text/x-python",
   "name": "python",
   "nbconvert_exporter": "python",
   "pygments_lexer": "ipython3",
   "version": "3.6.4"
  }
 },
 "nbformat": 4,
 "nbformat_minor": 2
}
