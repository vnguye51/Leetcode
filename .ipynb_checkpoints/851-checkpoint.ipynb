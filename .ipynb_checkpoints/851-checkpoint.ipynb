{
 "cells": [
  {
   "cell_type": "markdown",
   "metadata": {},
   "source": [
    "# Loud and Rich\n",
    "\n",
    "In a group of N people (labelled 0, 1, 2, ..., N-1), each person has different amounts of money, and different levels of quietness.\n",
    "\n",
    "For convenience, we'll call the person with label x, simply \"person x\".\n",
    "\n",
    "We'll say that richer[i] = [x, y] if person x definitely has more money than person y.  Note that richer may only be a subset of valid observations.\n",
    "\n",
    "Also, we'll say quiet[x] = q if person x has quietness q.\n",
    "\n",
    "Now, return answer, where answer[x] = y if y is the least quiet person (that is, the person y with the smallest value of quiet[y]), among all people who definitely have equal to or more money than person x.\n",
    "\n",
    "* Loop through the list\n",
    "    * check for who is possibly more quiet"
   ]
  },
  {
   "cell_type": "code",
   "execution_count": null,
   "metadata": {},
   "outputs": [],
   "source": [
    "def loudAndRich(richer, quiet):\n",
    "    quiet = [(i,n) for i,n in enumerate(quiet)]\n",
    "    \n",
    "    quiet "
   ]
  }
 ],
 "metadata": {
  "kernelspec": {
   "display_name": "Python 3",
   "language": "python",
   "name": "python3"
  },
  "language_info": {
   "codemirror_mode": {
    "name": "ipython",
    "version": 3
   },
   "file_extension": ".py",
   "mimetype": "text/x-python",
   "name": "python",
   "nbconvert_exporter": "python",
   "pygments_lexer": "ipython3",
   "version": "3.6.4"
  }
 },
 "nbformat": 4,
 "nbformat_minor": 2
}
