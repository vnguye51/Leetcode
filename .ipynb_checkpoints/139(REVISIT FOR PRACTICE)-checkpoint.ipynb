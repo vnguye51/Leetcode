{
 "cells": [
  {
   "cell_type": "markdown",
   "metadata": {},
   "source": [
    "## Word Break\n",
    "\n",
    "Given a non-empty string s and a dictionary wordDict containing a list of non-empty words, determine if s can be segmented into a space-separated sequence of one or more dictionary words.\n",
    "\n",
    "Note:\n",
    "\n",
    "    The same word in the dictionary may be reused multiple times in the segmentation.\n",
    "    You may assume the dictionary does not contain duplicate words.\n",
    "\n",
    "----\n",
    "\n",
    "* The problem can be distilled down into paths\n",
    "    * We create a dictionary that will host the possible word choices at each string index\n",
    "    * Pass each word in wordDict through the string checking for its possible locations\n",
    "    * Record each possible location and its endpoints in the dictionary using the startpoint as its key\n",
    "    * The dictionary now holds all possible choices given an index\n",
    "    \n",
    "    * Now we simply recursively check all paths. If a path is found to be a dead end trim that path out of the dictionary\n",
    "\n"
   ]
  },
  {
   "cell_type": "code",
   "execution_count": 15,
   "metadata": {},
   "outputs": [],
   "source": [
    "class Solution:\n",
    "    def wordBreak(self, s, wordDict):\n",
    "        ranges = {}\n",
    "        for word in wordDict:\n",
    "            for j in range(0,len(s)):\n",
    "                if word == s[j:j+len(word)]:\n",
    "                    if j in ranges:\n",
    "                        ranges[j] += [j+len(word)]\n",
    "                    else:\n",
    "                        ranges[j] = [j+len(word)]\n",
    "        if not ranges:\n",
    "            return False\n",
    "                        \n",
    "        def joinRanges(i,f,ranges):\n",
    "            try:\n",
    "                for j,r in enumerate(ranges[i]):\n",
    "                    if r-1 == f:\n",
    "                        return True\n",
    "                    if r in ranges:\n",
    "                        new_i = r\n",
    "                        if joinRanges(new_i,f,ranges):\n",
    "                            return True\n",
    "                ranges.pop(i)\n",
    "            except:\n",
    "                pass\n",
    "                \n",
    "            return False\n",
    "                        \n",
    "\n",
    "        return joinRanges(0,len(s)-1,ranges)\n",
    "            "
   ]
  },
  {
   "cell_type": "code",
   "execution_count": 16,
   "metadata": {},
   "outputs": [
    {
     "name": "stdout",
     "output_type": "stream",
     "text": [
      "True\n",
      "False\n",
      "False\n",
      "True\n",
      "True\n",
      "False\n",
      "False\n",
      "True\n"
     ]
    }
   ],
   "source": [
    "sol = Solution()\n",
    "print(sol.wordBreak(\"applepenapple\",[\"apple\", \"pen\"]))\n",
    "print(sol.wordBreak(\"catsandog\",[\"cats\", \"dog\", \"sand\", \"and\", \"cat\"]))\n",
    "print(sol.wordBreak(\"aaaaaaaaaaaaaaaaaaaaaaaaaaaaaaaaaaaaaaaaaaaaaaaaaab\",[\"a\",\"aa\",\"d\"]))\n",
    "print(sol.wordBreak(\"leetcode\",[\"leet\",\"code\"]))\n",
    "print(sol.wordBreak(\"cars\",[\"car\",\"ca\",\"rs\"]))\n",
    "print(sol.wordBreak(\"aaaaaaaaaaaaaaaaaaaaaaaaaaaaaaaaaaaaaaaaaaaaaaaaaaaaaaaaaaaaaaaaaaaaaaaaaaabaabaaaaaaaaaaaaaaaaaaaaaaaaaaaaaaaaaaaaaaaaaaaaaaaaaaaaaaaaaaaaaaaaaaaaaaaa\",\n",
    "                    [\"aa\",\"aaa\",\"aaaa\",\"aaaaa\",\"aaaaaa\",\"aaaaaaa\",\"aaaaaaaa\",\"aaaaaaaaa\",\"aaaaaaaaaa\",\"ba\"]))\n",
    "print(sol.wordBreak(\"ccbb\",[\"bc\",\"cb\"]))\n",
    "print(sol.wordBreak(\"fohhemkkaecojceoaejkkoedkofhmohkcjmkggcmnami\",\n",
    "[\"kfomka\",\"hecagbngambii\",\"anobmnikj\",\"c\",\"nnkmfelneemfgcl\",\"ah\",\"bgomgohl\",\"lcbjbg\",\"ebjfoiddndih\",\"hjknoamjbfhckb\",\"eioldlijmmla\",\"nbekmcnakif\",\"fgahmihodolmhbi\",\"gnjfe\",\"hk\",\"b\",\"jbfgm\",\"ecojceoaejkkoed\",\"cemodhmbcmgl\",\"j\",\"gdcnjj\",\"kolaijoicbc\",\"liibjjcini\",\"lmbenj\",\"eklingemgdjncaa\",\"m\",\"hkh\",\"fblb\",\"fk\",\"nnfkfanaga\",\"eldjml\",\"iejn\",\"gbmjfdooeeko\",\"jafogijka\",\"ngnfggojmhclkjd\",\"bfagnfclg\",\"imkeobcdidiifbm\",\"ogeo\",\"gicjog\",\"cjnibenelm\",\"ogoloc\",\"edciifkaff\",\"kbeeg\",\"nebn\",\"jdd\",\"aeojhclmdn\",\"dilbhl\",\"dkk\",\"bgmck\",\"ohgkefkadonafg\",\"labem\",\"fheoglj\",\"gkcanacfjfhogjc\",\"eglkcddd\",\"lelelihakeh\",\"hhjijfiodfi\",\"enehbibnhfjd\",\"gkm\",\"ggj\",\"ag\",\"hhhjogk\",\"lllicdhihn\",\"goakjjnk\",\"lhbn\",\"fhheedadamlnedh\",\"bin\",\"cl\",\"ggjljjjf\",\"fdcdaobhlhgj\",\"nijlf\",\"i\",\"gaemagobjfc\",\"dg\",\"g\",\"jhlelodgeekj\",\"hcimohlni\",\"fdoiohikhacgb\",\"k\",\"doiaigclm\",\"bdfaoncbhfkdbjd\",\"f\",\"jaikbciac\",\"cjgadmfoodmba\",\"molokllh\",\"gfkngeebnggo\",\"lahd\",\"n\",\"ehfngoc\",\"lejfcee\",\"kofhmoh\",\"cgda\",\"de\",\"kljnicikjeh\",\"edomdbibhif\",\"jehdkgmmofihdi\",\"hifcjkloebel\",\"gcghgbemjege\",\"kobhhefbbb\",\"aaikgaolhllhlm\",\"akg\",\"kmmikgkhnn\",\"dnamfhaf\",\"mjhj\",\"ifadcgmgjaa\",\"acnjehgkflgkd\",\"bjj\",\"maihjn\",\"ojakklhl\",\"ign\",\"jhd\",\"kndkhbebgh\",\"amljjfeahcdlfdg\",\"fnboolobch\",\"gcclgcoaojc\",\"kfokbbkllmcd\",\"fec\",\"dljma\",\"noa\",\"cfjie\",\"fohhemkka\",\"bfaldajf\",\"nbk\",\"kmbnjoalnhki\",\"ccieabbnlhbjmj\",\"nmacelialookal\",\"hdlefnbmgklo\",\"bfbblofk\",\"doohocnadd\",\"klmed\",\"e\",\"hkkcmbljlojkghm\",\"jjiadlgf\",\"ogadjhambjikce\",\"bglghjndlk\",\"gackokkbhj\",\"oofohdogb\",\"leiolllnjj\",\"edekdnibja\",\"gjhglilocif\",\"ccfnfjalchc\",\"gl\",\"ihee\",\"cfgccdmecem\",\"mdmcdgjelhgk\",\"laboglchdhbk\",\"ajmiim\",\"cebhalkngloae\",\"hgohednmkahdi\",\"ddiecjnkmgbbei\",\"ajaengmcdlbk\",\"kgg\",\"ndchkjdn\",\"heklaamafiomea\",\"ehg\",\"imelcifnhkae\",\"hcgadilb\",\"elndjcodnhcc\",\"nkjd\",\"gjnfkogkjeobo\",\"eolega\",\"lm\",\"jddfkfbbbhia\",\"cddmfeckheeo\",\"bfnmaalmjdb\",\"fbcg\",\"ko\",\"mojfj\",\"kk\",\"bbljjnnikdhg\",\"l\",\"calbc\",\"mkekn\",\"ejlhdk\",\"hkebdiebecf\",\"emhelbbda\",\"mlba\",\"ckjmih\",\"odfacclfl\",\"lgfjjbgookmnoe\",\"begnkogf\",\"gakojeblk\",\"bfflcmdko\",\"cfdclljcg\",\"ho\",\"fo\",\"acmi\",\"oemknmffgcio\",\"mlkhk\",\"kfhkndmdojhidg\",\"ckfcibmnikn\",\"dgoecamdliaeeoa\",\"ocealkbbec\",\"kbmmihb\",\"ncikad\",\"hi\",\"nccjbnldneijc\",\"hgiccigeehmdl\",\"dlfmjhmioa\",\"kmff\",\"gfhkd\",\"okiamg\",\"ekdbamm\",\"fc\",\"neg\",\"cfmo\",\"ccgahikbbl\",\"khhoc\",\"elbg\",\"cbghbacjbfm\",\"jkagbmfgemjfg\",\"ijceidhhajmja\",\"imibemhdg\",\"ja\",\"idkfd\",\"ndogdkjjkf\",\"fhic\",\"ooajkki\",\"fdnjhh\",\"ba\",\"jdlnidngkfffbmi\",\"jddjfnnjoidcnm\",\"kghljjikbacd\",\"idllbbn\",\"d\",\"mgkajbnjedeiee\",\"fbllleanknmoomb\",\"lom\",\"kofjmmjm\",\"mcdlbglonin\",\"gcnboanh\",\"fggii\",\"fdkbmic\",\"bbiln\",\"cdjcjhonjgiagkb\",\"kooenbeoongcle\",\"cecnlfbaanckdkj\",\"fejlmog\",\"fanekdneoaammb\",\"maojbcegdamn\",\"bcmanmjdeabdo\",\"amloj\",\"adgoej\",\"jh\",\"fhf\",\"cogdljlgek\",\"o\",\"joeiajlioggj\",\"oncal\",\"lbgg\",\"elainnbffk\",\"hbdi\",\"femcanllndoh\",\"ke\",\"hmib\",\"nagfahhljh\",\"ibifdlfeechcbal\",\"knec\",\"oegfcghlgalcnno\",\"abiefmjldmln\",\"mlfglgni\",\"jkofhjeb\",\"ifjbneblfldjel\",\"nahhcimkjhjgb\",\"cdgkbn\",\"nnklfbeecgedie\",\"gmllmjbodhgllc\",\"hogollongjo\",\"fmoinacebll\",\"fkngbganmh\",\"jgdblmhlmfij\",\"fkkdjknahamcfb\",\"aieakdokibj\",\"hddlcdiailhd\",\"iajhmg\",\"jenocgo\",\"embdib\",\"dghbmljjogka\",\"bahcggjgmlf\",\"fb\",\"jldkcfom\",\"mfi\",\"kdkke\",\"odhbl\",\"jin\",\"kcjmkggcmnami\",\"kofig\",\"bid\",\"ohnohi\",\"fcbojdgoaoa\",\"dj\",\"ifkbmbod\",\"dhdedohlghk\",\"nmkeakohicfdjf\",\"ahbifnnoaldgbj\",\"egldeibiinoac\",\"iehfhjjjmil\",\"bmeimi\",\"ombngooicknel\",\"lfdkngobmik\",\"ifjcjkfnmgjcnmi\",\"fmf\",\"aoeaa\",\"an\",\"ffgddcjblehhggo\",\"hijfdcchdilcl\",\"hacbaamkhblnkk\",\"najefebghcbkjfl\",\"hcnnlogjfmmjcma\",\"njgcogemlnohl\",\"ihejh\",\"ej\",\"ofn\",\"ggcklj\",\"omah\",\"hg\",\"obk\",\"giig\",\"cklna\",\"lihaiollfnem\",\"ionlnlhjckf\",\"cfdlijnmgjoebl\",\"dloehimen\",\"acggkacahfhkdne\",\"iecd\",\"gn\",\"odgbnalk\",\"ahfhcd\",\"dghlag\",\"bchfe\",\"dldblmnbifnmlo\",\"cffhbijal\",\"dbddifnojfibha\",\"mhh\",\"cjjol\",\"fed\",\"bhcnf\",\"ciiibbedklnnk\",\"ikniooicmm\",\"ejf\",\"ammeennkcdgbjco\",\"jmhmd\",\"cek\",\"bjbhcmda\",\"kfjmhbf\",\"chjmmnea\",\"ifccifn\",\"naedmco\",\"iohchafbega\",\"kjejfhbco\",\"anlhhhhg\"]))"
   ]
  },
  {
   "cell_type": "code",
   "execution_count": null,
   "metadata": {},
   "outputs": [],
   "source": []
  }
 ],
 "metadata": {
  "kernelspec": {
   "display_name": "Python 3",
   "language": "python",
   "name": "python3"
  },
  "language_info": {
   "codemirror_mode": {
    "name": "ipython",
    "version": 3
   },
   "file_extension": ".py",
   "mimetype": "text/x-python",
   "name": "python",
   "nbconvert_exporter": "python",
   "pygments_lexer": "ipython3",
   "version": "3.6.4"
  }
 },
 "nbformat": 4,
 "nbformat_minor": 2
}
