{
 "cells": [
  {
   "cell_type": "markdown",
   "metadata": {},
   "source": [
    "## Encode and Decode TinyURL\n",
    "\n",
    "TinyURL is a URL shortening service where you enter a URL such as https://leetcode.com/problems/design-tinyurl and it returns a short URL such as http://tinyurl.com/4e9iAk.\n",
    "\n",
    "Design the encode and decode methods for the TinyURL service. There is no restriction on how your encode/decode algorithm should work. You just need to ensure that a URL can be encoded to a tiny URL and the tiny URL can be decoded to the original URL.\n",
    "\n",
    "\n",
    "* There are many possible solutions\n",
    "* My solution to encode the url is based on a count in base 16(it can be converted to any base if the integer limit is an issue)\n",
    "* The encoded url and its original url is stored in a dictionary to be pulled from later"
   ]
  },
  {
   "cell_type": "code",
   "execution_count": 15,
   "metadata": {},
   "outputs": [],
   "source": [
    "class Codec:\n",
    "    codes = {}\n",
    "    i = 0\n",
    "    def encode(self, longUrl):\n",
    "        tinyUrl = \"tinyurl.com/\"+toStr(i,16)\n",
    "        codes[tinyUrl] = longUrl\n",
    "        i += 1\n",
    "        \n",
    "        return tinyUrl\n",
    "        \n",
    "\n",
    "    def decode(self, shortUrl):\n",
    "        \n",
    "        return codes[shortUrl]\n",
    "        \n",
    "    def toStr(n,base):\n",
    "        convertString = \"0123456789ABCDEF\"\n",
    "        if n < base:\n",
    "            return convertString[n]\n",
    "        else:\n",
    "            return toStr(n//base,base) + convertString[n%base]\n",
    "# Your Codec object will be instantiated and called as such:\n",
    "# codec = Codec()\n",
    "# codec.decode(codec.encode(url))"
   ]
  },
  {
   "cell_type": "code",
   "execution_count": 14,
   "metadata": {},
   "outputs": [
    {
     "data": {
      "text/plain": [
       "23752086544166654408072282531659080219"
      ]
     },
     "execution_count": 14,
     "metadata": {},
     "output_type": "execute_result"
    }
   ],
   "source": [
    "def toStr(n,base):\n",
    "    convertString = \"0123456789ABCDEF\"\n",
    "    if n < base:\n",
    "        return convertString[n]\n",
    "    else:\n",
    "        return toStr(n//base,base) + convertString[n%base]\n"
   ]
  }
 ],
 "metadata": {
  "kernelspec": {
   "display_name": "Python 3",
   "language": "python",
   "name": "python3"
  },
  "language_info": {
   "codemirror_mode": {
    "name": "ipython",
    "version": 3
   },
   "file_extension": ".py",
   "mimetype": "text/x-python",
   "name": "python",
   "nbconvert_exporter": "python",
   "pygments_lexer": "ipython3",
   "version": "3.6.4"
  }
 },
 "nbformat": 4,
 "nbformat_minor": 2
}
