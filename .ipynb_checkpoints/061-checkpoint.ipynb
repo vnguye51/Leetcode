{
 "cells": [
  {
   "cell_type": "markdown",
   "metadata": {},
   "source": [
    "## Rotate List\n",
    "\n",
    "Given a linked list, rotate the list to the right by k places, where k is non-negative.\n",
    "\n",
    "* Keep a reference to the head node\n",
    "* Attach the last node(check if its next is null) to the head\n",
    "* Set the next of the node before that to null\n",
    "* record the length of the list\n",
    "* Repeat k%length times"
   ]
  },
  {
   "cell_type": "code",
   "execution_count": null,
   "metadata": {},
   "outputs": [],
   "source": [
    "def rotateRight(self, head, k):\n",
    "    if head == None:\n",
    "        return head\n",
    "    if head.next == None:\n",
    "        return head\n",
    "    dummyhead= ListNode(0)\n",
    "    dummyhead.next = head\n",
    "    m1 = head\n",
    "    m2 = head\n",
    "\n",
    "    length = 0\n",
    "    while m1.next:\n",
    "        m1 = m1.next\n",
    "        length = length + 1\n",
    "    length = length+1\n",
    "    k = k%length\n",
    "    print(length)\n",
    "    m1 = head\n",
    "    while k > 0:\n",
    "        while m1.next.next:\n",
    "            m1 = m1.next\n",
    "        m1.next.next = m2\n",
    "        m2 = m1.next\n",
    "        m1.next = None\n",
    "        m1 = m2\n",
    "        k = k-1\n",
    "    return m1"
   ]
  }
 ],
 "metadata": {
  "kernelspec": {
   "display_name": "Python 3",
   "language": "python",
   "name": "python3"
  },
  "language_info": {
   "codemirror_mode": {
    "name": "ipython",
    "version": 3
   },
   "file_extension": ".py",
   "mimetype": "text/x-python",
   "name": "python",
   "nbconvert_exporter": "python",
   "pygments_lexer": "ipython3",
   "version": "3.6.4"
  }
 },
 "nbformat": 4,
 "nbformat_minor": 2
}
