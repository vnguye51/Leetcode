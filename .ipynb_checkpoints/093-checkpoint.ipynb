{
 "cells": [
  {
   "cell_type": "markdown",
   "metadata": {},
   "source": [
    "# Valid IP\n",
    "\n",
    "Given a string containing only digits, restore it by returning all possible valid IP address combinations.\n",
    "\n",
    "    Example:\n",
    "\n",
    "    Input: \"25525511135\"\n",
    "    Output: [\"255.255.11.135\", \"255.255.111.35\"]\n",
    "\n"
   ]
  },
  {
   "cell_type": "markdown",
   "metadata": {},
   "source": [
    "It seems like we need to generate valid partitions\n",
    "* Valid Ips are made from four values ranging from 0-255\n",
    "* This means we need to choose 3 slice locations\n",
    "    * Slice locations are limited by a max of 3 digits and a minimum of 1 digit\n",
    "    * The value inside of the range must be between 0-255\n",
    "    * No leading zeros"
   ]
  },
  {
   "cell_type": "code",
   "execution_count": 117,
   "metadata": {},
   "outputs": [],
   "source": [
    "class Solution:\n",
    "    def splitString(self,s,values):\n",
    "        res = ''\n",
    "        i0 = 0\n",
    "        for i in values:\n",
    "            if int(s[i0:i]) <= 255:\n",
    "                if s[i0] == '0' and len(s[i0:i]) > 1:\n",
    "                    return False\n",
    "                res +=  (s[i0:i]) + '.'\n",
    "                i0 = i\n",
    "            else: \n",
    "                return False\n",
    "        if int(s[i0:]) <= 255 and (s[i0] != '0' or len(s[i0:]) <= 1):\n",
    "            res += (s[i0:])\n",
    "        else: \n",
    "            return False\n",
    "        \n",
    "        return res\n",
    "    def restoreIpAddresses(self,s):\n",
    "        res = []\n",
    "        length = len(s)\n",
    "        i = 1\n",
    "        j = 2\n",
    "        k = 3\n",
    "        while i < 4:\n",
    "            while j < k and j - i < 4:\n",
    "                while k < length:\n",
    "                    val = self.splitString(s,[i,j,k])\n",
    "                    if val:\n",
    "                        res.append(val)\n",
    "                    k += 1\n",
    "                j += 1\n",
    "                k = j + 1 \n",
    "            i += 1\n",
    "            j = i + 1\n",
    "            k = j + 1\n",
    "        return res"
   ]
  },
  {
   "cell_type": "code",
   "execution_count": 118,
   "metadata": {},
   "outputs": [
    {
     "name": "stdout",
     "output_type": "stream",
     "text": [
      "['255.255.11.135', '255.255.111.35']\n",
      "['0.10.0.10', '0.100.1.0']\n",
      "['1.0.10.23', '1.0.102.3', '10.1.0.23', '10.10.2.3', '101.0.2.3']\n"
     ]
    }
   ],
   "source": [
    "sol = Solution()\n",
    "print(sol.restoreIpAddresses(\"25525511135\"))\n",
    "print(sol.restoreIpAddresses(\"010010\"))\n",
    "print(sol.restoreIpAddresses(\"101023\"))"
   ]
  },
  {
   "cell_type": "code",
   "execution_count": null,
   "metadata": {},
   "outputs": [],
   "source": []
  }
 ],
 "metadata": {
  "kernelspec": {
   "display_name": "Python 3",
   "language": "python",
   "name": "python3"
  },
  "language_info": {
   "codemirror_mode": {
    "name": "ipython",
    "version": 3
   },
   "file_extension": ".py",
   "mimetype": "text/x-python",
   "name": "python",
   "nbconvert_exporter": "python",
   "pygments_lexer": "ipython3",
   "version": "3.6.4"
  }
 },
 "nbformat": 4,
 "nbformat_minor": 2
}
