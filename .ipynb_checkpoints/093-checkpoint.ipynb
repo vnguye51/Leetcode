{
 "cells": [
  {
   "cell_type": "markdown",
   "metadata": {},
   "source": [
    "# Valid IP\n",
    "\n",
    "Given a string containing only digits, restore it by returning all possible valid IP address combinations.\n",
    "\n",
    "    Example:\n",
    "\n",
    "    Input: \"25525511135\"\n",
    "    Output: [\"255.255.11.135\", \"255.255.111.35\"]\n",
    "\n"
   ]
  },
  {
   "cell_type": "markdown",
   "metadata": {},
   "source": [
    "It seems like we need to generate valid partitions\n",
    "* Valid Ips are made from four values ranging from 0-255\n",
    "* We can generate all partitions using a previous method\n"
   ]
  }
 ],
 "metadata": {
  "kernelspec": {
   "display_name": "Python 3",
   "language": "python",
   "name": "python3"
  },
  "language_info": {
   "codemirror_mode": {
    "name": "ipython",
    "version": 3
   },
   "file_extension": ".py",
   "mimetype": "text/x-python",
   "name": "python",
   "nbconvert_exporter": "python",
   "pygments_lexer": "ipython3",
   "version": "3.6.4"
  }
 },
 "nbformat": 4,
 "nbformat_minor": 2
}
