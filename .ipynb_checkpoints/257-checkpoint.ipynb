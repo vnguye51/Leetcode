{
 "cells": [
  {
   "cell_type": "markdown",
   "metadata": {},
   "source": [
    "## Binary Tree Paths\n",
    "\n",
    "Given a binary tree, return all root-to-leaf paths.\n",
    "\n",
    "* Perform a DFS that passes along all nodes passed so far\n",
    "* If the DFS hits a leaf append a copy of the current nodes "
   ]
  },
  {
   "cell_type": "code",
   "execution_count": 4,
   "metadata": {},
   "outputs": [],
   "source": [
    "# Definition for a binary tree node.\n",
    "# class TreeNode:\n",
    "#     def __init__(self, x):\n",
    "#         self.val = x\n",
    "#         self.left = None\n",
    "#         self.right = None\n",
    "\n",
    "class Solution:\n",
    "    res = []\n",
    "    curr = []\n",
    "    def DFS(self,root):\n",
    "        self.curr.append(str(root.val))\n",
    "        if not root.left and not root.right:\n",
    "            self.res.append(\"->\".join(self.curr[:]))\n",
    "        if root.left:\n",
    "            self.DFS(root.left)\n",
    "        if root.right:\n",
    "            self.DFS(root.right)\n",
    "        self.curr.pop(-1)\n",
    "        \n",
    "    def binaryTreePaths(self, root):\n",
    "        self.res = []\n",
    "        self.curr = []\n",
    "        if root:\n",
    "            self.DFS(root)\n",
    "        return self.res"
   ]
  }
 ],
 "metadata": {
  "kernelspec": {
   "display_name": "Python 3",
   "language": "python",
   "name": "python3"
  },
  "language_info": {
   "codemirror_mode": {
    "name": "ipython",
    "version": 3
   },
   "file_extension": ".py",
   "mimetype": "text/x-python",
   "name": "python",
   "nbconvert_exporter": "python",
   "pygments_lexer": "ipython3",
   "version": "3.6.4"
  }
 },
 "nbformat": 4,
 "nbformat_minor": 2
}
