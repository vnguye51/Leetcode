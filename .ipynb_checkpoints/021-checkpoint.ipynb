{
 "cells": [
  {
   "cell_type": "markdown",
   "metadata": {},
   "source": [
    "## Merge Two Sorted Lists\n",
    "\n",
    "Merge two sorted linked lists and return it as a new list. The new list should be made by splicing together the nodes of the first two lists."
   ]
  },
  {
   "cell_type": "markdown",
   "metadata": {},
   "source": [
    "* encompassed in a while loop we move through the two lists creating the nodes to attach to a new NodeList\n",
    "* At each step we check which if the two points on the list has a greater value and choose that one to add to the new list\n",
    "* Repeat until both lists are empty\n"
   ]
  },
  {
   "cell_type": "code",
   "execution_count": 2,
   "metadata": {
    "collapsed": true
   },
   "outputs": [],
   "source": [
    "class ListNode:\n",
    "     def __init__(self, x):\n",
    "        self.val = x\n",
    "        self.next = None\n",
    "            \n",
    "def mergeTwoLists(self, l1, l2):\n",
    "    dummyHead = ListNode(0)\n",
    "    NewList = dummyHead\n",
    "    dummyHead.next = NewList\n",
    "    while l1.next != None or l2.next != None:\n",
    "\n",
    "        if l1.next() == None:\n",
    "            NewList.next = l2\n",
    "            l2 = l2.next\n",
    "            NewList = NewList.next\n",
    "\n",
    "        elif l2.next() == None:\n",
    "            NewList.next = l1\n",
    "            l1 = l1.next\n",
    "            NewList = NewList.next\n",
    "\n",
    "        elif l1.value > l2.value:\n",
    "            NewList.next = l1\n",
    "            NewList= NewList.next\n",
    "            l1 = l1.next\n",
    "        else: \n",
    "            NewList.next= l2\n",
    "            NewList = NewList.next\n",
    "            l2 = l2.next\n",
    "\n",
    "    return dummyHead.next"
   ]
  },
  {
   "cell_type": "code",
   "execution_count": null,
   "metadata": {
    "collapsed": true
   },
   "outputs": [],
   "source": []
  }
 ],
 "metadata": {
  "kernelspec": {
   "display_name": "Python 2",
   "language": "python",
   "name": "python2"
  },
  "language_info": {
   "codemirror_mode": {
    "name": "ipython",
    "version": 2
   },
   "file_extension": ".py",
   "mimetype": "text/x-python",
   "name": "python",
   "nbconvert_exporter": "python",
   "pygments_lexer": "ipython2",
   "version": "2.7.14"
  }
 },
 "nbformat": 4,
 "nbformat_minor": 2
}
