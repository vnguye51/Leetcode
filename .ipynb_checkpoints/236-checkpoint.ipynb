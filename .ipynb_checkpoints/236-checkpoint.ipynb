{
 "cells": [
  {
   "cell_type": "code",
   "execution_count": null,
   "metadata": {},
   "outputs": [],
   "source": [
    "class Solution:\n",
    "    def lowestCommonAncestor(self, root, p, q, flag=False):\n",
    "        if not root:\n",
    "            return False\n",
    "\n",
    "        left = self.lowestCommonAncestor(root.left, p, q, flag)\n",
    "        right = self.lowestCommonAncestor(root.right, p, q, flag)\n",
    "        if root is p or root is q:\n",
    "            return root\n",
    "        if left and right: return root\n",
    "        if left: return left\n",
    "        if right: return right\n",
    "        return False"
   ]
  }
 ],
 "metadata": {
  "kernelspec": {
   "display_name": "Python 3",
   "language": "python",
   "name": "python3"
  },
  "language_info": {
   "codemirror_mode": {
    "name": "ipython",
    "version": 3
   },
   "file_extension": ".py",
   "mimetype": "text/x-python",
   "name": "python",
   "nbconvert_exporter": "python",
   "pygments_lexer": "ipython3",
   "version": "3.6.4"
  }
 },
 "nbformat": 4,
 "nbformat_minor": 2
}
