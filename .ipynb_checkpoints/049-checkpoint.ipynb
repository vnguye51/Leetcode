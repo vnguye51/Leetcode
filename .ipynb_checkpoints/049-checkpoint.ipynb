{
 "cells": [
  {
   "cell_type": "markdown",
   "metadata": {},
   "source": [
    "## Group Anagrams\n",
    "\n",
    "Given an array of strings, group anagrams together.\n",
    "\n",
    "* Things are anagrams if the sum of their ord is the same\n",
    "* Scan through the list\n",
    "    * Create a dictionary\n",
    "    * Use the ord as the key\n",
    "    * if the key is not in the dictionary add that key and give it a value of +1 the previous \n",
    "    * if the key is in the dictionary. Use its value as the index to append the string to"
   ]
  },
  {
   "cell_type": "code",
   "execution_count": 31,
   "metadata": {},
   "outputs": [],
   "source": [
    "def groupAnagrams(strs):\n",
    "    Map = {}\n",
    "    Result = []\n",
    "    i = 0\n",
    "    for S in strs:\n",
    "        Count = [0]*26\n",
    "        for s in S:\n",
    "            Count[ord(s)-97] = Count[ord(s)-97] + 1\n",
    "        Count = tuple(Count)\n",
    "        if Count in Map:\n",
    "            Result[Map.get(Count)] = Result[Map.get(Count)] + [S]\n",
    "        else:\n",
    "            Map[Count] = i\n",
    "            Result.append([S])\n",
    "            i = i+1\n",
    "    return Result"
   ]
  },
  {
   "cell_type": "code",
   "execution_count": 32,
   "metadata": {},
   "outputs": [
    {
     "data": {
      "text/plain": [
       "[['eat', 'tea', 'ate'], ['tan', 'nat'], ['bat']]"
      ]
     },
     "execution_count": 32,
     "metadata": {},
     "output_type": "execute_result"
    }
   ],
   "source": [
    "groupAnagrams([\"eat\", \"tea\", \"tan\", \"ate\", \"nat\", \"bat\"])"
   ]
  },
  {
   "cell_type": "code",
   "execution_count": 33,
   "metadata": {},
   "outputs": [
    {
     "data": {
      "text/plain": [
       "[['cab'],\n",
       " ['tin'],\n",
       " ['pew'],\n",
       " ['duh'],\n",
       " ['may'],\n",
       " ['ill'],\n",
       " ['buy'],\n",
       " ['bar'],\n",
       " ['max'],\n",
       " ['doc']]"
      ]
     },
     "execution_count": 33,
     "metadata": {},
     "output_type": "execute_result"
    }
   ],
   "source": [
    "groupAnagrams([\"cab\",\"tin\",\"pew\",\"duh\",\"may\",\"ill\",\"buy\",\"bar\",\"max\",\"doc\"])"
   ]
  },
  {
   "cell_type": "code",
   "execution_count": 28,
   "metadata": {},
   "outputs": [
    {
     "data": {
      "text/plain": [
       "(0, 0, 0)"
      ]
     },
     "execution_count": 28,
     "metadata": {},
     "output_type": "execute_result"
    }
   ],
   "source": [
    "(0,)*3\n"
   ]
  },
  {
   "cell_type": "code",
   "execution_count": null,
   "metadata": {},
   "outputs": [],
   "source": []
  }
 ],
 "metadata": {
  "kernelspec": {
   "display_name": "Python 3",
   "language": "python",
   "name": "python3"
  },
  "language_info": {
   "codemirror_mode": {
    "name": "ipython",
    "version": 3
   },
   "file_extension": ".py",
   "mimetype": "text/x-python",
   "name": "python",
   "nbconvert_exporter": "python",
   "pygments_lexer": "ipython3",
   "version": "3.6.4"
  }
 },
 "nbformat": 4,
 "nbformat_minor": 2
}
