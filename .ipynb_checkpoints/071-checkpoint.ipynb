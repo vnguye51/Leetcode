{
 "cells": [
  {
   "cell_type": "markdown",
   "metadata": {},
   "source": [
    "## Set Matrix Zero\n",
    "Given a m x n matrix, if an element is 0, set its entire row and column to 0. Do it in-place.\n",
    "\n",
    "* Scan through the matrix left to right:\n",
    "    If you hit a 0, stop and turn all elements in the row and column to 0. Remove those values from two lists: row and col that we use to choose which values to iterate over.\n",
    "    "
   ]
  },
  {
   "cell_type": "code",
   "execution_count": null,
   "metadata": {},
   "outputs": [],
   "source": [
    "def setZeroes(matrix):\n",
    "    m = len(matrix)\n",
    "    n = len(matrix[0])\n",
    "    \n",
    "    row = [n for n in range(0,m)]\n",
    "    col = [m for m in range(0,m)]\n",
    "    \n",
    "    while True:\n",
    "        m = row[0]\n",
    "        n = row[0]\n",
    "        \n",
    "        for i in range(0,n):\n",
    "            if matrix[m][i] == 0:\n",
    "                pass\n",
    "        for j in range(,m):\n",
    "            if matrix[m][i]"
   ]
  }
 ],
 "metadata": {
  "kernelspec": {
   "display_name": "Python 3",
   "language": "python",
   "name": "python3"
  },
  "language_info": {
   "codemirror_mode": {
    "name": "ipython",
    "version": 3
   },
   "file_extension": ".py",
   "mimetype": "text/x-python",
   "name": "python",
   "nbconvert_exporter": "python",
   "pygments_lexer": "ipython3",
   "version": "3.6.4"
  }
 },
 "nbformat": 4,
 "nbformat_minor": 2
}
