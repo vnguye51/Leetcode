{
 "cells": [
  {
   "cell_type": "markdown",
   "metadata": {},
   "source": [
    "## Largest Perimeter Triangle\n",
    "\n",
    "Given an array A of positive lengths, return the largest perimeter of a triangle with non-zero area, formed from 3 of these lengths.\n",
    "\n",
    "If it is impossible to form any triangle of non-zero area, return 0.\n",
    "\n",
    "    Example 1:\n",
    "\n",
    "    Input: [2,1,2]\n",
    "    Output: 5\n",
    "\n",
    "    Example 2:\n",
    "\n",
    "    Input: [1,2,1]\n",
    "    Output: 0\n",
    "\n",
    "    Example 3:\n",
    "\n",
    "    Input: [3,2,3,4]\n",
    "    Output: 10\n",
    "\n",
    "    Example 4:\n",
    "\n",
    "    Input: [3,6,2,3]\n",
    "    Output: 8\n",
    "\n",
    "\n",
    "* A triangle is impossible to form under the following rules:\n",
    "    * the length of a side of a triangle is less than the sum of the lengths of the other two sides and greater than the difference of the lengths of the other two sides.\n",
    "    \n",
    "    \n",
    "* sort the array\n",
    "* Take the first three values that fit the constraints\n",
    "* We'll use a while loop with i, j and k as our pointers\n",
    "* If A[i] >= A[j] + A[k] \n",
    "    * continue moving the pointers"
   ]
  },
  {
   "cell_type": "code",
   "execution_count": 33,
   "metadata": {},
   "outputs": [
    {
     "ename": "IndentationError",
     "evalue": "expected an indented block (<ipython-input-33-e891b64b9fe8>, line 7)",
     "output_type": "error",
     "traceback": [
      "\u001b[1;36m  File \u001b[1;32m\"<ipython-input-33-e891b64b9fe8>\"\u001b[1;36m, line \u001b[1;32m7\u001b[0m\n\u001b[1;33m    k += 1\u001b[0m\n\u001b[1;37m    ^\u001b[0m\n\u001b[1;31mIndentationError\u001b[0m\u001b[1;31m:\u001b[0m expected an indented block\n"
     ]
    }
   ],
   "source": [
    "class Solution:\n",
    "    def largestPerimeter(self,A):\n",
    "        i,j,k = 0,1,2\n",
    "        A.sort(reverse=True)\n",
    "        while k < len(A):\n",
    "            if A[i] >= A[j] + A[k] or A[i] <= A[j] - A[k]:\n",
    "            k += 1\n",
    "            if k == len(A):\n",
    "                j += 1\n",
    "                if j == len(A)-1:\n",
    "                    i += 1\n",
    "                    j = i + 1\n",
    "                k = j + 1\n",
    "#             print(i,j,k)\n",
    "            else:\n",
    "                return A[i] + A[j] + A[k]\n",
    "        return 0"
   ]
  },
  {
   "cell_type": "code",
   "execution_count": 32,
   "metadata": {},
   "outputs": [
    {
     "name": "stdout",
     "output_type": "stream",
     "text": [
      "0 1 3\n",
      "0 2 3\n",
      "1 2 3\n",
      "2 3 4\n",
      "0\n"
     ]
    }
   ],
   "source": [
    "sol = Solution()\n",
    "# print(sol.largestPerimeter([2,1,2]))\n",
    "# print(sol.largestPerimeter([1,2,1]))\n",
    "# print(sol.largestPerimeter([3,2,3,4]))\n",
    "print(sol.largestPerimeter([3,6,2,3]))\n"
   ]
  },
  {
   "cell_type": "code",
   "execution_count": null,
   "metadata": {},
   "outputs": [],
   "source": []
  }
 ],
 "metadata": {
  "kernelspec": {
   "display_name": "Python 3",
   "language": "python",
   "name": "python3"
  },
  "language_info": {
   "codemirror_mode": {
    "name": "ipython",
    "version": 3
   },
   "file_extension": ".py",
   "mimetype": "text/x-python",
   "name": "python",
   "nbconvert_exporter": "python",
   "pygments_lexer": "ipython3",
   "version": "3.6.4"
  }
 },
 "nbformat": 4,
 "nbformat_minor": 2
}
