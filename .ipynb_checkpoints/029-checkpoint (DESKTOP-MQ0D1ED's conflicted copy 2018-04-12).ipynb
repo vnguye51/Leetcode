{
 "cells": [
  {
   "cell_type": "markdown",
   "metadata": {},
   "source": [
    "## Divide two Integers\n",
    "Divide two integers without using multiplication, division and mod operator.\n",
    "\n",
    "If it is overflow, return MAX_INT. \n",
    "\n",
    "* let answer be initialized as 0\n",
    "* increment it by 1 everytime we are able to fully subtract the integer from it\n",
    "* if we are unable to fully subtract return that value"
   ]
  },
  {
   "cell_type": "code",
   "execution_count": 27,
   "metadata": {},
   "outputs": [],
   "source": [
    "def divide(dividend, divisor):\n",
    "    n = 0\n",
    "    neg = False\n",
    "    \n",
    "    \n",
    "    \n",
    "    if (dividend < 0) ^ (divisor < 0):\n",
    "        neg = True\n",
    "    \n",
    "    \n",
    "    \n",
    "    divisor = abs(divisor)\n",
    "    dividend = abs(dividend)\n",
    "    \n",
    "    if divisor == 1:\n",
    "        if neg == True:\n",
    "            return -dividend\n",
    "        else:\n",
    "            return dividend\n",
    "    \n",
    "    while dividend >= divisor:\n",
    "        dividend = dividend - divisor\n",
    "        n = n+1\n",
    "    if neg == True:\n",
    "        return -n\n",
    "    else:\n",
    "        return n\n"
   ]
  },
  {
   "cell_type": "code",
   "execution_count": 28,
   "metadata": {},
   "outputs": [
    {
     "data": {
      "text/plain": [
       "2147483648"
      ]
     },
     "execution_count": 28,
     "metadata": {},
     "output_type": "execute_result"
    }
   ],
   "source": [
    "divide(-2147483648,-1)"
   ]
  },
  {
   "cell_type": "code",
   "execution_count": 17,
   "metadata": {},
   "outputs": [
    {
     "data": {
      "text/plain": [
       "True"
      ]
     },
     "execution_count": 17,
     "metadata": {},
     "output_type": "execute_result"
    }
   ],
   "source": [
    "True^False"
   ]
  },
  {
   "cell_type": "code",
   "execution_count": null,
   "metadata": {},
   "outputs": [],
   "source": []
  }
 ],
 "metadata": {
  "kernelspec": {
   "display_name": "Python 3",
   "language": "python",
   "name": "python3"
  },
  "language_info": {
   "codemirror_mode": {
    "name": "ipython",
    "version": 3
   },
   "file_extension": ".py",
   "mimetype": "text/x-python",
   "name": "python",
   "nbconvert_exporter": "python",
   "pygments_lexer": "ipython3",
   "version": "3.6.4"
  }
 },
 "nbformat": 4,
 "nbformat_minor": 2
}
