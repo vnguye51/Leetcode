{
 "cells": [
  {
   "cell_type": "markdown",
   "metadata": {},
   "source": [
    "## Rotate Image\n",
    "\n",
    "You are given an n x n 2D matrix representing an image.\n",
    "\n",
    "Rotate the image by 90 degrees (clockwise).\n",
    "\n",
    "Note:\n",
    "\n",
    "You have to rotate the image in-place, which means you have to modify the input 2D matrix directly. DO NOT allocate another 2D matrix and do the rotation.\n",
    "\n",
    "* Create an index list for the outer layer\n",
    "    * Ex. For a 4x4 matrix the outer layer will have 12 values\n",
    "    * To rotate we must move the values by four\n",
    "    * Each value in the matrix is moved along by four using the index list\n",
    "* Repeat the process for each inner layer"
   ]
  },
  {
   "cell_type": "code",
   "execution_count": null,
   "metadata": {},
   "outputs": [],
   "source": [
    "\n",
    "def rotatelayer(matrix):\n",
    "    n = len(matrix)\n",
    "    i = 0\n",
    "    j = 0\n",
    "    Map = []\n",
    "    while j < n-1:\n",
    "        Map.append([i,j])\n",
    "        j = j+1\n",
    "    while i < n-1:\n",
    "        Map.append([i,j])\n",
    "        i = i+1\n",
    "    while j > 0:\n",
    "        Map.append([i,j])\n",
    "        j = j-1\n",
    "    while i > 0:\n",
    "        Map.append([i,j])\n",
    "        i = i-1\n",
    "        \n",
    "    Map = Map[-4:] + Map[:-4]\n",
    "    \n",
    "    matrix"
   ]
  },
  {
   "cell_type": "code",
   "execution_count": null,
   "metadata": {},
   "outputs": [],
   "source": [
    "A=[1,2,3,4]\n",
    "A[1,2] = 3,4"
   ]
  },
  {
   "cell_type": "code",
   "execution_count": null,
   "metadata": {},
   "outputs": [],
   "source": []
  }
 ],
 "metadata": {
  "kernelspec": {
   "display_name": "Python 3",
   "language": "python",
   "name": "python3"
  },
  "language_info": {
   "codemirror_mode": {
    "name": "ipython",
    "version": 3
   },
   "file_extension": ".py",
   "mimetype": "text/x-python",
   "name": "python",
   "nbconvert_exporter": "python",
   "pygments_lexer": "ipython3",
   "version": "3.6.4"
  }
 },
 "nbformat": 4,
 "nbformat_minor": 2
}
