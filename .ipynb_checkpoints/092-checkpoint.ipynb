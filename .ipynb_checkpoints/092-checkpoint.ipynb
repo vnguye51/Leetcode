{
 "cells": [
  {
   "cell_type": "markdown",
   "metadata": {},
   "source": [
    "# Reverse Linked List II\n",
    "\n",
    "Reverse a linked list from position m to n. Do it in one-pass.\n",
    "\n",
    "Note: 1 ≤ m ≤ n ≤ length of list.\n",
    "\n",
    "Example:\n",
    "\n",
    "Input: 1->2->3->4->5->NULL, m = 2, n = 4\n",
    "Output: 1->4->3->2->5->NULL\n",
    "\n"
   ]
  },
  {
   "cell_type": "markdown",
   "metadata": {},
   "source": [
    "* We need to place a ref at index = m\n",
    "* We need a lead and a tail marker \n",
    "    * Once the index is equal to m+1 we start connecting the lead to the tail\n",
    "    * Stop this once the index is equal to n\n",
    "* When we hit the end connect the ref to the last node"
   ]
  },
  {
   "cell_type": "code",
   "execution_count": 133,
   "metadata": {},
   "outputs": [],
   "source": [
    "class ListNode:\n",
    "    def __init__(self, x):\n",
    "        self.val = x\n",
    "        self.next = None\n",
    "        \n",
    "def arrToLinkedList(arr):\n",
    "    if(len(arr) == 1):\n",
    "        return ListNode(arr[0])\n",
    "    head = ListNode(arr[0])\n",
    "    a = ListNode(arr[1])\n",
    "    head.next = a\n",
    "    if(len(arr) > 2):\n",
    "        for n in arr[2:]:\n",
    "            a.next = ListNode(n)\n",
    "            a = a.next\n",
    "    return head\n",
    "\n",
    "def LinkedListToArr(head):\n",
    "    arr = [head.val]\n",
    "    while head.next:\n",
    "        head = head.next\n",
    "        arr.append(head.val)\n",
    "    return arr\n",
    "\n",
    "class Solution:\n",
    "    def reverseBetween(self, head, m, n):\n",
    "        if (m == n):\n",
    "            return head\n",
    "        if (not head or not head.next):\n",
    "            return head\n",
    "        if not (head.next.next):\n",
    "            tail = head\n",
    "            lead = head.next\n",
    "            lead.next = tail\n",
    "            tail.next = None\n",
    "            return lead\n",
    "        i = 0\n",
    "        firstref = None\n",
    "        lastref = None\n",
    "        tailref = head\n",
    "        leadref = head.next\n",
    "        tempref = None\n",
    "        while i < m-2:\n",
    "            tailref = tailref.next\n",
    "            leadref = leadref.next\n",
    "            i += 1\n",
    "        firstref = tailref\n",
    "        lastref = firstref.next\n",
    "        firstref.next = None\n",
    "        while i < n-1:\n",
    "            tempref = leadref.next\n",
    "            leadref.next = tailref\n",
    "            leadref,tailref = tempref,leadref\n",
    "            i += 1\n",
    "        if(m != 1):\n",
    "            firstref.next = tailref\n",
    "            lastref.next = leadref\n",
    "            return head\n",
    "        else:\n",
    "            head.next = leadref\n",
    "            return tailref\n",
    "    "
   ]
  },
  {
   "cell_type": "code",
   "execution_count": 135,
   "metadata": {},
   "outputs": [
    {
     "name": "stdout",
     "output_type": "stream",
     "text": [
      "[2, 1, 3, 4, 5]\n"
     ]
    }
   ],
   "source": [
    "sol = Solution()\n",
    "print(LinkedListToArr(sol.reverseBetween(arrToLinkedList([1,2,3,4,5]),1,2)))"
   ]
  },
  {
   "cell_type": "code",
   "execution_count": null,
   "metadata": {},
   "outputs": [],
   "source": []
  },
  {
   "cell_type": "code",
   "execution_count": null,
   "metadata": {},
   "outputs": [],
   "source": []
  }
 ],
 "metadata": {
  "kernelspec": {
   "display_name": "Python 3",
   "language": "python",
   "name": "python3"
  },
  "language_info": {
   "codemirror_mode": {
    "name": "ipython",
    "version": 3
   },
   "file_extension": ".py",
   "mimetype": "text/x-python",
   "name": "python",
   "nbconvert_exporter": "python",
   "pygments_lexer": "ipython3",
   "version": "3.6.4"
  }
 },
 "nbformat": 4,
 "nbformat_minor": 2
}
