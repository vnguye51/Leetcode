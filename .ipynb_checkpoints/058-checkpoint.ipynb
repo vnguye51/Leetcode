{
 "cells": [
  {
   "cell_type": "markdown",
   "metadata": {},
   "source": [
    "## Length of Last Word\n",
    "\n",
    "Given a string s consists of upper/lower-case alphabets and empty space characters ' ', return the length of last word in the string.\n",
    "\n",
    "If the last word does not exist, return 0.\n",
    "\n",
    "Note: A word is defined as a character sequence consists of non-space characters only.\n",
    "\n",
    "* Search in reverse\n",
    "    * find the first instance of a non ' ' character, place a marker there\n",
    "    * find the next instance of a ' ', place a marker before that\n",
    "        * If there is no instance of ' ', then place the marker at -1\n",
    "    * subtract the two markers"
   ]
  },
  {
   "cell_type": "code",
   "execution_count": 4,
   "metadata": {},
   "outputs": [],
   "source": [
    "def lengthOfLastWord(s):\n",
    "    m1 = -1\n",
    "    m2 = -1\n",
    "    i = len(s)-1\n",
    "    \n",
    "    while i >= 0:\n",
    "        if s[i] != ' ':\n",
    "            m2 = i\n",
    "            break\n",
    "        i = i - 1\n",
    "    \n",
    "    while i >= 0:\n",
    "        if s[i] == ' ':\n",
    "            m1 = i\n",
    "            break\n",
    "        i = i -1\n",
    "    return m2-m1\n",
    "        "
   ]
  },
  {
   "cell_type": "code",
   "execution_count": 9,
   "metadata": {},
   "outputs": [
    {
     "data": {
      "text/plain": [
       "0"
      ]
     },
     "execution_count": 9,
     "metadata": {},
     "output_type": "execute_result"
    }
   ],
   "source": [
    "lengthOfLastWord(\"\")"
   ]
  },
  {
   "cell_type": "code",
   "execution_count": null,
   "metadata": {},
   "outputs": [],
   "source": []
  }
 ],
 "metadata": {
  "kernelspec": {
   "display_name": "Python 3",
   "language": "python",
   "name": "python3"
  },
  "language_info": {
   "codemirror_mode": {
    "name": "ipython",
    "version": 3
   },
   "file_extension": ".py",
   "mimetype": "text/x-python",
   "name": "python",
   "nbconvert_exporter": "python",
   "pygments_lexer": "ipython3",
   "version": "3.6.4"
  }
 },
 "nbformat": 4,
 "nbformat_minor": 2
}
