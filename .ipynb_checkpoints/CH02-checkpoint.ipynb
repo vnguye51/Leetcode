{
 "cells": [
  {
   "cell_type": "code",
   "execution_count": 15,
   "metadata": {},
   "outputs": [
    {
     "name": "stdout",
     "output_type": "stream",
     "text": [
      "6\n",
      "8\n",
      "9\n"
     ]
    }
   ],
   "source": [
    "class ListNode:\n",
    "    def __init__(self,x):\n",
    "        self.next = None\n",
    "        self.val = x\n",
    "    def appendToTail(self,x):\n",
    "        while self.next:\n",
    "            self = self.next\n",
    "        self.next = ListNode(x)   \n",
    "    def deleteNode(self,n):\n",
    "        #deletes the first node with value n and returns the new linked list\n",
    "        head = self\n",
    "        if self.val == n:\n",
    "            return self.next\n",
    "        prev = None\n",
    "        while self.next:\n",
    "            if self.val == n:\n",
    "                prev.next = self.next\n",
    "                return head\n",
    "            prev = self\n",
    "            self = self.next\n",
    "\n",
    "a = ListNode(5)\n",
    "a.appendToTail(6)\n",
    "a.appendToTail(7)\n",
    "a.appendToTail(8)\n",
    "a.appendToTail(9)\n",
    "a = a.deleteNode(7)\n",
    "a = a.deleteNode(5)\n",
    "while a:\n",
    "    print(a.val)\n",
    "    a = a.next"
   ]
  },
  {
   "cell_type": "code",
   "execution_count": 45,
   "metadata": {},
   "outputs": [
    {
     "name": "stdout",
     "output_type": "stream",
     "text": [
      "0\n",
      "1\n",
      "2\n"
     ]
    }
   ],
   "source": [
    "##2.1\n",
    "\n",
    "def removeDups(node):\n",
    "    records = {}\n",
    "    p2 = ListNode(None)\n",
    "    p1 = node\n",
    "    while p1:\n",
    "        if p1.val in records:\n",
    "            p2.next = p1.next\n",
    "        else:\n",
    "            records[p1.val] = 1\n",
    "            p2 = p1\n",
    "        p1 = p1.next\n",
    "    return node\n",
    "\n",
    "\n",
    "a = ListNode(0)\n",
    "for n in range(0,10):\n",
    "    a.appendToTail(1)\n",
    "a.appendToTail(2)\n",
    "b = removeDups(a)\n",
    "while b:\n",
    "    print(b.val)\n",
    "    b = b.next"
   ]
  },
  {
   "cell_type": "code",
   "execution_count": 54,
   "metadata": {},
   "outputs": [
    {
     "name": "stdout",
     "output_type": "stream",
     "text": [
      "-1\n",
      "5\n",
      "4\n",
      "3\n",
      "2\n",
      "1\n",
      "0\n",
      "-1\n"
     ]
    }
   ],
   "source": [
    "##2.2\n",
    "def returnKthToLast(node,K):\n",
    "    p1 = node\n",
    "    p2 = node\n",
    "    if K == 0:\n",
    "        return -1\n",
    "    try:\n",
    "        for n in range(0,K):\n",
    "            p1 = p1.next\n",
    "    except:\n",
    "        return -1\n",
    "    while p1:\n",
    "        p1 = p1.next\n",
    "        p2 = p2.next\n",
    "\n",
    "    return p2.val\n",
    "a = ListNode(0)\n",
    "for n in range(1,6):\n",
    "    a.appendToTail(n)\n",
    "print(returnKthToLast(a,0))\n",
    "print(returnKthToLast(a,1))\n",
    "print(returnKthToLast(a,2))\n",
    "print(returnKthToLast(a,3))\n",
    "print(returnKthToLast(a,4))\n",
    "print(returnKthToLast(a,5))\n",
    "print(returnKthToLast(a,6))\n",
    "print(returnKthToLast(a,7))"
   ]
  },
  {
   "cell_type": "code",
   "execution_count": 62,
   "metadata": {},
   "outputs": [
    {
     "name": "stdout",
     "output_type": "stream",
     "text": [
      "0\n",
      "1\n",
      "2\n",
      "4\n",
      "5\n"
     ]
    }
   ],
   "source": [
    "#2.3\n",
    "def deleteMiddle(node):\n",
    "    node.val = node.next.val\n",
    "    node.next = node.next.next\n",
    "\n",
    "a = ListNode(0)\n",
    "for n in range(1,6):\n",
    "    a.appendToTail(n)\n",
    "b = a.next.next.next\n",
    "\n",
    "\n",
    "deleteMiddle(b)\n",
    "while a:\n",
    "    print(a.val)\n",
    "    a = a.next"
   ]
  },
  {
   "cell_type": "code",
   "execution_count": 71,
   "metadata": {},
   "outputs": [
    {
     "name": "stdout",
     "output_type": "stream",
     "text": [
      "5\n",
      "5\n",
      "5\n",
      "5\n",
      "5\n",
      "6\n"
     ]
    }
   ],
   "source": [
    "def Partition(node, P):\n",
    "    h1 = ListNode(None)\n",
    "    h2 = ListNode(None)\n",
    "    p1 = h1\n",
    "    p2 = h2\n",
    "\n",
    "    while node:\n",
    "        if node.val < P:\n",
    "            p1.next = node\n",
    "            p1 = p1.next\n",
    "        else:\n",
    "            p2.next = node\n",
    "            p2 = p2.next\n",
    "        node = node.next\n",
    "    p2.next = None\n",
    "    p1.next = h2.next\n",
    "    return h1.next\n",
    "\n",
    "a = ListNode(6)\n",
    "a.appendToTail(5)\n",
    "a.appendToTail(5)\n",
    "a.appendToTail(5)\n",
    "for n in range(1,3):\n",
    "    a.appendToTail(5)\n",
    "\n",
    "b = Partition(a,6)\n",
    "while b:\n",
    "    print(b.val)\n",
    "    b = b.next"
   ]
  },
  {
   "cell_type": "code",
   "execution_count": 72,
   "metadata": {},
   "outputs": [],
   "source": [
    "def sumLists(head1,head2):\n",
    "    p1 = head1\n",
    "    p2 = head2\n",
    "    dummyHead = ListNode(None)\n",
    "    curr_node = dummyHead\n",
    "    carry = 0\n",
    "    while p1 or p2:\n",
    "        curr = carry\n",
    "        carry = 0\n",
    "        if p1:\n",
    "            curr += p1.val\n",
    "            p1 = p1.next\n",
    "        if p2:\n",
    "            curr += p2.val\n",
    "            p2 = p2.next\n",
    "        if curr >= 10:\n",
    "            curr -= 10\n",
    "            carry = 1\n",
    "        curr_node.next = ListNode(curr)\n",
    "        curr_node = curr_node.next\n",
    "    return dummyHead.next\n"
   ]
  },
  {
   "cell_type": "code",
   "execution_count": 80,
   "metadata": {},
   "outputs": [
    {
     "name": "stdout",
     "output_type": "stream",
     "text": [
      "True\n"
     ]
    }
   ],
   "source": [
    "def palindrome(head):\n",
    "    S = \"\"\n",
    "    while head:\n",
    "        S += head.val\n",
    "        head = head.next\n",
    "    if S == S[::-1]:\n",
    "        return True\n",
    "    return False\n",
    "\n",
    "\n",
    "a = ListNode(\"a\")\n",
    "for c in \"sdfdsa\":\n",
    "    a.appendToTail(c)\n",
    "    \n",
    "print(palindrome(a))"
   ]
  },
  {
   "cell_type": "code",
   "execution_count": 92,
   "metadata": {},
   "outputs": [
    {
     "data": {
      "text/plain": [
       "False"
      ]
     },
     "execution_count": 92,
     "metadata": {},
     "output_type": "execute_result"
    }
   ],
   "source": [
    "def intersection(l1,l2):\n",
    "    p1 = l1\n",
    "    p2 = l2\n",
    "    n1 = 0\n",
    "    n2 = 0\n",
    "    while p1 and p1.next:\n",
    "        p1 = p1.next \n",
    "        n1 += 1\n",
    "    while p2 and p2.next:\n",
    "        p2 = p2.next\n",
    "        n2 += 1\n",
    "    if not p1 is p2:\n",
    "        return None\n",
    "\n",
    "\n",
    "    D = n2 - n1\n",
    "    p1 = l1\n",
    "    p2 = l2\n",
    "    if D > 0:\n",
    "        for i in range(0,D):\n",
    "            p2 = p2.next\n",
    "    elif D < 0:\n",
    "        for i in range(0,-D):\n",
    "            p1 = p1.next\n",
    "\n",
    "    while p1 and p2:       \n",
    "        if p2 is p1:\n",
    "            return p1\n",
    "        p1 = p1.next\n",
    "        p2 = p2.next\n",
    "\n",
    "\n",
    "c = ListNode(1000)\n",
    "c.next = ListNode(10)\n",
    "c.next.next = ListNode(20)\n",
    "\n",
    "a = ListNode(1)\n",
    "a.next = ListNode(4)\n",
    "a.next.next = ListNode(10)\n",
    "b = ListNode(2)\n",
    "b.next = ListNode(3)\n",
    "b.next.next = c\n",
    "\n",
    "intersection(a,b)"
   ]
  },
  {
   "cell_type": "code",
   "execution_count": 114,
   "metadata": {},
   "outputs": [],
   "source": [
    "class Stack:\n",
    "    def __init__(self):\n",
    "        self.top = None\n",
    "        \n",
    "    class stackNode:\n",
    "        def __init__(self,x):\n",
    "            self.val = x\n",
    "            self.next = None\n",
    "            \n",
    "    \n",
    "    def pop(self):\n",
    "        if self.top == None:\n",
    "            raise ValueError(None)\n",
    "        else:\n",
    "            prev = self.top\n",
    "            self.top = self.top.next\n",
    "            return prev\n",
    "        \n",
    "    def insert(self,x):\n",
    "        newNode = self.stackNode(x)\n",
    "        newNode.next = self.top\n",
    "        self.top = newNode\n",
    "        \n",
    "    def peek(self):\n",
    "        if self.top == None:\n",
    "            raise ValueError(None)\n",
    "        return self.top.val\n",
    "    \n",
    "    def isEmpty(self):\n",
    "        return self.top == None\n",
    "            "
   ]
  },
  {
   "cell_type": "code",
   "execution_count": 59,
   "metadata": {},
   "outputs": [],
   "source": [
    "class Queue:\n",
    "    def __init__(self):\n",
    "        self.last = None\n",
    "        self.first = None\n",
    "        pass\n",
    "    class QueueNode:\n",
    "        def __init__(self,x):\n",
    "            self.val = x\n",
    "            self.next = None\n",
    "\n",
    "    def add(self,x):\n",
    "        newNode = self.QueueNode(x)\n",
    "        if self.first:\n",
    "            self.last.next = newNode\n",
    "            self.last = newNode\n",
    "        else:\n",
    "            self.last = newNode\n",
    "            self.first = newNode\n",
    "\n",
    "    def remove(self):\n",
    "        if self.first:\n",
    "            res = self.first\n",
    "            self.first = self.first.next\n",
    "            return res\n",
    "        else:\n",
    "            raise ValueError(None)\n",
    "        if self.isEmpty():\n",
    "            self.first = None\n",
    "            self.last = None\n",
    "    \n",
    "    def peek(self):\n",
    "        try:\n",
    "            return self.first.val\n",
    "        except:\n",
    "            raise ValueError(None)\n",
    "    \n",
    "    def isEmpty(self):\n",
    "        return self.last == None"
   ]
  },
  {
   "cell_type": "code",
   "execution_count": 179,
   "metadata": {},
   "outputs": [
    {
     "data": {
      "text/plain": [
       "2"
      ]
     },
     "execution_count": 179,
     "metadata": {},
     "output_type": "execute_result"
    }
   ],
   "source": [
    "Q = Queue()\n",
    "Q.add(1)\n",
    "Q.add(2)\n",
    "Q.add(3)\n",
    "Q.add(4)\n",
    "Q.peek()\n",
    "Q.remove()\n",
    "Q.peek()\n"
   ]
  },
  {
   "cell_type": "code",
   "execution_count": 197,
   "metadata": {},
   "outputs": [
    {
     "name": "stdout",
     "output_type": "stream",
     "text": [
      "0 0 0\n",
      "0 0 1\n",
      "0 0 2\n",
      "1 1 3\n",
      "2 2 4\n",
      "3 3 5\n",
      "4 4 6\n"
     ]
    },
    {
     "data": {
      "text/plain": [
       "10"
      ]
     },
     "execution_count": 197,
     "metadata": {},
     "output_type": "execute_result"
    }
   ],
   "source": [
    "class MultiStack:\n",
    "    def __init__(self):\n",
    "        self.i,self.j,self.k = 0,0,0\n",
    "        self.A = []\n",
    "    def add(self,target,x):\n",
    "        print(self.i,self.j,self.k)\n",
    "        if target == 0:\n",
    "            self.A.insert(self.i,x)\n",
    "            self.i += 1\n",
    "            self.j += 1\n",
    "            self.k += 1\n",
    "        elif target == 1:\n",
    "            self.A.insert(self.j,x)\n",
    "            self.j += 1\n",
    "            self.k += 1\n",
    "        else:\n",
    "            self.A.insert(self.k,x)\n",
    "            self.k += 1\n",
    "    \n",
    "    def remove(self,target):\n",
    "        try:\n",
    "            if target == 0:\n",
    "                self.A.pop(self.i-1)\n",
    "                self.i -= 1\n",
    "                self.j -= 1\n",
    "                self.k -= 1\n",
    "            elif target == 1:\n",
    "                self.A.pop(self.j-1)\n",
    "                self.j -= 1\n",
    "                self.k -= 1\n",
    "            else:\n",
    "                self.A.pop(self.k-1)\n",
    "                self.k -= 1\n",
    "        except:\n",
    "            raise ValueError(None)\n",
    "\n",
    "    def peek(self,target):\n",
    "        try:\n",
    "            if target == 0:\n",
    "                return self.A[self.i-1]\n",
    "            if target == 1:\n",
    "                return self.A[self.j-1]\n",
    "            if target == 2:\n",
    "                return self.A[self.k-1]\n",
    "        except:\n",
    "            raise ValueError(None)\n",
    "A = MultiStack()\n",
    "\n",
    "A.add(2,1)\n",
    "A.add(2,2)\n",
    "A.add(0,1)\n",
    "A.add(0,2)\n",
    "A.add(0,3)\n",
    "A.add(0,4)\n",
    "A.add(1,10)\n",
    "A.remove(0)\n",
    "A.remove(2)\n",
    "A.peek(1)"
   ]
  },
  {
   "cell_type": "code",
   "execution_count": 3,
   "metadata": {},
   "outputs": [
    {
     "data": {
      "text/plain": [
       "0"
      ]
     },
     "execution_count": 3,
     "metadata": {},
     "output_type": "execute_result"
    }
   ],
   "source": [
    "##3.2\n",
    "class Stack:\n",
    "    def __init__(self):\n",
    "            self.top = None\n",
    "            self.mins = []\n",
    "    class stackNode:\n",
    "        def __init__(self,x):\n",
    "            self.val = x\n",
    "            self.next = None\n",
    "    def pop(self):\n",
    "        if self.top == None:\n",
    "            raise ValueError(None)\n",
    "        else:\n",
    "            self.mins.pop()\n",
    "            prev = self.top\n",
    "            self.top = self.top.next\n",
    "            return prev\n",
    "            \n",
    "    def insert(self,x):\n",
    "        newNode = self.stackNode(x)\n",
    "        newNode.next = self.top\n",
    "        self.top = newNode\n",
    "        if len(self.mins) == 0 or x < self.mins[-1]:\n",
    "            self.mins.append(x)\n",
    "        else:\n",
    "            self.mins.append(self.mins[-1])\n",
    "    def peek(self):\n",
    "        if self.top == None:\n",
    "            raise ValueError(None)\n",
    "        return self.top.val\n",
    "    def isEmpty(self):\n",
    "            return self.top == None\n",
    "    def getMin(self):\n",
    "        return self.mins[-1]\n",
    "          \n",
    "A = Stack()\n",
    "A.insert(1)\n",
    "A.insert(0)\n",
    "A.insert(1)\n",
    "A.getMin()"
   ]
  },
  {
   "cell_type": "code",
   "execution_count": 240,
   "metadata": {},
   "outputs": [
    {
     "name": "stdout",
     "output_type": "stream",
     "text": [
      "8\n",
      "9\n"
     ]
    }
   ],
   "source": [
    "#3.3\n",
    "class SetOfStacks():\n",
    "    def __init__(self,N):\n",
    "        self.limit = N    \n",
    "        self.stacks = [Stack()]\n",
    "        self.currentcount = 0\n",
    "    def pop(self):\n",
    "        self.currentcount -= 1\n",
    "        return self.stacks[-1].pop()\n",
    "    def push(self,x):\n",
    "        if self.currentcount >= self.limit:\n",
    "            self.stacks.append(Stack())\n",
    "            self.currentcount = 0\n",
    "        self.stacks[-1].insert(x)\n",
    "        self.currentcount += 1\n",
    "        \n",
    "A = SetOfStacks(4)\n",
    "A.push(5)\n",
    "A.push(6)\n",
    "A.push(7)\n",
    "A.push(8)\n",
    "A.push(9)\n",
    "A.push(10)\n",
    "A.pop()\n",
    "print(A.stacks[0].peek())\n",
    "print(A.stacks[1].peek())"
   ]
  },
  {
   "cell_type": "code",
   "execution_count": 271,
   "metadata": {},
   "outputs": [
    {
     "name": "stdout",
     "output_type": "stream",
     "text": [
      "3\n",
      "4\n",
      "5\n",
      "6\n"
     ]
    }
   ],
   "source": [
    "#3.4\n",
    "class MyQueue:\n",
    "    def __init__(self):\n",
    "        self.mode = 0\n",
    "        self.tempStack = Stack()\n",
    "        self.currStack = Stack()\n",
    "    \n",
    "    def  push(self,x):\n",
    "        if self.mode == 1:\n",
    "            while self.currStack.top:\n",
    "                self.tempStack.insert(self.currStack.pop().val)\n",
    "            self.tempStack,self.currStack = self.currStack,self.tempStack\n",
    "        self.mode = 0\n",
    "        self.currStack.insert(x)\n",
    "            \n",
    "\n",
    "    def pop(self):\n",
    "        if self.mode == 0:\n",
    "            while self.currStack.top:\n",
    "                self.tempStack.insert(self.currStack.pop().val)\n",
    "            self.tempStack,self.currStack = self.currStack,self.tempStack\n",
    "        self.mode = 1\n",
    "        return self.currStack.pop()\n",
    "    \n",
    "A = MyQueue()\n",
    "A.push(1)\n",
    "A.push(2)\n",
    "A.push(3)\n",
    "A.push(4)\n",
    "A.push(5)\n",
    "A.pop()\n",
    "A.push(6)\n",
    "A.pop()\n",
    "print(A.pop().val)\n",
    "print(A.pop().val)\n",
    "print(A.pop().val)\n",
    "print(A.pop().val)"
   ]
  },
  {
   "cell_type": "code",
   "execution_count": 56,
   "metadata": {},
   "outputs": [
    {
     "name": "stdout",
     "output_type": "stream",
     "text": [
      "[10, 9, 8, 7, 6, 5, 4, 3, 2, 1, 0]\n",
      "[]\n",
      "[1]\n",
      "[2, 1]\n",
      "[2, 1]\n",
      "[5, 3, 1]\n",
      "[9, 8, 7, 6, 5, 4, 3, 2, 1, 0]\n"
     ]
    }
   ],
   "source": [
    "def sortStack(stack):\n",
    "    tempStack = Stack()\n",
    "    flag = True\n",
    "    try:\n",
    "        y = stack.pop().val\n",
    "    except:    \n",
    "        return \n",
    "    try:\n",
    "        x = stack.pop().val\n",
    "    except:\n",
    "        stack.insert(y)\n",
    "        return\n",
    "    \n",
    "\n",
    "        \n",
    "    while flag:\n",
    "        flag = False\n",
    "        while stack.top:\n",
    "            if y < x:\n",
    "                x,y = y,x\n",
    "                flag = True\n",
    "            ##shift elements\n",
    "            tempStack.insert(y)\n",
    "            y = x\n",
    "            x = stack.pop().val\n",
    "        while tempStack.top:\n",
    "            if y < x:\n",
    "                x,y = y,x\n",
    "                flag = True\n",
    "            stack.insert(x)\n",
    "            x = y\n",
    "            y = tempStack.pop().val\n",
    "          \n",
    "    if y < x:\n",
    "        x,y = y,x\n",
    "    stack.insert(x)\n",
    "    stack.insert(y)\n",
    "    return\n",
    "\n",
    "\n",
    "#testcases:\n",
    "\n",
    "A = Stack()\n",
    "for n in range(10,-1,-1):\n",
    "    A.insert(n)\n",
    "sortStack(A)\n",
    "resA = []\n",
    "while A.top:\n",
    "    resA.append(A.pop().val)\n",
    "print(resA)\n",
    "\n",
    "A = Stack()\n",
    "resA = []\n",
    "sortStack(A)\n",
    "while A.top:\n",
    "    resA.append(A.pop().val)\n",
    "print(resA)\n",
    "\n",
    "A = Stack()\n",
    "A.insert(1)\n",
    "sortStack(A)\n",
    "resA = []\n",
    "while A.top:\n",
    "    resA.append(A.pop().val)\n",
    "print(resA)\n",
    "\n",
    "A = Stack()\n",
    "A.insert(1)\n",
    "A.insert(2)\n",
    "sortStack(A)\n",
    "resA = []\n",
    "while A.top:\n",
    "    resA.append(A.pop().val)\n",
    "print(resA)\n",
    "\n",
    "A = Stack()\n",
    "A.insert(2)\n",
    "A.insert(1)\n",
    "sortStack(A)\n",
    "resA = []\n",
    "while A.top:\n",
    "    resA.append(A.pop().val)\n",
    "print(resA)\n",
    "\n",
    "A = Stack()\n",
    "A.insert(5)\n",
    "A.insert(1)\n",
    "A.insert(3)\n",
    "sortStack(A)\n",
    "resA = []\n",
    "while A.top:\n",
    "    resA.append(A.pop().val)\n",
    "print(resA)\n",
    "\n",
    "A = Stack()\n",
    "resA = []\n",
    "for n in range(0,10,1):\n",
    "    A.insert(n)\n",
    "\n",
    "sortStack(A)\n",
    "while A.top:\n",
    "    resA.append(A.pop().val)\n",
    "print(resA)\n",
    "\n"
   ]
  },
  {
   "cell_type": "code",
   "execution_count": 78,
   "metadata": {},
   "outputs": [
    {
     "name": "stdout",
     "output_type": "stream",
     "text": [
      "Dog\n",
      "Dog\n",
      "Dog\n"
     ]
    }
   ],
   "source": [
    "class animalShelter():\n",
    "    def __init__(self):\n",
    "        self.queue = Queue()\n",
    "        self.tempStack = Stack()\n",
    "        \n",
    "    def dequeueAny(self):\n",
    "        return self.queue.remove()\n",
    "    \n",
    "    def dequeueDog(self):\n",
    "        while self.queue.first.val != \"Dog\":\n",
    "            self.tempStack.insert(self.queue.remove().val)\n",
    "        self.queue.remove()\n",
    "        while self.tempStack.top:\n",
    "            self.queue.add(self.tempStack.pop().val)\n",
    "    def dequeueCat(self):\n",
    "        while self.queue.first.val != \"Cat\":\n",
    "            self.tempStack.insert(self.queue.remove().val)\n",
    "        self.queue.remove()\n",
    "        while self.tempStack.top:\n",
    "            self.queue.add(self.tempStack.pop().val)\n",
    "    def enqueue(self,x):\n",
    "        self.queue.add(x)\n",
    "        \n",
    "A = animalShelter()\n",
    "A.enqueue(\"Dog\")\n",
    "A.enqueue(\"Dog\")\n",
    "A.enqueue(\"Cat\")\n",
    "A.enqueue(\"Cat\")\n",
    "A.enqueue(\"Dog\")\n",
    "A.enqueue(\"Cat\")\n",
    "A.dequeueCat()\n",
    "A.dequeueCat()\n",
    "A.dequeueCat()\n",
    "while A.queue.first:\n",
    "    print(A.queue.first.val)\n",
    "    A.dequeueAny()"
   ]
  },
  {
   "cell_type": "code",
   "execution_count": 130,
   "metadata": {},
   "outputs": [],
   "source": [
    "#4.4\n",
    "\n",
    "class TreeNode:\n",
    "    def __init__(self,x):\n",
    "        self.val = x\n",
    "        self.left = None\n",
    "        self.right = None\n",
    "\n",
    "        \n",
    "        \n",
    "\n",
    "def checkHeight(root):\n",
    "    if not root:\n",
    "        return 0\n",
    "    leftHeight = checkHeight(root.left)\n",
    "    rightHeight = checkHeight(root.right)\n",
    "    if leftHeight is False or rightHeight is False:\n",
    "        return False\n",
    "    if abs(leftHeight-rightHeight) > 1:\n",
    "        return False\n",
    "    return max(leftHeight,rightHeight) + 1\n",
    "\n",
    "def isBalanced(root):\n",
    "    if not root:\n",
    "        return True\n",
    "    return checkHeight(root) != False"
   ]
  },
  {
   "cell_type": "code",
   "execution_count": 196,
   "metadata": {},
   "outputs": [
    {
     "name": "stdout",
     "output_type": "stream",
     "text": [
      "0 0\n",
      "0 0\n",
      "0 0\n",
      "1 1\n",
      "1 2\n",
      "True\n"
     ]
    }
   ],
   "source": [
    "def arrayToTree(arr):\n",
    "    root = TreeNode(arr.pop(0))\n",
    "    queue = [root]\n",
    "    while arr:\n",
    "        curr = queue.pop(0)\n",
    "        curr_val = arr.pop(0)\n",
    "        if curr_val is not None:\n",
    "            curr.left = TreeNode(curr_val)\n",
    "            queue.append(curr.left)\n",
    "        if arr:\n",
    "            curr_val = arr.pop(0)\n",
    "            if curr_val:\n",
    "                curr.right = TreeNode(curr_val)\n",
    "                queue.append(curr.right)\n",
    "    return root\n",
    "        \n",
    "A = arrayToTree([10,5,15,None,None,6,20])\n",
    "print(isBalanced(A))"
   ]
  },
  {
   "cell_type": "code",
   "execution_count": 151,
   "metadata": {},
   "outputs": [
    {
     "name": "stdout",
     "output_type": "stream",
     "text": [
      "False\n"
     ]
    }
   ],
   "source": [
    "#4.5 Valid BST\n",
    "# I should be able to recurse through the entire \n",
    "# I should be able to do this with any form of search\n",
    "# I need to pass down the min and max value for each node\n",
    "## to do that if you're checking the right root update the min value\n",
    "## if you're checking the left root update the max value\n",
    "def isValidBST(root,Min=2**-32,Max=2**32):\n",
    "    if not root:\n",
    "        return True\n",
    "    if (Min and root.val < Min) or (Max and root.val > Max):\n",
    "        return False\n",
    "    return isValidBST(root.left,Min,root.val) and isValidBST(root.right,root.val,Max)\n",
    "\n",
    "\n",
    "A = arrayToTree([10,5,15,None,None,6,20])\n",
    "print(isValidBST(A,))"
   ]
  },
  {
   "cell_type": "code",
   "execution_count": 149,
   "metadata": {},
   "outputs": [
    {
     "data": {
      "text/plain": [
       "-65536"
      ]
     },
     "execution_count": 149,
     "metadata": {},
     "output_type": "execute_result"
    }
   ],
   "source": [
    "#iterative\n",
    "def lowestCommonAncestor(self, root, p, q, flag=False):\n",
    "    if not root:\n",
    "        return False\n",
    "\n",
    "    left = self.lowestCommonAncestor(root.left, p, q, flag)\n",
    "    right = self.lowestCommonAncestor(root.right, p, q, flag)\n",
    "    if root is p or root is q:\n",
    "        return root\n",
    "    if left and right: return root\n",
    "    if left: return left\n",
    "    if right: return right\n",
    "    return False\n",
    "\n",
    "\n",
    "#iterative with backtracking\n",
    "def lowestCommonAncestor(self, root, p, q):\n",
    "    depth = 1\n",
    "    queue = [root]\n",
    "    tempqueue = []\n",
    "    flag = False\n",
    "    while queue:\n",
    "        curr = queue.pop(0)\n",
    "        if not curr: continue\n",
    "        curr.depth = depth\n",
    "        if curr is p or curr is q:\n",
    "            if flag:\n",
    "                break\n",
    "            flag = True\n",
    "            \n",
    "        curr.left.parent = curr\n",
    "        curr.right.parent = curr\n",
    "        tempqueue += [curr.left,curr.right]\n",
    "        if len(queue) == 0:\n",
    "            depth += 1\n",
    "            queue = tempqueue\n",
    "            tempqueue = []\n",
    "        \n",
    "    while p is not q:\n",
    "        if p.depth > q.depth:\n",
    "            p = p.parent\n",
    "        elif p.depth < q.depth:\n",
    "            q = q.parent\n",
    "        else:\n",
    "            p = p.parent\n",
    "            q = q.parent\n",
    "    return p\n",
    "\n",
    "#iterative without backtracking\n",
    "def lowestCommonAncestor(root, p, q):\n",
    "    stack = [root]\n",
    "    LCA = None\n",
    "    while stack:\n",
    "        curr = stack[-1]\n",
    "        try:\n",
    "            if curr.status == \"RP\":\n",
    "                stack.append(curr.right)\n",
    "            else:\n",
    "                stack.pop()\n",
    "                if LCA:\n",
    "                    LCA = stack[-1]\n",
    "        except:\n",
    "            curr.status = \"RP\":\n",
    "            stack.append(curr.left)\n",
    "        \n",
    "        if curr is p or curr is q:\n",
    "            LCA = curr\n",
    "        "
   ]
  },
  {
   "cell_type": "code",
   "execution_count": 160,
   "metadata": {},
   "outputs": [
    {
     "name": "stdout",
     "output_type": "stream",
     "text": [
      "4\n",
      "2\n",
      "5\n",
      "1\n",
      "6\n",
      "3\n",
      "7\n"
     ]
    },
    {
     "data": {
      "text/plain": [
       "6"
      ]
     },
     "execution_count": 160,
     "metadata": {},
     "output_type": "execute_result"
    }
   ],
   "source": [
    "##4.6\n",
    "def leftMost(node):\n",
    "    while node.left:\n",
    "        node = node.left\n",
    "    return node\n",
    "\n",
    "def getSuccessor(node):\n",
    "    if node.right:\n",
    "        return leftMost(node.right)\n",
    "    else:\n",
    "        while node.parent:\n",
    "            if node == None:\n",
    "                return None\n",
    "            if node.parent.left is node:\n",
    "                return node.parent\n",
    "            else:\n",
    "                node = node.parent\n",
    "                \n",
    "def inOrder(root):\n",
    "    if root:\n",
    "        inOrder(root.left)\n",
    "        print(root.val)\n",
    "        inOrder(root.right)\n",
    "    \n",
    "A = arrayToTree([1,2,3,4,5,6,7])\n",
    "inOrder(A)\n",
    "getSuccessor(A).val"
   ]
  },
  {
   "cell_type": "code",
   "execution_count": 177,
   "metadata": {},
   "outputs": [],
   "source": [
    "#4.7\n",
    "def buildOrder(projects,dependencies):\n",
    "    build = []\n",
    "    graph = {key: [] for key in projects}\n",
    "    flag = False\n",
    "    for n in dependencies:\n",
    "        graph[n[1]] += n[0]\n",
    "    while graph:\n",
    "        flag = False\n",
    "        for key in list(graph.keys()):\n",
    "            if not graph[key]:\n",
    "                flag = True\n",
    "                build.append(key)\n",
    "                for key2 in list(graph.keys()):\n",
    "                    try:\n",
    "                        graph[key2].remove(key)\n",
    "                    except:\n",
    "                        pass\n",
    "                del graph[key]\n",
    "        if not flag:\n",
    "            return []\n",
    "    return build\n"
   ]
  },
  {
   "cell_type": "code",
   "execution_count": 202,
   "metadata": {},
   "outputs": [
    {
     "name": "stdout",
     "output_type": "stream",
     "text": [
      "['X', 'X', 0, 'X', 1, 'X', 'X', 2, 4, 'X', 'X', 5, 3] [3, 4, 1, 0, 'X', 'X', 'X', 2, 'X', 'X', 5, 'X', 'X']\n",
      "['X', 'X', 1, 'X', 'X', 2, 4] [4, 1, 'X', 'X', 2, 'X', 'X']\n",
      "False\n"
     ]
    }
   ],
   "source": [
    "#4.10\n",
    "\n",
    "def preorder(root,arr):\n",
    "    if root:\n",
    "        preorder(root.left,arr)\n",
    "        arr.append(root.val)\n",
    "        preorder(root.right,arr)\n",
    "    else:\n",
    "        arr.append(\"X\")\n",
    "\n",
    "\n",
    "        \n",
    "def checkSubtree(T1,T2):\n",
    "    preorderT1 = []\n",
    "    preorderT2 = []\n",
    "    preorder(T1,preorderT1)\n",
    "    preorder(T2,preorderT2)\n",
    "\n",
    "    i = 0\n",
    "    flag1 = False\n",
    "    flag2 = False\n",
    "    print(inorderT1,preorderT1)\n",
    "    print(inorderT2,preorderT2)\n",
    "    while i <= len(inorderT1) - len(inorderT2):\n",
    "        if preorderT1[i:i+len(preorderT2)] == preorderT2:\n",
    "            flag1 = True\n",
    "        i += 1\n",
    "\n",
    "    return flag1\n",
    "\n",
    "\n",
    "\n",
    "A = arrayToTree([3,4,5,1,2,None,None,0])\n",
    "B = arrayToTree([4,1,2])\n",
    "print(checkSubtree(A,B))"
   ]
  },
  {
   "cell_type": "code",
   "execution_count": 214,
   "metadata": {},
   "outputs": [
    {
     "name": "stdout",
     "output_type": "stream",
     "text": [
      "3\n"
     ]
    }
   ],
   "source": [
    "def pathSum(root,sum,count=0):\n",
    "    paths = []\n",
    "    if root:\n",
    "        left = pathSum(root.left,sum)\n",
    "        right = pathSum(root.right,sum)\n",
    "        \n",
    "        count += left[0] + right[0]\n",
    "        paths += left[1] + right[1]\n",
    "        \n",
    "        for i,n in enumerate(paths):\n",
    "            paths[i] += root.val\n",
    "            if paths[i] == sum:\n",
    "                count += 1\n",
    "\n",
    "        paths.append(root.val)\n",
    "        if root.val == sum:\n",
    "            count += 1\n",
    "\n",
    "    return count,paths\n",
    "\n",
    "\n",
    "A = arrayToTree([10,5,-3,3,2,None,11,3,-2,None,1])\n",
    "print(pathSum(A,8)[0])"
   ]
  },
  {
   "cell_type": "code",
   "execution_count": 9,
   "metadata": {},
   "outputs": [
    {
     "data": {
      "text/plain": [
       "7"
      ]
     },
     "execution_count": 9,
     "metadata": {},
     "output_type": "execute_result"
    }
   ],
   "source": [
    "#8.1\n",
    "def ways(n, memo={0: 1}):\n",
    "    if n < 0:\n",
    "        return 0\n",
    "    if n in memo:\n",
    "        return memo[n]\n",
    "            \n",
    "    res = ways(n-1,memo) + ways(n-2,memo) + ways(n-3,memo)\n",
    "    memo[n] = res \n",
    "\n",
    "def ways(n):\n",
    "    n1 = 1\n",
    "    n2 = 2\n",
    "    n3 = 4\n",
    "    for i in range(4,n+1):\n",
    "        res = n1+n2+n3\n",
    "        n1,n2,n3 = n2,n3,res\n",
    "    return n3\n",
    "\n",
    "    \n",
    "tripleStep(4)\n"
   ]
  },
  {
   "cell_type": "code",
   "execution_count": 42,
   "metadata": {
    "scrolled": true
   },
   "outputs": [
    {
     "name": "stdout",
     "output_type": "stream",
     "text": [
      "(True, [[0, 0], [0, 1], [0, 2], [0, 3], [0, 4], [1, 4], [2, 4], [3, 4], [4, 4], [5, 4]])\n"
     ]
    }
   ],
   "source": [
    "#8.2 \n",
    "grid = [[0 for n in range(0,5)] for n in range(0,6)]\n",
    "\n",
    "def findPath(grid, pos = [0,0], path = [],memo={}):\n",
    "    if tuple(pos) in memo:      \n",
    "        return False\n",
    "    if (pos[0] < 0 or pos[0] >= len(grid)) or (pos[1] < 0 or pos[1] >= len(grid[0])) or grid[pos[0]][pos[1]] == 1:\n",
    "        memo[tuple(pos)] = 1  \n",
    "        return False\n",
    "    path.append(pos)\n",
    "    if pos == [len(grid)-1,len(grid[0])-1]:\n",
    "        return True\n",
    "    if findPath(grid,[pos[0],pos[1]+1],path,memo) or findPath(grid, [pos[0]+1,pos[1]],path,memo):\n",
    "        return True,path\n",
    "    path.pop()\n",
    "    memo[tuple(pos)] = 1\n",
    "    return False\n",
    "\n",
    "print(findPath(grid))"
   ]
  },
  {
   "cell_type": "code",
   "execution_count": 58,
   "metadata": {},
   "outputs": [
    {
     "data": {
      "text/plain": [
       "13"
      ]
     },
     "execution_count": 58,
     "metadata": {},
     "output_type": "execute_result"
    }
   ],
   "source": [
    "def magicIndex(A,start,end):\n",
    "    i = (start+end)//2\n",
    "    if start >= end:\n",
    "        return False\n",
    "    if A[i] == i:\n",
    "        return i\n",
    "    elif A[i] > i:\n",
    "        return magicIndex(A,start,i)\n",
    "    else:\n",
    "        return magicIndex(A,i+1,end)\n",
    "    \n",
    "A = [0,2,3]\n",
    "\n",
    "magicIndex(A,0,len(A))\n",
    "\n",
    "def magicIndex(A,start,end):\n",
    "    i = (start+end)//2\n",
    "    if start>= end:\n",
    "        return False\n",
    "    if i == A[i]:\n",
    "        return i\n",
    "    for j in range(i+1,len(A)):\n",
    "        if j == A[j]:\n",
    "            return j\n",
    "    return magicIndex(A,0,min(A[i],i))\n",
    "A = [-10,-5,4,10,10,10,10,10,12,13,13,13,13,13]\n",
    "magicIndex(A,0,len(A))"
   ]
  },
  {
   "cell_type": "code",
   "execution_count": 93,
   "metadata": {},
   "outputs": [
    {
     "name": "stdout",
     "output_type": "stream",
     "text": [
      "[[1], [1, 2], [1, 2, 3], [1, 3], [2], [2, 3], [3], []]\n",
      "[[], [1], [2], [1, 2], [3], [1, 3], [2, 3], [1, 2, 3]]\n"
     ]
    }
   ],
   "source": [
    "def powerSet(pool, i0=0, curr = []):\n",
    "    res = []\n",
    "    for i in range(i0,len(pool)):\n",
    "        newcurr = curr[:]\n",
    "        newcurr.append(pool[i])\n",
    "        res += [newcurr]\n",
    "        subset = (powerSet(pool,i+1,newcurr))\n",
    "        if subset:\n",
    "            res += subset\n",
    "    return res[:]\n",
    "\n",
    "\n",
    "print(powerSet([1,2,3]) + [[]])\n",
    "\n",
    "def powerSet(pool):\n",
    "    res = [[]]\n",
    "    for i in range(0,len(pool)):\n",
    "        for n in res[:]:\n",
    "            n = n[:]\n",
    "            n.append(pool[i])\n",
    "            res.append(n)\n",
    "    return res\n",
    "print(powerSet([1,2,3]))"
   ]
  },
  {
   "cell_type": "code",
   "execution_count": 105,
   "metadata": {},
   "outputs": [
    {
     "data": {
      "text/plain": [
       "5335816"
      ]
     },
     "execution_count": 105,
     "metadata": {},
     "output_type": "execute_result"
    }
   ],
   "source": [
    "def multiply(n1,n2):\n",
    "    n = n1\n",
    "    stored = 0\n",
    "    while n2 != 1:\n",
    "        if n2%2 == 1:\n",
    "            n2 -= 1\n",
    "            stored += n\n",
    "        n2 /= 2\n",
    "        n *= 2\n",
    "    return n+stored\n",
    "multiply(1234,4324)"
   ]
  },
  {
   "cell_type": "code",
   "execution_count": 2,
   "metadata": {},
   "outputs": [
    {
     "name": "stdout",
     "output_type": "stream",
     "text": [
      "[] [] [10, 9, 8, 7, 6, 5, 4, 3, 2, 1]\n"
     ]
    }
   ],
   "source": [
    "def move(N,origin,target,placeholder):    \n",
    "        if N == 2:\n",
    "            placeholder.append(origin.pop())\n",
    "            target.append(origin.pop())\n",
    "            target.append(placeholder.pop())\n",
    "            return\n",
    "        move(N-1,origin,placeholder,target)\n",
    "        target.append(origin.pop())\n",
    "        move(N-1,placeholder,target,origin)\n",
    "        \n",
    "def towers(N):\n",
    "    stack1 = [n for n in range(N,0,-1)]\n",
    "    stack2 = []\n",
    "    stack3 = []\n",
    "    move(N,stack1,stack3,stack2)\n",
    "    print(stack1,stack2,stack3)\n",
    "    \n",
    "towers(10)"
   ]
  },
  {
   "cell_type": "code",
   "execution_count": 1,
   "metadata": {},
   "outputs": [
    {
     "name": "stdout",
     "output_type": "stream",
     "text": [
      "['abc', 'acb', 'bac', 'bca', 'cab', 'cba']\n",
      "['abc', 'acb', 'bac', 'bca', 'cab', 'cba']\n",
      "['abc', 'acb', 'bac', 'bca', 'cab', 'cba']\n",
      "['abc', 'acb', 'bac', 'bca', 'cab', 'cba']\n"
     ]
    }
   ],
   "source": [
    "#create all permutations of a string\n",
    "#DFS\n",
    "def permute(s):\n",
    "    if len(s) == 1:\n",
    "        return [s]\n",
    "    permutations = []\n",
    "    for i,c in enumerate(s):\n",
    "        permutations += [c+chars for chars in permute(s[0:i]+s[i+1:])]\n",
    "    return permutations\n",
    "print(permute('abc'))\n",
    "\n",
    "##topdown\n",
    "def permute(s):\n",
    "    res = [[\"\",s]]\n",
    "    for i in range(0,len(s)):\n",
    "        res = [[pool[0] + char, pool[1][0:j]+pool[1][j+1:]]  for pool in res for j,char in enumerate(pool[1])]  \n",
    "    return [n[0] for n in res]\n",
    "print(permute('abc'))\n",
    "\n",
    "def permute(s):\n",
    "    res = [[\"\",s]]\n",
    "    for i in range(0,len(s)):\n",
    "        temp = []\n",
    "        for pool in res:\n",
    "            for j,char in enumerate(pool[1]):\n",
    "                temp.append([pool[0] +char, pool[1][0:j]+pool[1][j+1:]])\n",
    "                \n",
    "        res = temp[:]\n",
    "    return [n[0] for n in res]\n",
    "print(permute('abc'))\n",
    "def permute(s, curr=\"\",res=[]):\n",
    "    if len(s) == 0:\n",
    "        res.append(curr)\n",
    "    for i,c in enumerate(s):\n",
    "        permute(s[0:i]+s[i+1:],curr+c,res)\n",
    "    return res\n",
    "\n",
    "print(permute('abc'))"
   ]
  },
  {
   "cell_type": "code",
   "execution_count": 8,
   "metadata": {},
   "outputs": [
    {
     "name": "stdout",
     "output_type": "stream",
     "text": [
      "['aaaaaaaaaaaaaab', 'aaaaaaaaaaaaaba', 'aaaaaaaaaaaabaa', 'aaaaaaaaaaabaaa', 'aaaaaaaaaabaaaa', 'aaaaaaaaabaaaaa', 'aaaaaaaabaaaaaa', 'aaaaaaabaaaaaaa', 'aaaaaabaaaaaaaa', 'aaaaabaaaaaaaaa', 'aaaabaaaaaaaaaa', 'aaabaaaaaaaaaaa', 'aabaaaaaaaaaaaa', 'abaaaaaaaaaaaaa', 'baaaaaaaaaaaaaa']\n"
     ]
    }
   ],
   "source": [
    "def permuteDups(s,curr=\"\",res=[]):\n",
    "    memo = {}\n",
    "    for c in s:\n",
    "        if c in memo:\n",
    "            memo[c] += 1\n",
    "        else:\n",
    "            memo[c] = 1\n",
    "    \n",
    "    def permute(counts,curr=\"\",res=[]):\n",
    "        if not any(counts.values()):\n",
    "            res.append(curr)\n",
    "        for key in counts:\n",
    "            if counts[key] >= 1:\n",
    "                counts[key] -= 1\n",
    "                permute(counts,curr+key,res)\n",
    "                counts[key] += 1\n",
    "        return res\n",
    "    \n",
    "    return permute(memo)\n",
    "    \n",
    "\n",
    "print(permuteDups('aaaaaaaabaaaaaa'))\n",
    "\n",
    "def permute(s, curr=\"\",res=[]):\n",
    "    if len(s) == 0:\n",
    "        res.append(curr)\n",
    "    for i,c in enumerate(s):\n",
    "        permute(s[0:i]+s[i+1:],curr+c,res)\n",
    "    return res\n"
   ]
  },
  {
   "cell_type": "code",
   "execution_count": 9,
   "metadata": {},
   "outputs": [
    {
     "name": "stdout",
     "output_type": "stream",
     "text": [
      "['()'] 1\n",
      "['()()', '(())'] 2\n",
      "['()()()', '(())()', '()(())', '(()())', '((()))'] 3\n"
     ]
    }
   ],
   "source": [
    "def insertParens(s,memo):\n",
    "    res = []\n",
    "    new = \"()\"+s\n",
    "    if not new in memo:\n",
    "        res.append(new)\n",
    "        memo[new] = 1\n",
    "    \n",
    "    for i,c in enumerate(s):\n",
    "        if c == \"(\":\n",
    "            new = s[0:i+1]+\"()\"+s[i+1:]\n",
    "            if not new in memo:\n",
    "                res.append(new)\n",
    "                memo[new] = 1\n",
    "    return res\n",
    "\n",
    "def parens(n,memo=None):\n",
    "    if not memo: \n",
    "        memo = {}\n",
    "    if n == 1:\n",
    "        memo = {}\n",
    "        memo[\"()\"] = 1\n",
    "        return [\"()\"]\n",
    "    prev = parens(n-1,memo)\n",
    "    res = []\n",
    "    for s in prev:\n",
    "        res += insertParens(s,memo)\n",
    "\n",
    "    return res\n",
    "    \n",
    "for i in range(1,4):\n",
    "    print(parens(i),i)\n",
    "\n",
    "# insertParens(\"()\")"
   ]
  },
  {
   "cell_type": "code",
   "execution_count": 14,
   "metadata": {},
   "outputs": [
    {
     "data": {
      "text/plain": [
       "['((()))', '(()())', '(())()', '()(())', '()()()']"
      ]
     },
     "execution_count": 14,
     "metadata": {},
     "output_type": "execute_result"
    }
   ],
   "source": [
    "\n",
    "def parens(n,left=None,right=None,res=None,curr=\"\"):\n",
    "    if left is None:\n",
    "        left,right = n,n\n",
    "        res = []\n",
    "    if left == 0 and right == 0:\n",
    "        res.append(curr)\n",
    "        return\n",
    "    if left > 0:\n",
    "        parens(n,left-1,right,res,curr+\"(\")\n",
    "    if right > left:\n",
    "        parens(n,left,right-1,res,curr+\")\")\n",
    "        \n",
    "    return res\n",
    "\n",
    "parens(3)"
   ]
  },
  {
   "cell_type": "code",
   "execution_count": 115,
   "metadata": {},
   "outputs": [
    {
     "name": "stdout",
     "output_type": "stream",
     "text": [
      "1.2232887887323969 73682\n"
     ]
    }
   ],
   "source": [
    "import time as time\n",
    "\n",
    "\n",
    "def ways(target,coins,curr=None):\n",
    "    res = 0\n",
    "    if target == 0:\n",
    "        return 1\n",
    "    for coin in coins:\n",
    "        if (not curr or coin<=curr) and coin <= target:\n",
    "            res += ways(target-coin,coins,coin)\n",
    "    return res\n",
    "\n",
    "    \n",
    "start = time.clock()\n",
    "A = ways(200,[200,100,50,20,10,5,2,1])\n",
    "print(time.clock()-start,A)"
   ]
  },
  {
   "cell_type": "code",
   "execution_count": 119,
   "metadata": {},
   "outputs": [
    {
     "name": "stdout",
     "output_type": "stream",
     "text": [
      "0.000765295774669994 73682\n"
     ]
    }
   ],
   "source": [
    "def ways(target,coins,curr=None,memo=None):\n",
    "    if not memo:\n",
    "        memo = {}\n",
    "    if target == 0:\n",
    "        return 1\n",
    "    if (target,curr) in memo:\n",
    "        return memo[(target,curr)]\n",
    "    res = 0\n",
    "    for coin in coins:\n",
    "        if (not curr or coin<=curr) and coin <= target: \n",
    "            N = ways(target-coin,coins,coin,memo)\n",
    "            res += N\n",
    "            memo[(target-coin,coin)] = N\n",
    "    return res\n",
    "start = time.clock()\n",
    "A = ways(200,[200,100,50,20,10,5,2,1])\n",
    "print(time.clock()-start,A)"
   ]
  },
  {
   "cell_type": "code",
   "execution_count": 157,
   "metadata": {},
   "outputs": [
    {
     "data": {
      "text/plain": [
       "[[['.', 'Q', '.', '.'],\n",
       "  ['.', '.', '.', 'Q'],\n",
       "  ['Q', '.', '.', '.'],\n",
       "  ['.', '.', 'Q', '.']],\n",
       " [['.', '.', 'Q', '.'],\n",
       "  ['Q', '.', '.', '.'],\n",
       "  ['.', '.', '.', 'Q'],\n",
       "  ['.', 'Q', '.', '.']]]"
      ]
     },
     "execution_count": 157,
     "metadata": {},
     "output_type": "execute_result"
    }
   ],
   "source": [
    "def eightQueens(N,i=0,board = None, res = []):\n",
    "    if board == None:\n",
    "        board = [[0 for i in range(0,N)] for j in range(0,N)]\n",
    "    for j in range(0,N):\n",
    "        if board[i][j] == 0:\n",
    "            paintedPoints = placeQueen(i,j,board)\n",
    "            board[i][j] = 2\n",
    "            if i == N-1:\n",
    "                boardcopy = [[\"Q\" if n==2 else \".\" for n in x] for x in board]\n",
    "                res.append(boardcopy)\n",
    "            else:\n",
    "                eightQueens(N,i+1,board,res)\n",
    "            removeQueen(paintedPoints,board)\n",
    "            board[i][j] = 0\n",
    "    return res\n",
    "\n",
    "def placeQueen(i0,j0,board):\n",
    "    i,j=i0+1,j0\n",
    "    paintedPoints = []\n",
    "    while i < len(board):\n",
    "        if board[i][j] == 0:\n",
    "            board[i][j] = 1\n",
    "            paintedPoints.append([i,j])\n",
    "        i+=1\n",
    "    i,j = i0+1,j0+1\n",
    "    while i < len(board) and j < len(board[0]):\n",
    "        if board[i][j] == 0:\n",
    "            board[i][j] = 1\n",
    "            paintedPoints.append([i,j])\n",
    "        i += 1\n",
    "        j += 1\n",
    "    i,j = i0+1,j0-1\n",
    "    while i < len(board) and j >= 0:\n",
    "        if board[i][j] == 0:\n",
    "            board[i][j] = 1\n",
    "            paintedPoints.append([i,j])\n",
    "        i += 1\n",
    "        j -= 1\n",
    "    return paintedPoints\n",
    "\n",
    "def removeQueen(paintedPoints,board):\n",
    "    for n in paintedPoints:\n",
    "        board[n[0]][n[1]] = 0\n",
    "\n",
    "        \n",
    "eightQueens(4)"
   ]
  },
  {
   "cell_type": "code",
   "execution_count": 9,
   "metadata": {},
   "outputs": [
    {
     "data": {
      "text/plain": [
       "58"
      ]
     },
     "execution_count": 9,
     "metadata": {},
     "output_type": "execute_result"
    }
   ],
   "source": [
    "def tallestBox(boxes, start=False,w=0,d=0):\n",
    "    if len(boxes) == 1:\n",
    "        return boxes[0][2]\n",
    "    if start == True:\n",
    "        boxes.sort(key = lambda x: x[2] )\n",
    "    height = 0\n",
    "    if boxes[0][0] > w and boxes[0][1] > d :\n",
    "        heightWith = boxes[0][2] + tallestBox(boxes[1:],w=boxes[0][0],d=boxes[0][1])\n",
    "    else:\n",
    "        heightWith = 0\n",
    "    heightWithout = tallestBox(boxes[1:],w=boxes[0][0],d=boxes[0][1])\n",
    "    return max(heightWith,heightWithout)\n",
    "\n",
    "tallestBox([[1,1,50],[1,1,1],[2,2,2],[3,4,5],[1,2,3]],start=True)\n"
   ]
  },
  {
   "cell_type": "code",
   "execution_count": 10,
   "metadata": {},
   "outputs": [
    {
     "data": {
      "text/plain": [
       "[1, 1, 2, 3, 4, 5, 5, 9, 10, 11]"
      ]
     },
     "execution_count": 10,
     "metadata": {},
     "output_type": "execute_result"
    }
   ],
   "source": [
    "def mergeSorted(a1,a2):\n",
    "    a = []\n",
    "    while a1 and a2:\n",
    "        if a1[0] <= a2[0]:\n",
    "            a.append(a1.pop(0))\n",
    "        else:\n",
    "            a.append(a2.pop(0))\n",
    "    if a1:\n",
    "        a += a1\n",
    "    if a2:\n",
    "        a += a2\n",
    "    return a\n",
    "\n",
    "\n",
    "mergeSorted([1,5,9,10,11],[1,2,3,4,5])"
   ]
  },
  {
   "cell_type": "code",
   "execution_count": 25,
   "metadata": {},
   "outputs": [
    {
     "name": "stdout",
     "output_type": "stream",
     "text": [
      "['eat', 'ate', 'tea', 'bate']\n"
     ]
    }
   ],
   "source": [
    "def groupAnagrams(A):\n",
    "    cache = {}\n",
    "    for word in A:\n",
    "        counts = [0 for i in range(0,26)]\n",
    "        for char in word:\n",
    "            counts[ord(char)-ord(\"a\")] += 1\n",
    "        if tuple(counts) in cache:\n",
    "            cache[tuple(counts)].append(word)\n",
    "        else:\n",
    "            cache[tuple(counts)] = [word]\n",
    "    res = []    \n",
    "    for n in list(cache.values()):\n",
    "        res += n\n",
    "    return res\n",
    "\n",
    "print(groupAnagrams([\"eat\",\"ate\",\"bate\",\"tea\"]))"
   ]
  },
  {
   "cell_type": "code",
   "execution_count": 11,
   "metadata": {},
   "outputs": [
    {
     "ename": "NameError",
     "evalue": "",
     "output_type": "error",
     "traceback": [
      "\u001b[1;31m---------------------------------------------------------------------------\u001b[0m",
      "\u001b[1;31mNameError\u001b[0m                                 Traceback (most recent call last)",
      "\u001b[1;32m<ipython-input-11-e5bd579f3f03>\u001b[0m in \u001b[0;36m<module>\u001b[1;34m()\u001b[0m\n\u001b[0;32m     42\u001b[0m         \u001b[1;32mreturn\u001b[0m \u001b[0mbinSearch\u001b[0m\u001b[1;33m(\u001b[0m\u001b[0mA\u001b[0m\u001b[1;33m,\u001b[0m\u001b[0mN\u001b[0m\u001b[1;33m,\u001b[0m\u001b[1;36m0\u001b[0m\u001b[1;33m,\u001b[0m\u001b[0mi0\u001b[0m\u001b[1;33m)\u001b[0m\u001b[1;33m\u001b[0m\u001b[0m\n\u001b[0;32m     43\u001b[0m \u001b[1;33m\u001b[0m\u001b[0m\n\u001b[1;32m---> 44\u001b[1;33m \u001b[0msearchRotated\u001b[0m\u001b[1;33m(\u001b[0m\u001b[1;33m[\u001b[0m\u001b[1;36m15\u001b[0m\u001b[1;33m,\u001b[0m\u001b[1;36m16\u001b[0m\u001b[1;33m,\u001b[0m\u001b[1;36m19\u001b[0m\u001b[1;33m,\u001b[0m\u001b[1;36m20\u001b[0m\u001b[1;33m,\u001b[0m\u001b[1;36m25\u001b[0m\u001b[1;33m,\u001b[0m\u001b[1;36m1\u001b[0m\u001b[1;33m,\u001b[0m\u001b[1;36m3\u001b[0m\u001b[1;33m,\u001b[0m\u001b[1;36m4\u001b[0m\u001b[1;33m,\u001b[0m\u001b[1;36m5\u001b[0m\u001b[1;33m,\u001b[0m\u001b[1;36m7\u001b[0m\u001b[1;33m,\u001b[0m\u001b[1;36m10\u001b[0m\u001b[1;33m,\u001b[0m\u001b[1;36m12\u001b[0m\u001b[1;33m]\u001b[0m\u001b[1;33m,\u001b[0m\u001b[1;36m13\u001b[0m\u001b[1;33m)\u001b[0m\u001b[1;33m\u001b[0m\u001b[0m\n\u001b[0m",
      "\u001b[1;32m<ipython-input-11-e5bd579f3f03>\u001b[0m in \u001b[0;36msearchRotated\u001b[1;34m(A, N)\u001b[0m\n\u001b[0;32m     25\u001b[0m             \u001b[1;32mreturn\u001b[0m \u001b[0mi\u001b[0m \u001b[1;33m+\u001b[0m \u001b[0mbinSearch\u001b[0m\u001b[1;33m(\u001b[0m\u001b[0mA\u001b[0m\u001b[1;33m[\u001b[0m\u001b[0mi\u001b[0m\u001b[1;33m+\u001b[0m\u001b[1;36m1\u001b[0m\u001b[1;33m:\u001b[0m\u001b[1;33m]\u001b[0m\u001b[1;33m,\u001b[0m\u001b[0mN\u001b[0m\u001b[1;33m)\u001b[0m \u001b[1;33m+\u001b[0m \u001b[1;36m1\u001b[0m\u001b[1;33m\u001b[0m\u001b[0m\n\u001b[0;32m     26\u001b[0m         \u001b[1;32melse\u001b[0m\u001b[1;33m:\u001b[0m\u001b[1;33m\u001b[0m\u001b[0m\n\u001b[1;32m---> 27\u001b[1;33m             \u001b[1;32mreturn\u001b[0m \u001b[0msearchRotated\u001b[0m\u001b[1;33m(\u001b[0m\u001b[0mA\u001b[0m\u001b[1;33m[\u001b[0m\u001b[1;36m0\u001b[0m\u001b[1;33m:\u001b[0m\u001b[0mi\u001b[0m\u001b[1;33m]\u001b[0m\u001b[1;33m,\u001b[0m\u001b[0mN\u001b[0m\u001b[1;33m)\u001b[0m\u001b[1;33m\u001b[0m\u001b[0m\n\u001b[0m\u001b[0;32m     28\u001b[0m     \u001b[1;32mreturn\u001b[0m \u001b[1;32mFalse\u001b[0m\u001b[1;33m\u001b[0m\u001b[0m\n\u001b[0;32m     29\u001b[0m \u001b[1;33m\u001b[0m\u001b[0m\n",
      "\u001b[1;32m<ipython-input-11-e5bd579f3f03>\u001b[0m in \u001b[0;36msearchRotated\u001b[1;34m(A, N)\u001b[0m\n\u001b[0;32m     17\u001b[0m             \u001b[1;32mreturn\u001b[0m \u001b[0mbinSearch\u001b[0m\u001b[1;33m(\u001b[0m\u001b[0mA\u001b[0m\u001b[1;33m[\u001b[0m\u001b[1;36m0\u001b[0m\u001b[1;33m:\u001b[0m\u001b[0mi\u001b[0m\u001b[1;33m]\u001b[0m\u001b[1;33m,\u001b[0m\u001b[0mN\u001b[0m\u001b[1;33m)\u001b[0m\u001b[1;33m\u001b[0m\u001b[0m\n\u001b[0;32m     18\u001b[0m         \u001b[1;32melse\u001b[0m\u001b[1;33m:\u001b[0m\u001b[1;33m\u001b[0m\u001b[0m\n\u001b[1;32m---> 19\u001b[1;33m             \u001b[1;32mreturn\u001b[0m \u001b[0mi\u001b[0m \u001b[1;33m+\u001b[0m \u001b[0msearchRotated\u001b[0m\u001b[1;33m(\u001b[0m\u001b[0mA\u001b[0m\u001b[1;33m[\u001b[0m\u001b[0mi\u001b[0m\u001b[1;33m+\u001b[0m\u001b[1;36m1\u001b[0m\u001b[1;33m:\u001b[0m\u001b[1;33m]\u001b[0m\u001b[1;33m,\u001b[0m\u001b[0mN\u001b[0m\u001b[1;33m)\u001b[0m \u001b[1;33m+\u001b[0m \u001b[1;36m1\u001b[0m\u001b[1;33m\u001b[0m\u001b[0m\n\u001b[0m\u001b[0;32m     20\u001b[0m     \u001b[1;32melse\u001b[0m\u001b[1;33m:\u001b[0m\u001b[1;33m\u001b[0m\u001b[0m\n\u001b[0;32m     21\u001b[0m     \u001b[1;31m#right arr is ordered\u001b[0m\u001b[1;33m\u001b[0m\u001b[1;33m\u001b[0m\u001b[0m\n",
      "\u001b[1;32m<ipython-input-11-e5bd579f3f03>\u001b[0m in \u001b[0;36msearchRotated\u001b[1;34m(A, N)\u001b[0m\n\u001b[0;32m     25\u001b[0m             \u001b[1;32mreturn\u001b[0m \u001b[0mi\u001b[0m \u001b[1;33m+\u001b[0m \u001b[0mbinSearch\u001b[0m\u001b[1;33m(\u001b[0m\u001b[0mA\u001b[0m\u001b[1;33m[\u001b[0m\u001b[0mi\u001b[0m\u001b[1;33m+\u001b[0m\u001b[1;36m1\u001b[0m\u001b[1;33m:\u001b[0m\u001b[1;33m]\u001b[0m\u001b[1;33m,\u001b[0m\u001b[0mN\u001b[0m\u001b[1;33m)\u001b[0m \u001b[1;33m+\u001b[0m \u001b[1;36m1\u001b[0m\u001b[1;33m\u001b[0m\u001b[0m\n\u001b[0;32m     26\u001b[0m         \u001b[1;32melse\u001b[0m\u001b[1;33m:\u001b[0m\u001b[1;33m\u001b[0m\u001b[0m\n\u001b[1;32m---> 27\u001b[1;33m             \u001b[1;32mreturn\u001b[0m \u001b[0msearchRotated\u001b[0m\u001b[1;33m(\u001b[0m\u001b[0mA\u001b[0m\u001b[1;33m[\u001b[0m\u001b[1;36m0\u001b[0m\u001b[1;33m:\u001b[0m\u001b[0mi\u001b[0m\u001b[1;33m]\u001b[0m\u001b[1;33m,\u001b[0m\u001b[0mN\u001b[0m\u001b[1;33m)\u001b[0m\u001b[1;33m\u001b[0m\u001b[0m\n\u001b[0m\u001b[0;32m     28\u001b[0m     \u001b[1;32mreturn\u001b[0m \u001b[1;32mFalse\u001b[0m\u001b[1;33m\u001b[0m\u001b[0m\n\u001b[0;32m     29\u001b[0m \u001b[1;33m\u001b[0m\u001b[0m\n",
      "\u001b[1;32m<ipython-input-11-e5bd579f3f03>\u001b[0m in \u001b[0;36msearchRotated\u001b[1;34m(A, N)\u001b[0m\n\u001b[0;32m     25\u001b[0m             \u001b[1;32mreturn\u001b[0m \u001b[0mi\u001b[0m \u001b[1;33m+\u001b[0m \u001b[0mbinSearch\u001b[0m\u001b[1;33m(\u001b[0m\u001b[0mA\u001b[0m\u001b[1;33m[\u001b[0m\u001b[0mi\u001b[0m\u001b[1;33m+\u001b[0m\u001b[1;36m1\u001b[0m\u001b[1;33m:\u001b[0m\u001b[1;33m]\u001b[0m\u001b[1;33m,\u001b[0m\u001b[0mN\u001b[0m\u001b[1;33m)\u001b[0m \u001b[1;33m+\u001b[0m \u001b[1;36m1\u001b[0m\u001b[1;33m\u001b[0m\u001b[0m\n\u001b[0;32m     26\u001b[0m         \u001b[1;32melse\u001b[0m\u001b[1;33m:\u001b[0m\u001b[1;33m\u001b[0m\u001b[0m\n\u001b[1;32m---> 27\u001b[1;33m             \u001b[1;32mreturn\u001b[0m \u001b[0msearchRotated\u001b[0m\u001b[1;33m(\u001b[0m\u001b[0mA\u001b[0m\u001b[1;33m[\u001b[0m\u001b[1;36m0\u001b[0m\u001b[1;33m:\u001b[0m\u001b[0mi\u001b[0m\u001b[1;33m]\u001b[0m\u001b[1;33m,\u001b[0m\u001b[0mN\u001b[0m\u001b[1;33m)\u001b[0m\u001b[1;33m\u001b[0m\u001b[0m\n\u001b[0m\u001b[0;32m     28\u001b[0m     \u001b[1;32mreturn\u001b[0m \u001b[1;32mFalse\u001b[0m\u001b[1;33m\u001b[0m\u001b[0m\n\u001b[0;32m     29\u001b[0m \u001b[1;33m\u001b[0m\u001b[0m\n",
      "\u001b[1;32m<ipython-input-11-e5bd579f3f03>\u001b[0m in \u001b[0;36msearchRotated\u001b[1;34m(A, N)\u001b[0m\n\u001b[0;32m      3\u001b[0m     \u001b[0mi\u001b[0m \u001b[1;33m=\u001b[0m \u001b[0mlen\u001b[0m\u001b[1;33m(\u001b[0m\u001b[0mA\u001b[0m\u001b[1;33m)\u001b[0m\u001b[1;33m//\u001b[0m\u001b[1;36m2\u001b[0m\u001b[1;33m\u001b[0m\u001b[0m\n\u001b[0;32m      4\u001b[0m     \u001b[1;32mif\u001b[0m \u001b[0mlen\u001b[0m\u001b[1;33m(\u001b[0m\u001b[0mA\u001b[0m\u001b[1;33m)\u001b[0m \u001b[1;33m==\u001b[0m \u001b[1;36m0\u001b[0m\u001b[1;33m:\u001b[0m\u001b[1;33m\u001b[0m\u001b[0m\n\u001b[1;32m----> 5\u001b[1;33m         \u001b[1;32mraise\u001b[0m \u001b[0mNameError\u001b[0m\u001b[1;33m\u001b[0m\u001b[0m\n\u001b[0m\u001b[0;32m      6\u001b[0m     \u001b[1;32mif\u001b[0m \u001b[0mA\u001b[0m\u001b[1;33m[\u001b[0m\u001b[1;36m0\u001b[0m\u001b[1;33m]\u001b[0m \u001b[1;33m==\u001b[0m \u001b[0mN\u001b[0m\u001b[1;33m:\u001b[0m\u001b[1;33m\u001b[0m\u001b[0m\n\u001b[0;32m      7\u001b[0m         \u001b[1;32mreturn\u001b[0m \u001b[1;36m0\u001b[0m\u001b[1;33m\u001b[0m\u001b[0m\n",
      "\u001b[1;31mNameError\u001b[0m: "
     ]
    }
   ],
   "source": [
    "def searchRotated(A,N):\n",
    "    \n",
    "    i = len(A)//2\n",
    "    if len(A) == 0:\n",
    "        raise NameError\n",
    "    if A[0] == N:\n",
    "        return 0\n",
    "    if A[i] == N:\n",
    "        return i\n",
    "    if N == A[-1]:\n",
    "        return len(A)-1\n",
    "    \n",
    "    if A[0] < A[i]:\n",
    "        \n",
    "    #left arr is ordered\n",
    "        if N < A[i] and N > A[0]:\n",
    "            return binSearch(A[0:i],N)\n",
    "        else:\n",
    "            return i + searchRotated(A[i+1:],N) + 1\n",
    "    else:\n",
    "    #right arr is ordered\n",
    "\n",
    "\n",
    "        if N > A[i] and N < A[-1]:\n",
    "            return i + binSearch(A[i+1:],N) + 1\n",
    "        else:\n",
    "            return searchRotated(A[0:i],N)\n",
    "    return False\n",
    "\n",
    "\n",
    "def binSearch(A,N,i=0,j=None):\n",
    "    if j == None:\n",
    "        j = len(A)\n",
    "    i0 = (i+j)//2\n",
    "    if j-i <= 1:\n",
    "        return -1\n",
    "    if A[i0] == N:\n",
    "        return i0\n",
    "    if A[i0] < N:\n",
    "        return binSearch(A,N,i0,len(A))\n",
    "    else:\n",
    "        return binSearch(A,N,0,i0)\n",
    "\n",
    "searchRotated([15,16,19,20,25,1,3,4,5,7,10,12],13)"
   ]
  },
  {
   "cell_type": "code",
   "execution_count": 21,
   "metadata": {},
   "outputs": [
    {
     "name": "stdout",
     "output_type": "stream",
     "text": [
      "['aab', 'aba', 'aab', 'aba', 'baa', 'baa']\n",
      "['aab', 'aba', 'baa']\n"
     ]
    }
   ],
   "source": [
    "def permute(S,curr=\"\"):\n",
    "    if not S:\n",
    "        return [curr]\n",
    "    res = []\n",
    "    for i in range(0,len(S)):\n",
    "        res += permute(S[0:i]+S[i+1:],curr+S[i])\n",
    "    return res\n",
    "    \n",
    "def charCounts(S):\n",
    "    memo = {}\n",
    "    for c in S:\n",
    "        if c in memo:\n",
    "            memo[c] += 1\n",
    "        else:\n",
    "            memo[c] = 1\n",
    "    return memo\n",
    "\n",
    "def permute(S,curr=\"\",memo=None):\n",
    "    if not memo:\n",
    "        memo = charCounts(S)\n",
    "    if not any(memo.values()):\n",
    "        return [curr]\n",
    "    res = []\n",
    "    for key in memo:\n",
    "        if memo[key] > 0:\n",
    "            memo[key] -= 1\n",
    "            res += permute(S,curr+key,memo)\n",
    "            memo[key] += 1\n",
    "    return res\n",
    "print(permute(\"aab\"))"
   ]
  },
  {
   "cell_type": "code",
   "execution_count": 10,
   "metadata": {},
   "outputs": [
    {
     "name": "stdout",
     "output_type": "stream",
     "text": [
      "[0, 0, 1, 1, 2, 3, 3, 4, 4, 5, 6, 6, 7, 7, 7, 8, 8, 8, 9, 9]\n",
      "[0, 0, 1, 1, 2, 3, 3, 4, 4, 5, 6, 6, 7, 7, 7, 8, 8, 8, 9, 9]\n",
      "[0, 0, 1, 1, 2, 3, 3, 4, 4, 5, 6, 6, 7, 7, 7, 8, 8, 8, 9, 9]\n",
      "[0, 0, 1, 1, 2, 3, 3, 4, 4, 5, 6, 6, 7, 7, 7, 8, 8, 8, 9, 9]\n",
      "[0, 0, 1, 1, 2, 3, 3, 4, 4, 5, 6, 6, 7, 7, 7, 8, 8, 8, 9, 9]\n"
     ]
    }
   ],
   "source": [
    "def bubbleSort(A):\n",
    "    flag = True\n",
    "    while flag:\n",
    "        flag = False\n",
    "        for i in range(1,len(A)):\n",
    "            if A[i] < A[i-1]:\n",
    "                A[i],A[i-1] = A[i-1],A[i]\n",
    "                flag = True\n",
    "    return A\n",
    "\n",
    "def mergeSort(A):\n",
    "    if len(A) <= 1:\n",
    "        return A\n",
    "    i = len(A)//2\n",
    "    left = mergeSort(A[0:i])\n",
    "    right = mergeSort(A[i:])\n",
    "    return mergeSortedArrays(left,right)\n",
    "\n",
    "def mergeSortedArrays(A1,A2):\n",
    "    A = []\n",
    "    while A1 and A2:\n",
    "        if A1[0] <= A2[0]:\n",
    "            A.append(A1.pop(0))\n",
    "        else:\n",
    "            A.append(A2.pop(0))\n",
    "    if A1:\n",
    "        A += A1\n",
    "    if A2:\n",
    "        A += A2\n",
    "    return A\n",
    "    \n",
    "def selectionSort(A):\n",
    "    i = 0\n",
    "    while i < len(A):\n",
    "        minVal = 10e23\n",
    "        for j in range(i,len(A)):\n",
    "            if A[j] < minVal:\n",
    "                minVal = A[j]\n",
    "                minIndex = j\n",
    "                flag = True\n",
    "        A.insert(i,A.pop(minIndex))\n",
    "        i += 1\n",
    "    return A\n",
    "            \n",
    "def quickSort(A):\n",
    "    if len(A) <= 1:\n",
    "        return A\n",
    "    j = randint(0,len(A)-1)\n",
    "    left = []\n",
    "    right = []\n",
    "    for i in range(0,len(A)):\n",
    "        if i != j:\n",
    "            if A[i] <= A[j]:\n",
    "                left.append(A[i])\n",
    "            else:\n",
    "                right.append(A[i])\n",
    "    return quickSort(left) + [A[j]] + quickSort(right)\n",
    "\n",
    "def partition(A,lo,hi,pivotIndex):\n",
    "    pivot = A[pivotIndex]\n",
    "    j = lo\n",
    "    while j < hi:\n",
    "        if j < pivotIndex:\n",
    "            if A[j] > pivot:\n",
    "                A.insert(hi,A.pop(j))\n",
    "                pivotIndex -= 1\n",
    "            else:\n",
    "                j += 1\n",
    "        elif j > pivotIndex:\n",
    "            if A[j] < pivot:\n",
    "                A.insert(lo,A.pop(j))\n",
    "                pivotIndex += 1\n",
    "            j += 1\n",
    "        else:\n",
    "            j += 1\n",
    "    return pivotIndex\n",
    "\n",
    "def quickSortSpace(A,i,j):\n",
    "    if j-i <= 1:\n",
    "        return \n",
    "    p = partition(A,i,j,randint(i,j))\n",
    "    \n",
    "    quickSortSpace(A,i,p)\n",
    "    quickSortSpace(A,p+1,j)\n",
    "    return A\n",
    "        \n",
    "        \n",
    "A = [randint(0,9) for i in range(0,20)]\n",
    "B = A[:]\n",
    "C = A[:]\n",
    "D = A[:]\n",
    "E = A[:]\n",
    "\n",
    "\n",
    "\n",
    "print(bubbleSort(A))\n",
    "print(mergeSort(B))\n",
    "print(selectionSort(C))\n",
    "print(quickSort(D))\n",
    "print(quickSortSpace(E,0,len(E)))"
   ]
  },
  {
   "cell_type": "code",
   "execution_count": 13,
   "metadata": {},
   "outputs": [
    {
     "data": {
      "text/plain": [
       "[(2, 3), (2, 3), (4, 1)]"
      ]
     },
     "execution_count": 13,
     "metadata": {},
     "output_type": "execute_result"
    }
   ],
   "source": [
    "def findAllPairs(N,A):\n",
    "    pairs = []\n",
    "    memo = {}\n",
    "    for n in A:\n",
    "        if N-n in memo and memo[N-n] > 0:\n",
    "            memo[N-n] -= 1\n",
    "            pairs.append((n,N-n))\n",
    "        else:\n",
    "            memo[n] = 1\n",
    "    return pairs\n",
    "\n",
    "findAllPairs(5,[1,3,2,3,2,4,5,46,7,4])"
   ]
  },
  {
   "cell_type": "code",
   "execution_count": 45,
   "metadata": {},
   "outputs": [
    {
     "name": "stdout",
     "output_type": "stream",
     "text": [
      "0\n"
     ]
    }
   ],
   "source": [
    "print(randint(0,1))"
   ]
  },
  {
   "cell_type": "code",
   "execution_count": null,
   "metadata": {},
   "outputs": [],
   "source": []
  }
 ],
 "metadata": {
  "kernelspec": {
   "display_name": "Python 3",
   "language": "python",
   "name": "python3"
  },
  "language_info": {
   "codemirror_mode": {
    "name": "ipython",
    "version": 3
   },
   "file_extension": ".py",
   "mimetype": "text/x-python",
   "name": "python",
   "nbconvert_exporter": "python",
   "pygments_lexer": "ipython3",
   "version": "3.6.4"
  }
 },
 "nbformat": 4,
 "nbformat_minor": 2
}
