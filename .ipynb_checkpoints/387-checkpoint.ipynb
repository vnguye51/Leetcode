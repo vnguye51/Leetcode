{
 "cells": [
  {
   "cell_type": "markdown",
   "metadata": {},
   "source": [
    "## First Unique Character in a String\n",
    "\n",
    "Given a string, find the first non-repeating character in it and return it's index. If it doesn't exist, return -1\n",
    "\n",
    "------\n",
    "\n",
    "* Create an array that preserves the order of values\n",
    "* Create a dictionary that determines if the value is already in the array\n",
    "\n",
    "* Loop through the string, appending each value to the array if it is not in the dictionary while also creating a key for each value \n",
    "\n",
    "* Once done loop through the array and return the first key who's value is equal to one"
   ]
  },
  {
   "cell_type": "code",
   "execution_count": 20,
   "metadata": {},
   "outputs": [],
   "source": [
    "class Solution:\n",
    "    def firstUniqChar(self, s):\n",
    "        memo = {}\n",
    "        order = []\n",
    "        for c in s:\n",
    "            if c in memo:\n",
    "                memo[c] += 1\n",
    "            else:\n",
    "                order.append(c)\n",
    "                memo[c] = 1\n",
    "        for i in range(0,len(order)):\n",
    "            if memo[order[i]] == 1:\n",
    "                return i"
   ]
  },
  {
   "cell_type": "code",
   "execution_count": 21,
   "metadata": {},
   "outputs": [
    {
     "name": "stdout",
     "output_type": "stream",
     "text": [
      "2\n"
     ]
    }
   ],
   "source": [
    "sol = Solution()\n",
    "print(sol.firstUniqChar(\"lleetcode\"))"
   ]
  }
 ],
 "metadata": {
  "kernelspec": {
   "display_name": "Python 3",
   "language": "python",
   "name": "python3"
  },
  "language_info": {
   "codemirror_mode": {
    "name": "ipython",
    "version": 3
   },
   "file_extension": ".py",
   "mimetype": "text/x-python",
   "name": "python",
   "nbconvert_exporter": "python",
   "pygments_lexer": "ipython3",
   "version": "3.6.4"
  }
 },
 "nbformat": 4,
 "nbformat_minor": 2
}
