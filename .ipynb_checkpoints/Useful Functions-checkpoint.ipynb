{
 "cells": [
  {
   "cell_type": "code",
   "execution_count": 1,
   "metadata": {},
   "outputs": [],
   "source": [
    "def sortedIndex(nums,target):\n",
    "    length = len(nums)\n",
    "    \n",
    "    if length == 0:\n",
    "        return -1\n",
    "    \n",
    "    i = 0\n",
    "    j = length-1\n",
    "    \n",
    "    if nums[i] == target:\n",
    "        return i\n",
    "    if nums[j] == target:\n",
    "        return j\n",
    "    \n",
    "    if target > nums[j] or target < nums[i]:\n",
    "        return -1\n",
    "    \n",
    "    while i != j:\n",
    "        length = len(nums)\n",
    "        k = (int(j+i+1))/2    \n",
    "        if nums[k] == target:\n",
    "            return k      \n",
    "        elif nums[k] < target:\n",
    "            i = k\n",
    "        else:\n",
    "            j = k-1\n",
    "            \n",
    "    return -1\n",
    "\n",
    "def nth_largest(nums,n):\n",
    "    #finds the nth largest value in a set of nums\n",
    "    while n > 0:\n",
    "        m = max(nums)\n",
    "        i = nums.index(m)\n",
    "        nums.pop(i)\n",
    "        n = n -1\n",
    "    return m\n",
    "\n",
    "def anagram(str1,str2):\n",
    "    Count1 = [0]*26\n",
    "    Count2 = [0]*26\n",
    "    \n",
    "    for s in str1:\n",
    "        Count1[ord(s)-97] = Count1[ord(s)-97] + 1\n",
    "    for s in str2:\n",
    "        Count2[ord(s)-97] = Count2[ord(s)-97] + 1\n",
    "        \n",
    "    if Count1 == Count2:\n",
    "        return True\n",
    "    \n",
    "    return False"
   ]
  },
  {
   "cell_type": "code",
   "execution_count": 5,
   "metadata": {},
   "outputs": [
    {
     "data": {
      "text/plain": [
       "2"
      ]
     },
     "execution_count": 5,
     "metadata": {},
     "output_type": "execute_result"
    }
   ],
   "source": [
    "nth_largest([5,3,2,1,1,1,1,3],3)"
   ]
  },
  {
   "cell_type": "code",
   "execution_count": null,
   "metadata": {
    "collapsed": true
   },
   "outputs": [],
   "source": []
  },
  {
   "cell_type": "code",
   "execution_count": null,
   "metadata": {
    "collapsed": true
   },
   "outputs": [],
   "source": []
  }
 ],
 "metadata": {
  "kernelspec": {
   "display_name": "Python 3",
   "language": "python",
   "name": "python3"
  },
  "language_info": {
   "codemirror_mode": {
    "name": "ipython",
    "version": 3
   },
   "file_extension": ".py",
   "mimetype": "text/x-python",
   "name": "python",
   "nbconvert_exporter": "python",
   "pygments_lexer": "ipython3",
   "version": "3.6.4"
  }
 },
 "nbformat": 4,
 "nbformat_minor": 2
}
