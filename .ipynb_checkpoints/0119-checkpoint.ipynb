{
 "cells": [
  {
   "cell_type": "markdown",
   "metadata": {},
   "source": [
    "## Pascal's Triangle II\n",
    "\n",
    "Given a non-negative index k where k ≤ 33, return the kth index row of the Pascal's triangle.\n",
    "\n",
    "Note that the row index starts from 0."
   ]
  },
  {
   "cell_type": "code",
   "execution_count": 1,
   "metadata": {},
   "outputs": [],
   "source": [
    "class Solution(object):\n",
    "    factorial_map = {0:1,1:1}\n",
    "    def factorial(self,n):\n",
    "        if n in self.factorial_map:\n",
    "            return self.factorial_map[n]\n",
    "        res = self.factorial(n-1) * n\n",
    "        self.factorial_map[n] = res\n",
    "        return res\n",
    "    \n",
    "    def comb(self,n,r):\n",
    "        return self.factorial(n)/(self.factorial(r)*(self.factorial(n-r)))\n",
    "    \n",
    "    def getRow(self, rowIndex):\n",
    "        return [self.comb(rowIndex,i) for i in range(0,rowIndex)]"
   ]
  }
 ],
 "metadata": {
  "kernelspec": {
   "display_name": "Python 3",
   "language": "python",
   "name": "python3"
  },
  "language_info": {
   "codemirror_mode": {
    "name": "ipython",
    "version": 3
   },
   "file_extension": ".py",
   "mimetype": "text/x-python",
   "name": "python",
   "nbconvert_exporter": "python",
   "pygments_lexer": "ipython3",
   "version": "3.6.4"
  }
 },
 "nbformat": 4,
 "nbformat_minor": 2
}
