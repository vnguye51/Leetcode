{
 "cells": [
  {
   "cell_type": "markdown",
   "metadata": {},
   "source": [
    "# Longest Mountain in Array"
   ]
  },
  {
   "cell_type": "markdown",
   "metadata": {},
   "source": [
    "Let's call any (contiguous) subarray B (of A) a mountain if the following properties hold:\n",
    "\n",
    "    B.length >= 3\n",
    "    There exists some 0 < i < B.length - 1 such that B[0] < B[1] < ... B[i-1] < B[i] > B[i+1] > ... > B[B.length - 1]\n",
    "\n",
    "(Note that B could be any subarray of A, including the entire array A.)\n",
    "\n",
    "Given an array A of integers, return the length of the longest mountain. \n",
    "\n",
    "Return 0 if there is no mountain.\n",
    "\n",
    "* Scan through the array from left to right\n",
    "\n",
    "* The first time a value increases we set our mountainlength to 2\n",
    "\n",
    "* For every next time it increases we increase mountainlength by 1\n",
    "\n",
    "* The first time it decreases we toggle a boolean\n",
    "\n",
    "* For every next time it decreases we increase mountainlength by 1\n",
    "\n",
    "* If it increases again append mountainlength to an array and reset mountainlength to 1 and start from the 3rd bullet point\n",
    "\n",
    "\n",
    "* If a value is the same as the previous one while ascending reset the length to 1\n",
    "* If a value is the same as the previous while descending set initialize to true"
   ]
  },
  {
   "cell_type": "code",
   "execution_count": 170,
   "metadata": {},
   "outputs": [],
   "source": [
    "def longestMountain(A):\n",
    "    prev = 10001\n",
    "    length = 0\n",
    "    lengtharray = []\n",
    "    reinitialize = False\n",
    "    increasing = False\n",
    "    NoMountain = True\n",
    "    \n",
    "    if A == []:\n",
    "        return 0\n",
    "    \n",
    "    for i,n in enumerate(A):\n",
    "        if n > prev:\n",
    "            length = 2\n",
    "            increasing = True\n",
    "            break\n",
    "        prev = n\n",
    "    \n",
    "    while i != len(A)-1:\n",
    "       # print(A[i],i,length,increasing,reinitialize)\n",
    "        \n",
    "        i = i+1\n",
    "        \n",
    "        if reinitialize == True:\n",
    "            if A[i] > A[i-1]:\n",
    "                increasing = True\n",
    "                length = 2\n",
    "                reinitialize = False\n",
    "                    \n",
    "        elif increasing == True:\n",
    "            if A[i] == A[i-1]:\n",
    "                reinitialize = True\n",
    "            if A[i] > A[i-1]:\n",
    "                length += 1\n",
    "            if A[i] < A[i-1]:\n",
    "                length += 1\n",
    "                increasing = False\n",
    "                NoMountain = False\n",
    "                \n",
    "        elif increasing == False:\n",
    "            if A[i] == A[i-1]:\n",
    "                lengtharray.append(length)\n",
    "                reinitialize = True\n",
    "            if A[i] < A[i-1]:\n",
    "                length += 1\n",
    "            if A[i] > A[i-1]:\n",
    "                lengtharray.append(length)\n",
    "                length = 2\n",
    "                increasing = True\n",
    "                \n",
    "    if NoMountain == False:\n",
    "        lengtharray.append(length)     \n",
    "                \n",
    "    if lengtharray == []:\n",
    "        return 0\n",
    "    \n",
    "    return max(lengtharray)\n",
    "                "
   ]
  },
  {
   "cell_type": "code",
   "execution_count": 171,
   "metadata": {},
   "outputs": [
    {
     "data": {
      "text/plain": [
       "5"
      ]
     },
     "execution_count": 171,
     "metadata": {},
     "output_type": "execute_result"
    }
   ],
   "source": [
    "longestMountain([2,1,4,7,3,2,5]) #5"
   ]
  },
  {
   "cell_type": "code",
   "execution_count": 172,
   "metadata": {},
   "outputs": [
    {
     "data": {
      "text/plain": [
       "0"
      ]
     },
     "execution_count": 172,
     "metadata": {},
     "output_type": "execute_result"
    }
   ],
   "source": [
    "longestMountain([2,2,2]) #0"
   ]
  },
  {
   "cell_type": "code",
   "execution_count": 173,
   "metadata": {},
   "outputs": [
    {
     "data": {
      "text/plain": [
       "11"
      ]
     },
     "execution_count": 173,
     "metadata": {},
     "output_type": "execute_result"
    }
   ],
   "source": [
    "longestMountain([0,1,2,3,4,5,4,3,2,1,0]) #11"
   ]
  },
  {
   "cell_type": "code",
   "execution_count": 174,
   "metadata": {},
   "outputs": [
    {
     "data": {
      "text/plain": [
       "0"
      ]
     },
     "execution_count": 174,
     "metadata": {},
     "output_type": "execute_result"
    }
   ],
   "source": [
    "longestMountain([2,3]) #0"
   ]
  },
  {
   "cell_type": "code",
   "execution_count": 175,
   "metadata": {},
   "outputs": [
    {
     "data": {
      "text/plain": [
       "0"
      ]
     },
     "execution_count": 175,
     "metadata": {},
     "output_type": "execute_result"
    }
   ],
   "source": [
    "longestMountain([2,3,3,2,0,2]) #0"
   ]
  },
  {
   "cell_type": "code",
   "execution_count": 176,
   "metadata": {},
   "outputs": [
    {
     "data": {
      "text/plain": [
       "4"
      ]
     },
     "execution_count": 176,
     "metadata": {},
     "output_type": "execute_result"
    }
   ],
   "source": [
    "longestMountain([875,884,239,731,723,685]) #4"
   ]
  },
  {
   "cell_type": "code",
   "execution_count": 177,
   "metadata": {},
   "outputs": [
    {
     "data": {
      "text/plain": [
       "3"
      ]
     },
     "execution_count": 177,
     "metadata": {},
     "output_type": "execute_result"
    }
   ],
   "source": [
    "longestMountain([0,0,1,0,0,1,1,1,1,1]) #3"
   ]
  },
  {
   "cell_type": "code",
   "execution_count": 178,
   "metadata": {},
   "outputs": [
    {
     "data": {
      "text/plain": [
       "7"
      ]
     },
     "execution_count": 178,
     "metadata": {},
     "output_type": "execute_result"
    }
   ],
   "source": [
    "#7\n",
    "longestMountain([2,1,3,1,0,1,3,1,0,1,2,0,0,0,2,1,0,3,0,3,1,0,3,2,1,1,1,0,2,0,0,1,0,2,2,0,3,1,2,2,0,3,2,2,3,3,3,1,3,0,0,2,3,0,0,1,0,1,2,3,1,0,1,0,0,3,0,3,2,0,2,1,1,2,0,0,2,3,1,1,1,3,1,0,1,3,2,0,0,3,0,2,0,3,2,2,0,0,3,0,3,1,0,0,2,2,1,2,1,1,3,0,1,1,3,1,2,0,3,1,1,0,2,2,2,0,2,2,2,0,0,0,0,0,1,0,1,2,2,1,3,3,0,0,3,0,1,0,0,2,2,2,1,0,3,0,2,3,1,0,1,0,0,2,3,2,3,0,2,0,0,1,2,3,1,3,3,3,2,2,3,2,0,0,0,2,2,1,0,3,0,1,3,1,0,2,3,3,3,0,2,3,3,3,3,3,3,1,2,3,1,2,2,2,2,3,3,2,0,0,1,2,1,3,2,1,2,2,2,0,0,3,2,2,2,3,1,0,1,3,0,2,3,2,3,1,3,1,1,1,1,3,1,1,1,1,3,0,0,0,1,3,2,0,3,1,3,2,2,0,0,3,3,1,0,1,3,1,2,2,1,2,1,2,1,3,0,1,1,1,0,0,0,1,2,0,2,2,1,2,2,2,2,1,2,3,3,3,3,1,2,1,1,0,0,0,0,1,1,2,3,1,0,3,0,3,0,3,3,2,2,3,0,3,2,2,3,0,3,0,3,3,0,2,0,3,0,2,0,3,2,0,2,1,0,1,1,1,1,2,2,3,0,1,1,2,0,0,1,2,3,2,2,2,3,0,1,3,3,0,3,3,3,0,1,3,0,3,0,3,2,0,2,2,0,1,0,0,3,1,1,2,0,0,3,1,3,2,0,0,0,3,1,0,1,1,1,0,0,3,2,2,3,0,3,0,3,2,1,1,2,0,3,3,0,0,2,2,3,0,1,2,0,2,0,0,0,1,3,1,2,2,1,1,3,0,2,0,3,3,3,2,3,3,2,0,2,1,2,3,2,1,0,2,2,2,2,0,3,0,2,3,3,2,2,0,3,0,2,1,1,3,2,0,3,0,1,3,1,1,2,3,1,1,1,3,3,3,0,3,2,1,2,0,0,0,0,2,0,3,0,2,0,3,0,3,0,3,0,3,1,3,3,2,1,0,2,3,1,0,3,2,0,1,1,0,2,2,1,1,3,2,2,2,2,1,1,2,0,2,2,2,0,0,2,0,1,1,0,0,1,3,1,1,3,3,1,1,2,0,1,2,2,1,3,3,2,3,1,0,1,0,2,3,1,3,2,1,3,2,1,0,0,0,3,3,1,0,0,2,0,1,2,2,2,3,2,0,3,0,0,2,3,0,1,2,0,2,3,0,3,1,0,1,0,1,1,3,2,3,0,2,3,1,2,0,0,3,2,1,0,0,1,3,0,2,1,2,3,2,2,3,3,1,3,1,0,0,1,0,2,1,3,1,0,3,0,3,2,3,2,1,1,2,1,2,3,2,1,0,1,1,1,3,2,1,1,3,1,0,3,1,2,2,3,3,3,3,3,1,3,3,2,0,3,2,3,1,1,3,0,3,0,0,2,1,3,2,2,1,0,1,3,1,3,0,3,3,3,2,2,0,2,1,0,2,3,3,2,3,0,2,1,1,2,2,3,0,3,2,3,1,1,1,1,3,3,2,1,2,3,2,1,2,0,0,0,1,0,1,2,2,2,3,0,1,0,3,0,2,3,0,3,1,1,0,3,1,2,2,0,1,0,1,2,0,2,3,0,1,1,0,1,0,2,0,2,2,3,0,0,0,2,2,3,1,2,2,3,1,3,2,3,3,0,2,2,3,2,3,0,1,1,1,0,3,3,2,2,0,2,0,2,2,2,1,2,2,0,0,1,2,0,2,0,1,0,1,1,3,0,3,2,2,2,1,1,0,1,2,3,2,1,0,1,2,1,1,3,0,1,2,2,1,3,2,2,1,3,3,0,0,3,0,3,1,0,3,2,1,3,3,0,0,3,2,0,1,0,2,0,1,2,3,0,3,2,2,0,2,0,1,0,2,1,2,0,3,2,0,3,1,0,0,0,0,1,3,0,2,0,1,2,3,3,1,2,3,1,1,3,0,3,3,3,1,0,0,1,1,1,3,3,0,3,0,1,2,0,0,1,1,0,3,2,0,0,0,1,0,1,1,0,1,2,3,1,3,3,3])"
   ]
  },
  {
   "cell_type": "code",
   "execution_count": 179,
   "metadata": {},
   "outputs": [
    {
     "data": {
      "text/plain": [
       "7"
      ]
     },
     "execution_count": 179,
     "metadata": {},
     "output_type": "execute_result"
    }
   ],
   "source": [
    "longestMountain([0,3,2,2,2,2,1,0,1,2,3,2,1,0])"
   ]
  },
  {
   "cell_type": "code",
   "execution_count": 180,
   "metadata": {},
   "outputs": [
    {
     "data": {
      "text/plain": [
       "7"
      ]
     },
     "execution_count": 180,
     "metadata": {},
     "output_type": "execute_result"
    }
   ],
   "source": [
    "longestMountain([2,2,2,1,1,0,1,2,3,2,1,0,1,2,1,1,3,0,1,2,2,1,3,2,2,1,3,3,0,0,3,0,3,1,0,3,2,1,3,3,0,0,3,2,0,1,0,2,0,1,2,3,0,3,2,2,0,2,0,1,0,2,1,2,0,3,2,0,3,1,0,0,0,0,1,3,0,2,0,1,2,3,3,1,2,3,1,1,3,0,3,3,3,1,0,0,1,1,1,3,3,0,3,0,1,2,0,0,1,1,0,3,2,0,0,0,1,0,1,1,0,1,2,3,1,3,3,3])"
   ]
  },
  {
   "cell_type": "code",
   "execution_count": 181,
   "metadata": {},
   "outputs": [
    {
     "data": {
      "text/plain": [
       "7"
      ]
     },
     "execution_count": 181,
     "metadata": {},
     "output_type": "execute_result"
    }
   ],
   "source": [
    "longestMountain([0,2,2,2,1,2,2,0,0,1,2,0,2,0,1,0,1,1,3,0,3,2,2,2,1,1,0,1,2,3,2,1,0,1,2,1,1,3,0,1,2,2,1,3,2,2,1,3,3,0,0,3,0,3,1,0,3,2,1,3,3,0,0,3,2,0,1,0,2,0,1,2,3,0,3,2,2,0,2,0,1,0,2,1,2,0,3,2,0,3,1,0,0,0,0,1,3,0,2,0,1,2,3,3,1,2,3,1,1,3,0,3,3,3,1,0,0,1,1,1,3,3,0,3,0,1,2,0,0,1,1,0,3,2,0,0,0,1,0,1,1,0,1,2,3,1,3,3,3])"
   ]
  },
  {
   "cell_type": "code",
   "execution_count": null,
   "metadata": {},
   "outputs": [],
   "source": []
  },
  {
   "cell_type": "code",
   "execution_count": null,
   "metadata": {},
   "outputs": [],
   "source": []
  }
 ],
 "metadata": {
  "kernelspec": {
   "display_name": "Python 3",
   "language": "python",
   "name": "python3"
  },
  "language_info": {
   "codemirror_mode": {
    "name": "ipython",
    "version": 3
   },
   "file_extension": ".py",
   "mimetype": "text/x-python",
   "name": "python",
   "nbconvert_exporter": "python",
   "pygments_lexer": "ipython3",
   "version": "3.6.4"
  }
 },
 "nbformat": 4,
 "nbformat_minor": 2
}
