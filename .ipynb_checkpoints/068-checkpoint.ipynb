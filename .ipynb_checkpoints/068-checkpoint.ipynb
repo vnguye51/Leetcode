{
 "cells": [
  {
   "cell_type": "markdown",
   "metadata": {},
   "source": [
    "# Text Justification\n",
    "\n",
    "Given an array of words and a width maxWidth, format the text such that each line has exactly maxWidth characters and is fully (left and right) justified.\n",
    "\n",
    "You should pack your words in a greedy approach; that is, pack as many words as you can in each line. Pad extra spaces ' ' when necessary so that each line has exactly maxWidth characters.\n",
    "\n",
    "Extra spaces between words should be distributed as evenly as possible. If the number of spaces on a line do not divide evenly between words, the empty slots on the left will be assigned more spaces than the slots on the right.\n",
    "\n",
    "For the last line of text, it should be left justified and no extra space is inserted between words.\n",
    "\n",
    "* Look through the list from left to right\n",
    "* Sum the characters until they are > maxWidth, keeping a count of the number of words passed, and correcting the sum at  the end\n",
    "    * Pop the count - 1 from the list and add them\n",
    "    * Determine the number of ' ' to add and where\n",
    "        * The number is based on the (Maxwidth - Sum)/(# of words - 1) gives the number of spaces between each letter\n",
    "        \n",
    "        * (Maxwidth - Sum) % (# of words - 1) gives the leftover: add spaces to the string directly in the list\n",
    "        \n",
    "        * Now we can use ' '.join to connect them all"
   ]
  },
  {
   "cell_type": "code",
   "execution_count": 83,
   "metadata": {},
   "outputs": [],
   "source": [
    "def fullJustify(words, maxWidth):\n",
    "    Sum = 0\n",
    "    Result = []\n",
    "    templist = []\n",
    "    \n",
    "    while words:\n",
    "        Sum = 0\n",
    "        templist = []\n",
    "        \n",
    "        while words and (Sum + len(words[0]) + len(templist) <= maxWidth):\n",
    "            Sum = Sum + len(words[0])\n",
    "            templist.append(words.pop(0))\n",
    "        \n",
    "        if not words:\n",
    "            Result.append(' '.join(templist))\n",
    "            Result[-1] = Result[-1] + ' '*(maxWidth-len(Result[-1]))\n",
    "        \n",
    "        elif len(templist) - 1 == 0:\n",
    "            Result.append(templist[0] + ' '*(maxWidth-Sum))\n",
    "        \n",
    "        \n",
    "        \n",
    "        else:\n",
    "            spaces = int((maxWidth - Sum)/(len(templist) - 1))\n",
    "            extras = (maxWidth - Sum)%(len(templist) - 1)\n",
    "            for i in range(0,len(templist)-1):\n",
    "                templist[i] = templist[i] + ' '*spaces\n",
    "            for i in range(0,extras):\n",
    "                templist[i] = templist[i] + ' '\n",
    "            Result.append(''.join(templist))\n",
    "\n",
    "    return Result\n",
    "        "
   ]
  },
  {
   "cell_type": "code",
   "execution_count": 84,
   "metadata": {},
   "outputs": [
    {
     "data": {
      "text/plain": [
       "['This    is    an', 'example  of text', 'justification.  ']"
      ]
     },
     "execution_count": 84,
     "metadata": {},
     "output_type": "execute_result"
    }
   ],
   "source": [
    "fullJustify([\"This\", \"is\", \"an\", \"example\", \"of\", \"text\", \"justification.\"], 16)"
   ]
  },
  {
   "cell_type": "code",
   "execution_count": 85,
   "metadata": {},
   "outputs": [
    {
     "data": {
      "text/plain": [
       "['What   must   be', 'acknowledgment  ', 'shall be        ']"
      ]
     },
     "execution_count": 85,
     "metadata": {},
     "output_type": "execute_result"
    }
   ],
   "source": [
    "fullJustify([\"What\",\"must\",\"be\",\"acknowledgment\",\"shall\",\"be\"], 16)"
   ]
  },
  {
   "cell_type": "code",
   "execution_count": 86,
   "metadata": {},
   "outputs": [
    {
     "data": {
      "text/plain": [
       "['Science  is  what we',\n",
       " 'understand      well',\n",
       " 'enough to explain to',\n",
       " 'a  computer.  Art is',\n",
       " 'everything  else  we',\n",
       " 'do                  ']"
      ]
     },
     "execution_count": 86,
     "metadata": {},
     "output_type": "execute_result"
    }
   ],
   "source": [
    "fullJustify([\"Science\",\"is\",\"what\",\"we\",\"understand\",\"well\",\"enough\",\"to\",\"explain\",\n",
    "         \"to\",\"a\",\"computer.\",\"Art\",\"is\",\"everything\",\"else\",\"we\",\"do\"],20)"
   ]
  },
  {
   "cell_type": "code",
   "execution_count": 89,
   "metadata": {},
   "outputs": [
    {
     "data": {
      "text/plain": [
       "['']"
      ]
     },
     "execution_count": 89,
     "metadata": {},
     "output_type": "execute_result"
    }
   ],
   "source": [
    "fullJustify([''],0)"
   ]
  },
  {
   "cell_type": "code",
   "execution_count": null,
   "metadata": {},
   "outputs": [],
   "source": []
  }
 ],
 "metadata": {
  "kernelspec": {
   "display_name": "Python 3",
   "language": "python",
   "name": "python3"
  },
  "language_info": {
   "codemirror_mode": {
    "name": "ipython",
    "version": 3
   },
   "file_extension": ".py",
   "mimetype": "text/x-python",
   "name": "python",
   "nbconvert_exporter": "python",
   "pygments_lexer": "ipython3",
   "version": "3.6.4"
  }
 },
 "nbformat": 4,
 "nbformat_minor": 2
}
