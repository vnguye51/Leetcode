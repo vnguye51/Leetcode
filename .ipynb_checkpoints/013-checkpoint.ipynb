{
 "cells": [
  {
   "cell_type": "markdown",
   "metadata": {},
   "source": [
    "## 13. Roman to Integer\n",
    "\n",
    "Given a roman numeral, convert it to an integer.\n",
    "\n",
    "Input is guaranteed to be within the range from 1 to 3999."
   ]
  },
  {
   "cell_type": "code",
   "execution_count": 24,
   "metadata": {
    "collapsed": true
   },
   "outputs": [],
   "source": [
    "def romanToInt(s):\n",
    "    Dict = {'M': 1000, 'D':500,'C':100,'L':50,'X':10,'V':5,'I':1,'CM':900,'CD':400,'XC':90,'XL':40,'IX':9,'IV':4 }\n",
    "    Sum = 0\n",
    "    \n",
    "    while s:\n",
    "        if s[-2:] in Dict:\n",
    "            Sum = Sum + Dict.get(s[-2:])\n",
    "            s = s[:-2]\n",
    "        else:\n",
    "            Sum = Sum + Dict.get(s[-1:])\n",
    "            s = s[:-1]\n",
    "    return Sum"
   ]
  },
  {
   "cell_type": "code",
   "execution_count": 26,
   "metadata": {},
   "outputs": [
    {
     "data": {
      "text/plain": [
       "1954"
      ]
     },
     "execution_count": 26,
     "metadata": {},
     "output_type": "execute_result"
    }
   ],
   "source": [
    "romanToInt('MCMLIV')"
   ]
  }
 ],
 "metadata": {
  "kernelspec": {
   "display_name": "Python 2",
   "language": "python",
   "name": "python2"
  },
  "language_info": {
   "codemirror_mode": {
    "name": "ipython",
    "version": 2
   },
   "file_extension": ".py",
   "mimetype": "text/x-python",
   "name": "python",
   "nbconvert_exporter": "python",
   "pygments_lexer": "ipython2",
   "version": "2.7.14"
  }
 },
 "nbformat": 4,
 "nbformat_minor": 2
}
