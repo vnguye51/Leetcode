{
 "cells": [
  {
   "cell_type": "markdown",
   "metadata": {},
   "source": [
    "## String to Integer\n",
    "\n",
    "Implement atoi to convert a string to an integer."
   ]
  },
  {
   "cell_type": "code",
   "execution_count": 152,
   "metadata": {},
   "outputs": [],
   "source": [
    "def myAtoi(A):\n",
    "    neg = 1\n",
    "    if A == \"\":\n",
    "        return 0\n",
    "    \n",
    "    for i,s in enumerate(A):\n",
    "        if s != \" \":\n",
    "            A = A[i:]\n",
    "            break\n",
    "    \n",
    "    if A[0] == '-' or A[0] == '+':\n",
    "        if A[0] == '-':\n",
    "            neg = -1\n",
    "        A = A[1:]\n",
    "        \n",
    "    if not A:\n",
    "        return 0\n",
    "    \n",
    "    if not A[0].isdigit():\n",
    "        return 0\n",
    "        \n",
    "   \n",
    "    for i,s in enumerate(A):\n",
    "        if not A[i].isdigit():\n",
    "            I = int(A[:i])*neg\n",
    "            if I < -2147483648:\n",
    "                return -2147483648\n",
    "            if I > 2147483647:\n",
    "                return 2147483647\n",
    "            else:\n",
    "                return I\n",
    "            \n",
    "    I = int(A)*neg\n",
    "    \n",
    "    if I < -2147483648:\n",
    "        return -2147483648\n",
    "    if I > 2147483647:\n",
    "        return 2147483647\n",
    "    else:\n",
    "        return I\n",
    "    \n",
    "  \n",
    "        "
   ]
  }
 ],
 "metadata": {
  "kernelspec": {
   "display_name": "Python 2",
   "language": "python",
   "name": "python2"
  },
  "language_info": {
   "codemirror_mode": {
    "name": "ipython",
    "version": 2
   },
   "file_extension": ".py",
   "mimetype": "text/x-python",
   "name": "python",
   "nbconvert_exporter": "python",
   "pygments_lexer": "ipython2",
   "version": "2.7.14"
  }
 },
 "nbformat": 4,
 "nbformat_minor": 2
}
