{
 "cells": [
  {
   "cell_type": "markdown",
   "metadata": {},
   "source": [
    "## Relative Ranks\n",
    "\n",
    "Given scores of N athletes, find their relative ranks and the people with the top three highest scores, who will be awarded medals: \"Gold Medal\", \"Silver Medal\" and \"Bronze Medal\".\n",
    "\n",
    "* Sort the scores and read the scores into a dictionary that maps to the ranks\n",
    "* Return an array that reads the dictionary using nums"
   ]
  },
  {
   "cell_type": "code",
   "execution_count": null,
   "metadata": {},
   "outputs": [],
   "source": [
    "class Solution:\n",
    "    def findRelativeRanks(self, nums):\n",
    "        res = []\n",
    "        scores = sorted(nums,reverse=True)\n",
    "        memo = {}\n",
    "        placements = [\"Gold Medal\", \"Silver Medal\", \"Bronze Medal\"] + [str(i) for i in range(4,len(nums)+1)]\n",
    "        for i,n in enumerate(scores):\n",
    "            memo[n] = placements[i]\n",
    "        for n in nums:\n",
    "            res.append(memo[n])\n",
    "        return res"
   ]
  }
 ],
 "metadata": {
  "kernelspec": {
   "display_name": "Python 3",
   "language": "python",
   "name": "python3"
  },
  "language_info": {
   "codemirror_mode": {
    "name": "ipython",
    "version": 3
   },
   "file_extension": ".py",
   "mimetype": "text/x-python",
   "name": "python",
   "nbconvert_exporter": "python",
   "pygments_lexer": "ipython3",
   "version": "3.6.4"
  }
 },
 "nbformat": 4,
 "nbformat_minor": 2
}
