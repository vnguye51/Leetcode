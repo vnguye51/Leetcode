{
 "cells": [
  {
   "cell_type": "markdown",
   "metadata": {},
   "source": [
    "## Integer to Roman"
   ]
  },
  {
   "cell_type": "markdown",
   "metadata": {},
   "source": [
    "* Given an N check if its above 1000 if it is subtract 1000 and append M to a string\n",
    "* go down the list of roman numerals\n",
    "* If there are four of the same letter in a row replace it with that letter and the next letter value\n"
   ]
  },
  {
   "cell_type": "code",
   "execution_count": 19,
   "metadata": {
    "collapsed": true
   },
   "outputs": [],
   "source": [
    "def Int2Rom(N):\n",
    "    S = ''\n",
    "    while N >= 1000:\n",
    "        N = N - 1000\n",
    "        S = S+'M'\n",
    "    while N >= 500:\n",
    "        N = N - 500\n",
    "        S = S+'D'\n",
    "    while N >= 100:\n",
    "        N = N - 100\n",
    "        S = S + 'C'\n",
    "        if S[-5:] == 'DCCCC':\n",
    "            S = S[:-5] + 'CM'\n",
    "        if S[-4:] == 'CCCC':\n",
    "            S = S[:-4] + 'CD'\n",
    "        \n",
    "    while N >= 50:\n",
    "        N = N - 50\n",
    "        S = S+'L'\n",
    "        \n",
    "    while N >= 10:\n",
    "        N = N - 10\n",
    "        S = S + 'X'\n",
    "        if S[-5:] == 'LXXXX':\n",
    "            S = S[:-5] + 'XC'\n",
    "        if S[-4:] == 'XXXX':\n",
    "            S = S[:-4] + 'XL'\n",
    "    while N >= 5:\n",
    "        N = N - 5\n",
    "        S = S + 'V'\n",
    "    while N >= 1:\n",
    "        N = N - 1\n",
    "        S = S + 'I'\n",
    "        if S[-5:] == 'VIIII':\n",
    "            S = S[:-5] + 'IX'\n",
    "        if S[-4:] == 'IIII':\n",
    "            S = S[:-4] + 'IV'\n",
    "            \n",
    "    return S"
   ]
  },
  {
   "cell_type": "code",
   "execution_count": 22,
   "metadata": {},
   "outputs": [
    {
     "data": {
      "text/plain": [
       "'MMXIV'"
      ]
     },
     "execution_count": 22,
     "metadata": {},
     "output_type": "execute_result"
    }
   ],
   "source": [
    "Int2Rom(2014)"
   ]
  }
 ],
 "metadata": {
  "kernelspec": {
   "display_name": "Python 2",
   "language": "python",
   "name": "python2"
  },
  "language_info": {
   "codemirror_mode": {
    "name": "ipython",
    "version": 2
   },
   "file_extension": ".py",
   "mimetype": "text/x-python",
   "name": "python",
   "nbconvert_exporter": "python",
   "pygments_lexer": "ipython2",
   "version": "2.7.14"
  }
 },
 "nbformat": 4,
 "nbformat_minor": 2
}
