{
 "cells": [
  {
   "cell_type": "code",
   "execution_count": null,
   "metadata": {},
   "outputs": [],
   "source": [
    "def checkHeight(root):\n",
    "    if not root:\n",
    "        return 0\n",
    "    leftHeight = checkHeight(root.left)\n",
    "    rightHeight = checkHeight(root.right)\n",
    "    if leftHeight is False or rightHeight is False:\n",
    "        return False\n",
    "    if abs(leftHeight-rightHeight) > 1:\n",
    "        return False\n",
    "    return max(leftHeight,rightHeight) + 1\n",
    "\n",
    "def isBalanced(root):\n",
    "    if not root:\n",
    "        return True\n",
    "    return checkHeight(root) != False"
   ]
  }
 ],
 "metadata": {
  "kernelspec": {
   "display_name": "Python 3",
   "language": "python",
   "name": "python3"
  },
  "language_info": {
   "codemirror_mode": {
    "name": "ipython",
    "version": 3
   },
   "file_extension": ".py",
   "mimetype": "text/x-python",
   "name": "python",
   "nbconvert_exporter": "python",
   "pygments_lexer": "ipython3",
   "version": "3.6.4"
  }
 },
 "nbformat": 4,
 "nbformat_minor": 2
}
