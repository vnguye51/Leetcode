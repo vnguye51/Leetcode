{
 "cells": [
  {
   "cell_type": "markdown",
   "metadata": {},
   "source": [
    "## 526. Beautiful Arrangement\n",
    "\n",
    " Suppose you have N integers from 1 to N. We define a beautiful arrangement as an array that is constructed by these N numbers successfully if one of the following is true for the ith position (1 <= i <= N) in this array:\n",
    "\n",
    "    The number at the ith position is divisible by i.\n",
    "    i is divisible by the number at the ith position.\n",
    "\n",
    "Now given N, how many beautiful arrangements can you construct? \n",
    "\n",
    "* We can output all the permutations of [1,...,N]\n",
    "* We check for the conditionals and increment by 1"
   ]
  },
  {
   "cell_type": "code",
   "execution_count": 2,
   "metadata": {
    "collapsed": true
   },
   "outputs": [],
   "source": [
    "from itertools import permutations"
   ]
  },
  {
   "cell_type": "code",
   "execution_count": 3,
   "metadata": {
    "collapsed": true
   },
   "outputs": [],
   "source": [
    "def countArrangement(N):\n",
    "    Counts = 0\n",
    "    Perms = list(permutations([n for n in range(1,N+1)],N))\n",
    "    for n in Perms:\n",
    "        \n",
    "        Beautiful = True\n",
    "        for i,m in enumerate(n):\n",
    "            if m%(i+1) != 0 and (i+1)%m != 0:\n",
    "                Beautiful = False\n",
    "                break\n",
    "                \n",
    "        if Beautiful == True:\n",
    "            print n\n",
    "            Beautiful = False\n",
    "            Counts = Counts + 1\n",
    "            \n",
    "    return Counts"
   ]
  },
  {
   "cell_type": "code",
   "execution_count": 13,
   "metadata": {},
   "outputs": [
    {
     "name": "stdout",
     "output_type": "stream",
     "text": [
      "(1, 2, 3, 4, 5)\n",
      "(1, 4, 3, 2, 5)\n",
      "(2, 1, 3, 4, 5)\n",
      "(2, 4, 3, 1, 5)\n",
      "(3, 2, 1, 4, 5)\n",
      "(3, 4, 1, 2, 5)\n",
      "(4, 1, 3, 2, 5)\n",
      "(4, 2, 3, 1, 5)\n",
      "(5, 2, 3, 4, 1)\n",
      "(5, 4, 3, 2, 1)\n"
     ]
    },
    {
     "data": {
      "text/plain": [
       "10"
      ]
     },
     "execution_count": 13,
     "metadata": {},
     "output_type": "execute_result"
    }
   ],
   "source": [
    "countArrangement(5)\n"
   ]
  },
  {
   "cell_type": "code",
   "execution_count": null,
   "metadata": {
    "collapsed": true
   },
   "outputs": [],
   "source": []
  },
  {
   "cell_type": "code",
   "execution_count": null,
   "metadata": {
    "collapsed": true
   },
   "outputs": [],
   "source": []
  }
 ],
 "metadata": {
  "kernelspec": {
   "display_name": "Python 2",
   "language": "python",
   "name": "python2"
  },
  "language_info": {
   "codemirror_mode": {
    "name": "ipython",
    "version": 2
   },
   "file_extension": ".py",
   "mimetype": "text/x-python",
   "name": "python",
   "nbconvert_exporter": "python",
   "pygments_lexer": "ipython2",
   "version": "2.7.14"
  }
 },
 "nbformat": 4,
 "nbformat_minor": 2
}
