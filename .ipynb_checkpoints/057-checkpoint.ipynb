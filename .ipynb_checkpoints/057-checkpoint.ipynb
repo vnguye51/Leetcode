{
 "cells": [
  {
   "cell_type": "markdown",
   "metadata": {},
   "source": [
    "## Insert Interval\n",
    "\n",
    "Given a set of non-overlapping intervals, insert a new interval into the intervals (merge if necessary).\n",
    "\n",
    "You may assume that the intervals were initially sorted according to their start times.\n",
    "\n",
    "* Searching through the list from left to right find the position where the start is greater than the insert interval start\n",
    "* Place it there\n",
    "* Perform the merge from the previous problem"
   ]
  },
  {
   "cell_type": "code",
   "execution_count": null,
   "metadata": {},
   "outputs": [],
   "source": [
    "def merge(intervals,newInterval):\n",
    "\n",
    "    #intervals = sorted(intervals,key=lambda x: x.start)\n",
    "    if intervals == []:\n",
    "        intervals.insert(0,newInterval)\n",
    "\n",
    "    elif intervals[-1].start <= newInterval.start:\n",
    "        intervals.append(newInterval)\n",
    "    else:\n",
    "        for i,n in enumerate(intervals):\n",
    "            if n.start >= newInterval.start:\n",
    "                intervals.insert(i,newInterval)\n",
    "                break\n",
    "\n",
    "    i = 0       \n",
    "    while i < len(intervals)-1:\n",
    "        if intervals[i].end >= intervals[i+1].start:\n",
    "            if intervals[i].end > intervals[i+1].end:\n",
    "                pass\n",
    "            else:\n",
    "                intervals[i].end = intervals[i+1].end\n",
    "            intervals.pop(i+1)\n",
    "        else:\n",
    "            i = i+1\n",
    "    return intervals"
   ]
  }
 ],
 "metadata": {
  "kernelspec": {
   "display_name": "Python 3",
   "language": "python",
   "name": "python3"
  },
  "language_info": {
   "codemirror_mode": {
    "name": "ipython",
    "version": 3
   },
   "file_extension": ".py",
   "mimetype": "text/x-python",
   "name": "python",
   "nbconvert_exporter": "python",
   "pygments_lexer": "ipython3",
   "version": "3.6.4"
  }
 },
 "nbformat": 4,
 "nbformat_minor": 2
}
