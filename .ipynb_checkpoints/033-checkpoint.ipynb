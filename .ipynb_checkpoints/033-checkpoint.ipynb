{
 "cells": [
  {
   "cell_type": "markdown",
   "metadata": {},
   "source": [
    "##  Search in Rotated Sorted Array\n",
    "\n",
    "Suppose an array sorted in ascending order is rotated at some pivot unknown to you beforehand.\n",
    "\n",
    "(i.e., [0,1,2,4,5,6,7] might become [4,5,6,7,0,1,2]).\n",
    "\n",
    "You are given a target value to search. If found in the array return its index, otherwise return -1.\n",
    "\n",
    "You may assume no duplicate exists in the array.\n",
    "\n",
    "Your algorithm's runtime complexity must be in the order of O(log n).\n",
    "\n",
    "* Check the leftmost number if the target is greater continue\n",
    "* If it is less than approach from the other side\n",
    "* If you pass the pivot (switching from desc to asc or asc to desc) then the value does not lie in the range"
   ]
  },
  {
   "cell_type": "code",
   "execution_count": 31,
   "metadata": {
    "collapsed": true
   },
   "outputs": [],
   "source": [
    "def search(nums, target):\n",
    "    \n",
    "\n",
    "    \n",
    "    i = 0\n",
    "    asc = True\n",
    "    prev = None\n",
    "    \n",
    "    if nums == []:\n",
    "        return -1\n",
    "    if nums[i] == target:\n",
    "        return i\n",
    "    if len(nums) == 1:\n",
    "        return -1\n",
    "   \n",
    "    \n",
    "    if nums[i] < target:\n",
    "        pass\n",
    "\n",
    "    if nums[i] > target:\n",
    "        asc = False\n",
    "        i = len(nums)-1\n",
    "\n",
    "    while i < len(nums):\n",
    "        if nums[i] == target:\n",
    "            return i\n",
    "        \n",
    "\n",
    "        if asc == True:\n",
    "            if prev is not None and prev > nums[i]:\n",
    "                return -1\n",
    "            prev = nums[i]\n",
    "            i = i+1\n",
    "            \n",
    "        else:\n",
    "            if prev is not None and prev < nums[i]:\n",
    "                return -1\n",
    "            prev = nums[i]\n",
    "            i = i-1\n",
    "    return -1"
   ]
  },
  {
   "cell_type": "code",
   "execution_count": 33,
   "metadata": {},
   "outputs": [
    {
     "data": {
      "text/plain": [
       "4"
      ]
     },
     "execution_count": 33,
     "metadata": {},
     "output_type": "execute_result"
    }
   ],
   "source": [
    "search([4,5,6,7,0,1,2],0)"
   ]
  },
  {
   "cell_type": "code",
   "execution_count": 29,
   "metadata": {},
   "outputs": [
    {
     "data": {
      "text/plain": [
       "-1"
      ]
     },
     "execution_count": 29,
     "metadata": {},
     "output_type": "execute_result"
    }
   ],
   "source": [
    "search([4,5,6,7,0,1,2],3)"
   ]
  }
 ],
 "metadata": {
  "kernelspec": {
   "display_name": "Python 2",
   "language": "python",
   "name": "python2"
  },
  "language_info": {
   "codemirror_mode": {
    "name": "ipython",
    "version": 2
   },
   "file_extension": ".py",
   "mimetype": "text/x-python",
   "name": "python",
   "nbconvert_exporter": "python",
   "pygments_lexer": "ipython2",
   "version": "2.7.14"
  }
 },
 "nbformat": 4,
 "nbformat_minor": 2
}
