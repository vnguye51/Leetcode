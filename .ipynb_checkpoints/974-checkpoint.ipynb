{
 "cells": [
  {
   "cell_type": "markdown",
   "metadata": {},
   "source": [
    "## Subarray Sums Divisible by K\n",
    "Given an array A of integers, return the number of (contiguous, non-empty) subarrays that have a sum divisible by K\n",
    "\n",
    "* We could simply use a window and scan the array but that is very likely to exceed the time limit\n",
    "* We can simplify the taking of sums by simply removing the last or first element while recursing through the possibilities"
   ]
  },
  {
   "cell_type": "code",
   "execution_count": 21,
   "metadata": {},
   "outputs": [],
   "source": [
    "class Solution:\n",
    "    def subarraysDivByK(self, A, K):\n",
    "        count = 0\n",
    "        curr = sum(A)\n",
    "        width = len(A)-2\n",
    "        i,j = 0, len(A)-1\n",
    "        while i != j:\n",
    "            if curr%5 == 0:\n",
    "                count += 1\n",
    "            i += 1\n",
    "            j += 1\n",
    "            if j == len(A):\n",
    "                i = 0\n",
    "                j = i + width\n",
    "                width -= 1\n",
    "            else:\n",
    "                curr -= A[i-1]\n",
    "                curr += A[j]\n",
    "            \n",
    "        \n",
    "        "
   ]
  },
  {
   "cell_type": "code",
   "execution_count": 22,
   "metadata": {},
   "outputs": [],
   "source": [
    "sol = Solution()\n",
    "sol.subarraysDivByK([4,5,0,-2,-3,1],5)"
   ]
  },
  {
   "cell_type": "code",
   "execution_count": null,
   "metadata": {},
   "outputs": [],
   "source": []
  }
 ],
 "metadata": {
  "kernelspec": {
   "display_name": "Python 3",
   "language": "python",
   "name": "python3"
  },
  "language_info": {
   "codemirror_mode": {
    "name": "ipython",
    "version": 3
   },
   "file_extension": ".py",
   "mimetype": "text/x-python",
   "name": "python",
   "nbconvert_exporter": "python",
   "pygments_lexer": "ipython3",
   "version": "3.6.4"
  }
 },
 "nbformat": 4,
 "nbformat_minor": 2
}
