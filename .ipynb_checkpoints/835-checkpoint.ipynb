{
 "cells": [
  {
   "cell_type": "markdown",
   "metadata": {},
   "source": [
    "## 835\n",
    "Two images A and B are given, represented as binary, square matrices of the same size.  (A binary matrix has only 0s and 1s as values.)\n",
    "\n",
    "We translate one image however we choose (sliding it left, right, up, or down any number of units), and place it on top of the other image.  After, the overlap of this translation is the number of positions that have a 1 in both images.\n",
    "\n",
    "(Note also that a translation does not include any kind of rotation.)\n",
    "\n",
    "What is the largest possible overlap?\n",
    "\n",
    "* Brute Force\n",
    "* make every possible valid move and check for the largest possible overlap\n",
    "* Place the matrix in the topleft of an 2L-1 x 2L-1 board\n",
    "\n"
   ]
  },
  {
   "cell_type": "code",
   "execution_count": 41,
   "metadata": {},
   "outputs": [],
   "source": [
    "\n",
    "\n",
    "def insertBoardBinA(A,B,i0,j0):\n",
    "    for i in range(0,len(B)):\n",
    "        for j in range(0,len(B)):\n",
    "            A[i+i0][j+j0] = B[i][j]            \n",
    "    return A\n",
    "\n",
    "def countOverlap(A,B,i0,j0):\n",
    "    count = 0 \n",
    "    for i in range(0,len(B)):\n",
    "        for j in range(0,len(B)):\n",
    "            if A[i+i0][j+j0] == 1 and B[i][j] == 1:\n",
    "                count = count+1\n",
    "    return count\n",
    "\n",
    "def largestOverlap(A, B):\n",
    "    Max = 0\n",
    "    L = len(B)\n",
    "    NewBoard = [[0 for i in range(0,3*L-2)] for j in range(0,3*L-2) ]    \n",
    "    NewBoard = insertBoardBinA(NewBoard,B,L-1,L-1)\n",
    "    \n",
    "    for i in range(0,2*L-1):\n",
    "        for j in range(0,2*L-1):\n",
    "            N = countOverlap(NewBoard,A,i,j)\n",
    "            if N > Max:\n",
    "                Max = N\n",
    "    return Max"
   ]
  },
  {
   "cell_type": "code",
   "execution_count": 42,
   "metadata": {},
   "outputs": [
    {
     "data": {
      "text/plain": [
       "3"
      ]
     },
     "execution_count": 42,
     "metadata": {},
     "output_type": "execute_result"
    }
   ],
   "source": [
    "A = [[1,1,0],\n",
    "    [0,1,0],\n",
    "    [0,1,0]]\n",
    "B = [[0,0,0],\n",
    "    [0,1,1],\n",
    "    [0,0,1]]\n",
    "largestOverlap(A,B)"
   ]
  },
  {
   "cell_type": "code",
   "execution_count": null,
   "metadata": {},
   "outputs": [],
   "source": []
  },
  {
   "cell_type": "code",
   "execution_count": null,
   "metadata": {},
   "outputs": [],
   "source": []
  }
 ],
 "metadata": {
  "kernelspec": {
   "display_name": "Python 3",
   "language": "python",
   "name": "python3"
  },
  "language_info": {
   "codemirror_mode": {
    "name": "ipython",
    "version": 3
   },
   "file_extension": ".py",
   "mimetype": "text/x-python",
   "name": "python",
   "nbconvert_exporter": "python",
   "pygments_lexer": "ipython3",
   "version": "3.6.4"
  }
 },
 "nbformat": 4,
 "nbformat_minor": 2
}
