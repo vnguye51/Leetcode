{
 "cells": [
  {
   "cell_type": "markdown",
   "metadata": {},
   "source": [
    "## Insert Into a Binary Search Tree\n",
    "\n",
    "Given the root node of a binary search tree (BST) and a value to be inserted into the tree, insert the value into the BST. Return the root node of the BST after the insertion. It is guaranteed that the new value does not exist in the original BST.\n",
    "\n",
    "Note that there may exist multiple valid ways for the insertion, as long as the tree remains a BST after insertion. You can return any of them."
   ]
  },
  {
   "cell_type": "code",
   "execution_count": null,
   "metadata": {},
   "outputs": [],
   "source": [
    "# Definition for a binary tree node.\n",
    "class TreeNode:\n",
    "    def __init__(self, x):\n",
    "        self.val = x\n",
    "        self.left = None\n",
    "        self.right = None\n",
    "        \n",
    "def create_tree(arr):\n",
    "    root = TreeNode(arr.pop(0))\n",
    "    queue = [root.left,root.right]\n",
    "    while len(arr) > 0:\n",
    "        curr = TreeNode(arr.pop(0))\n",
    "        queue += [curr.left,curr.right]\n",
    "    return root\n",
    "    \n",
    "def tree_to_array(root):\n",
    "    pass"
   ]
  },
  {
   "cell_type": "code",
   "execution_count": null,
   "metadata": {},
   "outputs": [],
   "source": [
    "class Solution:\n",
    "    def insertIntoBST(self, root, val):\n",
    "        if root == None:\n",
    "            root = TreeNode(val)\n",
    "        elif root.val > val:\n",
    "            if root.left:\n",
    "                self.insertIntoBST(root.left,val)\n",
    "            else: \n",
    "                root.left = TreeNode(val)\n",
    "        else:\n",
    "            if root.right:\n",
    "                self.insertIntoBST(root.right,val)\n",
    "            else: \n",
    "                root.right = TreeNode(val)\n",
    "        return root"
   ]
  }
 ],
 "metadata": {
  "kernelspec": {
   "display_name": "Python 3",
   "language": "python",
   "name": "python3"
  },
  "language_info": {
   "codemirror_mode": {
    "name": "ipython",
    "version": 3
   },
   "file_extension": ".py",
   "mimetype": "text/x-python",
   "name": "python",
   "nbconvert_exporter": "python",
   "pygments_lexer": "ipython3",
   "version": "3.6.4"
  }
 },
 "nbformat": 4,
 "nbformat_minor": 2
}
