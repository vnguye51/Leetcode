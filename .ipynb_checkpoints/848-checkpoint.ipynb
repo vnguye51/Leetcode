{
 "cells": [
  {
   "cell_type": "markdown",
   "metadata": {},
   "source": [
    "# Shifting Letters\n",
    "\n",
    "We have a string S of lowercase letters, and an integer array shifts.\n",
    "\n",
    "Call the shift of a letter, the next letter in the alphabet, (wrapping around so that 'z' becomes 'a'). \n",
    "\n",
    "For example, shift('a') = 'b', shift('t') = 'u', and shift('z') = 'a'.\n",
    "\n",
    "Now for each shifts[i] = x, we want to shift the first i+1 letters of S, x times.\n",
    "\n",
    "Return the final string after all such shifts to S are applied.\n",
    "\n",
    "* Turn the characters into integers using ord\n",
    "\n",
    "* Append those values to an array\n",
    "\n",
    "* Apply the shifts\n",
    "    * Shifts are too long in their normal form. We should convert them into a direct shift first"
   ]
  },
  {
   "cell_type": "code",
   "execution_count": 89,
   "metadata": {},
   "outputs": [],
   "source": [
    "def shiftingLetters(S, shifts):\n",
    "    Answer = ''    \n",
    "    flatshift = [shifts[-1]]\n",
    "    for i in range(len(shifts)-2,-1,-1):\n",
    "        flatshift.insert(0,shifts[i]+flatshift[0])\n",
    "    for j in range(0,len(flatshift)):\n",
    "        Answer = Answer + chr( (ord(S[j])-97+flatshift[j])%26 + 97)\n",
    "    return Answer\n",
    "    \"\"\"\n",
    "    :type S: str\n",
    "    :type shifts: List[int]\n",
    "    :rtype: str\n",
    "    \"\"\"\n"
   ]
  },
  {
   "cell_type": "code",
   "execution_count": 90,
   "metadata": {},
   "outputs": [
    {
     "name": "stdout",
     "output_type": "stream",
     "text": [
      "1\n",
      "0\n",
      "rpl 0.0\n"
     ]
    }
   ],
   "source": [
    "start = time.time()\n",
    "A = shiftingLetters(\"abc\",[3,5,9])\n",
    "print(A, time.time()-start)"
   ]
  }
 ],
 "metadata": {
  "kernelspec": {
   "display_name": "Python 3",
   "language": "python",
   "name": "python3"
  },
  "language_info": {
   "codemirror_mode": {
    "name": "ipython",
    "version": 3
   },
   "file_extension": ".py",
   "mimetype": "text/x-python",
   "name": "python",
   "nbconvert_exporter": "python",
   "pygments_lexer": "ipython3",
   "version": "3.6.4"
  }
 },
 "nbformat": 4,
 "nbformat_minor": 2
}
