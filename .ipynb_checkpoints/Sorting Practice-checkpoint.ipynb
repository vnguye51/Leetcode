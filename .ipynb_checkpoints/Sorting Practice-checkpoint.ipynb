{
 "cells": [
  {
   "cell_type": "markdown",
   "metadata": {},
   "source": [
    "# Merge Sort\n",
    "\n",
    "## Key Facts\n",
    "* Merge sort is based on the idea of merging two pre-sorted arrays together\n",
    "* An array of length 1 is already sorted\n",
    "* Given two sorted arrays filter them into a third array based on the smaller value at index 0 of both arrays\n",
    "\n",
    "## Steps\n",
    "* Break the array into an array of arrays(of size 1)\n",
    "* Loop through the array of arrays skipping every 2nd value and merge the two together\n",
    "* Keep doing this until you are left with 1 array"
   ]
  },
  {
   "cell_type": "code",
   "execution_count": 46,
   "metadata": {},
   "outputs": [],
   "source": [
    "from random import randint\n",
    "\n",
    "def merge_sort(arr):\n",
    "    newarr = []\n",
    "    for n in arr:\n",
    "        newarr.append([n])\n",
    "    while len(newarr) > 1:\n",
    "        temparr = []\n",
    "        for i in range(0,len(newarr)-1,2):\n",
    "            temparr.append(merge_sorted_arrays(newarr[i],newarr[i+1]))\n",
    "        if len(newarr)%2 == 1:\n",
    "            temparr.append(newarr[-1])\n",
    "        newarr = temparr\n",
    "    return newarr[0]\n",
    "        \n",
    "def merge_sorted_arrays(arr1,arr2):\n",
    "    newarr = []\n",
    "    while arr1 and arr2:\n",
    "        if arr1[0] < arr2[0]:\n",
    "            newarr.append(arr1.pop(0))\n",
    "        else:\n",
    "            newarr.append(arr2.pop(0))\n",
    "    if arr1:\n",
    "        newarr += arr1\n",
    "    if arr2: \n",
    "        newarr += arr2\n",
    "    return newarr\n"
   ]
  },
  {
   "cell_type": "code",
   "execution_count": 55,
   "metadata": {},
   "outputs": [
    {
     "name": "stdout",
     "output_type": "stream",
     "text": [
      "[1, 1, 3, 3, 4, 4, 4, 6, 7, 8, 8, 10, 10, 11, 11, 11, 13, 13, 16, 17, 19, 21, 22, 22, 23, 23, 24, 25, 27, 27, 29, 30, 30, 30, 31, 31, 32, 32, 33, 39, 39, 40, 40, 40, 43, 43, 46, 47, 49, 50, 51, 51, 52, 52, 53, 53, 54, 54, 55, 57, 58, 58, 58, 59, 59, 60, 61, 63, 63, 64, 66, 67, 67, 67, 70, 72, 72, 74, 74, 78, 79, 81, 82, 84, 84, 85, 86, 86, 86, 87, 88, 90, 90, 91, 93, 94, 95, 96, 96, 98, 100]\n",
      "[1, 1, 3, 3, 4, 4, 4, 6, 7, 8, 8, 10, 10, 11, 11, 11, 13, 13, 16, 17, 19, 21, 22, 22, 23, 23, 24, 25, 27, 27, 29, 30, 30, 30, 31, 31, 32, 32, 33, 39, 39, 40, 40, 40, 43, 43, 46, 47, 49, 50, 51, 51, 52, 52, 53, 53, 54, 54, 55, 57, 58, 58, 58, 59, 59, 60, 61, 63, 63, 64, 66, 67, 67, 67, 70, 72, 72, 74, 74, 78, 79, 81, 82, 84, 84, 85, 86, 86, 86, 87, 88, 90, 90, 91, 93, 94, 95, 96, 96, 98, 100]\n"
     ]
    }
   ],
   "source": [
    "randarray = [randint(1,100) for n in range(101)]\n",
    "print(merge_sort(randarray))\n",
    "print(sorted(randarray))"
   ]
  },
  {
   "cell_type": "markdown",
   "metadata": {},
   "source": [
    "## Insertion Sort\n",
    "\n",
    "### Key Facts\n",
    "* Is based on inserting an element one at a time by scanning left to right through the entire array\n",
    "* Taking the first non sorted element scan through the sorted elements left to right until you come across the first element that is larger than it and insert it prior to that\n",
    "### Steps\n",
    "* Grab the first unsorted value\n",
    "* Scan through the sorted array(there is none at the start)\n",
    "* If you find an element larger then the chosen value or the end of the array is reached\n",
    "    * Stop the loop and insert it there\n",
    "* Repeat until there are no unsorted elements\n",
    "\n",
    "* If being done in place the left side of the arr will be the sorted elements so keep track of the number of sorted elements"
   ]
  },
  {
   "cell_type": "code",
   "execution_count": 81,
   "metadata": {},
   "outputs": [],
   "source": [
    "def insertSort(arr):\n",
    "    i = 0\n",
    "    while i < len(arr):\n",
    "        val = arr.pop(i)\n",
    "        flag = False\n",
    "        for j in range(0,i):\n",
    "            if arr[j] > val:\n",
    "                arr.insert(j,val)\n",
    "                flag = True\n",
    "                break\n",
    "        if flag == False:\n",
    "            arr.insert(i,val)\n",
    "        i+=1\n",
    "    return arr"
   ]
  },
  {
   "cell_type": "code",
   "execution_count": 82,
   "metadata": {},
   "outputs": [
    {
     "name": "stdout",
     "output_type": "stream",
     "text": [
      "[1, 1, 1, 4, 4, 5, 5, 6, 6, 6, 6, 6, 6, 8, 8, 8, 10, 17, 18, 18, 19, 19, 23, 23, 24, 25, 27, 27, 27, 30, 31, 31, 33, 33, 33, 35, 36, 36, 40, 40, 41, 41, 42, 44, 45, 47, 47, 47, 47, 48, 51, 52, 53, 53, 54, 54, 57, 61, 61, 62, 66, 66, 69, 69, 69, 70, 70, 71, 72, 73, 75, 75, 76, 80, 81, 83, 83, 83, 83, 84, 87, 88, 89, 89, 89, 89, 91, 91, 92, 92, 96, 97, 98, 98, 98, 98, 99, 99, 99, 99, 99]\n",
      "[1, 1, 1, 4, 4, 5, 5, 6, 6, 6, 6, 6, 6, 8, 8, 8, 10, 17, 18, 18, 19, 19, 23, 23, 24, 25, 27, 27, 27, 30, 31, 31, 33, 33, 33, 35, 36, 36, 40, 40, 41, 41, 42, 44, 45, 47, 47, 47, 47, 48, 51, 52, 53, 53, 54, 54, 57, 61, 61, 62, 66, 66, 69, 69, 69, 70, 70, 71, 72, 73, 75, 75, 76, 80, 81, 83, 83, 83, 83, 84, 87, 88, 89, 89, 89, 89, 91, 91, 92, 92, 96, 97, 98, 98, 98, 98, 99, 99, 99, 99, 99]\n"
     ]
    }
   ],
   "source": [
    "randarray = [randint(1,100) for n in range(101)]\n",
    "print(insertSort(randarray))\n",
    "print(sorted(randarray))"
   ]
  },
  {
   "cell_type": "markdown",
   "metadata": {},
   "source": [
    "## Bubble Sort\n",
    "\n",
    "### Key Facts\n",
    "* Based on a moving window that swaps values into the correct order, window keeps passing through until every element is ordered\n",
    "* Every pass will lock one number into the correct place at the very end\n",
    "\n",
    "### Steps\n",
    "* Keep track of how many passes have been made\n",
    "* Create a flag that checks if a swap has been made\n",
    "* If a swap is made then that means the loop should keep going\n"
   ]
  },
  {
   "cell_type": "code",
   "execution_count": 95,
   "metadata": {},
   "outputs": [],
   "source": [
    "def bubble_sort(arr,swapped=False):\n",
    "    for i in range(0,len(arr)-1):\n",
    "        if arr[i] > arr[i+1]:\n",
    "            arr[0],arr[1] = arr[1],arr[0]\n",
    "            swapped = True\n",
    "\n",
    "    if not swapped:\n",
    "        return arr\n",
    "    else:\n",
    "        print(swapped)\n",
    "        return bubble_sort(arr)"
   ]
  },
  {
   "cell_type": "code",
   "execution_count": null,
   "metadata": {},
   "outputs": [],
   "source": [
    "randarray = [randint(1,100) for n in range(101)]\n",
    "print(bubble_sort(randarray))\n",
    "print(sorted(randarray))"
   ]
  },
  {
   "cell_type": "code",
   "execution_count": null,
   "metadata": {},
   "outputs": [],
   "source": []
  }
 ],
 "metadata": {
  "kernelspec": {
   "display_name": "Python 3",
   "language": "python",
   "name": "python3"
  },
  "language_info": {
   "codemirror_mode": {
    "name": "ipython",
    "version": 3
   },
   "file_extension": ".py",
   "mimetype": "text/x-python",
   "name": "python",
   "nbconvert_exporter": "python",
   "pygments_lexer": "ipython3",
   "version": "3.6.4"
  }
 },
 "nbformat": 4,
 "nbformat_minor": 2
}
