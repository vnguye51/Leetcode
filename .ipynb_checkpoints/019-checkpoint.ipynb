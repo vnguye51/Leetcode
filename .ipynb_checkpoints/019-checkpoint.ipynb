{
 "cells": [
  {
   "cell_type": "markdown",
   "metadata": {},
   "source": [
    "## Remove the Nth Node From End of List\n",
    "\n",
    "Given a linked list, remove the nth node from the end of list and return its head.\n",
    "\n",
    "For this linked list:\n",
    "\n",
    "1 -> 2 -> 3 -> 4 -> 5, and n =2\n",
    "\n",
    "The problem can be solved by sending two pointers with n-spacing apart\n",
    "\n",
    "* When the first pointer's \"next\" value is None then return the value at the trailing pointer"
   ]
  },
  {
   "cell_type": "code",
   "execution_count": 1,
   "metadata": {
    "collapsed": true
   },
   "outputs": [],
   "source": [
    "class ListNode:\n",
    "    def __init__(self, x):\n",
    "        self.val = x\n",
    "        self.next = None\n",
    "\n",
    "\n",
    "class Solution:\n",
    "    def removeNthFromEnd(self, head, n):\n",
    "        NewHead = ListNode(0)\n",
    "        TempNode = NewHead\n",
    "        \n",
    "        p1 = head\n",
    "        p2 = head\n",
    "        \n",
    "        for n in range(0,n):\n",
    "            p1 = p1.next\n",
    "        \n",
    "        while p1 != None:\n",
    "            TempNode.next = ListNode(p2.val)\n",
    "            TempNode = TempNode.next\n",
    "            p1 = p1.next\n",
    "            p2 = p2.next\n",
    "            \n",
    "\n",
    "        p2 = p2.next\n",
    "        \n",
    "        while p2 != None:\n",
    "            TempNode.next = ListNode(p2.val)\n",
    "            TempNode=TempNode.next\n",
    "            p2 = p2.next\n",
    "\n",
    "\n",
    "        return NewHead.next"
   ]
  }
 ],
 "metadata": {
  "kernelspec": {
   "display_name": "Python 2",
   "language": "python",
   "name": "python2"
  },
  "language_info": {
   "codemirror_mode": {
    "name": "ipython",
    "version": 2
   },
   "file_extension": ".py",
   "mimetype": "text/x-python",
   "name": "python",
   "nbconvert_exporter": "python",
   "pygments_lexer": "ipython2",
   "version": "2.7.14"
  }
 },
 "nbformat": 4,
 "nbformat_minor": 2
}
