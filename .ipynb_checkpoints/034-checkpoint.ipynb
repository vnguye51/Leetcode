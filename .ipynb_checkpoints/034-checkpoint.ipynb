{
 "cells": [
  {
   "cell_type": "markdown",
   "metadata": {},
   "source": [
    "## Search for a Range\n",
    "\n",
    "Given an array of integers nums sorted in ascending order, find the starting and ending position of a given target value.\n",
    "\n",
    "Your algorithm's runtime complexity must be in the order of O(log n).\n",
    "\n",
    "If the target is not found in the array, return [-1, -1].\n",
    "\n",
    "* Check the last and highest value\n",
    "* Check if the number is found within those two values\n",
    "* Cut the array in half (divide its length by two) check which array the number would lie inside\n",
    "* Continue until the number is found\n",
    "* Once the number is found expand the index around that number"
   ]
  },
  {
   "cell_type": "code",
   "execution_count": 6,
   "metadata": {
    "collapsed": true
   },
   "outputs": [],
   "source": [
    "def sortedIndex(nums,target):\n",
    "    length = len(nums)\n",
    "    if length == 0:\n",
    "        return -1\n",
    "    i = 0\n",
    "    j = length-1\n",
    "    \n",
    "    if nums[i] == target:\n",
    "        return i\n",
    "    if nums[j] == target:\n",
    "        return j\n",
    "    \n",
    "    if target > nums[j] or target < nums[i]:\n",
    "        return -1\n",
    "    \n",
    "    while i != j:\n",
    "        length = len(nums)\n",
    "        k = (j+i+1)/2    \n",
    "        if nums[k] == target:\n",
    "            return k      \n",
    "        elif nums[k] < target:\n",
    "            i = k\n",
    "        else:\n",
    "            j = k-1\n",
    "            \n",
    "    return -1\n",
    "\n",
    "def searchRange(nums, target):\n",
    "    i = sortedIndex(nums,target)\n",
    "    \n",
    "    if i == -1:\n",
    "        return [-1,-1]\n",
    "    \n",
    "    j = i\n",
    "    \n",
    "    \n",
    "    while i >= 0 and nums[i] == target :\n",
    "        i = i-1\n",
    "    while j < len(nums) and nums[j] == target:\n",
    "        j = j+1\n",
    "        \n",
    "    i = i+1\n",
    "    j = j-1\n",
    "    \n",
    "    return [i,j]\n",
    "    "
   ]
  }
 ],
 "metadata": {
  "kernelspec": {
   "display_name": "Python 2",
   "language": "python",
   "name": "python2"
  },
  "language_info": {
   "codemirror_mode": {
    "name": "ipython",
    "version": 2
   },
   "file_extension": ".py",
   "mimetype": "text/x-python",
   "name": "python",
   "nbconvert_exporter": "python",
   "pygments_lexer": "ipython2",
   "version": "2.7.14"
  }
 },
 "nbformat": 4,
 "nbformat_minor": 2
}
