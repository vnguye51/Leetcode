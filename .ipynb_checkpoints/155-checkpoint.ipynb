{
 "cells": [
  {
   "cell_type": "markdown",
   "metadata": {},
   "source": [
    "## MinStack\n",
    "\n",
    " Design a stack that supports push, pop, top, and retrieving the minimum element in constant time.\n",
    "\n",
    "    push(x) -- Push element x onto stack.\n",
    "    pop() -- Removes the element on top of the stack.\n",
    "    top() -- Get the top element.\n",
    "    getMin() -- Retrieve the minimum element in the stack.\n",
    "    \n",
    "    \n",
    "------\n",
    "\n",
    "* Only unique thing to note is that we should keep track of the min value at the time of insertion as we push values onto the stack"
   ]
  },
  {
   "cell_type": "code",
   "execution_count": 1,
   "metadata": {},
   "outputs": [],
   "source": [
    "class MinStack:\n",
    "\n",
    "    def __init__(self):\n",
    "        self.val = []\n",
    "\n",
    "    def push(self, x):\n",
    "        cur_min = self.getMin()\n",
    "        if x < cur_min:\n",
    "            cur_min = x\n",
    "        self.val.insert(0,[x,cur_min])\n",
    "\n",
    "    def pop(self):\n",
    "        self.val.pop(0)\n",
    "        \"\"\"\n",
    "        :rtype: void\n",
    "        \"\"\"\n",
    "        \n",
    "\n",
    "    def top(self):\n",
    "        return self.val[0][0]\n",
    "        \"\"\"\n",
    "        :rtype: int\n",
    "        \"\"\"\n",
    "        \n",
    "\n",
    "    def getMin(self):\n",
    "        if len(self.val) == 0:\n",
    "            return 10e20\n",
    "        return self.val[0][1]\n",
    "        \"\"\"\n",
    "        :rtype: int\n",
    "        \"\"\"\n",
    "        \n",
    "\n",
    "\n",
    "# Your MinStack object will be instantiated and called as such:\n",
    "# obj = MinStack()\n",
    "# obj.push(x)\n",
    "# obj.pop()\n",
    "# param_3 = obj.top()\n",
    "# param_4 = obj.getMin()"
   ]
  },
  {
   "cell_type": "code",
   "execution_count": null,
   "metadata": {},
   "outputs": [],
   "source": []
  }
 ],
 "metadata": {
  "kernelspec": {
   "display_name": "Python 3",
   "language": "python",
   "name": "python3"
  },
  "language_info": {
   "codemirror_mode": {
    "name": "ipython",
    "version": 3
   },
   "file_extension": ".py",
   "mimetype": "text/x-python",
   "name": "python",
   "nbconvert_exporter": "python",
   "pygments_lexer": "ipython3",
   "version": "3.6.4"
  }
 },
 "nbformat": 4,
 "nbformat_minor": 2
}
