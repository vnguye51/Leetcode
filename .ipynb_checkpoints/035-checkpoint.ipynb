{
 "cells": [
  {
   "cell_type": "markdown",
   "metadata": {},
   "source": [
    "## Search Insert Position\n",
    "\n",
    "Given a sorted array and a target value, return the index if the target is found. If not, return the index where it would be if it were inserted in order.\n",
    "\n",
    "You may assume no duplicates in the array.\n",
    "\n",
    "* Using a halving method attempt to find the target value\n",
    "    * While halving the arrays if the number lies inbetween the cuts than return that index"
   ]
  },
  {
   "cell_type": "code",
   "execution_count": 34,
   "metadata": {},
   "outputs": [],
   "source": [
    "def sortedIndex(nums,target):\n",
    "    length = len(nums)\n",
    "    \n",
    "    if length == 0:\n",
    "        return -1\n",
    "    \n",
    "    i = 0\n",
    "    j = length-1\n",
    "    \n",
    "    if nums[i] == target:\n",
    "        return i\n",
    "    if nums[j] == target:\n",
    "        return j\n",
    "    \n",
    "    if target > nums[j]:\n",
    "        return j+1\n",
    "    if target < nums[i]:\n",
    "        return 0\n",
    "    \n",
    "    while i != j:\n",
    "        length = len(nums)\n",
    "        k = (j+i+1)/2    \n",
    "\n",
    "        if nums[k] == target:\n",
    "            return k      \n",
    "        elif target > nums[k]:\n",
    "            if target < nums[k+1]:\n",
    "                return k+1\n",
    "            i = k\n",
    "            \n",
    "        else:\n",
    "            if target > nums[k-1]:\n",
    "                return k\n",
    "            j = k-1\n",
    "            "
   ]
  },
  {
   "cell_type": "code",
   "execution_count": 30,
   "metadata": {},
   "outputs": [
    {
     "data": {
      "text/plain": [
       "2"
      ]
     },
     "execution_count": 30,
     "metadata": {},
     "output_type": "execute_result"
    }
   ],
   "source": [
    "sortedIndex([1,3,5,6], 5)"
   ]
  },
  {
   "cell_type": "code",
   "execution_count": 31,
   "metadata": {},
   "outputs": [
    {
     "data": {
      "text/plain": [
       "4"
      ]
     },
     "execution_count": 31,
     "metadata": {},
     "output_type": "execute_result"
    }
   ],
   "source": [
    "sortedIndex([1,3,5,6], 7)"
   ]
  },
  {
   "cell_type": "code",
   "execution_count": 32,
   "metadata": {},
   "outputs": [
    {
     "data": {
      "text/plain": [
       "1"
      ]
     },
     "execution_count": 32,
     "metadata": {},
     "output_type": "execute_result"
    }
   ],
   "source": [
    "sortedIndex([1,3,5,6], 2)"
   ]
  },
  {
   "cell_type": "code",
   "execution_count": 33,
   "metadata": {},
   "outputs": [
    {
     "data": {
      "text/plain": [
       "0"
      ]
     },
     "execution_count": 33,
     "metadata": {},
     "output_type": "execute_result"
    }
   ],
   "source": [
    "sortedIndex([1,3,5,6], 0)"
   ]
  }
 ],
 "metadata": {
  "kernelspec": {
   "display_name": "Python 2",
   "language": "python",
   "name": "python2"
  },
  "language_info": {
   "codemirror_mode": {
    "name": "ipython",
    "version": 2
   },
   "file_extension": ".py",
   "mimetype": "text/x-python",
   "name": "python",
   "nbconvert_exporter": "python",
   "pygments_lexer": "ipython2",
   "version": "2.7.14"
  }
 },
 "nbformat": 4,
 "nbformat_minor": 2
}
