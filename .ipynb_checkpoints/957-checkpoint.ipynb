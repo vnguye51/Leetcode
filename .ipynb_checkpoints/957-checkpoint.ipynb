{
 "cells": [
  {
   "cell_type": "markdown",
   "metadata": {},
   "source": [
    "## Prison Cells After N Days\n",
    "\n",
    "There are 8 prison cells in a row, and each cell is either occupied or vacant.\n",
    "\n",
    "Each day, whether the cell is occupied or vacant changes according to the following rules:\n",
    "\n",
    "    If a cell has two adjacent neighbors that are both occupied or both vacant, then the cell becomes occupied.\n",
    "    Otherwise, it becomes vacant.\n",
    "\n",
    "(Note that because the prison is a row, the first and the last cells in the row can't have two adjacent neighbors.)\n",
    "\n",
    "We describe the current state of the prison in the following way: cells[i] == 1 if the i-th cell is occupied, else cells[i] == 0.\n",
    "\n",
    "Given the initial state of the prison, return the state of the prison after N days (and N such changes described above.)\n",
    "\n",
    "* This seems fairly straightforward, we simply need to follow the given rules as we check each cell\n",
    "* To do this build a \"temp cell\" as we check values in the original. Then replace it.\n",
    "* We should watch out for time limits, however. There might be a way to utilize some pattern to lower the complexity\n",
    "\n",
    "\n",
    "* Make a copy of cells: tempCells\n",
    "* After the first day the very last and first cells are always empty so set those to 0\n",
    "* for N days:\n",
    "    * Loop through cells[1:-1]\n",
    "        * if (cells[i-1] = 1 and cells[i+1] = 1) or (cells[i-1] = 1 and cells[i+1] = 1)\n",
    "            * tempCells[i] = 1\n",
    "        * else:\n",
    "           * tempcells[i] = 0\n",
    "           \n",
    "* As expected the above solution takes too long. Because the state of the prison's next day is only dependent on its current state we can use memoization to determine if a loop ever occurs \n",
    "* Once we determine that a loop occurs we can use modulo division to determine what state the prison will end at after a certain number of days\n",
    "\n",
    "\n",
    "* Create a dictionary that keeps the processed values in memory that points to its next state \n",
    "* If a value is ever already in the dictionary we have determined that we are in a loop\n",
    "* From here we need to count the length of the loop so continue through it one more time\n",
    "* Then move into the loop (remainingDays)%(Loopcount) days\n",
    "           "
   ]
  },
  {
   "cell_type": "code",
   "execution_count": 23,
   "metadata": {},
   "outputs": [],
   "source": [
    "class Solution:\n",
    "    def prisonAfterNDays(self, cells, N):\n",
    "        memo = {}\n",
    "        tempCells = cells[:]\n",
    "        tempCells[0] = 0\n",
    "        tempCells[-1] = 0\n",
    "        while N > 0:\n",
    "            for i in range(1,len(cells)-1):\n",
    "                if (cells[i-1] == 1 and cells[i+1] == 1) or (cells[i-1] == 0 and cells[i+1] == 0):\n",
    "                    tempCells[i] = 1\n",
    "                else:\n",
    "                    tempCells[i] = 0\n",
    "                    \n",
    "            memo[tuple(cells)] = tuple(tempCells)\n",
    "            cells = tempCells[:]\n",
    "            N -= 1\n",
    "            if tuple(tempCells) in memo:\n",
    "                break\n",
    "        \n",
    "        if N != 0:\n",
    "            loopcount = 1\n",
    "            N -= 1\n",
    "            cells = memo[tuple(cells)]\n",
    "            while tuple(cells) != tuple(tempCells):\n",
    "                N -= 1\n",
    "                loopcount += 1\n",
    "\n",
    "            for n in range(0,N%loopcount):\n",
    "                cells = memo[tuple(cells)]\n",
    "\n",
    "        \n",
    "        return cells"
   ]
  },
  {
   "cell_type": "code",
   "execution_count": 25,
   "metadata": {},
   "outputs": [
    {
     "ename": "KeyboardInterrupt",
     "evalue": "",
     "output_type": "error",
     "traceback": [
      "\u001b[1;31m---------------------------------------------------------------------------\u001b[0m",
      "\u001b[1;31mKeyboardInterrupt\u001b[0m                         Traceback (most recent call last)",
      "\u001b[1;32m<ipython-input-25-ccb8c6ff02b9>\u001b[0m in \u001b[0;36m<module>\u001b[1;34m()\u001b[0m\n\u001b[0;32m      1\u001b[0m \u001b[0msol\u001b[0m \u001b[1;33m=\u001b[0m \u001b[0mSolution\u001b[0m\u001b[1;33m(\u001b[0m\u001b[1;33m)\u001b[0m\u001b[1;33m\u001b[0m\u001b[0m\n\u001b[0;32m      2\u001b[0m \u001b[1;31m# sol.prisonAfterNDays([0,1,0,1,1,0,0,1],7)\u001b[0m\u001b[1;33m\u001b[0m\u001b[1;33m\u001b[0m\u001b[0m\n\u001b[1;32m----> 3\u001b[1;33m \u001b[0msol\u001b[0m\u001b[1;33m.\u001b[0m\u001b[0mprisonAfterNDays\u001b[0m\u001b[1;33m(\u001b[0m\u001b[1;33m[\u001b[0m\u001b[1;36m0\u001b[0m\u001b[1;33m,\u001b[0m\u001b[1;36m1\u001b[0m\u001b[1;33m,\u001b[0m\u001b[1;36m0\u001b[0m\u001b[1;33m,\u001b[0m\u001b[1;36m1\u001b[0m\u001b[1;33m,\u001b[0m\u001b[1;36m1\u001b[0m\u001b[1;33m,\u001b[0m\u001b[1;36m0\u001b[0m\u001b[1;33m,\u001b[0m\u001b[1;36m0\u001b[0m\u001b[1;33m,\u001b[0m\u001b[1;36m1\u001b[0m\u001b[1;33m]\u001b[0m\u001b[1;33m,\u001b[0m\u001b[1;36m1000000000\u001b[0m\u001b[1;33m)\u001b[0m\u001b[1;33m\u001b[0m\u001b[0m\n\u001b[0m",
      "\u001b[1;32m<ipython-input-23-9af1e9cf5762>\u001b[0m in \u001b[0;36mprisonAfterNDays\u001b[1;34m(self, cells, N)\u001b[0m\n\u001b[0;32m     23\u001b[0m             \u001b[0mcells\u001b[0m \u001b[1;33m=\u001b[0m \u001b[0mmemo\u001b[0m\u001b[1;33m[\u001b[0m\u001b[0mtuple\u001b[0m\u001b[1;33m(\u001b[0m\u001b[0mcells\u001b[0m\u001b[1;33m)\u001b[0m\u001b[1;33m]\u001b[0m\u001b[1;33m\u001b[0m\u001b[0m\n\u001b[0;32m     24\u001b[0m             \u001b[1;32mwhile\u001b[0m \u001b[0mtuple\u001b[0m\u001b[1;33m(\u001b[0m\u001b[0mcells\u001b[0m\u001b[1;33m)\u001b[0m \u001b[1;33m!=\u001b[0m \u001b[0mtuple\u001b[0m\u001b[1;33m(\u001b[0m\u001b[0mtempCells\u001b[0m\u001b[1;33m)\u001b[0m\u001b[1;33m:\u001b[0m\u001b[1;33m\u001b[0m\u001b[0m\n\u001b[1;32m---> 25\u001b[1;33m                 \u001b[0mN\u001b[0m \u001b[1;33m-=\u001b[0m \u001b[1;36m1\u001b[0m\u001b[1;33m\u001b[0m\u001b[0m\n\u001b[0m\u001b[0;32m     26\u001b[0m                 \u001b[0mloopcount\u001b[0m \u001b[1;33m+=\u001b[0m \u001b[1;36m1\u001b[0m\u001b[1;33m\u001b[0m\u001b[0m\n\u001b[0;32m     27\u001b[0m \u001b[1;33m\u001b[0m\u001b[0m\n",
      "\u001b[1;31mKeyboardInterrupt\u001b[0m: "
     ]
    }
   ],
   "source": [
    "sol = Solution()\n",
    "# sol.prisonAfterNDays([0,1,0,1,1,0,0,1],7)\n",
    "sol.prisonAfterNDays([0,1,0,1,1,0,0,1],1000000000)"
   ]
  },
  {
   "cell_type": "code",
   "execution_count": 16,
   "metadata": {},
   "outputs": [
    {
     "data": {
      "text/plain": [
       "{(0, 1): 0, (1, 0): 1}"
      ]
     },
     "execution_count": 16,
     "metadata": {},
     "output_type": "execute_result"
    }
   ],
   "source": [
    "{(1,0): 1, (0,1):0}"
   ]
  },
  {
   "cell_type": "code",
   "execution_count": 17,
   "metadata": {},
   "outputs": [
    {
     "data": {
      "text/plain": [
       "False"
      ]
     },
     "execution_count": 17,
     "metadata": {},
     "output_type": "execute_result"
    }
   ],
   "source": [
    "(0,1) == (1,0)"
   ]
  },
  {
   "cell_type": "code",
   "execution_count": 21,
   "metadata": {},
   "outputs": [
    {
     "data": {
      "text/plain": [
       "(1, 0)"
      ]
     },
     "execution_count": 21,
     "metadata": {},
     "output_type": "execute_result"
    }
   ],
   "source": [
    "tuple([1,0])"
   ]
  },
  {
   "cell_type": "code",
   "execution_count": null,
   "metadata": {},
   "outputs": [],
   "source": []
  }
 ],
 "metadata": {
  "kernelspec": {
   "display_name": "Python 3",
   "language": "python",
   "name": "python3"
  },
  "language_info": {
   "codemirror_mode": {
    "name": "ipython",
    "version": 3
   },
   "file_extension": ".py",
   "mimetype": "text/x-python",
   "name": "python",
   "nbconvert_exporter": "python",
   "pygments_lexer": "ipython3",
   "version": "3.6.4"
  }
 },
 "nbformat": 4,
 "nbformat_minor": 2
}
