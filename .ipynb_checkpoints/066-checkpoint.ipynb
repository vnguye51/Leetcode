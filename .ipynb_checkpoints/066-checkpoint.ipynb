{
 "cells": [
  {
   "cell_type": "markdown",
   "metadata": {},
   "source": [
    "## Plus One\n",
    "\n",
    "Given a non-empty array of digits representing a non-negative integer, plus one to the integer.\n",
    "\n",
    "The digits are stored such that the most significant digit is at the head of the list, and each element in the array contain a single digit.\n",
    "\n",
    "You may assume the integer does not contain any leading zero, except the number 0 itself.\n",
    "* Increase the last digit by 1\n",
    "* Loop through the array from the back\n",
    "    * if carry is True: increase it by 1\n",
    "    * if the digit is > 9: subtract 10\n",
    "         * Set carry to True\n",
    "* If carry is still true at the end of the loop:\n",
    "    insert 1 at position 0"
   ]
  },
  {
   "cell_type": "code",
   "execution_count": 5,
   "metadata": {},
   "outputs": [],
   "source": [
    "def plusOne(digits):\n",
    "    carry = False\n",
    "    digits[-1] = digits[-1] + 1\n",
    "    for i in range(len(digits)-1,-1,-1):\n",
    "        if carry == True:\n",
    "            carry = False\n",
    "            digits[i] = digits[i] + 1\n",
    "        \n",
    "        if digits[i] >= 10:\n",
    "            digits[i] = digits[i] - 10\n",
    "            carry = True\n",
    "            \n",
    "    if carry == True:\n",
    "        digits.insert(0,1)\n",
    "\n",
    "    return digits\n",
    "        "
   ]
  },
  {
   "cell_type": "code",
   "execution_count": 8,
   "metadata": {},
   "outputs": [
    {
     "data": {
      "text/plain": [
       "[1, 0, 0, 0, 0]"
      ]
     },
     "execution_count": 8,
     "metadata": {},
     "output_type": "execute_result"
    }
   ],
   "source": [
    "plusOne([9,9,9,9])"
   ]
  }
 ],
 "metadata": {
  "kernelspec": {
   "display_name": "Python 3",
   "language": "python",
   "name": "python3"
  },
  "language_info": {
   "codemirror_mode": {
    "name": "ipython",
    "version": 3
   },
   "file_extension": ".py",
   "mimetype": "text/x-python",
   "name": "python",
   "nbconvert_exporter": "python",
   "pygments_lexer": "ipython3",
   "version": "3.6.4"
  }
 },
 "nbformat": 4,
 "nbformat_minor": 2
}
