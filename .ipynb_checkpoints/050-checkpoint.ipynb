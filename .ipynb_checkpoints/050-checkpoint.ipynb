{
 "cells": [
  {
   "cell_type": "markdown",
   "metadata": {},
   "source": [
    "## Pow(x.n)\n",
    "\n",
    "Implement pow(x, n), which calculates x raised to the power n (xn).\n",
    "\n",
    "Simple Method:\n",
    "* While n greater than 0\n",
    "    * decrement n by 1\n",
    "    * perform result = result*x,  \n",
    "    \n",
    "Logarithmic(ish) Method:\n",
    "* Initialize X = x\n",
    "* While m < n: \n",
    "    * m starts at 1\n",
    "    * m = m*2\n",
    "    * X = X*X\n",
    "* During this create a list of the values we cross\n",
    "* If m is too large\n",
    "* Then start multiplying by values in the list in descending order until m reaches 100"
   ]
  },
  {
   "cell_type": "code",
   "execution_count": 61,
   "metadata": {},
   "outputs": [],
   "source": [
    "def myPow(x, n):\n",
    "    if n == 0: \n",
    "        return 1\n",
    "    if x == 0:\n",
    "        return 0\n",
    "    \n",
    "    xpos = True\n",
    "    if x < 0:\n",
    "        xpos = False\n",
    "    x = abs(x)\n",
    "    \n",
    "    npos = True\n",
    "    if n < 0:\n",
    "        npos = False\n",
    "    n = abs(n)\n",
    "    \n",
    "    m = 1\n",
    "    mlist = [x]\n",
    "    result = x\n",
    "    while m*2 < n:\n",
    "        m = m*2\n",
    "        result = result*result\n",
    "        mlist.append(result)\n",
    "\n",
    "    i = len(mlist)-1\n",
    "    while m != n:\n",
    "        #print(i,m,result,mlist[i])\n",
    "        if n-m >= 2**i:\n",
    "            result = result*mlist[i]\n",
    "            m = m+2**(i)\n",
    "        else:\n",
    "            i = i-1\n",
    "    \n",
    "    if xpos == False:\n",
    "        if abs(n)%2 == 1:\n",
    "            result = -result\n",
    "\n",
    "    if npos == True:       \n",
    "        return result\n",
    "    else:\n",
    "        return 1/result\n",
    "\n"
   ]
  },
  {
   "cell_type": "code",
   "execution_count": 62,
   "metadata": {},
   "outputs": [
    {
     "data": {
      "text/plain": [
       "0.0625"
      ]
     },
     "execution_count": 62,
     "metadata": {},
     "output_type": "execute_result"
    }
   ],
   "source": [
    "myPow(2,-4)"
   ]
  }
 ],
 "metadata": {
  "kernelspec": {
   "display_name": "Python 3",
   "language": "python",
   "name": "python3"
  },
  "language_info": {
   "codemirror_mode": {
    "name": "ipython",
    "version": 3
   },
   "file_extension": ".py",
   "mimetype": "text/x-python",
   "name": "python",
   "nbconvert_exporter": "python",
   "pygments_lexer": "ipython3",
   "version": "3.6.4"
  }
 },
 "nbformat": 4,
 "nbformat_minor": 2
}
