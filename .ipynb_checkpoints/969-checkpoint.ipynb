{
 "cells": [
  {
   "cell_type": "markdown",
   "metadata": {},
   "source": [
    "## Pancake Sorting\n",
    "\n",
    "Given an array A, we can perform a pancake flip: We choose some positive integer k <= A.length, then reverse the order of the first k elements of A.  We want to perform zero or more pancake flips (doing them one after another in succession) to sort the array A.\n",
    "\n",
    "Return the k-values corresponding to a sequence of pancake flips that sort A.  Any valid answer that sorts the array within 10 * A.length flips will be judged as correct.\n",
    "\n",
    " \n",
    "\n",
    "    Example 1:\n",
    "\n",
    "    Input: [3,2,4,1]\n",
    "    Output: [4,2,4,3]\n",
    "    Explanation: \n",
    "    We perform 4 pancake flips, with k values 4, 2, 4, and 3.\n",
    "    Starting state: A = [3, 2, 4, 1]\n",
    "    After 1st flip (k=4): A = [1, 4, 2, 3]\n",
    "    After 2nd flip (k=2): A = [4, 1, 2, 3]\n",
    "    After 3rd flip (k=4): A = [3, 2, 1, 4]\n",
    "    After 4th flip (k=3): A = [1, 2, 3, 4], which is sorted. \n",
    "\n",
    "    Example 2:\n",
    "\n",
    "    Input: [1,2,3]\n",
    "    Output: []\n",
    "    Explanation: The input is already sorted, so there is no need to flip anything.\n",
    "    Note that other answers, such as [3, 3], would also be accepted.\n",
    "\n",
    "* To perform a pancake sort we will be performing a modified insertion sort\n",
    "* To insert a value by flipping:\n",
    "    * Assuming that the value to be inserted is A[j]\n",
    "    * Iterate through the array until you find an element that is greater than that value. The number of elements that you passed will be k\n",
    "    * Flip the first k elements\n",
    "    * Then flip all values excluding A[j]\n",
    "    * Then flip all values\n",
    "    * Then flip the first k+1 elements"
   ]
  },
  {
   "cell_type": "code",
   "execution_count": null,
   "metadata": {},
   "outputs": [],
   "source": [
    "class Solution:\n",
    "    def pancakeSort(self, A):\n",
    "        flag = True\n",
    "        i = 1\n",
    "        \n",
    "        res = []\n",
    "        print(A,len(res))\n",
    "        while i < len(A):\n",
    "            k = 0\n",
    "            print(A)\n",
    "            if A[i] < A[i-1]:\n",
    "                \n",
    "                while A[k] < A[i]:\n",
    "                    k += 1\n",
    "                if k > 1 and i > 1:\n",
    "                    A[0:k] = A[k-1::-1]\n",
    "                    res.append(k)\n",
    "                    A[0:i] = A[i-1::-1]\n",
    "                    res.append(i)\n",
    "                    A[0:i+1] = A[i::-1]\n",
    "                    res.append(i+1)\n",
    "                    A[0:k+1] = A[k::-1]\n",
    "                    res.append(k)\n",
    "                else: \n",
    "                    A[0:2] = A[1::-1]\n",
    "                i = 0\n",
    "            i += 1\n",
    "        print(\"sorted\",A)\n",
    "        return len(res)"
   ]
  },
  {
   "cell_type": "code",
   "execution_count": null,
   "metadata": {
    "scrolled": false
   },
   "outputs": [],
   "source": [
    "sol = Solution()\n",
    "# print(sol.pancakeSort([3,2,4,1]))\n",
    "# print(sol.pancakeSort([1,2,3]))\n",
    "# print(sol.pancakeSort([4,3,2,1,0]))\n",
    "# print(sol.pancakeSort([3,7,1,4,0,11,13]))\n",
    "# print(sol.pancakeSort([1,2,3,12,8,9]))\n",
    "# print(sol.pancakeSort([12,8,4,1,18,6,10,11,2,19,3,17,14,7,5,15,20,16,13,9]))\n",
    "print(sol.pancakeSort([12,8,4]))"
   ]
  },
  {
   "cell_type": "code",
   "execution_count": null,
   "metadata": {},
   "outputs": [],
   "source": [
    "print(len([12,8,4,1,18,6,10,11,2,19,3,17,14,7,5,15,20,16,13,9]))"
   ]
  },
  {
   "cell_type": "code",
   "execution_count": null,
   "metadata": {},
   "outputs": [],
   "source": []
  }
 ],
 "metadata": {
  "kernelspec": {
   "display_name": "Python 3",
   "language": "python",
   "name": "python3"
  },
  "language_info": {
   "codemirror_mode": {
    "name": "ipython",
    "version": 3
   },
   "file_extension": ".py",
   "mimetype": "text/x-python",
   "name": "python",
   "nbconvert_exporter": "python",
   "pygments_lexer": "ipython3",
   "version": "3.6.4"
  }
 },
 "nbformat": 4,
 "nbformat_minor": 2
}
