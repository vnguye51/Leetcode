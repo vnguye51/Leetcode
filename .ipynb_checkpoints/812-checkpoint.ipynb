{
 "cells": [
  {
   "cell_type": "markdown",
   "metadata": {},
   "source": [
    "\n",
    "\n",
    "## Largest Triangle Area\n",
    "\n",
    "You have a list of points in the plane. Return the area of the largest triangle that can be formed by any 3 of the points."
   ]
  },
  {
   "cell_type": "markdown",
   "metadata": {},
   "source": [
    "* The area of any given triangle is $A = \\dfrac{A_x(B_y-C_y) + B_x(C_y-A_y) + C_x(A_y-B_y)}{2}$\n",
    "* nested for loop to check every possible point for the largest triangle\n"
   ]
  },
  {
   "cell_type": "code",
   "execution_count": 1,
   "metadata": {
    "collapsed": true
   },
   "outputs": [],
   "source": [
    "def Area(A,B,C):\n",
    "    A = abs(A[0]*(B[1]-C[1]) + B[0]*(C[1]-A[1]) + C[0]*(A[1]-B[1]))\n",
    "    return A"
   ]
  },
  {
   "cell_type": "code",
   "execution_count": 8,
   "metadata": {
    "collapsed": true
   },
   "outputs": [],
   "source": [
    "def largestTriangleArea(points):\n",
    "    Max = 0\n",
    "    for i,a in enumerate(points):\n",
    "        for j,b in enumerate(points[i:]):\n",
    "            for k,c in enumerate(points[j:]):\n",
    "                if Area(a,b,c) > Max:\n",
    "                    Max = Area(a,b,c)\n",
    "    return Max/2"
   ]
  },
  {
   "cell_type": "code",
   "execution_count": 9,
   "metadata": {},
   "outputs": [
    {
     "name": "stdout",
     "output_type": "stream",
     "text": [
      "[0, 0]\n",
      "[0, 1]\n",
      "[1, 0]\n",
      "[0, 2]\n",
      "[2, 0]\n"
     ]
    },
    {
     "data": {
      "text/plain": [
       "2"
      ]
     },
     "execution_count": 9,
     "metadata": {},
     "output_type": "execute_result"
    }
   ],
   "source": [
    "points = [[0,0],[0,1],[1,0],[0,2],[2,0]]\n",
    "\n",
    "largestTriangleArea(points)"
   ]
  }
 ],
 "metadata": {
  "kernelspec": {
   "display_name": "Python 2",
   "language": "python",
   "name": "python2"
  },
  "language_info": {
   "codemirror_mode": {
    "name": "ipython",
    "version": 2
   },
   "file_extension": ".py",
   "mimetype": "text/x-python",
   "name": "python",
   "nbconvert_exporter": "python",
   "pygments_lexer": "ipython2",
   "version": "2.7.14"
  }
 },
 "nbformat": 4,
 "nbformat_minor": 2
}
