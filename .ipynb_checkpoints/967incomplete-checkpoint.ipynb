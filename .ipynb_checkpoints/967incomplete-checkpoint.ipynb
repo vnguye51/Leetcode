{
 "cells": [
  {
   "cell_type": "markdown",
   "metadata": {},
   "source": [
    "## Numbers With Same Consecutive Differences\n",
    "\n",
    "Return all non-negative integers of length N such that the absolute difference between every two consecutive digits is K.\n",
    "\n",
    "Note that every number in the answer must not have leading zeros except for the number 0 itself. For example, 01 has one leading zero and is invalid, but 0 is valid.\n",
    "\n",
    "You may return the answer in any order.\n",
    "\n",
    "* Let's try a simple brute force. The numbers are confined to a N digit integer so there might not be any problems\n",
    "* Brute force gives us a time limit error\n",
    "    * Instead we can check for valid numbers in which the leftmost digit is a 1\n",
    "    * From there we add 1*len(str) to each number and check for validity again"
   ]
  },
  {
   "cell_type": "code",
   "execution_count": 36,
   "metadata": {},
   "outputs": [],
   "source": [
    "class Solution:\n",
    "    def checkValid(self,n,N,K):\n",
    "        n = str(n)\n",
    "        for i in range(1,len(n)):\n",
    "            if abs(int(n[i]) - int(n[i-1])) != K:\n",
    "                return False\n",
    "        return True\n",
    "    def numsSameConsecDiff(self, N, K):\n",
    "        answers = []\n",
    "        if N == 1:\n",
    "            answers.append(0)\n",
    "        for n in range(10**(N-1), 10**(N),1):\n",
    "            if self.checkValid(n,N,K):\n",
    "                answers.append(n)\n",
    "\n",
    "        return answers"
   ]
  },
  {
   "cell_type": "code",
   "execution_count": 37,
   "metadata": {},
   "outputs": [
    {
     "name": "stdout",
     "output_type": "stream",
     "text": [
      "9000000\n"
     ]
    }
   ],
   "source": [
    "sol = Solution()\n",
    "print(sol.numsSameConsecDiff(7,1))"
   ]
  },
  {
   "cell_type": "code",
   "execution_count": null,
   "metadata": {},
   "outputs": [],
   "source": []
  }
 ],
 "metadata": {
  "kernelspec": {
   "display_name": "Python 3",
   "language": "python",
   "name": "python3"
  },
  "language_info": {
   "codemirror_mode": {
    "name": "ipython",
    "version": 3
   },
   "file_extension": ".py",
   "mimetype": "text/x-python",
   "name": "python",
   "nbconvert_exporter": "python",
   "pygments_lexer": "ipython3",
   "version": "3.6.4"
  }
 },
 "nbformat": 4,
 "nbformat_minor": 2
}
