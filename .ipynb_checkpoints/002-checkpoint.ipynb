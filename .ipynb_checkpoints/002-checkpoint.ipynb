{
 "cells": [
  {
   "cell_type": "markdown",
   "metadata": {},
   "source": [
    "## Add Two Numbers\n",
    "\n",
    "You are given two non-empty linked lists representing two non-negative integers. The digits are stored in reverse order and each of their nodes contain a single digit. Add the two numbers and return it as a linked list.\n",
    "\n",
    "You may assume the two numbers do not contain any leading zero, except the number 0 i\n"
   ]
  },
  {
   "cell_type": "code",
   "execution_count": 2,
   "metadata": {},
   "outputs": [],
   "source": [
    "# Definition for singly-linked list.\n",
    "# class ListNode:\n",
    "#     def __init__(self, x):\n",
    "#         self.val = x\n",
    "#         self.next = None\n",
    "\n",
    "class Solution:\n",
    "    \n",
    "    def addTwoNumbers(self, l1, l2):\n",
    "        \n",
    "        def List2Linked(l):\n",
    "            Node = ListNode(l[0])\n",
    "            if len(l) == 1:\n",
    "                return Node\n",
    "            Node.next = List2Linked(l[1:])\n",
    "            return Node\n",
    "    \n",
    "    \n",
    "        Sum = 0\n",
    "        digit = 1\n",
    "        while l1 != None or l2 != None:\n",
    "            if l1 != None and l2 != None:\n",
    "                Sum = Sum + (l1.val+l2.val)*digit\n",
    "                l1 = l1.next\n",
    "                l2 = l2.next\n",
    "            elif l1 == None:\n",
    "                Sum = Sum + l2.val*digit\n",
    "                l2 = l2.next\n",
    "            else:\n",
    "                Sum = Sum + l1.val*digit\n",
    "                l1 = l1.next\n",
    "            digit = digit*10\n",
    "        SumList = [int(n) for n in str(Sum)]\n",
    "        SumList = SumList[::-1]\n",
    "        return List2Linked(SumList)\n",
    "\n",
    "        "
   ]
  }
 ],
 "metadata": {
  "kernelspec": {
   "display_name": "Python 2",
   "language": "python",
   "name": "python2"
  },
  "language_info": {
   "codemirror_mode": {
    "name": "ipython",
    "version": 2
   },
   "file_extension": ".py",
   "mimetype": "text/x-python",
   "name": "python",
   "nbconvert_exporter": "python",
   "pygments_lexer": "ipython2",
   "version": "2.7.14"
  }
 },
 "nbformat": 4,
 "nbformat_minor": 2
}
