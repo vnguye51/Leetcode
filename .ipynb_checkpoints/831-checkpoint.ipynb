{
 "cells": [
  {
   "cell_type": "markdown",
   "metadata": {},
   "source": [
    "## Masking Personal Information"
   ]
  },
  {
   "cell_type": "markdown",
   "metadata": {},
   "source": [
    "1. Email address:\n",
    "\n",
    "We define a name to be a string of length ≥ 2 consisting of only lowercase letters a-z or uppercase letters A-Z.\n",
    "\n",
    "An email address starts with a name, followed by the symbol '@', followed by a name, followed by the dot '.' and followed by a name. \n",
    "\n",
    "All email addresses are guaranteed to be valid and in the format of \"name1@name2.name3\".\n",
    "\n",
    "To mask an email, all names must be converted to lowercase and all letters between the first and last letter of the first name must be replaced by 5 asterisks '*'.\n",
    "\n",
    "* search for the @ character and slice into two strings: A and B\n",
    "    * lower(A) and lower(B)\n",
    "    * return A[0] + '*'*(len(A)-2) + A[-1] + B\n",
    "    \n",
    "2. Phone number:\n",
    "\n",
    "A phone number is a string consisting of only the digits 0-9 or the characters from the set {'+', '-', '(', ')', ' '}. You may assume a phone number contains 10 to 13 digits.\n",
    "\n",
    "The last 10 digits make up the local number, while the digits before those make up the country code. Note that the country code is optional. We want to expose only the last 4 digits and mask all other digits.\n",
    "\n",
    "The local number should be formatted and masked as \"***-***-1111\", where 1 represents the exposed digits.\n",
    "\n",
    "To mask a phone number with country code like \"+111 111 111 1111\", we write it in the form \"+***-***-***-1111\".  The '+' sign and the first '-' sign before the local number should only exist if there is a country code.  For example, a 12 digit phone number mask should start with \"+**-\".\n",
    "\n",
    "Note that extraneous characters like \"(\", \")\", \" \", as well as extra dashes or plus signs not part of the above formatting scheme should be removed.\n",
    "\n",
    "* remove every value from the string that is not an integer\n",
    "* if there are >= 11 characters add '+' + [0:len(S) - 10] + '-' + [len(S)-10:len(S)-7] + '-' + [len(S)-7:len(S)-4] + '-' + [len(S)-4:]\n",
    "\n",
    "\n",
    "* To determine if the info is an email or a phone number check the first character if it is an integer or '+' it is a phone number, otherwise it is an email"
   ]
  },
  {
   "cell_type": "code",
   "execution_count": 18,
   "metadata": {},
   "outputs": [],
   "source": [
    "def maskPII(S):\n",
    "    phone = True\n",
    "    \n",
    "    try:\n",
    "        int(S[0])\n",
    "    except:\n",
    "        if S[0] != '+' and S[0] != '(':\n",
    "            phone = False\n",
    "    \n",
    "    if phone == False:\n",
    "        S = S.lower()\n",
    "        split = S.index('@')\n",
    "        A = S[0:split] \n",
    "        B = S[split:]\n",
    "        return A[0] + '*****' + A[-1] + B\n",
    "    \n",
    "    else:\n",
    "        A = ''\n",
    "        for c in S:\n",
    "            try:\n",
    "                int(c)\n",
    "                A = A + c\n",
    "            except:\n",
    "                pass\n",
    "        \n",
    "        length = len(A)\n",
    "        if len(A) > 10:\n",
    "            return '+' + len(A[0:length - 10])*'*' + '-' + '***' + '-' + '***' + '-' + A[length-4:]\n",
    "        else:\n",
    "            return '***' + '-' + '***' + '-'+ A[6:]"
   ]
  },
  {
   "cell_type": "code",
   "execution_count": 19,
   "metadata": {},
   "outputs": [
    {
     "data": {
      "text/plain": [
       "'l*******e@leetcode.com'"
      ]
     },
     "execution_count": 19,
     "metadata": {},
     "output_type": "execute_result"
    }
   ],
   "source": [
    "maskPII(\"LeetCode@LeetCode.com\")"
   ]
  },
  {
   "cell_type": "code",
   "execution_count": 9,
   "metadata": {},
   "outputs": [
    {
     "data": {
      "text/plain": [
       "'***-***-7890'"
      ]
     },
     "execution_count": 9,
     "metadata": {},
     "output_type": "execute_result"
    }
   ],
   "source": [
    "maskPII(\"1(234)567-890\")"
   ]
  },
  {
   "cell_type": "code",
   "execution_count": 16,
   "metadata": {},
   "outputs": [
    {
     "data": {
      "text/plain": [
       "'+***-***-***-6543'"
      ]
     },
     "execution_count": 16,
     "metadata": {},
     "output_type": "execute_result"
    }
   ],
   "source": [
    "maskPII(\"(98978)04-826-543\")"
   ]
  },
  {
   "cell_type": "code",
   "execution_count": 17,
   "metadata": {},
   "outputs": [
    {
     "data": {
      "text/plain": [
       "'+**-***-***-5678'"
      ]
     },
     "execution_count": 17,
     "metadata": {},
     "output_type": "execute_result"
    }
   ],
   "source": [
    "maskPII(\"86-(10)12345678\")"
   ]
  },
  {
   "cell_type": "code",
   "execution_count": null,
   "metadata": {},
   "outputs": [],
   "source": []
  }
 ],
 "metadata": {
  "kernelspec": {
   "display_name": "Python 3",
   "language": "python",
   "name": "python3"
  },
  "language_info": {
   "codemirror_mode": {
    "name": "ipython",
    "version": 3
   },
   "file_extension": ".py",
   "mimetype": "text/x-python",
   "name": "python",
   "nbconvert_exporter": "python",
   "pygments_lexer": "ipython3",
   "version": "3.6.4"
  }
 },
 "nbformat": 4,
 "nbformat_minor": 2
}
