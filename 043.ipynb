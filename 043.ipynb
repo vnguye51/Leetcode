{
 "cells": [
  {
   "cell_type": "markdown",
   "metadata": {},
   "source": [
    "## Multiply Strings\n",
    "\n",
    "Given two non-negative integers num1 and num2 represented as strings, return the product of num1 and num2, also represented as a string.\n",
    "\n",
    "     \n",
    "    The length of both num1 and num2 is < 110.\n",
    "    Both num1 and num2 contain only digits 0-9.\n",
    "    Both num1 and num2 do not contain any leading zero, except the number 0 itself.\n",
    "    You must not use any built-in BigInteger library or convert the inputs to integer directly.\n",
    "\n",
    "\n",
    "* Create a dictionary to convert '0-9' into integers\n",
    "* Loop through the string converting them into integers and multiplying them by their place and appending them to a list\n",
    "* Sum the list\n"
   ]
  },
  {
   "cell_type": "code",
   "execution_count": 14,
   "metadata": {},
   "outputs": [],
   "source": [
    "def multiply(num1, num2):\n",
    "    Str2Int = {'0':0,'1':1,'2':2,'3':3,'4':4,'5':5,'6':6,'7':7,'8':8,'9':9}\n",
    "    \n",
    "    length = len(num1)\n",
    "    N1 = []\n",
    "\n",
    "    for i,s in enumerate(num1):\n",
    "        N1.append(Str2Int.get(s)*10**(length-1-i))\n",
    "    N1 = sum(N1)\n",
    "    \n",
    "    length = len(num2)\n",
    "    N2 = []\n",
    "    \n",
    "    for i,s in enumerate(num2):\n",
    "        N2.append(Str2Int.get(s)*10**(length-1-i))\n",
    "    N2 = sum(N2)\n",
    "    \n",
    "    return str(N1*N2)\n",
    "        "
   ]
  },
  {
   "cell_type": "code",
   "execution_count": 15,
   "metadata": {},
   "outputs": [
    {
     "data": {
      "text/plain": [
       "65436"
      ]
     },
     "execution_count": 15,
     "metadata": {},
     "output_type": "execute_result"
    }
   ],
   "source": [
    "multiply('532','123')"
   ]
  },
  {
   "cell_type": "code",
   "execution_count": 16,
   "metadata": {},
   "outputs": [
    {
     "data": {
      "text/plain": [
       "65436"
      ]
     },
     "execution_count": 16,
     "metadata": {},
     "output_type": "execute_result"
    }
   ],
   "source": [
    "532*123"
   ]
  },
  {
   "cell_type": "code",
   "execution_count": null,
   "metadata": {},
   "outputs": [],
   "source": []
  }
 ],
 "metadata": {
  "kernelspec": {
   "display_name": "Python 3",
   "language": "python",
   "name": "python3"
  },
  "language_info": {
   "codemirror_mode": {
    "name": "ipython",
    "version": 3
   },
   "file_extension": ".py",
   "mimetype": "text/x-python",
   "name": "python",
   "nbconvert_exporter": "python",
   "pygments_lexer": "ipython3",
   "version": "3.6.4"
  }
 },
 "nbformat": 4,
 "nbformat_minor": 2
}
