{
 "cells": [
  {
   "cell_type": "markdown",
   "metadata": {},
   "source": [
    "## N-Queens\n",
    "\n",
    "The n-queens puzzle is the problem of placing n queens on an n×n chessboard such that no two queens attack each other.\n",
    "\n",
    "Given an integer n, return all distinct solutions to the n-queens puzzle.\n",
    "\n",
    "Each solution contains a distinct board configuration of the n-queens' placement, where 'Q' and '.' both indicate a queen and an empty space respectively.\n",
    "\n",
    "* The idea behind this problem is to recursively check all valid positions on the board while continually eliminating more and more spots resulting in an N! solution\n",
    "\n",
    "* Create the board\n",
    "    * . is unoccupied and valid\n",
    "    * Q is occupied\n",
    "* When a Queen is placed all diagonals,rows and columns are eliminated from needing to be checked\n",
    "    * We are iterating top-down so there is no need to check rows\n",
    "    * We track columns through an array if column[x] = 1 then column x is eliminated and we can check this later down\n",
    "    * We do the same for the diagonals right_diag[x+y] = 1 then diag[x+y] is eliminated, where is the row placed and y is the col placed\n",
    "    To check if a spot is valid check column[x], right_diag[x+y] and diag[x+y] if all of them are false\n",
    "\n",
    "* For all the valid(not in collision with any other queen) attempt to create a board from that spot\n",
    "    * To determine if it is a valid spot to place a queen \n",
    "* Each of these will represent a branch in our N! tree\n"
   ]
  },
  {
   "cell_type": "code",
   "execution_count": null,
   "metadata": {},
   "outputs": [],
   "source": [
    "class Solution:\n",
    "    \n",
    "    def solveNQueens(self, n):\n",
    "        self.board = [\".\" for i in range(0,n) for j in range(0,n)]\n",
    "        self.validCols = [0 for i in range(0,n)]\n",
    "        self.validRightDiags = [0 for i in range(0,n)]\n",
    "        self.validLeftDiags = [0 for i in range(0,n)]\n",
    "        \n",
    "        def checkValid(i,j):\n",
    "            if not (self.validCols[j] and self.validRightDiags[i+j] and self.validLeftDiags[n-i-j]):\n",
    "                return True\n",
    "            \n",
    "        def placeQueens(i,j):\n",
    "            if checkValid(i,j) "
   ]
  }
 ],
 "metadata": {
  "kernelspec": {
   "display_name": "Python 3",
   "language": "python",
   "name": "python3"
  },
  "language_info": {
   "codemirror_mode": {
    "name": "ipython",
    "version": 3
   },
   "file_extension": ".py",
   "mimetype": "text/x-python",
   "name": "python",
   "nbconvert_exporter": "python",
   "pygments_lexer": "ipython3",
   "version": "3.6.4"
  }
 },
 "nbformat": 4,
 "nbformat_minor": 2
}
