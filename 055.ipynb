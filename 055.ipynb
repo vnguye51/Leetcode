{
 "cells": [
  {
   "cell_type": "markdown",
   "metadata": {},
   "source": [
    "## Jump Game\n",
    "\n",
    "Given an array of non-negative integers, you are initially positioned at the first index of the array.\n",
    "\n",
    "Each element in the array represents your maximum jump length at that position.\n",
    "\n",
    "Determine if you are able to reach the last index.\n",
    "\n",
    "* We already have code that finds the smallest number of jumps to reach the end\n",
    "* We can resuse the code from before, however if a jump cannot be made the progresses then we return False"
   ]
  },
  {
   "cell_type": "code",
   "execution_count": 5,
   "metadata": {},
   "outputs": [],
   "source": [
    "def jump(nums):\n",
    "    length = len(nums)\n",
    "    if length <= 1:\n",
    "        return True\n",
    "    elif length <= nums[0]+1:\n",
    "        return True\n",
    "    \n",
    "    r1 = 0\n",
    "    r2 = 0\n",
    "    \n",
    "    while r2+nums[r2] < length-1:\n",
    "        Range = nums[r1+1:r1+(nums[r1]+1)]\n",
    "        MaxJump = 0\n",
    "        for i,n in enumerate(Range):\n",
    "                \n",
    "            if i+n > MaxJump:\n",
    "                MaxJump = i+n\n",
    "                r2 = i+r1+1\n",
    "        if MaxJump == 0:\n",
    "            return False\n",
    "        r1 = r2\n",
    "        \n",
    "    return True\n",
    "      "
   ]
  },
  {
   "cell_type": "code",
   "execution_count": 7,
   "metadata": {},
   "outputs": [
    {
     "data": {
      "text/plain": [
       "True"
      ]
     },
     "execution_count": 7,
     "metadata": {},
     "output_type": "execute_result"
    }
   ],
   "source": [
    "jump([3,0,0,1,0])"
   ]
  }
 ],
 "metadata": {
  "kernelspec": {
   "display_name": "Python 3",
   "language": "python",
   "name": "python3"
  },
  "language_info": {
   "codemirror_mode": {
    "name": "ipython",
    "version": 3
   },
   "file_extension": ".py",
   "mimetype": "text/x-python",
   "name": "python",
   "nbconvert_exporter": "python",
   "pygments_lexer": "ipython3",
   "version": "3.6.4"
  }
 },
 "nbformat": 4,
 "nbformat_minor": 2
}
