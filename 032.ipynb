{
 "cells": [
  {
   "cell_type": "markdown",
   "metadata": {},
   "source": [
    "## Longest valid parentheses\n",
    "\n",
    "Given a string containing just the characters '(' and ')', find the length of the longest valid (well-formed) parentheses substring.\n",
    "\n",
    "* Move through the array from left to right\n",
    "* Find the first '(', eliminate everything prior to that\n",
    "* Continue moving keeping track of how many '(' we pass\n",
    "* everytime we move past a ')' subtract 1 from the count \n",
    "* If we return to 0 update the count by i+1\n",
    "\n",
    "* If the pcount is -1 than eliminate all prior characters and reset the count\n",
    "* Repeat the prior steps\n",
    "\n"
   ]
  },
  {
   "cell_type": "code",
   "execution_count": 123,
   "metadata": {},
   "outputs": [],
   "source": [
    "def longestValidParentheses( s):\n",
    "    largest = 0\n",
    "    N = 0\n",
    "    pcount = None\n",
    "    i1 = 0\n",
    "    i = 0\n",
    "    while s and i < len(s):\n",
    "        if s[i] == '(' and pcount == None:\n",
    "            pcount = 1\n",
    "            s = s[i:]\n",
    "            i = 0\n",
    "        \n",
    "        elif pcount is not None:\n",
    "            if s[i] == '(':\n",
    "                pcount = pcount + 1\n",
    "            if s[i] == ')':\n",
    "                if pcount > 0:\n",
    "                    N = N + 2\n",
    "                pcount = pcount - 1\n",
    "\n",
    "                \n",
    "        if pcount == -1:\n",
    "            pcount = None\n",
    "            if  N > largest:\n",
    "                largest = N\n",
    "            s = s[i+1:]\n",
    "            i = -1\n",
    "            N = 0\n",
    "            \n",
    "        \n",
    "        \n",
    "        i = i+1\n",
    "    \n",
    "    if N > largest:\n",
    "        largest = N\n",
    "    \n",
    "    return largest"
   ]
  },
  {
   "cell_type": "code",
   "execution_count": 124,
   "metadata": {},
   "outputs": [
    {
     "data": {
      "text/plain": [
       "4"
      ]
     },
     "execution_count": 124,
     "metadata": {},
     "output_type": "execute_result"
    }
   ],
   "source": [
    "longestValidParentheses('((()()(((')\n",
    "#longestValidParentheses('))()))')\n",
    "#longestValidParentheses(')()())')\n",
    "#longestValidParentheses('')\n",
    "#longestValidParentheses('()')"
   ]
  },
  {
   "cell_type": "code",
   "execution_count": 125,
   "metadata": {},
   "outputs": [
    {
     "data": {
      "text/plain": [
       "2"
      ]
     },
     "execution_count": 125,
     "metadata": {},
     "output_type": "execute_result"
    }
   ],
   "source": [
    "longestValidParentheses('()')"
   ]
  },
  {
   "cell_type": "code",
   "execution_count": 126,
   "metadata": {},
   "outputs": [
    {
     "data": {
      "text/plain": [
       "4"
      ]
     },
     "execution_count": 126,
     "metadata": {},
     "output_type": "execute_result"
    }
   ],
   "source": [
    "longestValidParentheses(')()())')\n"
   ]
  },
  {
   "cell_type": "code",
   "execution_count": 127,
   "metadata": {},
   "outputs": [
    {
     "data": {
      "text/plain": [
       "4"
      ]
     },
     "execution_count": 127,
     "metadata": {},
     "output_type": "execute_result"
    }
   ],
   "source": [
    "longestValidParentheses('()(()')"
   ]
  },
  {
   "cell_type": "code",
   "execution_count": null,
   "metadata": {},
   "outputs": [],
   "source": []
  }
 ],
 "metadata": {
  "kernelspec": {
   "display_name": "Python 3",
   "language": "python",
   "name": "python3"
  },
  "language_info": {
   "codemirror_mode": {
    "name": "ipython",
    "version": 3
   },
   "file_extension": ".py",
   "mimetype": "text/x-python",
   "name": "python",
   "nbconvert_exporter": "python",
   "pygments_lexer": "ipython3",
   "version": "3.6.4"
  }
 },
 "nbformat": 4,
 "nbformat_minor": 2
}
