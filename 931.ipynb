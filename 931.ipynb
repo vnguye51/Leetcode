{
 "cells": [
  {
   "cell_type": "markdown",
   "metadata": {},
   "source": [
    "# Minimum Falling Path Sum\n",
    "\n",
    "Given a square array of integers A, we want the minimum sum of a falling path through A.\n",
    "\n",
    "A falling path starts at any element in the first row, and chooses one element from each row.  The next row's choice must be in a column that is different from the previous row's column by at most one.\n",
    "\n",
    " \n",
    "\n",
    "    Example 1:\n",
    "\n",
    "    Input: [[1,2,3],[4,5,6],[7,8,9]]\n",
    "    Output: 12\n",
    "    Explanation: \n",
    "    The possible falling paths are:\n",
    "\n",
    "        [1,4,7], [1,4,8], [1,5,7], [1,5,8], [1,5,9]\n",
    "        [2,4,7], [2,4,8], [2,5,7], [2,5,8], [2,5,9], [2,6,8], [2,6,9]\n",
    "        [3,5,7], [3,5,8], [3,5,9], [3,6,8], [3,6,9]\n",
    "\n",
    "    The falling path with the smallest sum is [1,4,7], so the answer is 12.\n",
    "\n",
    "\n",
    "\n",
    "    Note:\n",
    "\n",
    "        1 <= A.length == A[0].length <= 100\n",
    "        -100 <= A[i][j] <= 100\n"
   ]
  },
  {
   "cell_type": "markdown",
   "metadata": {},
   "source": [
    "* This is similar to finding the minimum path in a Pascal's triangle type array\n",
    "* We start at the last array\n",
    "* Choose between the lowest of the values that you are in reach of\n",
    "* Replace that value in that array with the lowest possible and continue your way up"
   ]
  },
  {
   "cell_type": "code",
   "execution_count": 16,
   "metadata": {},
   "outputs": [],
   "source": [
    "class Solution:\n",
    "    def minFallingPathSum(self, A):\n",
    "        while len(A) > 1:\n",
    "            A[-2][0] = min([A[-1][0],A[-1][1]]) + A[-2][0]\n",
    "            A[-2][-1] = min([A[-1][-1],A[-1][-2]]) + A[-2][-1]\n",
    "            for i in range(1,len(A[-2])-1):\n",
    "                A[-2][i] = min([A[-1][i-1],A[-1][i],A[-1][i+1]]) + A[-2][i]\n",
    "            A.pop()\n",
    "        return min(A[0])"
   ]
  },
  {
   "cell_type": "code",
   "execution_count": 17,
   "metadata": {},
   "outputs": [
    {
     "data": {
      "text/plain": [
       "1"
      ]
     },
     "execution_count": 17,
     "metadata": {},
     "output_type": "execute_result"
    }
   ],
   "source": [
    "sol = Solution()\n",
    "sol.minFallingPathSum([[1,2,3]])"
   ]
  },
  {
   "cell_type": "code",
   "execution_count": null,
   "metadata": {},
   "outputs": [],
   "source": []
  }
 ],
 "metadata": {
  "kernelspec": {
   "display_name": "Python 3",
   "language": "python",
   "name": "python3"
  },
  "language_info": {
   "codemirror_mode": {
    "name": "ipython",
    "version": 3
   },
   "file_extension": ".py",
   "mimetype": "text/x-python",
   "name": "python",
   "nbconvert_exporter": "python",
   "pygments_lexer": "ipython3",
   "version": "3.6.4"
  }
 },
 "nbformat": 4,
 "nbformat_minor": 2
}
