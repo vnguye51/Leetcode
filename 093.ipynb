{
 "cells": [
  {
   "cell_type": "markdown",
   "metadata": {},
   "source": [
    "# Valid IP\n",
    "\n",
    "Given a string containing only digits, restore it by returning all possible valid IP address combinations.\n",
    "\n",
    "    Example:\n",
    "\n",
    "    Input: \"25525511135\"\n",
    "    Output: [\"255.255.11.135\", \"255.255.111.35\"]\n",
    "\n"
   ]
  },
  {
   "cell_type": "markdown",
   "metadata": {},
   "source": [
    "It seems like we need to generate valid partitions\n",
    "* Valid Ips are made from four values ranging from 0-255\n",
    "* We can generate all partitions using a previous method\n",
    "\n"
   ]
  },
  {
   "cell_type": "code",
   "execution_count": null,
   "metadata": {},
   "outputs": [],
   "source": [
    "def all_partitions(string):\n",
    "    for cutpoints in range(1 << (len(string)-1)):\n",
    "        result = []\n",
    "        lastcut = 0\n",
    "        for i in range(len(string)-1):\n",
    "            if (1<<i) & cutpoints != 0:\n",
    "                result.append(string[lastcut:(i+1)])\n",
    "                lastcut = i+1\n",
    "        result.append(string[lastcut:])\n",
    "        yield result\n",
    "        \n",
    "        "
   ]
  }
 ],
 "metadata": {
  "kernelspec": {
   "display_name": "Python 3",
   "language": "python",
   "name": "python3"
  },
  "language_info": {
   "codemirror_mode": {
    "name": "ipython",
    "version": 3
   },
   "file_extension": ".py",
   "mimetype": "text/x-python",
   "name": "python",
   "nbconvert_exporter": "python",
   "pygments_lexer": "ipython3",
   "version": "3.6.4"
  }
 },
 "nbformat": 4,
 "nbformat_minor": 2
}
