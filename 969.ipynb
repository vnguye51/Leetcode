{
 "cells": [
  {
   "cell_type": "markdown",
   "metadata": {},
   "source": [
    "## Pancake Sorting\n",
    "\n",
    "Given an array A, we can perform a pancake flip: We choose some positive integer k <= A.length, then reverse the order of the first k elements of A.  We want to perform zero or more pancake flips (doing them one after another in succession) to sort the array A.\n",
    "\n",
    "Return the k-values corresponding to a sequence of pancake flips that sort A.  Any valid answer that sorts the array within 10 * A.length flips will be judged as correct.\n",
    "\n",
    " \n",
    "\n",
    "    Example 1:\n",
    "\n",
    "    Input: [3,2,4,1]\n",
    "    Output: [4,2,4,3]\n",
    "    Explanation: \n",
    "    We perform 4 pancake flips, with k values 4, 2, 4, and 3.\n",
    "    Starting state: A = [3, 2, 4, 1]\n",
    "    After 1st flip (k=4): A = [1, 4, 2, 3]\n",
    "    After 2nd flip (k=2): A = [4, 1, 2, 3]\n",
    "    After 3rd flip (k=4): A = [3, 2, 1, 4]\n",
    "    After 4th flip (k=3): A = [1, 2, 3, 4], which is sorted. \n",
    "\n",
    "    Example 2:\n",
    "\n",
    "    Input: [1,2,3]\n",
    "    Output: []\n",
    "    Explanation: The input is already sorted, so there is no need to flip anything.\n",
    "    Note that other answers, such as [3, 3], would also be accepted.\n",
    "\n",
    "* Because we only have access to the first elements of the array we should put our sorted values on the right side of the array\n",
    "* To do this we need to extract the largest value in the unsorted section of the array each set of flips\n",
    "* To do this\n",
    "    * flip all elements including the max index( bringing it to pos 0)\n",
    "    * then flip all elements (bringing it to the end of the unsorted array)\n",
    "    * decrease our curr_size by 1"
   ]
  },
  {
   "cell_type": "code",
   "execution_count": 86,
   "metadata": {},
   "outputs": [],
   "source": [
    "class Solution:\n",
    "    \n",
    "    def pancakeSort(self, A):\n",
    "        def findMax(A,bound):\n",
    "            m = A[0]\n",
    "            mi = 0\n",
    "            for i,n in enumerate(A[0:bound]):\n",
    "                if n > m:\n",
    "                    m = n\n",
    "                    mi = i\n",
    "            return mi\n",
    "        res = []\n",
    "        curr_size = len(A)\n",
    "        while curr_size > 0:\n",
    "            mi = findMax(A,curr_size)\n",
    "            if mi != 0:\n",
    "                A[0:mi+1] = A[mi::-1]\n",
    "                res.append(mi+1)\n",
    "            if curr_size != 0:\n",
    "                A[0:curr_size] = A[curr_size-1::-1]\n",
    "                res.append(curr_size)\n",
    "            curr_size -= 1\n",
    "        return res"
   ]
  },
  {
   "cell_type": "code",
   "execution_count": 87,
   "metadata": {
    "scrolled": false
   },
   "outputs": [
    {
     "name": "stdout",
     "output_type": "stream",
     "text": [
      "[1, 2, 3, 4]\n",
      "[3, 4, 2, 3, 2, 1]\n"
     ]
    }
   ],
   "source": [
    "sol = Solution()\n",
    "print(sol.pancakeSort([3,2,4,1]))\n",
    "# print(sol.pancakeSort([1,2,3]))\n",
    "# print(sol.pancakeSort([4,3,2,1,0]))\n",
    "# print(sol.pancakeSort([3,7,1,4,0,11,13]))\n",
    "# print(sol.pancakeSort([1,2,3,12,8,9]))\n",
    "# print(sol.pancakeSort([12,8,4,1,18,6,10,11,2,19,3,17,14,7,5,15,20,16,13,9]))\n",
    "# print(sol.pancakeSort([12,8,4]))"
   ]
  },
  {
   "cell_type": "code",
   "execution_count": null,
   "metadata": {},
   "outputs": [],
   "source": [
    "print(len([12,8,4,1,18,6,10,11,2,19,3,17,14,7,5,15,20,16,13,9]))"
   ]
  },
  {
   "cell_type": "code",
   "execution_count": null,
   "metadata": {},
   "outputs": [],
   "source": []
  }
 ],
 "metadata": {
  "kernelspec": {
   "display_name": "Python 3",
   "language": "python",
   "name": "python3"
  },
  "language_info": {
   "codemirror_mode": {
    "name": "ipython",
    "version": 3
   },
   "file_extension": ".py",
   "mimetype": "text/x-python",
   "name": "python",
   "nbconvert_exporter": "python",
   "pygments_lexer": "ipython3",
   "version": "3.6.4"
  }
 },
 "nbformat": 4,
 "nbformat_minor": 2
}
