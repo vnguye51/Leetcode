{
 "cells": [
  {
   "cell_type": "markdown",
   "metadata": {},
   "source": [
    "# Combinations\n",
    "\n",
    "Given two integers n and k, return all possible combinations of k numbers out of 1 ... n.\n",
    "\n",
    "    Example:\n",
    "\n",
    "    Input: n = 4, k = 2\n",
    "    Output:\n",
    "    [\n",
    "      [2,4],\n",
    "      [3,4],\n",
    "      [2,3],\n",
    "      [1,2],\n",
    "      [1,3],\n",
    "      [1,4],\n",
    "    ]\n",
    "\n"
   ]
  },
  {
   "cell_type": "markdown",
   "metadata": {},
   "source": [
    "* This is simply building all the possible combinations\n",
    "\n",
    "* We start by arranging a pool of numbers [1,2,3,..,n]\n",
    "\n",
    "* Of those numbers we grab one and remove it from the pool:\n",
    "    * 1:[2,3,4,...,n]\n",
    "* We repeat this until we choose k numbers\n",
    "    * 1,2:[3,4,...,n]\n",
    "    * 1,2,3:[4,...,n]\n",
    "* This should be done recursively so that we branch and choose all numbers"
   ]
  },
  {
   "cell_type": "code",
   "execution_count": 82,
   "metadata": {},
   "outputs": [],
   "source": [
    "class Solution:\n",
    "    def combine(self, n, k):\n",
    "        answers = []\n",
    "        def subcombine(n,k,arr,pool):\n",
    "            if k == 0:\n",
    "                answers.append(arr)\n",
    "                return\n",
    "            for num in pool:\n",
    "                subpool = [i for i in range(num+1,n+1)]\n",
    "                newarr = arr + [num]\n",
    "                subcombine(n,k-1,newarr,subpool)\n",
    "        \n",
    "        subcombine(n,k,[],[i for i in range(1,n+1)])\n",
    "        return answers"
   ]
  },
  {
   "cell_type": "code",
   "execution_count": 86,
   "metadata": {},
   "outputs": [
    {
     "name": "stdout",
     "output_type": "stream",
     "text": [
      "[[1, 2, 3], [1, 2, 4], [1, 2, 5], [1, 3, 4], [1, 3, 5], [1, 4, 5], [2, 3, 4], [2, 3, 5], [2, 4, 5], [3, 4, 5]]\n",
      "[[1]]\n",
      "[[1, 2, 3]]\n",
      "[[1, 2, 3, 4], [1, 2, 3, 5], [1, 2, 3, 6], [1, 2, 4, 5], [1, 2, 4, 6], [1, 2, 5, 6], [1, 3, 4, 5], [1, 3, 4, 6], [1, 3, 5, 6], [1, 4, 5, 6], [2, 3, 4, 5], [2, 3, 4, 6], [2, 3, 5, 6], [2, 4, 5, 6], [3, 4, 5, 6]]\n"
     ]
    }
   ],
   "source": [
    "sol = Solution()\n",
    "print(sol.combine(5,3))\n",
    "print(sol.combine(1,1))\n",
    "print(sol.combine(3,3))\n",
    "print(sol.combine(6,4))\n"
   ]
  }
 ],
 "metadata": {
  "kernelspec": {
   "display_name": "Python 3",
   "language": "python",
   "name": "python3"
  },
  "language_info": {
   "codemirror_mode": {
    "name": "ipython",
    "version": 3
   },
   "file_extension": ".py",
   "mimetype": "text/x-python",
   "name": "python",
   "nbconvert_exporter": "python",
   "pygments_lexer": "ipython3",
   "version": "3.6.4"
  }
 },
 "nbformat": 4,
 "nbformat_minor": 2
}
