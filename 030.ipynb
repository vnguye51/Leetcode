{
 "cells": [
  {
   "cell_type": "markdown",
   "metadata": {},
   "source": [
    "## Substring with Concatenation of All Words\n",
    "\n",
    "You are given a string, s, and a list of words, words, that are all of the same length. Find all starting indices of substring(s) in s that is a concatenation of each word in words exactly once and without any intervening characters.\n",
    "\n",
    "* First approach\n",
    "    * Pass through the string and look for words that are in the list. If a word is in the list return its beginning index and end index and store those in a list\n",
    "    * Now pass through that list. The list should already be in sorted order. If an adjacent element in the list has a startpoint a distance of l away.\n",
    "        * start crossing off elements in a list\n",
    "        * if there are no elements left in the list return the index of the first element\n",
    "        * renew our search at the end of the last element but add the first element back into the list and repeat\n",
    "        \n",
    "    * if a pass fails then repopulate all elements of the list and keep going"
   ]
  },
  {
   "cell_type": "code",
   "execution_count": 2,
   "metadata": {},
   "outputs": [
    {
     "name": "stdout",
     "output_type": "stream",
     "text": [
      "10\n"
     ]
    }
   ],
   "source": [
    "if \"a\" in \"asdf\":\n",
    "    print 5+5"
   ]
  },
  {
   "cell_type": "code",
   "execution_count": null,
   "metadata": {
    "collapsed": true
   },
   "outputs": [],
   "source": []
  }
 ],
 "metadata": {
  "kernelspec": {
   "display_name": "Python 3",
   "language": "python",
   "name": "python3"
  },
  "language_info": {
   "codemirror_mode": {
    "name": "ipython",
    "version": 3
   },
   "file_extension": ".py",
   "mimetype": "text/x-python",
   "name": "python",
   "nbconvert_exporter": "python",
   "pygments_lexer": "ipython3",
   "version": "3.6.4"
  }
 },
 "nbformat": 4,
 "nbformat_minor": 2
}
