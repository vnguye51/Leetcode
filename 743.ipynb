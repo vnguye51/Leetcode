{
 "cells": [
  {
   "cell_type": "markdown",
   "metadata": {},
   "source": [
    "## Network Delay Time\n",
    "\n",
    "There are N network nodes, labelled 1 to N.\n",
    "\n",
    "Given times, a list of travel times as directed edges times[i] = (u, v, w), where u is the source node, v is the target node, and w is the time it takes for a signal to travel from source to target.\n",
    "\n",
    "Now, we send a signal from a certain node K. How long will it take for all nodes to receive the signal? If it is impossible, return -1. \n",
    "\n",
    "* To start we should start building a graph of the nodes using a dictionary + arrays\n",
    "    * Each item in the dictionary will include the time it requires for a signal to trave\n",
    "* Once we have our graph built, starting from the source node, do a breadth search until all nodes have been touched\n",
    "    * Keep a log of traveled nodes"
   ]
  },
  {
   "cell_type": "code",
   "execution_count": null,
   "metadata": {},
   "outputs": [],
   "source": [
    "class Solution:\n",
    "    def networkDelayTime(self, times, N, K):\n",
    "        Graph = {}\n",
    "        for n in times:\n",
    "            Graph[n[0]] += [n[1],n[2]]\n",
    "        \n",
    "        queue = [K]\n",
    "        traveled = {}\n",
    "        while queue:\n",
    "            curr_node = queue[0]\n",
    "            for n in Graph[curr_node]:\n",
    "                if not n in traveled:\n",
    "                    queue.append(n)\n",
    "        print(traveled)\n",
    "                \n",
    "        \"\"\"\n",
    "        :type times: List[List[int]]\n",
    "        :type N: int\n",
    "        :type K: int\n",
    "        :rtype: int\n",
    "        \"\"\""
   ]
  }
 ],
 "metadata": {
  "kernelspec": {
   "display_name": "Python 3",
   "language": "python",
   "name": "python3"
  },
  "language_info": {
   "codemirror_mode": {
    "name": "ipython",
    "version": 3
   },
   "file_extension": ".py",
   "mimetype": "text/x-python",
   "name": "python",
   "nbconvert_exporter": "python",
   "pygments_lexer": "ipython3",
   "version": "3.6.4"
  }
 },
 "nbformat": 4,
 "nbformat_minor": 2
}
