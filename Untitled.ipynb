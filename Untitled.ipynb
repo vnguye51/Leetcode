{
 "cells": [
  {
   "cell_type": "code",
   "execution_count": 58,
   "metadata": {},
   "outputs": [
    {
     "data": {
      "text/plain": [
       "2.0"
      ]
     },
     "execution_count": 58,
     "metadata": {},
     "output_type": "execute_result"
    }
   ],
   "source": [
    "#contains only + and - operations\n",
    "\n",
    "# iterate through the string\n",
    "# excluding the first value start building a substring if we find a + or a \n",
    "# keep iterating through the string until we find another + or -\n",
    "# i.e we have a x+5-3+x=6+x-2\n",
    "## we then have (+5)- \n",
    "\n",
    "class Solution:\n",
    "    def solveEquation(self, equation):\n",
    "        substring = equation[0]\n",
    "        array1 = []\n",
    "        array2 = []\n",
    "        flag = True\n",
    "        for char in equation[1:]:\n",
    "            if char == \"+\" or char == \"-\" or char == \"=\":\n",
    "                if flag:\n",
    "                    array1.append(substring)\n",
    "                else:\n",
    "                    array2.append(substring)\n",
    "                substring = \"\"\n",
    "            if char != \"=\":\n",
    "                substring += char\n",
    "            else:\n",
    "                flag = False\n",
    "        array2.append(substring)\n",
    "        x = 0\n",
    "        c = 0\n",
    "        \n",
    "        for n in array1:\n",
    "            if n == \"-x\":\n",
    "                x -= 1\n",
    "            elif n ==\"x\" or n ==\"+x\":\n",
    "                x += 1\n",
    "            elif n[-1] == \"x\":\n",
    "                x += int(n[:-1])\n",
    "            else:\n",
    "                c += int(n)\n",
    "        for n in array2:\n",
    "            if n == \"-x\":\n",
    "                x += 1\n",
    "            elif n ==\"x\" or n ==\"+x\":\n",
    "                x -= 1\n",
    "            elif n[-1] == \"x\":\n",
    "                x -= int(n[:-1])\n",
    "            else:\n",
    "                c -= int(n)\n",
    "\n",
    "        return -c/x\n",
    "sol = Solution()\n",
    "sol.solveEquation(\"x+5-3+x=6+x-2\")\n"
   ]
  },
  {
   "cell_type": "code",
   "execution_count": 30,
   "metadata": {},
   "outputs": [
    {
     "ename": "SyntaxError",
     "evalue": "can't assign to literal (<ipython-input-30-4916e0d1d08c>, line 1)",
     "output_type": "error",
     "traceback": [
      "\u001b[1;36m  File \u001b[1;32m\"<ipython-input-30-4916e0d1d08c>\"\u001b[1;36m, line \u001b[1;32m1\u001b[0m\n\u001b[1;33m    (1,0) += (2,1)\u001b[0m\n\u001b[1;37m                  ^\u001b[0m\n\u001b[1;31mSyntaxError\u001b[0m\u001b[1;31m:\u001b[0m can't assign to literal\n"
     ]
    }
   ],
   "source": [
    "#To find the modes we need to traverse the tree and count all nodes\n",
    "#First let's traverse the tree and store the counts of the values inside \n",
    "\n",
    "class Solution:\n",
    "    def DFScount(self,root,memo=None):\n",
    "        if not root:\n",
    "            return\n",
    "        if memo == None:\n",
    "            memo = {}\n",
    "        self.DFScount(root.left)\n",
    "        if root.val in memo:\n",
    "            memo[root.val] += 1\n",
    "        else:\n",
    "            memo[root.val] = 1\n",
    "        self.DFScount(root.right)\n",
    "        return memo\n",
    "    def findMode(self, root):\n",
    "        memo = self.DFScount(root)\n",
    "        MaxCounts = 0\n",
    "        Modes = []\n",
    "        for key,n in memo.items:\n",
    "            if n > MaxCounts:\n",
    "                Modes = [key]\n",
    "                MaxCounts = n\n",
    "            elif n == MaxCounts:\n",
    "                Modes.append(key)\n",
    "            else:\n",
    "                pass\n",
    "        return Modes\n",
    "\n",
    "sol = Solution()\n"
   ]
  },
  {
   "cell_type": "code",
   "execution_count": 38,
   "metadata": {},
   "outputs": [
    {
     "data": {
      "text/plain": [
       "['5']"
      ]
     },
     "execution_count": 38,
     "metadata": {},
     "output_type": "execute_result"
    }
   ],
   "source": [
    "\"5\".split(\"-\")"
   ]
  },
  {
   "cell_type": "code",
   "execution_count": null,
   "metadata": {},
   "outputs": [],
   "source": []
  }
 ],
 "metadata": {
  "kernelspec": {
   "display_name": "Python 3",
   "language": "python",
   "name": "python3"
  },
  "language_info": {
   "codemirror_mode": {
    "name": "ipython",
    "version": 3
   },
   "file_extension": ".py",
   "mimetype": "text/x-python",
   "name": "python",
   "nbconvert_exporter": "python",
   "pygments_lexer": "ipython3",
   "version": "3.6.4"
  }
 },
 "nbformat": 4,
 "nbformat_minor": 2
}
