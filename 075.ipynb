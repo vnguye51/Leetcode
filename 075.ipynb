{
 "cells": [
  {
   "cell_type": "markdown",
   "metadata": {},
   "source": [
    "# Sort Colors\n",
    "\n",
    "Given an array with n objects colored red, white or blue, sort them in-place so that objects of the same color are adjacent, with the colors in the order red, white and blue.\n",
    "\n",
    "Here, we will use the integers 0, 1, and 2 to represent the color red, white, and blue respectively.\n",
    "\n",
    "Note: You are not suppose to use the library's sort function for this problem.\n",
    "\n",
    "Example:\n",
    "\n",
    "Input: [2,0,2,1,1,0]\n",
    "Output: [0,0,1,1,2,2]\n",
    "\n",
    "Follow up:\n",
    "\n",
    "    A rather straight forward solution is a two-pass algorithm using counting sort.\n",
    "    First, iterate the array counting number of 0's, 1's, and 2's, then overwrite array with total number of 0's, then 1's and followed by 2's.\n",
    "    Could you come up with a one-pass algorithm using only constant space?\n",
    "\n"
   ]
  },
  {
   "cell_type": "markdown",
   "metadata": {},
   "source": [
    "* This is a simple sort problem but optimized in the use case of three values\n",
    "* If we hit a 0 swap it with the 0th value\n",
    "* If we hit a 2 swap it with the last value\n"
   ]
  },
  {
   "cell_type": "code",
   "execution_count": 40,
   "metadata": {},
   "outputs": [],
   "source": [
    "class Solution:\n",
    "    def sortColors(self, nums):\n",
    "        i = 0\n",
    "        rotatecount = 0\n",
    "        while i < len(nums) and rotatecount < len(nums) - i :\n",
    "            if nums[i] == 0:\n",
    "                nums.insert(0,(nums.pop(i)))\n",
    "                rotatecount = 0\n",
    "                i += 1\n",
    "            elif nums[i] == 2:\n",
    "                nums.append(nums.pop(i))\n",
    "                rotatecount += 1\n",
    "            else:\n",
    "                i += 1\n",
    "                rotatecount = 0\n",
    "        print(nums)"
   ]
  },
  {
   "cell_type": "code",
   "execution_count": 41,
   "metadata": {},
   "outputs": [
    {
     "name": "stdout",
     "output_type": "stream",
     "text": [
      "[0, 0, 1, 1, 2, 2]\n",
      "[0, 1, 2]\n"
     ]
    }
   ],
   "source": [
    "sol = Solution()\n",
    "sol.sortColors([2,0,2,1,1,0])\n",
    "sol.sortColors([1,2,0])"
   ]
  },
  {
   "cell_type": "code",
   "execution_count": null,
   "metadata": {},
   "outputs": [],
   "source": []
  },
  {
   "cell_type": "code",
   "execution_count": null,
   "metadata": {},
   "outputs": [],
   "source": []
  }
 ],
 "metadata": {
  "kernelspec": {
   "display_name": "Python 3",
   "language": "python",
   "name": "python3"
  },
  "language_info": {
   "codemirror_mode": {
    "name": "ipython",
    "version": 3
   },
   "file_extension": ".py",
   "mimetype": "text/x-python",
   "name": "python",
   "nbconvert_exporter": "python",
   "pygments_lexer": "ipython3",
   "version": "3.6.4"
  }
 },
 "nbformat": 4,
 "nbformat_minor": 2
}
