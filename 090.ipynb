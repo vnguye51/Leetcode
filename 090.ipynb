{
 "cells": [
  {
   "cell_type": "markdown",
   "metadata": {},
   "source": [
    "# Subsets II\n",
    "\n",
    "Given a collection of integers that might contain duplicates, nums, return all possible subsets (the power set).\n",
    "\n",
    "Note: The solution set must not contain duplicate subsets.\n",
    "\n",
    "    Example:\n",
    "\n",
    "    Input: [1,2,2]\n",
    "    Output:\n",
    "    [\n",
    "      [2],\n",
    "      [1],\n",
    "      [1,2,2],\n",
    "      [2,2],\n",
    "      [1,2],\n",
    "      []\n",
    "    ]\n",
    "\n"
   ]
  },
  {
   "cell_type": "markdown",
   "metadata": {},
   "source": [
    "* This problem was already almost solved by the previous subset problem\n",
    "* In this case however we'll use a memo to record the previously solved ones\n",
    "* Probably a little inefficient(faster than 75% of solutions) but should still be fast"
   ]
  },
  {
   "cell_type": "code",
   "execution_count": 19,
   "metadata": {},
   "outputs": [],
   "source": [
    "class Solution:\n",
    "    def subsets(self, nums):\n",
    "        answers = [[]]\n",
    "        memo = {}\n",
    "        def subcombine(k,arr,pool):\n",
    "            for i,num in enumerate(pool):\n",
    "                subpool = pool[i+1:]\n",
    "                newarr = arr + [num]\n",
    "                if not tuple(sorted(newarr)) in memo:\n",
    "                    memo[tuple(sorted(newarr))] = 1\n",
    "                    answers.append(newarr)\n",
    "                    subcombine(k-1,newarr,subpool)\n",
    "        \n",
    "        subcombine(len(nums),[],nums)\n",
    "        return answers"
   ]
  },
  {
   "cell_type": "code",
   "execution_count": 20,
   "metadata": {},
   "outputs": [
    {
     "data": {
      "text/plain": [
       "[[],\n",
       " [4],\n",
       " [4, 4],\n",
       " [4, 4, 4],\n",
       " [4, 4, 4, 1],\n",
       " [4, 4, 4, 1, 4],\n",
       " [4, 4, 4, 4],\n",
       " [4, 4, 1],\n",
       " [4, 1],\n",
       " [1]]"
      ]
     },
     "execution_count": 20,
     "metadata": {},
     "output_type": "execute_result"
    }
   ],
   "source": [
    "sol = Solution()\n",
    "sol.subsets([4,4,4,1,4])"
   ]
  }
 ],
 "metadata": {
  "kernelspec": {
   "display_name": "Python 3",
   "language": "python",
   "name": "python3"
  },
  "language_info": {
   "codemirror_mode": {
    "name": "ipython",
    "version": 3
   },
   "file_extension": ".py",
   "mimetype": "text/x-python",
   "name": "python",
   "nbconvert_exporter": "python",
   "pygments_lexer": "ipython3",
   "version": "3.6.4"
  }
 },
 "nbformat": 4,
 "nbformat_minor": 2
}
