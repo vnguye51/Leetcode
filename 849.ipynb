{
 "cells": [
  {
   "cell_type": "markdown",
   "metadata": {},
   "source": [
    "# Maximize Distance to Closest Person\n",
    "\n",
    "In a row of seats, 1 represents a person sitting in that seat, and 0 represents that the seat is empty. \n",
    "\n",
    "There is at least one empty seat, and at least one person sitting.\n",
    "\n",
    "Alex wants to sit in the seat such that the distance between him and the closest person to him is maximized. \n",
    "\n",
    "Return that maximum distance to closest person.\n",
    "\n",
    "* Create an array with just the positions of the people sitting\n",
    "* Create a second array made up of the distances in between\n",
    "* If there is only one person sitting then check both endpoints for the maximum distanc"
   ]
  },
  {
   "cell_type": "code",
   "execution_count": 17,
   "metadata": {},
   "outputs": [],
   "source": [
    "def maxDistToClosest( seats):\n",
    "    Locations = []\n",
    "    Distances = []\n",
    "    for i,n in enumerate(seats):\n",
    "        if n == 1:\n",
    "            Locations.append(i)\n",
    "            \n",
    "    if len(Locations) == 1:\n",
    "        if len(seats)-1 - Locations[0] > Locations[0]:\n",
    "            return len(seats)-1 - Locations[0]\n",
    "        else:\n",
    "            return Locations[0]\n",
    "            \n",
    "    for i in range(1,len(Locations)):\n",
    "        Distances.append((Locations[i]-Locations[i-1])//2)\n",
    "        \n",
    "    Distances.append(len(seats)-1 - Locations[-1])\n",
    "    Distances.append(Locations[0])\n",
    "        \n",
    "    Max = (max(Distances))\n",
    "    \n",
    "    return Max\n"
   ]
  },
  {
   "cell_type": "code",
   "execution_count": 18,
   "metadata": {},
   "outputs": [
    {
     "data": {
      "text/plain": [
       "3"
      ]
     },
     "execution_count": 18,
     "metadata": {},
     "output_type": "execute_result"
    }
   ],
   "source": [
    "maxDistToClosest([1,0,0,0])"
   ]
  },
  {
   "cell_type": "code",
   "execution_count": 19,
   "metadata": {},
   "outputs": [
    {
     "data": {
      "text/plain": [
       "2"
      ]
     },
     "execution_count": 19,
     "metadata": {},
     "output_type": "execute_result"
    }
   ],
   "source": [
    "maxDistToClosest([0,0,1,0,1,1])"
   ]
  },
  {
   "cell_type": "code",
   "execution_count": null,
   "metadata": {},
   "outputs": [],
   "source": []
  }
 ],
 "metadata": {
  "kernelspec": {
   "display_name": "Python 3",
   "language": "python",
   "name": "python3"
  },
  "language_info": {
   "codemirror_mode": {
    "name": "ipython",
    "version": 3
   },
   "file_extension": ".py",
   "mimetype": "text/x-python",
   "name": "python",
   "nbconvert_exporter": "python",
   "pygments_lexer": "ipython3",
   "version": "3.6.4"
  }
 },
 "nbformat": 4,
 "nbformat_minor": 2
}
