{
 "cells": [
  {
   "cell_type": "markdown",
   "metadata": {},
   "source": [
    "## Time Based Key-Value Store\n",
    "\n",
    "Create a timebased key-value store class TimeMap, that supports two operations.\n",
    "\n",
    "1. set(string key, string value, int timestamp)\n",
    "\n",
    "    Stores the key and value, along with the given timestamp.\n",
    "\n",
    "2. get(string key, int timestamp)\n",
    "\n",
    "    Returns a value such that set(key, value, timestamp_prev) was called previously, with timestamp_prev <= timestamp.\n",
    "    If there are multiple such values, it returns the one with the largest timestamp_prev.\n",
    "    If there are no values, it returns the empty string (\"\").\n",
    "\n",
    "\n",
    "\n",
    "* To create this structure we will use a dictionary of ordered arrays\n",
    "* SET(key,value,timestamp):\n",
    "    * if the key does not exist memo[key] = [(value,timestamp)]\n",
    "    * if it does exist loop through memo[key] and insert it at the first position where timestamp > then memo[key][i][1]\n",
    "* GET(key,timestamp):\n",
    "    if key in memo:\n",
    "        * loop through memo[key] until you find the first value where timestamp >= timestamp_prev\n",
    "        * return that value\n",
    "    else:\n",
    "        return \"\""
   ]
  },
  {
   "cell_type": "code",
   "execution_count": 1,
   "metadata": {},
   "outputs": [],
   "source": [
    "class TimeMap:\n",
    "\n",
    "    def __init__(self):\n",
    "        self.memo = {}\n",
    "        \"\"\"\n",
    "        Initialize your data structure here.\n",
    "        \"\"\"\n",
    "        \n",
    "\n",
    "    def set(self, key: 'str', value: 'str', timestamp: 'int') -> 'None':\n",
    "        if key in self.memo:\n",
    "            for i in range(0,len(self.memo[key])):\n",
    "                if timestamp >= self.memo[key][i][1]:\n",
    "                    self.memo[key].insert(i,(value,timestamp))\n",
    "                    return\n",
    "            self.memo[key].append((value,timestamp))\n",
    "            return\n",
    "        self.memo[key] = [(value,timestamp)]\n",
    "            \n",
    "\n",
    "    def get(self, key: 'str', timestamp: 'int') -> 'str':\n",
    "        if key in self.memo:\n",
    "            for n in self.memo[key]:\n",
    "                if timestamp >= n[1]:\n",
    "                    return n[0]\n",
    "        return \"\"\n",
    "\n",
    "\n",
    "# Your TimeMap object will be instantiated and called as such:\n",
    "# obj = TimeMap()\n",
    "# obj.set(key,value,timestamp)\n",
    "# param_2 = obj.get(key,timestamp)"
   ]
  },
  {
   "cell_type": "code",
   "execution_count": null,
   "metadata": {},
   "outputs": [],
   "source": []
  }
 ],
 "metadata": {
  "kernelspec": {
   "display_name": "Python 3",
   "language": "python",
   "name": "python3"
  },
  "language_info": {
   "codemirror_mode": {
    "name": "ipython",
    "version": 3
   },
   "file_extension": ".py",
   "mimetype": "text/x-python",
   "name": "python",
   "nbconvert_exporter": "python",
   "pygments_lexer": "ipython3",
   "version": "3.6.4"
  }
 },
 "nbformat": 4,
 "nbformat_minor": 2
}
